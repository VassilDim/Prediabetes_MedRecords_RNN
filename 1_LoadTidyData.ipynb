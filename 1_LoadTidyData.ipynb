{
 "cells": [
  {
   "cell_type": "markdown",
   "id": "9307a914",
   "metadata": {},
   "source": [
    "# Load and Tidy Synthetic Data"
   ]
  },
  {
   "cell_type": "markdown",
   "id": "97d635e6",
   "metadata": {},
   "source": [
    "## Prep"
   ]
  },
  {
   "cell_type": "code",
   "execution_count": 1,
   "id": "64528c8f",
   "metadata": {},
   "outputs": [],
   "source": [
    "import numpy as np\n",
    "import pandas as pd\n",
    "import os\n",
    "import pickle\n",
    "import re\n",
    "import matplotlib.pyplot as plt"
   ]
  },
  {
   "cell_type": "markdown",
   "id": "262a52fe",
   "metadata": {},
   "source": [
    "## Functions"
   ]
  },
  {
   "cell_type": "markdown",
   "id": "f5f54709",
   "metadata": {},
   "source": [
    "### Read tables"
   ]
  },
  {
   "cell_type": "code",
   "execution_count": 2,
   "id": "43862efd",
   "metadata": {},
   "outputs": [],
   "source": [
    "def read_table_csv (table_name):\n",
    "    \n",
    "    '''\n",
    "    Takes as input the name of the tables to read from the synthea download.\n",
    "    Assumes the folder synthea_1m_fhir_3_0_May24 is in the current working dir.\n",
    "    Loops over all 12 output directories, reads the table specified and concatinates\n",
    "    them in a single table.\n",
    "    '''\n",
    "    \n",
    "    # Read and merge all csv tables for observations:\n",
    "    for i in range (1, 13):\n",
    "\n",
    "\n",
    "        # Declare path to table:\n",
    "        path = os.getcwd() + '\\\\synthea_1m_fhir_3_0_May_24\\\\output_'+str(i)+'\\\\'+table_name+'.csv'\n",
    "\n",
    "        print (f'Reading table {table_name} - {i} ...')\n",
    "\n",
    "        if i == 1: # reading first table\n",
    "            df = pd.read_csv (path)\n",
    "\n",
    "        else: # reading subsequent tables\n",
    "            a = pd.read_csv (path)\n",
    "\n",
    "            print (f'Appending table numer {i}...')\n",
    "\n",
    "            # merge with existin observations table:\n",
    "            df = df.append (\n",
    "                a, ignore_index = True\n",
    "            )\n",
    "\n",
    "            # Clean up memory\n",
    "            del a\n",
    "\n",
    "        print (f'Table number {i} appended!')\n",
    "        print (f'Total table size is {df.shape[0]}.\\n ------------------------')\n",
    "    \n",
    "    return df"
   ]
  },
  {
   "cell_type": "markdown",
   "id": "33f02344",
   "metadata": {},
   "source": [
    "---"
   ]
  },
  {
   "cell_type": "markdown",
   "id": "6be57c74",
   "metadata": {},
   "source": [
    "## Read Tables"
   ]
  },
  {
   "cell_type": "markdown",
   "id": "d772477f",
   "metadata": {},
   "source": [
    "### Allergies"
   ]
  },
  {
   "cell_type": "markdown",
   "id": "1141f745",
   "metadata": {},
   "source": [
    "#### Read table"
   ]
  },
  {
   "cell_type": "code",
   "execution_count": 32,
   "id": "b68c92b2",
   "metadata": {
    "collapsed": true
   },
   "outputs": [
    {
     "name": "stdout",
     "output_type": "stream",
     "text": [
      "Reading table allergies - 1 ...\n",
      "Table number 1 appended!\n",
      "Total table size is 51739.\n",
      " ------------------------\n",
      "Reading table allergies - 2 ...\n",
      "Appending table numer 2...\n",
      "Table number 2 appended!\n",
      "Total table size is 103635.\n",
      " ------------------------\n",
      "Reading table allergies - 3 ...\n",
      "Appending table numer 3...\n",
      "Table number 3 appended!\n",
      "Total table size is 156035.\n",
      " ------------------------\n",
      "Reading table allergies - 4 ...\n"
     ]
    },
    {
     "name": "stderr",
     "output_type": "stream",
     "text": [
      "C:\\Users\\Vassil\\AppData\\Local\\Temp\\ipykernel_8936\\3657629342.py:28: FutureWarning: The frame.append method is deprecated and will be removed from pandas in a future version. Use pandas.concat instead.\n",
      "  df = df.append (\n",
      "C:\\Users\\Vassil\\AppData\\Local\\Temp\\ipykernel_8936\\3657629342.py:28: FutureWarning: The frame.append method is deprecated and will be removed from pandas in a future version. Use pandas.concat instead.\n",
      "  df = df.append (\n"
     ]
    },
    {
     "name": "stdout",
     "output_type": "stream",
     "text": [
      "Appending table numer 4...\n",
      "Table number 4 appended!\n",
      "Total table size is 208522.\n",
      " ------------------------\n",
      "Reading table allergies - 5 ...\n",
      "Appending table numer 5...\n",
      "Table number 5 appended!\n",
      "Total table size is 260733.\n",
      " ------------------------\n",
      "Reading table allergies - 6 ...\n"
     ]
    },
    {
     "name": "stderr",
     "output_type": "stream",
     "text": [
      "C:\\Users\\Vassil\\AppData\\Local\\Temp\\ipykernel_8936\\3657629342.py:28: FutureWarning: The frame.append method is deprecated and will be removed from pandas in a future version. Use pandas.concat instead.\n",
      "  df = df.append (\n",
      "C:\\Users\\Vassil\\AppData\\Local\\Temp\\ipykernel_8936\\3657629342.py:28: FutureWarning: The frame.append method is deprecated and will be removed from pandas in a future version. Use pandas.concat instead.\n",
      "  df = df.append (\n"
     ]
    },
    {
     "name": "stdout",
     "output_type": "stream",
     "text": [
      "Appending table numer 6...\n",
      "Table number 6 appended!\n",
      "Total table size is 313182.\n",
      " ------------------------\n",
      "Reading table allergies - 7 ...\n",
      "Appending table numer 7...\n",
      "Table number 7 appended!\n",
      "Total table size is 365539.\n",
      " ------------------------\n",
      "Reading table allergies - 8 ...\n"
     ]
    },
    {
     "name": "stderr",
     "output_type": "stream",
     "text": [
      "C:\\Users\\Vassil\\AppData\\Local\\Temp\\ipykernel_8936\\3657629342.py:28: FutureWarning: The frame.append method is deprecated and will be removed from pandas in a future version. Use pandas.concat instead.\n",
      "  df = df.append (\n",
      "C:\\Users\\Vassil\\AppData\\Local\\Temp\\ipykernel_8936\\3657629342.py:28: FutureWarning: The frame.append method is deprecated and will be removed from pandas in a future version. Use pandas.concat instead.\n",
      "  df = df.append (\n"
     ]
    },
    {
     "name": "stdout",
     "output_type": "stream",
     "text": [
      "Appending table numer 8...\n",
      "Table number 8 appended!\n",
      "Total table size is 417862.\n",
      " ------------------------\n",
      "Reading table allergies - 9 ...\n",
      "Appending table numer 9...\n"
     ]
    },
    {
     "name": "stderr",
     "output_type": "stream",
     "text": [
      "C:\\Users\\Vassil\\AppData\\Local\\Temp\\ipykernel_8936\\3657629342.py:28: FutureWarning: The frame.append method is deprecated and will be removed from pandas in a future version. Use pandas.concat instead.\n",
      "  df = df.append (\n",
      "C:\\Users\\Vassil\\AppData\\Local\\Temp\\ipykernel_8936\\3657629342.py:28: FutureWarning: The frame.append method is deprecated and will be removed from pandas in a future version. Use pandas.concat instead.\n",
      "  df = df.append (\n"
     ]
    },
    {
     "name": "stdout",
     "output_type": "stream",
     "text": [
      "Table number 9 appended!\n",
      "Total table size is 469536.\n",
      " ------------------------\n",
      "Reading table allergies - 10 ...\n",
      "Appending table numer 10...\n",
      "Table number 10 appended!\n",
      "Total table size is 521115.\n",
      " ------------------------\n",
      "Reading table allergies - 11 ...\n"
     ]
    },
    {
     "name": "stderr",
     "output_type": "stream",
     "text": [
      "C:\\Users\\Vassil\\AppData\\Local\\Temp\\ipykernel_8936\\3657629342.py:28: FutureWarning: The frame.append method is deprecated and will be removed from pandas in a future version. Use pandas.concat instead.\n",
      "  df = df.append (\n"
     ]
    },
    {
     "name": "stdout",
     "output_type": "stream",
     "text": [
      "Appending table numer 11...\n",
      "Table number 11 appended!\n",
      "Total table size is 573026.\n",
      " ------------------------\n",
      "Reading table allergies - 12 ...\n",
      "Appending table numer 12...\n"
     ]
    },
    {
     "name": "stderr",
     "output_type": "stream",
     "text": [
      "C:\\Users\\Vassil\\AppData\\Local\\Temp\\ipykernel_8936\\3657629342.py:28: FutureWarning: The frame.append method is deprecated and will be removed from pandas in a future version. Use pandas.concat instead.\n",
      "  df = df.append (\n",
      "C:\\Users\\Vassil\\AppData\\Local\\Temp\\ipykernel_8936\\3657629342.py:28: FutureWarning: The frame.append method is deprecated and will be removed from pandas in a future version. Use pandas.concat instead.\n",
      "  df = df.append (\n"
     ]
    },
    {
     "name": "stdout",
     "output_type": "stream",
     "text": [
      "Table number 12 appended!\n",
      "Total table size is 624611.\n",
      " ------------------------\n"
     ]
    }
   ],
   "source": [
    "allergies = read_table_csv('allergies')"
   ]
  },
  {
   "cell_type": "code",
   "execution_count": 33,
   "id": "570b3502",
   "metadata": {},
   "outputs": [
    {
     "name": "stdout",
     "output_type": "stream",
     "text": [
      "(624611, 6)\n"
     ]
    },
    {
     "data": {
      "text/html": [
       "<div>\n",
       "<style scoped>\n",
       "    .dataframe tbody tr th:only-of-type {\n",
       "        vertical-align: middle;\n",
       "    }\n",
       "\n",
       "    .dataframe tbody tr th {\n",
       "        vertical-align: top;\n",
       "    }\n",
       "\n",
       "    .dataframe thead th {\n",
       "        text-align: right;\n",
       "    }\n",
       "</style>\n",
       "<table border=\"1\" class=\"dataframe\">\n",
       "  <thead>\n",
       "    <tr style=\"text-align: right;\">\n",
       "      <th></th>\n",
       "      <th>START</th>\n",
       "      <th>STOP</th>\n",
       "      <th>PATIENT</th>\n",
       "      <th>ENCOUNTER</th>\n",
       "      <th>CODE</th>\n",
       "      <th>DESCRIPTION</th>\n",
       "    </tr>\n",
       "  </thead>\n",
       "  <tbody>\n",
       "    <tr>\n",
       "      <th>0</th>\n",
       "      <td>1997-09-13</td>\n",
       "      <td>2015-03-01</td>\n",
       "      <td>5125d2b2-3aef-4ae2-aa5c-335f7e206b92</td>\n",
       "      <td>63dbbe97-0f0a-4b11-abed-a507b632f059</td>\n",
       "      <td>91930004</td>\n",
       "      <td>Allergy to eggs</td>\n",
       "    </tr>\n",
       "    <tr>\n",
       "      <th>1</th>\n",
       "      <td>1997-09-13</td>\n",
       "      <td>NaN</td>\n",
       "      <td>5125d2b2-3aef-4ae2-aa5c-335f7e206b92</td>\n",
       "      <td>63dbbe97-0f0a-4b11-abed-a507b632f059</td>\n",
       "      <td>419263009</td>\n",
       "      <td>Allergy to tree pollen</td>\n",
       "    </tr>\n",
       "    <tr>\n",
       "      <th>2</th>\n",
       "      <td>1997-09-13</td>\n",
       "      <td>NaN</td>\n",
       "      <td>5125d2b2-3aef-4ae2-aa5c-335f7e206b92</td>\n",
       "      <td>63dbbe97-0f0a-4b11-abed-a507b632f059</td>\n",
       "      <td>424213003</td>\n",
       "      <td>Allergy to bee venom</td>\n",
       "    </tr>\n",
       "    <tr>\n",
       "      <th>3</th>\n",
       "      <td>1980-06-22</td>\n",
       "      <td>NaN</td>\n",
       "      <td>6e9f8b3e-5a21-401e-868d-2d62e0e7f452</td>\n",
       "      <td>dd8f1a5a-9f6c-4418-8b88-c49c49377b6c</td>\n",
       "      <td>300913006</td>\n",
       "      <td>Shellfish allergy</td>\n",
       "    </tr>\n",
       "    <tr>\n",
       "      <th>4</th>\n",
       "      <td>2008-01-07</td>\n",
       "      <td>NaN</td>\n",
       "      <td>d8de9d90-3a96-4ee5-a750-d406ee10e18a</td>\n",
       "      <td>44e7f436-8f1b-411f-a44c-6e3ace7b7a11</td>\n",
       "      <td>91935009</td>\n",
       "      <td>Allergy to peanuts</td>\n",
       "    </tr>\n",
       "    <tr>\n",
       "      <th>...</th>\n",
       "      <td>...</td>\n",
       "      <td>...</td>\n",
       "      <td>...</td>\n",
       "      <td>...</td>\n",
       "      <td>...</td>\n",
       "      <td>...</td>\n",
       "    </tr>\n",
       "    <tr>\n",
       "      <th>624606</th>\n",
       "      <td>1950-01-19</td>\n",
       "      <td>NaN</td>\n",
       "      <td>366aaadf-d61c-4285-8850-c76e102b26cd</td>\n",
       "      <td>b26546e0-5f03-4b77-b9bc-aa3f81fcb703</td>\n",
       "      <td>418689008</td>\n",
       "      <td>Allergy to grass pollen</td>\n",
       "    </tr>\n",
       "    <tr>\n",
       "      <th>624607</th>\n",
       "      <td>1963-05-08</td>\n",
       "      <td>NaN</td>\n",
       "      <td>164a7c02-fbe9-4971-b4b2-e6f173b7d684</td>\n",
       "      <td>4914723d-e57c-4b2b-89ab-248a2e26188f</td>\n",
       "      <td>417532002</td>\n",
       "      <td>Allergy to fish</td>\n",
       "    </tr>\n",
       "    <tr>\n",
       "      <th>624608</th>\n",
       "      <td>1963-05-08</td>\n",
       "      <td>NaN</td>\n",
       "      <td>164a7c02-fbe9-4971-b4b2-e6f173b7d684</td>\n",
       "      <td>4914723d-e57c-4b2b-89ab-248a2e26188f</td>\n",
       "      <td>232347008</td>\n",
       "      <td>Dander (animal) allergy</td>\n",
       "    </tr>\n",
       "    <tr>\n",
       "      <th>624609</th>\n",
       "      <td>1979-09-28</td>\n",
       "      <td>NaN</td>\n",
       "      <td>22ed0f40-b6d1-4722-b087-2a79fd0ad6da</td>\n",
       "      <td>a69d9d46-31b5-4de6-8ae7-218d43dc050b</td>\n",
       "      <td>419263009</td>\n",
       "      <td>Allergy to tree pollen</td>\n",
       "    </tr>\n",
       "    <tr>\n",
       "      <th>624610</th>\n",
       "      <td>1979-09-28</td>\n",
       "      <td>NaN</td>\n",
       "      <td>22ed0f40-b6d1-4722-b087-2a79fd0ad6da</td>\n",
       "      <td>a69d9d46-31b5-4de6-8ae7-218d43dc050b</td>\n",
       "      <td>419474003</td>\n",
       "      <td>Allergy to mould</td>\n",
       "    </tr>\n",
       "  </tbody>\n",
       "</table>\n",
       "<p>624611 rows × 6 columns</p>\n",
       "</div>"
      ],
      "text/plain": [
       "             START        STOP                               PATIENT  \\\n",
       "0       1997-09-13  2015-03-01  5125d2b2-3aef-4ae2-aa5c-335f7e206b92   \n",
       "1       1997-09-13         NaN  5125d2b2-3aef-4ae2-aa5c-335f7e206b92   \n",
       "2       1997-09-13         NaN  5125d2b2-3aef-4ae2-aa5c-335f7e206b92   \n",
       "3       1980-06-22         NaN  6e9f8b3e-5a21-401e-868d-2d62e0e7f452   \n",
       "4       2008-01-07         NaN  d8de9d90-3a96-4ee5-a750-d406ee10e18a   \n",
       "...            ...         ...                                   ...   \n",
       "624606  1950-01-19         NaN  366aaadf-d61c-4285-8850-c76e102b26cd   \n",
       "624607  1963-05-08         NaN  164a7c02-fbe9-4971-b4b2-e6f173b7d684   \n",
       "624608  1963-05-08         NaN  164a7c02-fbe9-4971-b4b2-e6f173b7d684   \n",
       "624609  1979-09-28         NaN  22ed0f40-b6d1-4722-b087-2a79fd0ad6da   \n",
       "624610  1979-09-28         NaN  22ed0f40-b6d1-4722-b087-2a79fd0ad6da   \n",
       "\n",
       "                                   ENCOUNTER       CODE  \\\n",
       "0       63dbbe97-0f0a-4b11-abed-a507b632f059   91930004   \n",
       "1       63dbbe97-0f0a-4b11-abed-a507b632f059  419263009   \n",
       "2       63dbbe97-0f0a-4b11-abed-a507b632f059  424213003   \n",
       "3       dd8f1a5a-9f6c-4418-8b88-c49c49377b6c  300913006   \n",
       "4       44e7f436-8f1b-411f-a44c-6e3ace7b7a11   91935009   \n",
       "...                                      ...        ...   \n",
       "624606  b26546e0-5f03-4b77-b9bc-aa3f81fcb703  418689008   \n",
       "624607  4914723d-e57c-4b2b-89ab-248a2e26188f  417532002   \n",
       "624608  4914723d-e57c-4b2b-89ab-248a2e26188f  232347008   \n",
       "624609  a69d9d46-31b5-4de6-8ae7-218d43dc050b  419263009   \n",
       "624610  a69d9d46-31b5-4de6-8ae7-218d43dc050b  419474003   \n",
       "\n",
       "                    DESCRIPTION  \n",
       "0               Allergy to eggs  \n",
       "1        Allergy to tree pollen  \n",
       "2          Allergy to bee venom  \n",
       "3             Shellfish allergy  \n",
       "4            Allergy to peanuts  \n",
       "...                         ...  \n",
       "624606  Allergy to grass pollen  \n",
       "624607          Allergy to fish  \n",
       "624608  Dander (animal) allergy  \n",
       "624609   Allergy to tree pollen  \n",
       "624610         Allergy to mould  \n",
       "\n",
       "[624611 rows x 6 columns]"
      ]
     },
     "metadata": {},
     "output_type": "display_data"
    }
   ],
   "source": [
    "print(allergies.shape)\n",
    "display(allergies)"
   ]
  },
  {
   "cell_type": "markdown",
   "id": "77bc87ba",
   "metadata": {},
   "source": [
    "#### Tidy table"
   ]
  },
  {
   "cell_type": "markdown",
   "id": "e017c91a",
   "metadata": {},
   "source": [
    "Make sure `START` and `STOP` are datetime"
   ]
  },
  {
   "cell_type": "code",
   "execution_count": 34,
   "id": "b6fcf317",
   "metadata": {
    "collapsed": true
   },
   "outputs": [
    {
     "name": "stdout",
     "output_type": "stream",
     "text": [
      "False\n",
      "False\n",
      "True\n",
      "True\n"
     ]
    }
   ],
   "source": [
    "print(pd.api.types.is_datetime64_any_dtype(allergies['START']))\n",
    "print(pd.api.types.is_datetime64_any_dtype(allergies.STOP))\n",
    "\n",
    "allergies['START'] = pd.to_datetime(allergies.START)\n",
    "\n",
    "allergies['STOP'] = pd.to_datetime(allergies.STOP)\n",
    "\n",
    "print(pd.api.types.is_datetime64_any_dtype(allergies['START']))\n",
    "print(pd.api.types.is_datetime64_any_dtype(allergies.STOP))"
   ]
  },
  {
   "cell_type": "markdown",
   "id": "bcb6e242",
   "metadata": {},
   "source": [
    "Check what unique values for `DESCRIPTION` (allergy types) there are."
   ]
  },
  {
   "cell_type": "code",
   "execution_count": 35,
   "id": "78c16a60",
   "metadata": {
    "collapsed": true
   },
   "outputs": [
    {
     "name": "stdout",
     "output_type": "stream",
     "text": [
      "Allergy types:\n",
      " ['Allergy to peanuts', 'Allergy to wheat', 'Allergy to soya', 'Allergy to dairy product', 'Allergy to bee venom', 'Allergy to tree pollen', 'Allergy to eggs', 'Allergy to nut', 'Allergy to grass pollen', 'House dust mite allergy', 'Latex allergy', 'Shellfish allergy', 'Allergy to mould', 'Allergy to fish', 'Dander (animal) allergy']\n",
      "Allergy type number:\n",
      " 15\n"
     ]
    }
   ],
   "source": [
    "print('Allergy types:\\n', list(set(allergies.DESCRIPTION)))\n",
    "print('Allergy type number:\\n', len(list(set(allergies.DESCRIPTION))))"
   ]
  },
  {
   "cell_type": "markdown",
   "id": "0794fcd5",
   "metadata": {},
   "source": [
    "Remove entries with no `START` and no `CODE`."
   ]
  },
  {
   "cell_type": "code",
   "execution_count": 36,
   "id": "19e4d503",
   "metadata": {
    "collapsed": true
   },
   "outputs": [
    {
     "name": "stdout",
     "output_type": "stream",
     "text": [
      "Dimensions of table:\n",
      " (624611, 6)\n"
     ]
    }
   ],
   "source": [
    "print('Dimensions of table:\\n', allergies.shape)"
   ]
  },
  {
   "cell_type": "code",
   "execution_count": 37,
   "id": "ae68fcaf",
   "metadata": {
    "collapsed": true
   },
   "outputs": [
    {
     "name": "stdout",
     "output_type": "stream",
     "text": [
      "Dimensions of table:\n",
      " (624611, 6)\n"
     ]
    }
   ],
   "source": [
    "allergies = allergies[~allergies.START.isna()]\n",
    "allergies = allergies[~allergies.CODE.isna()]\n",
    "allergies = allergies[~allergies.PATIENT.isna()]\n",
    "print('Dimensions of table:\\n', allergies.shape)"
   ]
  },
  {
   "cell_type": "code",
   "execution_count": 38,
   "id": "ba58f273",
   "metadata": {
    "collapsed": true
   },
   "outputs": [
    {
     "name": "stdout",
     "output_type": "stream",
     "text": [
      "All patients are in valid format?\n",
      " True\n"
     ]
    }
   ],
   "source": [
    "valid_patient_format = allergies.PATIENT.apply(lambda x: \n",
    "                                               bool(\n",
    "                                                   re.match(\n",
    "                                                       r'^[0-9a-z]{8}-[0-9a-z]{4}-[0-9a-z]{4}-[0-9a-z]{4}-[0-9a-z]{12}$', \n",
    "                                                       str(x))))\n",
    "print('All patients are in valid format?\\n', valid_patient_format.all())"
   ]
  },
  {
   "cell_type": "markdown",
   "id": "43be7c83",
   "metadata": {},
   "source": [
    "#### Save tidy table"
   ]
  },
  {
   "cell_type": "code",
   "execution_count": 39,
   "id": "92852500",
   "metadata": {},
   "outputs": [],
   "source": [
    "# open a file, where you ant to store the data\n",
    "file = open('allergies.pkl', 'wb')\n",
    "\n",
    "# dump information to that file\n",
    "pickle.dump(allergies, file)\n",
    "\n",
    "# Clean up space\n",
    "del allergies, file"
   ]
  },
  {
   "cell_type": "markdown",
   "id": "de14f382",
   "metadata": {},
   "source": [
    "---"
   ]
  },
  {
   "cell_type": "markdown",
   "id": "02dd793e",
   "metadata": {},
   "source": [
    "### Careplans"
   ]
  },
  {
   "cell_type": "markdown",
   "id": "da191271",
   "metadata": {},
   "source": [
    "#### Read table"
   ]
  },
  {
   "cell_type": "code",
   "execution_count": 40,
   "id": "cdd54417",
   "metadata": {
    "collapsed": true
   },
   "outputs": [
    {
     "name": "stdout",
     "output_type": "stream",
     "text": [
      "Reading table careplans - 1 ...\n",
      "Table number 1 appended!\n",
      "Total table size is 796057.\n",
      " ------------------------\n",
      "Reading table careplans - 2 ...\n",
      "Appending table numer 2...\n"
     ]
    },
    {
     "name": "stderr",
     "output_type": "stream",
     "text": [
      "C:\\Users\\Vassil\\AppData\\Local\\Temp\\ipykernel_8936\\3657629342.py:28: FutureWarning: The frame.append method is deprecated and will be removed from pandas in a future version. Use pandas.concat instead.\n",
      "  df = df.append (\n"
     ]
    },
    {
     "name": "stdout",
     "output_type": "stream",
     "text": [
      "Table number 2 appended!\n",
      "Total table size is 1595043.\n",
      " ------------------------\n",
      "Reading table careplans - 3 ...\n",
      "Appending table numer 3...\n"
     ]
    },
    {
     "name": "stderr",
     "output_type": "stream",
     "text": [
      "C:\\Users\\Vassil\\AppData\\Local\\Temp\\ipykernel_8936\\3657629342.py:28: FutureWarning: The frame.append method is deprecated and will be removed from pandas in a future version. Use pandas.concat instead.\n",
      "  df = df.append (\n"
     ]
    },
    {
     "name": "stdout",
     "output_type": "stream",
     "text": [
      "Table number 3 appended!\n",
      "Total table size is 2388911.\n",
      " ------------------------\n",
      "Reading table careplans - 4 ...\n",
      "Appending table numer 4...\n"
     ]
    },
    {
     "name": "stderr",
     "output_type": "stream",
     "text": [
      "C:\\Users\\Vassil\\AppData\\Local\\Temp\\ipykernel_8936\\3657629342.py:28: FutureWarning: The frame.append method is deprecated and will be removed from pandas in a future version. Use pandas.concat instead.\n",
      "  df = df.append (\n"
     ]
    },
    {
     "name": "stdout",
     "output_type": "stream",
     "text": [
      "Table number 4 appended!\n",
      "Total table size is 3184353.\n",
      " ------------------------\n",
      "Reading table careplans - 5 ...\n",
      "Appending table numer 5...\n"
     ]
    },
    {
     "name": "stderr",
     "output_type": "stream",
     "text": [
      "C:\\Users\\Vassil\\AppData\\Local\\Temp\\ipykernel_8936\\3657629342.py:28: FutureWarning: The frame.append method is deprecated and will be removed from pandas in a future version. Use pandas.concat instead.\n",
      "  df = df.append (\n"
     ]
    },
    {
     "name": "stdout",
     "output_type": "stream",
     "text": [
      "Table number 5 appended!\n",
      "Total table size is 3981849.\n",
      " ------------------------\n",
      "Reading table careplans - 6 ...\n",
      "Appending table numer 6...\n"
     ]
    },
    {
     "name": "stderr",
     "output_type": "stream",
     "text": [
      "C:\\Users\\Vassil\\AppData\\Local\\Temp\\ipykernel_8936\\3657629342.py:28: FutureWarning: The frame.append method is deprecated and will be removed from pandas in a future version. Use pandas.concat instead.\n",
      "  df = df.append (\n"
     ]
    },
    {
     "name": "stdout",
     "output_type": "stream",
     "text": [
      "Table number 6 appended!\n",
      "Total table size is 4778160.\n",
      " ------------------------\n",
      "Reading table careplans - 7 ...\n",
      "Appending table numer 7...\n"
     ]
    },
    {
     "name": "stderr",
     "output_type": "stream",
     "text": [
      "C:\\Users\\Vassil\\AppData\\Local\\Temp\\ipykernel_8936\\3657629342.py:28: FutureWarning: The frame.append method is deprecated and will be removed from pandas in a future version. Use pandas.concat instead.\n",
      "  df = df.append (\n"
     ]
    },
    {
     "name": "stdout",
     "output_type": "stream",
     "text": [
      "Table number 7 appended!\n",
      "Total table size is 5570673.\n",
      " ------------------------\n",
      "Reading table careplans - 8 ...\n",
      "Appending table numer 8...\n"
     ]
    },
    {
     "name": "stderr",
     "output_type": "stream",
     "text": [
      "C:\\Users\\Vassil\\AppData\\Local\\Temp\\ipykernel_8936\\3657629342.py:28: FutureWarning: The frame.append method is deprecated and will be removed from pandas in a future version. Use pandas.concat instead.\n",
      "  df = df.append (\n"
     ]
    },
    {
     "name": "stdout",
     "output_type": "stream",
     "text": [
      "Table number 8 appended!\n",
      "Total table size is 6369655.\n",
      " ------------------------\n",
      "Reading table careplans - 9 ...\n",
      "Appending table numer 9...\n"
     ]
    },
    {
     "name": "stderr",
     "output_type": "stream",
     "text": [
      "C:\\Users\\Vassil\\AppData\\Local\\Temp\\ipykernel_8936\\3657629342.py:28: FutureWarning: The frame.append method is deprecated and will be removed from pandas in a future version. Use pandas.concat instead.\n",
      "  df = df.append (\n"
     ]
    },
    {
     "name": "stdout",
     "output_type": "stream",
     "text": [
      "Table number 9 appended!\n",
      "Total table size is 7168204.\n",
      " ------------------------\n",
      "Reading table careplans - 10 ...\n",
      "Appending table numer 10...\n"
     ]
    },
    {
     "name": "stderr",
     "output_type": "stream",
     "text": [
      "C:\\Users\\Vassil\\AppData\\Local\\Temp\\ipykernel_8936\\3657629342.py:28: FutureWarning: The frame.append method is deprecated and will be removed from pandas in a future version. Use pandas.concat instead.\n",
      "  df = df.append (\n"
     ]
    },
    {
     "name": "stdout",
     "output_type": "stream",
     "text": [
      "Table number 10 appended!\n",
      "Total table size is 7963566.\n",
      " ------------------------\n",
      "Reading table careplans - 11 ...\n",
      "Appending table numer 11...\n"
     ]
    },
    {
     "name": "stderr",
     "output_type": "stream",
     "text": [
      "C:\\Users\\Vassil\\AppData\\Local\\Temp\\ipykernel_8936\\3657629342.py:28: FutureWarning: The frame.append method is deprecated and will be removed from pandas in a future version. Use pandas.concat instead.\n",
      "  df = df.append (\n"
     ]
    },
    {
     "name": "stdout",
     "output_type": "stream",
     "text": [
      "Table number 11 appended!\n",
      "Total table size is 8762836.\n",
      " ------------------------\n",
      "Reading table careplans - 12 ...\n",
      "Appending table numer 12...\n"
     ]
    },
    {
     "name": "stderr",
     "output_type": "stream",
     "text": [
      "C:\\Users\\Vassil\\AppData\\Local\\Temp\\ipykernel_8936\\3657629342.py:28: FutureWarning: The frame.append method is deprecated and will be removed from pandas in a future version. Use pandas.concat instead.\n",
      "  df = df.append (\n"
     ]
    },
    {
     "name": "stdout",
     "output_type": "stream",
     "text": [
      "Table number 12 appended!\n",
      "Total table size is 9558659.\n",
      " ------------------------\n"
     ]
    }
   ],
   "source": [
    "careplans = read_table_csv('careplans')"
   ]
  },
  {
   "cell_type": "code",
   "execution_count": 41,
   "id": "e96ed1ac",
   "metadata": {},
   "outputs": [
    {
     "name": "stdout",
     "output_type": "stream",
     "text": [
      "(9558659, 9)\n"
     ]
    },
    {
     "data": {
      "text/html": [
       "<div>\n",
       "<style scoped>\n",
       "    .dataframe tbody tr th:only-of-type {\n",
       "        vertical-align: middle;\n",
       "    }\n",
       "\n",
       "    .dataframe tbody tr th {\n",
       "        vertical-align: top;\n",
       "    }\n",
       "\n",
       "    .dataframe thead th {\n",
       "        text-align: right;\n",
       "    }\n",
       "</style>\n",
       "<table border=\"1\" class=\"dataframe\">\n",
       "  <thead>\n",
       "    <tr style=\"text-align: right;\">\n",
       "      <th></th>\n",
       "      <th>ID</th>\n",
       "      <th>START</th>\n",
       "      <th>STOP</th>\n",
       "      <th>PATIENT</th>\n",
       "      <th>ENCOUNTER</th>\n",
       "      <th>CODE</th>\n",
       "      <th>DESCRIPTION</th>\n",
       "      <th>REASONCODE</th>\n",
       "      <th>REASONDESCRIPTION</th>\n",
       "    </tr>\n",
       "  </thead>\n",
       "  <tbody>\n",
       "    <tr>\n",
       "      <th>0</th>\n",
       "      <td>cd96613b-22cd-4b70-8847-55008ee6bd0c</td>\n",
       "      <td>2012-11-21</td>\n",
       "      <td>2012-12-14</td>\n",
       "      <td>660bec03-9e58-47f2-98b9-2f1c564f3838</td>\n",
       "      <td>dbe481ce-b961-4f43-ac0a-07fa8cfa8bdd</td>\n",
       "      <td>872781000000100</td>\n",
       "      <td>Musculoskeletal care</td>\n",
       "      <td>39848009.0</td>\n",
       "      <td>Whiplash injury to neck</td>\n",
       "    </tr>\n",
       "    <tr>\n",
       "      <th>1</th>\n",
       "      <td>cd96613b-22cd-4b70-8847-55008ee6bd0c</td>\n",
       "      <td>2012-11-21</td>\n",
       "      <td>2012-12-14</td>\n",
       "      <td>660bec03-9e58-47f2-98b9-2f1c564f3838</td>\n",
       "      <td>dbe481ce-b961-4f43-ac0a-07fa8cfa8bdd</td>\n",
       "      <td>266694003</td>\n",
       "      <td>Heat therapy</td>\n",
       "      <td>39848009.0</td>\n",
       "      <td>Whiplash injury to neck</td>\n",
       "    </tr>\n",
       "    <tr>\n",
       "      <th>2</th>\n",
       "      <td>cd96613b-22cd-4b70-8847-55008ee6bd0c</td>\n",
       "      <td>2012-11-21</td>\n",
       "      <td>2012-12-14</td>\n",
       "      <td>660bec03-9e58-47f2-98b9-2f1c564f3838</td>\n",
       "      <td>dbe481ce-b961-4f43-ac0a-07fa8cfa8bdd</td>\n",
       "      <td>183051005</td>\n",
       "      <td>Recommendation to rest</td>\n",
       "      <td>39848009.0</td>\n",
       "      <td>Whiplash injury to neck</td>\n",
       "    </tr>\n",
       "    <tr>\n",
       "      <th>3</th>\n",
       "      <td>794bb6c1-7476-49d1-b9d2-22764340b089</td>\n",
       "      <td>2013-12-04</td>\n",
       "      <td>2014-02-12</td>\n",
       "      <td>660bec03-9e58-47f2-98b9-2f1c564f3838</td>\n",
       "      <td>b5f1ab7e-5e67-4070-bcf0-52451eb20551</td>\n",
       "      <td>53950000</td>\n",
       "      <td>Respiratory therapy</td>\n",
       "      <td>10509002.0</td>\n",
       "      <td>Acute bronchitis (disorder)</td>\n",
       "    </tr>\n",
       "    <tr>\n",
       "      <th>4</th>\n",
       "      <td>794bb6c1-7476-49d1-b9d2-22764340b089</td>\n",
       "      <td>2013-12-04</td>\n",
       "      <td>2014-02-12</td>\n",
       "      <td>660bec03-9e58-47f2-98b9-2f1c564f3838</td>\n",
       "      <td>b5f1ab7e-5e67-4070-bcf0-52451eb20551</td>\n",
       "      <td>304510005</td>\n",
       "      <td>Recommendation to avoid exercise</td>\n",
       "      <td>10509002.0</td>\n",
       "      <td>Acute bronchitis (disorder)</td>\n",
       "    </tr>\n",
       "    <tr>\n",
       "      <th>...</th>\n",
       "      <td>...</td>\n",
       "      <td>...</td>\n",
       "      <td>...</td>\n",
       "      <td>...</td>\n",
       "      <td>...</td>\n",
       "      <td>...</td>\n",
       "      <td>...</td>\n",
       "      <td>...</td>\n",
       "      <td>...</td>\n",
       "    </tr>\n",
       "    <tr>\n",
       "      <th>9558654</th>\n",
       "      <td>d3274e71-046e-4efa-970f-31cb4f48f086</td>\n",
       "      <td>1957-12-11</td>\n",
       "      <td>NaN</td>\n",
       "      <td>de7374d5-f181-45ba-9a00-9bcddc45c2a7</td>\n",
       "      <td>56f9b8f1-8867-42fa-b796-d3953ff4653a</td>\n",
       "      <td>160670007</td>\n",
       "      <td>Diabetic diet</td>\n",
       "      <td>15777000.0</td>\n",
       "      <td>Prediabetes</td>\n",
       "    </tr>\n",
       "    <tr>\n",
       "      <th>9558655</th>\n",
       "      <td>d3274e71-046e-4efa-970f-31cb4f48f086</td>\n",
       "      <td>1957-12-11</td>\n",
       "      <td>NaN</td>\n",
       "      <td>de7374d5-f181-45ba-9a00-9bcddc45c2a7</td>\n",
       "      <td>56f9b8f1-8867-42fa-b796-d3953ff4653a</td>\n",
       "      <td>229065009</td>\n",
       "      <td>Exercise therapy</td>\n",
       "      <td>15777000.0</td>\n",
       "      <td>Prediabetes</td>\n",
       "    </tr>\n",
       "    <tr>\n",
       "      <th>9558656</th>\n",
       "      <td>a9964aa2-f5ba-4d4d-b11a-7aaedf3a6fd7</td>\n",
       "      <td>2012-11-25</td>\n",
       "      <td>2012-12-21</td>\n",
       "      <td>de7374d5-f181-45ba-9a00-9bcddc45c2a7</td>\n",
       "      <td>0f0c2769-6955-485c-95eb-8a5866b948fd</td>\n",
       "      <td>91251008</td>\n",
       "      <td>Physical therapy procedure</td>\n",
       "      <td>44465007.0</td>\n",
       "      <td>Sprain of ankle</td>\n",
       "    </tr>\n",
       "    <tr>\n",
       "      <th>9558657</th>\n",
       "      <td>a9964aa2-f5ba-4d4d-b11a-7aaedf3a6fd7</td>\n",
       "      <td>2012-11-25</td>\n",
       "      <td>2012-12-21</td>\n",
       "      <td>de7374d5-f181-45ba-9a00-9bcddc45c2a7</td>\n",
       "      <td>0f0c2769-6955-485c-95eb-8a5866b948fd</td>\n",
       "      <td>229586001</td>\n",
       "      <td>Rest  ice  compression and elevation treatment...</td>\n",
       "      <td>44465007.0</td>\n",
       "      <td>Sprain of ankle</td>\n",
       "    </tr>\n",
       "    <tr>\n",
       "      <th>9558658</th>\n",
       "      <td>a9964aa2-f5ba-4d4d-b11a-7aaedf3a6fd7</td>\n",
       "      <td>2012-11-25</td>\n",
       "      <td>2012-12-21</td>\n",
       "      <td>de7374d5-f181-45ba-9a00-9bcddc45c2a7</td>\n",
       "      <td>0f0c2769-6955-485c-95eb-8a5866b948fd</td>\n",
       "      <td>229070002</td>\n",
       "      <td>Stretching exercises</td>\n",
       "      <td>44465007.0</td>\n",
       "      <td>Sprain of ankle</td>\n",
       "    </tr>\n",
       "  </tbody>\n",
       "</table>\n",
       "<p>9558659 rows × 9 columns</p>\n",
       "</div>"
      ],
      "text/plain": [
       "                                           ID       START        STOP  \\\n",
       "0        cd96613b-22cd-4b70-8847-55008ee6bd0c  2012-11-21  2012-12-14   \n",
       "1        cd96613b-22cd-4b70-8847-55008ee6bd0c  2012-11-21  2012-12-14   \n",
       "2        cd96613b-22cd-4b70-8847-55008ee6bd0c  2012-11-21  2012-12-14   \n",
       "3        794bb6c1-7476-49d1-b9d2-22764340b089  2013-12-04  2014-02-12   \n",
       "4        794bb6c1-7476-49d1-b9d2-22764340b089  2013-12-04  2014-02-12   \n",
       "...                                       ...         ...         ...   \n",
       "9558654  d3274e71-046e-4efa-970f-31cb4f48f086  1957-12-11         NaN   \n",
       "9558655  d3274e71-046e-4efa-970f-31cb4f48f086  1957-12-11         NaN   \n",
       "9558656  a9964aa2-f5ba-4d4d-b11a-7aaedf3a6fd7  2012-11-25  2012-12-21   \n",
       "9558657  a9964aa2-f5ba-4d4d-b11a-7aaedf3a6fd7  2012-11-25  2012-12-21   \n",
       "9558658  a9964aa2-f5ba-4d4d-b11a-7aaedf3a6fd7  2012-11-25  2012-12-21   \n",
       "\n",
       "                                      PATIENT  \\\n",
       "0        660bec03-9e58-47f2-98b9-2f1c564f3838   \n",
       "1        660bec03-9e58-47f2-98b9-2f1c564f3838   \n",
       "2        660bec03-9e58-47f2-98b9-2f1c564f3838   \n",
       "3        660bec03-9e58-47f2-98b9-2f1c564f3838   \n",
       "4        660bec03-9e58-47f2-98b9-2f1c564f3838   \n",
       "...                                       ...   \n",
       "9558654  de7374d5-f181-45ba-9a00-9bcddc45c2a7   \n",
       "9558655  de7374d5-f181-45ba-9a00-9bcddc45c2a7   \n",
       "9558656  de7374d5-f181-45ba-9a00-9bcddc45c2a7   \n",
       "9558657  de7374d5-f181-45ba-9a00-9bcddc45c2a7   \n",
       "9558658  de7374d5-f181-45ba-9a00-9bcddc45c2a7   \n",
       "\n",
       "                                    ENCOUNTER             CODE  \\\n",
       "0        dbe481ce-b961-4f43-ac0a-07fa8cfa8bdd  872781000000100   \n",
       "1        dbe481ce-b961-4f43-ac0a-07fa8cfa8bdd        266694003   \n",
       "2        dbe481ce-b961-4f43-ac0a-07fa8cfa8bdd        183051005   \n",
       "3        b5f1ab7e-5e67-4070-bcf0-52451eb20551         53950000   \n",
       "4        b5f1ab7e-5e67-4070-bcf0-52451eb20551        304510005   \n",
       "...                                       ...              ...   \n",
       "9558654  56f9b8f1-8867-42fa-b796-d3953ff4653a        160670007   \n",
       "9558655  56f9b8f1-8867-42fa-b796-d3953ff4653a        229065009   \n",
       "9558656  0f0c2769-6955-485c-95eb-8a5866b948fd         91251008   \n",
       "9558657  0f0c2769-6955-485c-95eb-8a5866b948fd        229586001   \n",
       "9558658  0f0c2769-6955-485c-95eb-8a5866b948fd        229070002   \n",
       "\n",
       "                                               DESCRIPTION  REASONCODE  \\\n",
       "0                                     Musculoskeletal care  39848009.0   \n",
       "1                                             Heat therapy  39848009.0   \n",
       "2                                   Recommendation to rest  39848009.0   \n",
       "3                                      Respiratory therapy  10509002.0   \n",
       "4                         Recommendation to avoid exercise  10509002.0   \n",
       "...                                                    ...         ...   \n",
       "9558654                                      Diabetic diet  15777000.0   \n",
       "9558655                                   Exercise therapy  15777000.0   \n",
       "9558656                         Physical therapy procedure  44465007.0   \n",
       "9558657  Rest  ice  compression and elevation treatment...  44465007.0   \n",
       "9558658                               Stretching exercises  44465007.0   \n",
       "\n",
       "                   REASONDESCRIPTION  \n",
       "0            Whiplash injury to neck  \n",
       "1            Whiplash injury to neck  \n",
       "2            Whiplash injury to neck  \n",
       "3        Acute bronchitis (disorder)  \n",
       "4        Acute bronchitis (disorder)  \n",
       "...                              ...  \n",
       "9558654                  Prediabetes  \n",
       "9558655                  Prediabetes  \n",
       "9558656              Sprain of ankle  \n",
       "9558657              Sprain of ankle  \n",
       "9558658              Sprain of ankle  \n",
       "\n",
       "[9558659 rows x 9 columns]"
      ]
     },
     "metadata": {},
     "output_type": "display_data"
    }
   ],
   "source": [
    "print(careplans.shape)\n",
    "display(careplans)"
   ]
  },
  {
   "cell_type": "markdown",
   "id": "7b078649",
   "metadata": {},
   "source": [
    "#### Tidy table"
   ]
  },
  {
   "cell_type": "markdown",
   "id": "8eab6762",
   "metadata": {},
   "source": [
    "Make sure `START` and `STOP` are datetime"
   ]
  },
  {
   "cell_type": "code",
   "execution_count": 42,
   "id": "a1f857c1",
   "metadata": {
    "collapsed": true
   },
   "outputs": [
    {
     "name": "stdout",
     "output_type": "stream",
     "text": [
      "False\n",
      "False\n",
      "True\n",
      "True\n"
     ]
    }
   ],
   "source": [
    "print(pd.api.types.is_datetime64_any_dtype(careplans['START']))\n",
    "print(pd.api.types.is_datetime64_any_dtype(careplans.STOP))\n",
    "\n",
    "careplans['START'] = pd.to_datetime(careplans.START)\n",
    "\n",
    "careplans['STOP'] = pd.to_datetime(careplans.STOP)\n",
    "\n",
    "print(pd.api.types.is_datetime64_any_dtype(careplans['START']))\n",
    "print(pd.api.types.is_datetime64_any_dtype(careplans.STOP))"
   ]
  },
  {
   "cell_type": "markdown",
   "id": "7950d02b",
   "metadata": {},
   "source": [
    "Check what unique values for `DESCRIPTION` (allergy types) there are."
   ]
  },
  {
   "cell_type": "code",
   "execution_count": 43,
   "id": "89d2cfea",
   "metadata": {
    "collapsed": true
   },
   "outputs": [
    {
     "name": "stdout",
     "output_type": "stream",
     "text": [
      "Careplan types:\n",
      " ['Stress management', 'Comfort measures', 'Dressing change management', 'Recommendation to rest', 'Cancer education', 'Smoking cessation therapy', 'Allergen immunotherapy drugs Band 1', 'Demential management', 'Liquid diet', 'Wound care', 'Heat therapy', 'Cancer care plan', 'Physical exercises', 'Home nebulizer therapy', 'Rest  ice  compression and elevation treatment programme', 'Colonoscopy planned', 'Breathing control', 'Burn care', 'Discussion about hygiene', 'Chronic obstructive pulmonary disease clinical management plan', 'Recommendation to limit sexual activity', 'Physical activity target light exercise', 'Pregnancy diet education', 'Pulmonary rehabilitation (regime/therapy)', 'Behavior to prevent infection', 'Angina self management plan', 'Drug addiction counseling', 'Recommendation to avoid exercise', 'Asthma self management', 'Food allergy diet', 'Urinary tract infection care', 'Promotion of use of memory skills', 'Respiratory therapy', 'Self care', 'Physical therapy procedure', 'Stretching exercises', 'Exercise therapy', 'Drug detoxification', 'Depression care management', 'Spinal cord injury rehabilitation', 'Suicide precautions', 'Anti-suicide psychotherapy', 'Antenatal education', 'Inhaled steroid therapy', 'Counseling', 'Application of back brace', 'Fracture care', 'Behavior to prevent sun exposure', 'Skin condition care', 'Healthy diet', 'Ice therapy', 'Musculoskeletal care', 'Allergic disorder monitoring', 'Diabetes self management plan', 'Suicide prevention', 'Long term social support', 'Allergy education', 'Urine screening', 'Head injury rehabilitation', 'Overactivity/inattention behavior management', 'Chronic pain control management', 'Home oxygen therapy (procedure)', 'Routine antenatal care', 'Drug addiction therapy', 'Education about dementia', 'Diabetic diet', 'Delivery of rehabilitation for spinal cord injury', 'Alcohol-free diet', 'Psychological assessment', 'Terminal care', 'Administration of intravenous fluids', 'Application of moisturizer to skin', 'Major surgery care management', 'Surgery care management', 'Deep breathing and coughing exercises', 'Joint mobility exercises']\n",
      "Careplan type number:\n",
      " 76\n"
     ]
    }
   ],
   "source": [
    "print('Careplan types:\\n', list(set(careplans.DESCRIPTION)))\n",
    "print('Careplan type number:\\n', len(list(set(careplans.DESCRIPTION))))"
   ]
  },
  {
   "cell_type": "markdown",
   "id": "db78940a",
   "metadata": {},
   "source": [
    "Remove entries with no `START`, no `PATIENT` id and no `CODE`."
   ]
  },
  {
   "cell_type": "code",
   "execution_count": 44,
   "id": "4352d872",
   "metadata": {
    "collapsed": true
   },
   "outputs": [
    {
     "name": "stdout",
     "output_type": "stream",
     "text": [
      "Dimensions of table:\n",
      " (9558659, 9)\n",
      "Dimensions of table:\n",
      " (9558659, 9)\n"
     ]
    }
   ],
   "source": [
    "print('Dimensions of table:\\n', careplans.shape)\n",
    "careplans = careplans[~careplans.START.isna()]\n",
    "careplans = careplans[~careplans.CODE.isna()]\n",
    "careplans = careplans[~careplans.PATIENT.isna()]\n",
    "print('Dimensions of table:\\n', careplans.shape)"
   ]
  },
  {
   "cell_type": "code",
   "execution_count": 45,
   "id": "a8feb9e7",
   "metadata": {
    "collapsed": true
   },
   "outputs": [
    {
     "name": "stdout",
     "output_type": "stream",
     "text": [
      "All patients are in valid format?\n",
      " True\n"
     ]
    }
   ],
   "source": [
    "valid_patient_format = careplans.PATIENT.apply(lambda x: \n",
    "                                               bool(\n",
    "                                                   re.match(\n",
    "                                                       r'^[0-9a-z]{8}-[0-9a-z]{4}-[0-9a-z]{4}-[0-9a-z]{4}-[0-9a-z]{12}$', \n",
    "                                                       str(x))))\n",
    "print('All patients are in valid format?\\n', valid_patient_format.all())"
   ]
  },
  {
   "cell_type": "markdown",
   "id": "ee07710d",
   "metadata": {},
   "source": [
    "#### Save tidy table"
   ]
  },
  {
   "cell_type": "code",
   "execution_count": 46,
   "id": "8ef38b88",
   "metadata": {},
   "outputs": [],
   "source": [
    "# open a file, where you ant to store the data\n",
    "file = open('careplans.pkl', 'wb')\n",
    "\n",
    "# dump information to that file\n",
    "pickle.dump(careplans, file)\n",
    "\n",
    "# Clean up space\n",
    "del careplans, file"
   ]
  },
  {
   "cell_type": "markdown",
   "id": "ba4e7196",
   "metadata": {},
   "source": [
    "---"
   ]
  },
  {
   "cell_type": "markdown",
   "id": "bace8555",
   "metadata": {},
   "source": [
    "### Conditions"
   ]
  },
  {
   "cell_type": "markdown",
   "id": "1f6a89b1",
   "metadata": {},
   "source": [
    "#### Read table"
   ]
  },
  {
   "cell_type": "code",
   "execution_count": 47,
   "id": "bad36faa",
   "metadata": {
    "collapsed": true
   },
   "outputs": [
    {
     "name": "stdout",
     "output_type": "stream",
     "text": [
      "Reading table conditions - 1 ...\n",
      "Table number 1 appended!\n",
      "Total table size is 483462.\n",
      " ------------------------\n",
      "Reading table conditions - 2 ...\n",
      "Appending table numer 2...\n"
     ]
    },
    {
     "name": "stderr",
     "output_type": "stream",
     "text": [
      "C:\\Users\\Vassil\\AppData\\Local\\Temp\\ipykernel_8936\\3657629342.py:28: FutureWarning: The frame.append method is deprecated and will be removed from pandas in a future version. Use pandas.concat instead.\n",
      "  df = df.append (\n"
     ]
    },
    {
     "name": "stdout",
     "output_type": "stream",
     "text": [
      "Table number 2 appended!\n",
      "Total table size is 969620.\n",
      " ------------------------\n",
      "Reading table conditions - 3 ...\n",
      "Appending table numer 3...\n"
     ]
    },
    {
     "name": "stderr",
     "output_type": "stream",
     "text": [
      "C:\\Users\\Vassil\\AppData\\Local\\Temp\\ipykernel_8936\\3657629342.py:28: FutureWarning: The frame.append method is deprecated and will be removed from pandas in a future version. Use pandas.concat instead.\n",
      "  df = df.append (\n"
     ]
    },
    {
     "name": "stdout",
     "output_type": "stream",
     "text": [
      "Table number 3 appended!\n",
      "Total table size is 1452949.\n",
      " ------------------------\n",
      "Reading table conditions - 4 ...\n",
      "Appending table numer 4...\n"
     ]
    },
    {
     "name": "stderr",
     "output_type": "stream",
     "text": [
      "C:\\Users\\Vassil\\AppData\\Local\\Temp\\ipykernel_8936\\3657629342.py:28: FutureWarning: The frame.append method is deprecated and will be removed from pandas in a future version. Use pandas.concat instead.\n",
      "  df = df.append (\n"
     ]
    },
    {
     "name": "stdout",
     "output_type": "stream",
     "text": [
      "Table number 4 appended!\n",
      "Total table size is 1937513.\n",
      " ------------------------\n",
      "Reading table conditions - 5 ...\n",
      "Appending table numer 5...\n"
     ]
    },
    {
     "name": "stderr",
     "output_type": "stream",
     "text": [
      "C:\\Users\\Vassil\\AppData\\Local\\Temp\\ipykernel_8936\\3657629342.py:28: FutureWarning: The frame.append method is deprecated and will be removed from pandas in a future version. Use pandas.concat instead.\n",
      "  df = df.append (\n"
     ]
    },
    {
     "name": "stdout",
     "output_type": "stream",
     "text": [
      "Table number 5 appended!\n",
      "Total table size is 2422797.\n",
      " ------------------------\n",
      "Reading table conditions - 6 ...\n",
      "Appending table numer 6...\n"
     ]
    },
    {
     "name": "stderr",
     "output_type": "stream",
     "text": [
      "C:\\Users\\Vassil\\AppData\\Local\\Temp\\ipykernel_8936\\3657629342.py:28: FutureWarning: The frame.append method is deprecated and will be removed from pandas in a future version. Use pandas.concat instead.\n",
      "  df = df.append (\n"
     ]
    },
    {
     "name": "stdout",
     "output_type": "stream",
     "text": [
      "Table number 6 appended!\n",
      "Total table size is 2907519.\n",
      " ------------------------\n",
      "Reading table conditions - 7 ...\n",
      "Appending table numer 7...\n"
     ]
    },
    {
     "name": "stderr",
     "output_type": "stream",
     "text": [
      "C:\\Users\\Vassil\\AppData\\Local\\Temp\\ipykernel_8936\\3657629342.py:28: FutureWarning: The frame.append method is deprecated and will be removed from pandas in a future version. Use pandas.concat instead.\n",
      "  df = df.append (\n"
     ]
    },
    {
     "name": "stdout",
     "output_type": "stream",
     "text": [
      "Table number 7 appended!\n",
      "Total table size is 3389571.\n",
      " ------------------------\n",
      "Reading table conditions - 8 ...\n",
      "Appending table numer 8...\n"
     ]
    },
    {
     "name": "stderr",
     "output_type": "stream",
     "text": [
      "C:\\Users\\Vassil\\AppData\\Local\\Temp\\ipykernel_8936\\3657629342.py:28: FutureWarning: The frame.append method is deprecated and will be removed from pandas in a future version. Use pandas.concat instead.\n",
      "  df = df.append (\n"
     ]
    },
    {
     "name": "stdout",
     "output_type": "stream",
     "text": [
      "Table number 8 appended!\n",
      "Total table size is 3872935.\n",
      " ------------------------\n",
      "Reading table conditions - 9 ...\n",
      "Appending table numer 9...\n"
     ]
    },
    {
     "name": "stderr",
     "output_type": "stream",
     "text": [
      "C:\\Users\\Vassil\\AppData\\Local\\Temp\\ipykernel_8936\\3657629342.py:28: FutureWarning: The frame.append method is deprecated and will be removed from pandas in a future version. Use pandas.concat instead.\n",
      "  df = df.append (\n"
     ]
    },
    {
     "name": "stdout",
     "output_type": "stream",
     "text": [
      "Table number 9 appended!\n",
      "Total table size is 4357873.\n",
      " ------------------------\n",
      "Reading table conditions - 10 ...\n",
      "Appending table numer 10...\n"
     ]
    },
    {
     "name": "stderr",
     "output_type": "stream",
     "text": [
      "C:\\Users\\Vassil\\AppData\\Local\\Temp\\ipykernel_8936\\3657629342.py:28: FutureWarning: The frame.append method is deprecated and will be removed from pandas in a future version. Use pandas.concat instead.\n",
      "  df = df.append (\n"
     ]
    },
    {
     "name": "stdout",
     "output_type": "stream",
     "text": [
      "Table number 10 appended!\n",
      "Total table size is 4840908.\n",
      " ------------------------\n",
      "Reading table conditions - 11 ...\n",
      "Appending table numer 11...\n"
     ]
    },
    {
     "name": "stderr",
     "output_type": "stream",
     "text": [
      "C:\\Users\\Vassil\\AppData\\Local\\Temp\\ipykernel_8936\\3657629342.py:28: FutureWarning: The frame.append method is deprecated and will be removed from pandas in a future version. Use pandas.concat instead.\n",
      "  df = df.append (\n"
     ]
    },
    {
     "name": "stdout",
     "output_type": "stream",
     "text": [
      "Table number 11 appended!\n",
      "Total table size is 5325257.\n",
      " ------------------------\n",
      "Reading table conditions - 12 ...\n",
      "Appending table numer 12...\n"
     ]
    },
    {
     "name": "stderr",
     "output_type": "stream",
     "text": [
      "C:\\Users\\Vassil\\AppData\\Local\\Temp\\ipykernel_8936\\3657629342.py:28: FutureWarning: The frame.append method is deprecated and will be removed from pandas in a future version. Use pandas.concat instead.\n",
      "  df = df.append (\n"
     ]
    },
    {
     "name": "stdout",
     "output_type": "stream",
     "text": [
      "Table number 12 appended!\n",
      "Total table size is 5809954.\n",
      " ------------------------\n"
     ]
    }
   ],
   "source": [
    "conditions = read_table_csv('conditions')"
   ]
  },
  {
   "cell_type": "code",
   "execution_count": 48,
   "id": "211b2a5f",
   "metadata": {},
   "outputs": [
    {
     "name": "stdout",
     "output_type": "stream",
     "text": [
      "(5809954, 6)\n"
     ]
    },
    {
     "data": {
      "text/html": [
       "<div>\n",
       "<style scoped>\n",
       "    .dataframe tbody tr th:only-of-type {\n",
       "        vertical-align: middle;\n",
       "    }\n",
       "\n",
       "    .dataframe tbody tr th {\n",
       "        vertical-align: top;\n",
       "    }\n",
       "\n",
       "    .dataframe thead th {\n",
       "        text-align: right;\n",
       "    }\n",
       "</style>\n",
       "<table border=\"1\" class=\"dataframe\">\n",
       "  <thead>\n",
       "    <tr style=\"text-align: right;\">\n",
       "      <th></th>\n",
       "      <th>START</th>\n",
       "      <th>STOP</th>\n",
       "      <th>PATIENT</th>\n",
       "      <th>ENCOUNTER</th>\n",
       "      <th>CODE</th>\n",
       "      <th>DESCRIPTION</th>\n",
       "    </tr>\n",
       "  </thead>\n",
       "  <tbody>\n",
       "    <tr>\n",
       "      <th>0</th>\n",
       "      <td>2011-05-07</td>\n",
       "      <td>2011-06-03</td>\n",
       "      <td>36d131ee-dd5b-4acb-acbe-19961c32c099</td>\n",
       "      <td>ff93cedb-8245-4091-838d-a568bcbcb00b</td>\n",
       "      <td>444814009</td>\n",
       "      <td>Viral sinusitis (disorder)</td>\n",
       "    </tr>\n",
       "    <tr>\n",
       "      <th>1</th>\n",
       "      <td>2014-01-04</td>\n",
       "      <td>2014-02-06</td>\n",
       "      <td>33f33990-ae8b-4be8-938f-e47ad473abfe</td>\n",
       "      <td>714fd61a-f9fd-43ff-87b9-3cc45a3f1e53</td>\n",
       "      <td>444814009</td>\n",
       "      <td>Viral sinusitis (disorder)</td>\n",
       "    </tr>\n",
       "    <tr>\n",
       "      <th>2</th>\n",
       "      <td>2015-07-06</td>\n",
       "      <td>2015-09-02</td>\n",
       "      <td>33f33990-ae8b-4be8-938f-e47ad473abfe</td>\n",
       "      <td>45044100-aaba-4209-8ad1-15383c76842d</td>\n",
       "      <td>36971009</td>\n",
       "      <td>Sinusitis (disorder)</td>\n",
       "    </tr>\n",
       "    <tr>\n",
       "      <th>3</th>\n",
       "      <td>2014-08-03</td>\n",
       "      <td>2014-09-05</td>\n",
       "      <td>36d131ee-dd5b-4acb-acbe-19961c32c099</td>\n",
       "      <td>ffdddbfb-35e8-4a74-a801-89e97feed2f3</td>\n",
       "      <td>444814009</td>\n",
       "      <td>Viral sinusitis (disorder)</td>\n",
       "    </tr>\n",
       "    <tr>\n",
       "      <th>4</th>\n",
       "      <td>2017-01-02</td>\n",
       "      <td>2017-01-31</td>\n",
       "      <td>33f33990-ae8b-4be8-938f-e47ad473abfe</td>\n",
       "      <td>6232be20-5cec-471f-b0ed-0e046d374e80</td>\n",
       "      <td>444814009</td>\n",
       "      <td>Viral sinusitis (disorder)</td>\n",
       "    </tr>\n",
       "    <tr>\n",
       "      <th>...</th>\n",
       "      <td>...</td>\n",
       "      <td>...</td>\n",
       "      <td>...</td>\n",
       "      <td>...</td>\n",
       "      <td>...</td>\n",
       "      <td>...</td>\n",
       "    </tr>\n",
       "    <tr>\n",
       "      <th>5809949</th>\n",
       "      <td>1999-08-06</td>\n",
       "      <td>NaN</td>\n",
       "      <td>7dccb70e-973e-4855-a69d-7df63b866968</td>\n",
       "      <td>f97492d8-eeca-4b20-933d-0eb4473afbc1</td>\n",
       "      <td>254637007</td>\n",
       "      <td>Non-small cell lung cancer (disorder)</td>\n",
       "    </tr>\n",
       "    <tr>\n",
       "      <th>5809950</th>\n",
       "      <td>1999-08-08</td>\n",
       "      <td>NaN</td>\n",
       "      <td>7dccb70e-973e-4855-a69d-7df63b866968</td>\n",
       "      <td>f97492d8-eeca-4b20-933d-0eb4473afbc1</td>\n",
       "      <td>423121009</td>\n",
       "      <td>Non-small cell carcinoma of lung  TNM stage 4 ...</td>\n",
       "    </tr>\n",
       "    <tr>\n",
       "      <th>5809951</th>\n",
       "      <td>1957-12-11</td>\n",
       "      <td>NaN</td>\n",
       "      <td>de7374d5-f181-45ba-9a00-9bcddc45c2a7</td>\n",
       "      <td>56f9b8f1-8867-42fa-b796-d3953ff4653a</td>\n",
       "      <td>15777000</td>\n",
       "      <td>Prediabetes</td>\n",
       "    </tr>\n",
       "    <tr>\n",
       "      <th>5809952</th>\n",
       "      <td>2012-11-25</td>\n",
       "      <td>2012-12-21</td>\n",
       "      <td>de7374d5-f181-45ba-9a00-9bcddc45c2a7</td>\n",
       "      <td>0f0c2769-6955-485c-95eb-8a5866b948fd</td>\n",
       "      <td>44465007</td>\n",
       "      <td>Sprain of ankle</td>\n",
       "    </tr>\n",
       "    <tr>\n",
       "      <th>5809953</th>\n",
       "      <td>2014-10-28</td>\n",
       "      <td>2014-11-15</td>\n",
       "      <td>de7374d5-f181-45ba-9a00-9bcddc45c2a7</td>\n",
       "      <td>dbf5c188-0e3f-4b1f-85a8-3eba95030417</td>\n",
       "      <td>444814009</td>\n",
       "      <td>Viral sinusitis (disorder)</td>\n",
       "    </tr>\n",
       "  </tbody>\n",
       "</table>\n",
       "<p>5809954 rows × 6 columns</p>\n",
       "</div>"
      ],
      "text/plain": [
       "              START        STOP                               PATIENT  \\\n",
       "0        2011-05-07  2011-06-03  36d131ee-dd5b-4acb-acbe-19961c32c099   \n",
       "1        2014-01-04  2014-02-06  33f33990-ae8b-4be8-938f-e47ad473abfe   \n",
       "2        2015-07-06  2015-09-02  33f33990-ae8b-4be8-938f-e47ad473abfe   \n",
       "3        2014-08-03  2014-09-05  36d131ee-dd5b-4acb-acbe-19961c32c099   \n",
       "4        2017-01-02  2017-01-31  33f33990-ae8b-4be8-938f-e47ad473abfe   \n",
       "...             ...         ...                                   ...   \n",
       "5809949  1999-08-06         NaN  7dccb70e-973e-4855-a69d-7df63b866968   \n",
       "5809950  1999-08-08         NaN  7dccb70e-973e-4855-a69d-7df63b866968   \n",
       "5809951  1957-12-11         NaN  de7374d5-f181-45ba-9a00-9bcddc45c2a7   \n",
       "5809952  2012-11-25  2012-12-21  de7374d5-f181-45ba-9a00-9bcddc45c2a7   \n",
       "5809953  2014-10-28  2014-11-15  de7374d5-f181-45ba-9a00-9bcddc45c2a7   \n",
       "\n",
       "                                    ENCOUNTER       CODE  \\\n",
       "0        ff93cedb-8245-4091-838d-a568bcbcb00b  444814009   \n",
       "1        714fd61a-f9fd-43ff-87b9-3cc45a3f1e53  444814009   \n",
       "2        45044100-aaba-4209-8ad1-15383c76842d   36971009   \n",
       "3        ffdddbfb-35e8-4a74-a801-89e97feed2f3  444814009   \n",
       "4        6232be20-5cec-471f-b0ed-0e046d374e80  444814009   \n",
       "...                                       ...        ...   \n",
       "5809949  f97492d8-eeca-4b20-933d-0eb4473afbc1  254637007   \n",
       "5809950  f97492d8-eeca-4b20-933d-0eb4473afbc1  423121009   \n",
       "5809951  56f9b8f1-8867-42fa-b796-d3953ff4653a   15777000   \n",
       "5809952  0f0c2769-6955-485c-95eb-8a5866b948fd   44465007   \n",
       "5809953  dbf5c188-0e3f-4b1f-85a8-3eba95030417  444814009   \n",
       "\n",
       "                                               DESCRIPTION  \n",
       "0                               Viral sinusitis (disorder)  \n",
       "1                               Viral sinusitis (disorder)  \n",
       "2                                     Sinusitis (disorder)  \n",
       "3                               Viral sinusitis (disorder)  \n",
       "4                               Viral sinusitis (disorder)  \n",
       "...                                                    ...  \n",
       "5809949              Non-small cell lung cancer (disorder)  \n",
       "5809950  Non-small cell carcinoma of lung  TNM stage 4 ...  \n",
       "5809951                                        Prediabetes  \n",
       "5809952                                    Sprain of ankle  \n",
       "5809953                         Viral sinusitis (disorder)  \n",
       "\n",
       "[5809954 rows x 6 columns]"
      ]
     },
     "metadata": {},
     "output_type": "display_data"
    }
   ],
   "source": [
    "print(conditions.shape)\n",
    "display(conditions)"
   ]
  },
  {
   "cell_type": "markdown",
   "id": "630bd0d3",
   "metadata": {},
   "source": [
    "#### Tidy table"
   ]
  },
  {
   "cell_type": "markdown",
   "id": "3fb77a7d",
   "metadata": {},
   "source": [
    "Make sure `START` and `STOP` are datetime"
   ]
  },
  {
   "cell_type": "code",
   "execution_count": 49,
   "id": "6eb519fa",
   "metadata": {
    "collapsed": true
   },
   "outputs": [
    {
     "name": "stdout",
     "output_type": "stream",
     "text": [
      "False\n",
      "False\n",
      "True\n",
      "True\n"
     ]
    }
   ],
   "source": [
    "print(pd.api.types.is_datetime64_any_dtype(conditions['START']))\n",
    "print(pd.api.types.is_datetime64_any_dtype(conditions.STOP))\n",
    "\n",
    "conditions['START'] = pd.to_datetime(conditions.START)\n",
    "\n",
    "conditions['STOP'] = pd.to_datetime(conditions.STOP)\n",
    "\n",
    "print(pd.api.types.is_datetime64_any_dtype(conditions['START']))\n",
    "print(pd.api.types.is_datetime64_any_dtype(conditions.STOP))"
   ]
  },
  {
   "cell_type": "markdown",
   "id": "9fff8f6a",
   "metadata": {},
   "source": [
    "Check what unique values for `DESCRIPTION` (allergy types) there are."
   ]
  },
  {
   "cell_type": "code",
   "execution_count": 50,
   "id": "9e72b9a3",
   "metadata": {
    "collapsed": true
   },
   "outputs": [
    {
     "name": "stdout",
     "output_type": "stream",
     "text": [
      "Conditions types:\n",
      " ['Streptococcal sore throat (disorder)', 'Primary small cell malignant neoplasm of lung  TNM stage 2 (disorder)', 'Recurrent rectal polyp', 'Fracture of ankle', 'Sinusitis (disorder)', 'History of lower limb amputation (situation)', 'Laceration of forearm', 'Acute bronchitis (disorder)', 'Protracted diarrhea', 'Sprain of ankle', 'Fracture of the vertebral column with spinal cord injury', 'Hypertension', 'Chronic intractable migraine without aura', 'Laceration of thigh', 'Overlapping malignant neoplasm of colon', 'History of disarticulation at wrist (situation)', 'First degree burn', 'Fracture of forearm', 'Proteinuria due to type 2 diabetes mellitus (disorder)', 'History of appendectomy', 'Concussion injury of brain', 'Escherichia coli urinary tract infection', 'Acute viral pharyngitis (disorder)', 'Facial laceration', 'Antepartum eclampsia', 'Miscarriage in second trimester', 'Childhood asthma', 'Prediabetes', 'End stage renal disease (disorder)', 'Cardiac Arrest', 'Third degree burn', 'Injury of tendon of the rotator cuff of shoulder', 'Blindness due to type 2 diabetes mellitus (disorder)', 'Fracture of clavicle', 'Acute allergic reaction', 'Neuropathy due to type 2 diabetes mellitus (disorder)', 'History of upper limb amputation (situation)', 'Blighted ovum', 'Tubal pregnancy', 'Seasonal allergic rhinitis', 'Secondary malignant neoplasm of colon', 'Fracture of vertebral column without spinal cord injury', 'Macular edema and retinopathy due to type 2 diabetes mellitus (disorder)', 'Non-small cell carcinoma of lung  TNM stage 2 (disorder)', 'Laceration of hand', 'Localized  primary osteoarthritis of the hand', 'Non-small cell carcinoma of lung  TNM stage 3 (disorder)', \"Alzheimer's disease (disorder)\", 'Congenital uterine anomaly', 'Pneumonia', 'Injury of medial collateral ligament of knee', 'Pulmonary emphysema (disorder)', 'Osteoarthritis of knee', 'Whiplash injury to neck', 'Fracture subluxation of wrist', 'Appendicitis', 'Gout', 'History of amputation of foot (situation)', 'Asthma', 'Concussion with loss of consciousness', 'Viral sinusitis (disorder)', 'Suspected lung cancer (situation)', 'Contact dermatitis', 'Small cell carcinoma of lung (disorder)', 'Stroke', 'Impacted molars', 'Attempted suicide - suffocation', 'Normal pregnancy', 'Second degree burn', 'History of myocardial infarction (situation)', 'Rupture of appendix', 'Attempted suicide - cut/stab', 'Injury of anterior cruciate ligament', 'Brain damage - traumatic', 'Cystitis', 'Complication occuring during pregnancy', 'Non-small cell carcinoma of lung  TNM stage 4 (disorder)', 'Otitis media', 'Sprain of wrist', 'Bullet wound', 'Primary small cell malignant neoplasm of lung  TNM stage 4 (disorder)', 'Chronic sinusitis (disorder)', 'Proliferative diabetic retinopathy due to type II diabetes mellitus (disorder)', 'Bleeding from anus', 'Suicidal deliberate poisoning', 'Polyp of colon', 'Concussion with no loss of consciousness', 'Osteoarthritis of hip', 'Laceration of foot', 'Acute bacterial sinusitis (disorder)', 'Chronic paralysis due to lesion of spinal cord', 'Primary malignant neoplasm of colon', 'Malignant tumor of colon', 'Pathological fracture due to osteoporosis (disorder)', 'Myocardial Infarction', 'Primary small cell malignant neoplasm of lung  TNM stage 3 (disorder)', 'Tear of meniscus of knee', \"Familial Alzheimer's disease of early onset (disorder)\", 'Diabetic retinopathy associated with type II diabetes mellitus (disorder)', 'Nonproliferative diabetic retinopathy due to type 2 diabetes mellitus (disorder)', 'Closed fracture of hip', 'Drug overdose', 'History of cardiac arrest (situation)', 'Atopic dermatitis', 'Recurrent urinary tract infection', 'Microalbuminuria due to type 2 diabetes mellitus (disorder)', 'Primary small cell malignant neoplasm of lung  TNM stage 1 (disorder)', 'Fetus with chromosomal abnormality', 'Preeclampsia', 'Chronic obstructive bronchitis (disorder)', 'Osteoporosis (disorder)', 'Lupus erythematosus', 'Diabetic renal disease (disorder)', 'Fracture of rib', 'Coronary Heart Disease', 'Miscarriage in first trimester', 'Perennial allergic rhinitis with seasonal variation', 'Suicide - firearms', 'Perennial allergic rhinitis', 'Non-small cell lung cancer (disorder)', 'Rupture of patellar tendon', 'Child attention deficit disorder', 'Pyelonephritis', 'Chronic pain', 'Diabetes', 'Non-small cell carcinoma of lung  TNM stage 1 (disorder)', 'Rheumatoid arthritis', 'Primary fibromyalgia syndrome']\n",
      "Conditions type number:\n",
      " 128\n"
     ]
    }
   ],
   "source": [
    "print('Conditions types:\\n', list(set(conditions.DESCRIPTION)))\n",
    "print('Conditions type number:\\n', len(list(set(conditions.DESCRIPTION))))"
   ]
  },
  {
   "cell_type": "markdown",
   "id": "efac0fd9",
   "metadata": {},
   "source": [
    "Remove entries with no `START`, no `PATIENT` id and no `CODE`."
   ]
  },
  {
   "cell_type": "code",
   "execution_count": 51,
   "id": "ae91123d",
   "metadata": {
    "collapsed": true
   },
   "outputs": [
    {
     "name": "stdout",
     "output_type": "stream",
     "text": [
      "Dimensions of table:\n",
      " (5809954, 6)\n",
      "Dimensions of table:\n",
      " (5809954, 6)\n"
     ]
    }
   ],
   "source": [
    "print('Dimensions of table:\\n', conditions.shape)\n",
    "conditions = conditions[~conditions.START.isna()]\n",
    "conditions = conditions[~conditions.CODE.isna()]\n",
    "conditions = conditions[~conditions.PATIENT.isna()]\n",
    "print('Dimensions of table:\\n', conditions.shape)"
   ]
  },
  {
   "cell_type": "code",
   "execution_count": 52,
   "id": "769620f3",
   "metadata": {
    "collapsed": true
   },
   "outputs": [
    {
     "name": "stdout",
     "output_type": "stream",
     "text": [
      "All patients are in valid format?\n",
      " True\n"
     ]
    }
   ],
   "source": [
    "valid_patient_format = conditions.PATIENT.apply(lambda x: \n",
    "                                               bool(\n",
    "                                                   re.match(\n",
    "                                                       r'^[0-9a-z]{8}-[0-9a-z]{4}-[0-9a-z]{4}-[0-9a-z]{4}-[0-9a-z]{12}$', \n",
    "                                                       str(x))))\n",
    "print('All patients are in valid format?\\n', valid_patient_format.all())"
   ]
  },
  {
   "cell_type": "markdown",
   "id": "de598eb6",
   "metadata": {},
   "source": [
    "#### Save tidy table"
   ]
  },
  {
   "cell_type": "code",
   "execution_count": 53,
   "id": "aba48da5",
   "metadata": {},
   "outputs": [],
   "source": [
    "# open a file, where you ant to store the data\n",
    "file = open('conditions.pkl', 'wb')\n",
    "\n",
    "# dump information to that file\n",
    "pickle.dump(conditions, file)\n",
    "\n",
    "# Clean up space\n",
    "del conditions, file"
   ]
  },
  {
   "cell_type": "markdown",
   "id": "4c03d6cf",
   "metadata": {},
   "source": [
    "---"
   ]
  },
  {
   "cell_type": "markdown",
   "id": "2c27b78f",
   "metadata": {},
   "source": [
    "### Encounters"
   ]
  },
  {
   "cell_type": "code",
   "execution_count": 3,
   "id": "b457f15a",
   "metadata": {},
   "outputs": [
    {
     "name": "stdout",
     "output_type": "stream",
     "text": [
      "Reading table encounters - 1 ...\n",
      "Table number 1 appended!\n",
      "Total table size is 1263669.\n",
      " ------------------------\n",
      "Reading table encounters - 2 ...\n",
      "Appending table numer 2...\n"
     ]
    },
    {
     "name": "stderr",
     "output_type": "stream",
     "text": [
      "C:\\Users\\Vassil\\AppData\\Local\\Temp\\ipykernel_2044\\3657629342.py:28: FutureWarning: The frame.append method is deprecated and will be removed from pandas in a future version. Use pandas.concat instead.\n",
      "  df = df.append (\n"
     ]
    },
    {
     "name": "stdout",
     "output_type": "stream",
     "text": [
      "Table number 2 appended!\n",
      "Total table size is 2524936.\n",
      " ------------------------\n",
      "Reading table encounters - 3 ...\n",
      "Appending table numer 3...\n"
     ]
    },
    {
     "name": "stderr",
     "output_type": "stream",
     "text": [
      "C:\\Users\\Vassil\\AppData\\Local\\Temp\\ipykernel_2044\\3657629342.py:28: FutureWarning: The frame.append method is deprecated and will be removed from pandas in a future version. Use pandas.concat instead.\n",
      "  df = df.append (\n"
     ]
    },
    {
     "name": "stdout",
     "output_type": "stream",
     "text": [
      "Table number 3 appended!\n",
      "Total table size is 3785306.\n",
      " ------------------------\n",
      "Reading table encounters - 4 ...\n",
      "Appending table numer 4...\n"
     ]
    },
    {
     "name": "stderr",
     "output_type": "stream",
     "text": [
      "C:\\Users\\Vassil\\AppData\\Local\\Temp\\ipykernel_2044\\3657629342.py:28: FutureWarning: The frame.append method is deprecated and will be removed from pandas in a future version. Use pandas.concat instead.\n",
      "  df = df.append (\n"
     ]
    },
    {
     "name": "stdout",
     "output_type": "stream",
     "text": [
      "Table number 4 appended!\n",
      "Total table size is 5043644.\n",
      " ------------------------\n",
      "Reading table encounters - 5 ...\n",
      "Appending table numer 5...\n"
     ]
    },
    {
     "name": "stderr",
     "output_type": "stream",
     "text": [
      "C:\\Users\\Vassil\\AppData\\Local\\Temp\\ipykernel_2044\\3657629342.py:28: FutureWarning: The frame.append method is deprecated and will be removed from pandas in a future version. Use pandas.concat instead.\n",
      "  df = df.append (\n"
     ]
    },
    {
     "name": "stdout",
     "output_type": "stream",
     "text": [
      "Table number 5 appended!\n",
      "Total table size is 6301162.\n",
      " ------------------------\n",
      "Reading table encounters - 6 ...\n",
      "Appending table numer 6...\n"
     ]
    },
    {
     "name": "stderr",
     "output_type": "stream",
     "text": [
      "C:\\Users\\Vassil\\AppData\\Local\\Temp\\ipykernel_2044\\3657629342.py:28: FutureWarning: The frame.append method is deprecated and will be removed from pandas in a future version. Use pandas.concat instead.\n",
      "  df = df.append (\n"
     ]
    },
    {
     "name": "stdout",
     "output_type": "stream",
     "text": [
      "Table number 6 appended!\n",
      "Total table size is 7564320.\n",
      " ------------------------\n",
      "Reading table encounters - 7 ...\n",
      "Appending table numer 7...\n"
     ]
    },
    {
     "name": "stderr",
     "output_type": "stream",
     "text": [
      "C:\\Users\\Vassil\\AppData\\Local\\Temp\\ipykernel_2044\\3657629342.py:28: FutureWarning: The frame.append method is deprecated and will be removed from pandas in a future version. Use pandas.concat instead.\n",
      "  df = df.append (\n"
     ]
    },
    {
     "name": "stdout",
     "output_type": "stream",
     "text": [
      "Table number 7 appended!\n",
      "Total table size is 8819939.\n",
      " ------------------------\n",
      "Reading table encounters - 8 ...\n",
      "Appending table numer 8...\n"
     ]
    },
    {
     "name": "stderr",
     "output_type": "stream",
     "text": [
      "C:\\Users\\Vassil\\AppData\\Local\\Temp\\ipykernel_2044\\3657629342.py:28: FutureWarning: The frame.append method is deprecated and will be removed from pandas in a future version. Use pandas.concat instead.\n",
      "  df = df.append (\n"
     ]
    },
    {
     "name": "stdout",
     "output_type": "stream",
     "text": [
      "Table number 8 appended!\n",
      "Total table size is 10075489.\n",
      " ------------------------\n",
      "Reading table encounters - 9 ...\n",
      "Appending table numer 9...\n"
     ]
    },
    {
     "name": "stderr",
     "output_type": "stream",
     "text": [
      "C:\\Users\\Vassil\\AppData\\Local\\Temp\\ipykernel_2044\\3657629342.py:28: FutureWarning: The frame.append method is deprecated and will be removed from pandas in a future version. Use pandas.concat instead.\n",
      "  df = df.append (\n"
     ]
    },
    {
     "name": "stdout",
     "output_type": "stream",
     "text": [
      "Table number 9 appended!\n",
      "Total table size is 11337103.\n",
      " ------------------------\n",
      "Reading table encounters - 10 ...\n",
      "Appending table numer 10...\n"
     ]
    },
    {
     "name": "stderr",
     "output_type": "stream",
     "text": [
      "C:\\Users\\Vassil\\AppData\\Local\\Temp\\ipykernel_2044\\3657629342.py:28: FutureWarning: The frame.append method is deprecated and will be removed from pandas in a future version. Use pandas.concat instead.\n",
      "  df = df.append (\n"
     ]
    },
    {
     "name": "stdout",
     "output_type": "stream",
     "text": [
      "Table number 10 appended!\n",
      "Total table size is 12598652.\n",
      " ------------------------\n",
      "Reading table encounters - 11 ...\n",
      "Appending table numer 11...\n"
     ]
    },
    {
     "name": "stderr",
     "output_type": "stream",
     "text": [
      "C:\\Users\\Vassil\\AppData\\Local\\Temp\\ipykernel_2044\\3657629342.py:28: FutureWarning: The frame.append method is deprecated and will be removed from pandas in a future version. Use pandas.concat instead.\n",
      "  df = df.append (\n"
     ]
    },
    {
     "name": "stdout",
     "output_type": "stream",
     "text": [
      "Table number 11 appended!\n",
      "Total table size is 13852382.\n",
      " ------------------------\n",
      "Reading table encounters - 12 ...\n",
      "Appending table numer 12...\n"
     ]
    },
    {
     "name": "stderr",
     "output_type": "stream",
     "text": [
      "C:\\Users\\Vassil\\AppData\\Local\\Temp\\ipykernel_2044\\3657629342.py:28: FutureWarning: The frame.append method is deprecated and will be removed from pandas in a future version. Use pandas.concat instead.\n",
      "  df = df.append (\n"
     ]
    },
    {
     "name": "stdout",
     "output_type": "stream",
     "text": [
      "Table number 12 appended!\n",
      "Total table size is 15109427.\n",
      " ------------------------\n"
     ]
    }
   ],
   "source": [
    "encounters = read_table_csv('encounters')"
   ]
  },
  {
   "cell_type": "code",
   "execution_count": 4,
   "id": "828a7f85",
   "metadata": {
    "scrolled": true
   },
   "outputs": [
    {
     "name": "stdout",
     "output_type": "stream",
     "text": [
      "(15109427, 7)\n"
     ]
    },
    {
     "data": {
      "text/html": [
       "<div>\n",
       "<style scoped>\n",
       "    .dataframe tbody tr th:only-of-type {\n",
       "        vertical-align: middle;\n",
       "    }\n",
       "\n",
       "    .dataframe tbody tr th {\n",
       "        vertical-align: top;\n",
       "    }\n",
       "\n",
       "    .dataframe thead th {\n",
       "        text-align: right;\n",
       "    }\n",
       "</style>\n",
       "<table border=\"1\" class=\"dataframe\">\n",
       "  <thead>\n",
       "    <tr style=\"text-align: right;\">\n",
       "      <th></th>\n",
       "      <th>ID</th>\n",
       "      <th>DATE</th>\n",
       "      <th>PATIENT</th>\n",
       "      <th>CODE</th>\n",
       "      <th>DESCRIPTION</th>\n",
       "      <th>REASONCODE</th>\n",
       "      <th>REASONDESCRIPTION</th>\n",
       "    </tr>\n",
       "  </thead>\n",
       "  <tbody>\n",
       "    <tr>\n",
       "      <th>0</th>\n",
       "      <td>673daa98-67e9-4e80-be46-a0b547533653</td>\n",
       "      <td>2011-07-02</td>\n",
       "      <td>33f33990-ae8b-4be8-938f-e47ad473abfe</td>\n",
       "      <td>170258001</td>\n",
       "      <td>Outpatient Encounter</td>\n",
       "      <td>NaN</td>\n",
       "      <td>NaN</td>\n",
       "    </tr>\n",
       "    <tr>\n",
       "      <th>1</th>\n",
       "      <td>bac018de-114a-481d-b4f9-87980d7ef8b8</td>\n",
       "      <td>2011-03-12</td>\n",
       "      <td>36d131ee-dd5b-4acb-acbe-19961c32c099</td>\n",
       "      <td>170258001</td>\n",
       "      <td>Outpatient Encounter</td>\n",
       "      <td>NaN</td>\n",
       "      <td>NaN</td>\n",
       "    </tr>\n",
       "    <tr>\n",
       "      <th>2</th>\n",
       "      <td>be0aa510-645e-421b-ad21-8a1ab442ca48</td>\n",
       "      <td>2012-06-17</td>\n",
       "      <td>33f33990-ae8b-4be8-938f-e47ad473abfe</td>\n",
       "      <td>170258001</td>\n",
       "      <td>Outpatient Encounter</td>\n",
       "      <td>NaN</td>\n",
       "      <td>NaN</td>\n",
       "    </tr>\n",
       "    <tr>\n",
       "      <th>3</th>\n",
       "      <td>ff93cedb-8245-4091-838d-a568bcbcb00b</td>\n",
       "      <td>2011-05-15</td>\n",
       "      <td>36d131ee-dd5b-4acb-acbe-19961c32c099</td>\n",
       "      <td>185345009</td>\n",
       "      <td>Encounter for symptom</td>\n",
       "      <td>444814009.0</td>\n",
       "      <td>Viral sinusitis (disorder)</td>\n",
       "    </tr>\n",
       "    <tr>\n",
       "      <th>4</th>\n",
       "      <td>296a1fd4-56de-451c-a5fe-b50f9a18472d</td>\n",
       "      <td>2012-03-26</td>\n",
       "      <td>36d131ee-dd5b-4acb-acbe-19961c32c099</td>\n",
       "      <td>170258001</td>\n",
       "      <td>Outpatient Encounter</td>\n",
       "      <td>NaN</td>\n",
       "      <td>NaN</td>\n",
       "    </tr>\n",
       "    <tr>\n",
       "      <th>...</th>\n",
       "      <td>...</td>\n",
       "      <td>...</td>\n",
       "      <td>...</td>\n",
       "      <td>...</td>\n",
       "      <td>...</td>\n",
       "      <td>...</td>\n",
       "      <td>...</td>\n",
       "    </tr>\n",
       "    <tr>\n",
       "      <th>15109422</th>\n",
       "      <td>1c6a9e87-c6ca-4cec-b0b8-be6dbfd3963c</td>\n",
       "      <td>2014-03-18</td>\n",
       "      <td>de7374d5-f181-45ba-9a00-9bcddc45c2a7</td>\n",
       "      <td>185349003</td>\n",
       "      <td>Outpatient Encounter</td>\n",
       "      <td>NaN</td>\n",
       "      <td>NaN</td>\n",
       "    </tr>\n",
       "    <tr>\n",
       "      <th>15109423</th>\n",
       "      <td>dbf5c188-0e3f-4b1f-85a8-3eba95030417</td>\n",
       "      <td>2014-11-03</td>\n",
       "      <td>de7374d5-f181-45ba-9a00-9bcddc45c2a7</td>\n",
       "      <td>185345009</td>\n",
       "      <td>Encounter for symptom</td>\n",
       "      <td>444814009.0</td>\n",
       "      <td>Viral sinusitis (disorder)</td>\n",
       "    </tr>\n",
       "    <tr>\n",
       "      <th>15109424</th>\n",
       "      <td>a13e64dd-eeb2-416d-9945-75cf6605eabc</td>\n",
       "      <td>2015-01-19</td>\n",
       "      <td>de7374d5-f181-45ba-9a00-9bcddc45c2a7</td>\n",
       "      <td>185349003</td>\n",
       "      <td>Outpatient Encounter</td>\n",
       "      <td>NaN</td>\n",
       "      <td>NaN</td>\n",
       "    </tr>\n",
       "    <tr>\n",
       "      <th>15109425</th>\n",
       "      <td>244c2843-889f-45c7-8682-e232afc71213</td>\n",
       "      <td>2015-12-10</td>\n",
       "      <td>de7374d5-f181-45ba-9a00-9bcddc45c2a7</td>\n",
       "      <td>185349003</td>\n",
       "      <td>Outpatient Encounter</td>\n",
       "      <td>NaN</td>\n",
       "      <td>NaN</td>\n",
       "    </tr>\n",
       "    <tr>\n",
       "      <th>15109426</th>\n",
       "      <td>8d27b288-7709-49bd-9f00-6bcbcb42b647</td>\n",
       "      <td>2016-12-11</td>\n",
       "      <td>de7374d5-f181-45ba-9a00-9bcddc45c2a7</td>\n",
       "      <td>185349003</td>\n",
       "      <td>Outpatient Encounter</td>\n",
       "      <td>NaN</td>\n",
       "      <td>NaN</td>\n",
       "    </tr>\n",
       "  </tbody>\n",
       "</table>\n",
       "<p>15109427 rows × 7 columns</p>\n",
       "</div>"
      ],
      "text/plain": [
       "                                            ID        DATE  \\\n",
       "0         673daa98-67e9-4e80-be46-a0b547533653  2011-07-02   \n",
       "1         bac018de-114a-481d-b4f9-87980d7ef8b8  2011-03-12   \n",
       "2         be0aa510-645e-421b-ad21-8a1ab442ca48  2012-06-17   \n",
       "3         ff93cedb-8245-4091-838d-a568bcbcb00b  2011-05-15   \n",
       "4         296a1fd4-56de-451c-a5fe-b50f9a18472d  2012-03-26   \n",
       "...                                        ...         ...   \n",
       "15109422  1c6a9e87-c6ca-4cec-b0b8-be6dbfd3963c  2014-03-18   \n",
       "15109423  dbf5c188-0e3f-4b1f-85a8-3eba95030417  2014-11-03   \n",
       "15109424  a13e64dd-eeb2-416d-9945-75cf6605eabc  2015-01-19   \n",
       "15109425  244c2843-889f-45c7-8682-e232afc71213  2015-12-10   \n",
       "15109426  8d27b288-7709-49bd-9f00-6bcbcb42b647  2016-12-11   \n",
       "\n",
       "                                       PATIENT       CODE  \\\n",
       "0         33f33990-ae8b-4be8-938f-e47ad473abfe  170258001   \n",
       "1         36d131ee-dd5b-4acb-acbe-19961c32c099  170258001   \n",
       "2         33f33990-ae8b-4be8-938f-e47ad473abfe  170258001   \n",
       "3         36d131ee-dd5b-4acb-acbe-19961c32c099  185345009   \n",
       "4         36d131ee-dd5b-4acb-acbe-19961c32c099  170258001   \n",
       "...                                        ...        ...   \n",
       "15109422  de7374d5-f181-45ba-9a00-9bcddc45c2a7  185349003   \n",
       "15109423  de7374d5-f181-45ba-9a00-9bcddc45c2a7  185345009   \n",
       "15109424  de7374d5-f181-45ba-9a00-9bcddc45c2a7  185349003   \n",
       "15109425  de7374d5-f181-45ba-9a00-9bcddc45c2a7  185349003   \n",
       "15109426  de7374d5-f181-45ba-9a00-9bcddc45c2a7  185349003   \n",
       "\n",
       "                    DESCRIPTION   REASONCODE           REASONDESCRIPTION  \n",
       "0          Outpatient Encounter          NaN                         NaN  \n",
       "1          Outpatient Encounter          NaN                         NaN  \n",
       "2          Outpatient Encounter          NaN                         NaN  \n",
       "3         Encounter for symptom  444814009.0  Viral sinusitis (disorder)  \n",
       "4          Outpatient Encounter          NaN                         NaN  \n",
       "...                         ...          ...                         ...  \n",
       "15109422   Outpatient Encounter          NaN                         NaN  \n",
       "15109423  Encounter for symptom  444814009.0  Viral sinusitis (disorder)  \n",
       "15109424   Outpatient Encounter          NaN                         NaN  \n",
       "15109425   Outpatient Encounter          NaN                         NaN  \n",
       "15109426   Outpatient Encounter          NaN                         NaN  \n",
       "\n",
       "[15109427 rows x 7 columns]"
      ]
     },
     "metadata": {},
     "output_type": "display_data"
    }
   ],
   "source": [
    "print(encounters.shape)\n",
    "display(encounters)"
   ]
  },
  {
   "cell_type": "markdown",
   "id": "1005344e",
   "metadata": {},
   "source": [
    "Make sure `DATE` is datetime."
   ]
  },
  {
   "cell_type": "code",
   "execution_count": 5,
   "id": "ecd0acb6",
   "metadata": {},
   "outputs": [
    {
     "name": "stdout",
     "output_type": "stream",
     "text": [
      "False\n",
      "True\n"
     ]
    }
   ],
   "source": [
    "print(pd.api.types.is_datetime64_any_dtype(encounters['DATE']))\n",
    "encounters['DATE'] = pd.to_datetime(encounters.DATE)\n",
    "print(pd.api.types.is_datetime64_any_dtype(encounters['DATE']))"
   ]
  },
  {
   "cell_type": "markdown",
   "id": "c2d9bb6e",
   "metadata": {},
   "source": [
    "Check what unique values for `DESCRIPTION` (allergy types) there are."
   ]
  },
  {
   "cell_type": "code",
   "execution_count": 6,
   "id": "e8743b13",
   "metadata": {},
   "outputs": [
    {
     "name": "stdout",
     "output_type": "stream",
     "text": [
      "Encounter types:\n",
      " ['Obstetric emergency hospital admission', 'Admission to thoracic surgery department', 'Patient encounter procedure', 'Death Certification', 'Outpatient Encounter', 'Prenatal visit', 'Office Visit', 'Patient-initiated encounter', 'Prenatal initial visit', 'Encounter for symptom', 'Domiciliary or rest home patient evaluation and management', 'Encounter for problem', 'Allergic disorder initial assessment', 'Encounter Inpatient', 'Admission to surgical department', 'Emergency Room Admission', 'Emergency Encounter', 'Drug rehabilitation and detoxification', 'Consultation for treatment', 'Non-urgent orthopedic admission', 'Asthma follow-up', 'Allergic disorder follow-up assessment', 'Emergency room admission', 'Drug addiction therapy', 'Hospital admission', \"Encounter for 'check-up'\", 'Emergency hospital admission for asthma', 'Outpatient procedure']\n",
      "Encounters type number:\n",
      " 28\n"
     ]
    }
   ],
   "source": [
    "print('Encounter types:\\n', list(set(encounters.DESCRIPTION)))\n",
    "print('Encounters type number:\\n', len(list(set(encounters.DESCRIPTION))))"
   ]
  },
  {
   "cell_type": "markdown",
   "id": "2ffa6c1d",
   "metadata": {},
   "source": [
    "Remove entries with no `DATE`, no `PATIENT` id and no `CODE`."
   ]
  },
  {
   "cell_type": "code",
   "execution_count": 7,
   "id": "bc708175",
   "metadata": {},
   "outputs": [
    {
     "name": "stdout",
     "output_type": "stream",
     "text": [
      "Dimensions of table:\n",
      " (15109427, 7)\n",
      "Dimensions of table:\n",
      " (15109427, 7)\n"
     ]
    }
   ],
   "source": [
    "print('Dimensions of table:\\n', encounters.shape)\n",
    "encounters = encounters[~encounters.DATE.isna()]\n",
    "encounters = encounters[~encounters.CODE.isna()]\n",
    "encounters = encounters[~encounters.PATIENT.isna()]\n",
    "print('Dimensions of table:\\n', encounters.shape)"
   ]
  },
  {
   "cell_type": "code",
   "execution_count": 8,
   "id": "10d5c42c",
   "metadata": {},
   "outputs": [
    {
     "name": "stdout",
     "output_type": "stream",
     "text": [
      "All patients are in valid format?\n",
      " True\n"
     ]
    }
   ],
   "source": [
    "valid_patient_format = encounters.PATIENT.apply(lambda x: \n",
    "                                               bool(\n",
    "                                                   re.match(\n",
    "                                                       r'^[0-9a-z]{8}-[0-9a-z]{4}-[0-9a-z]{4}-[0-9a-z]{4}-[0-9a-z]{12}$', \n",
    "                                                       str(x))))\n",
    "print('All patients are in valid format?\\n', valid_patient_format.all())"
   ]
  },
  {
   "cell_type": "markdown",
   "id": "ec562e59",
   "metadata": {},
   "source": [
    "#### Save tidy table"
   ]
  },
  {
   "cell_type": "code",
   "execution_count": 9,
   "id": "19dceab3",
   "metadata": {},
   "outputs": [],
   "source": [
    "# open a file, where you ant to store the data\n",
    "file = open('encounters.pkl', 'wb')\n",
    "\n",
    "# dump information to that file\n",
    "pickle.dump(encounters, file)\n",
    "\n",
    "# Clean up space\n",
    "#del encounters, file"
   ]
  },
  {
   "cell_type": "markdown",
   "id": "f8fad434",
   "metadata": {},
   "source": [
    "---"
   ]
  },
  {
   "cell_type": "markdown",
   "id": "e5a144fe",
   "metadata": {},
   "source": [
    "### Immunizations"
   ]
  },
  {
   "cell_type": "markdown",
   "id": "e52e542e",
   "metadata": {},
   "source": [
    "#### Read table"
   ]
  },
  {
   "cell_type": "code",
   "execution_count": 56,
   "id": "472b8ea5",
   "metadata": {
    "collapsed": true
   },
   "outputs": [
    {
     "name": "stdout",
     "output_type": "stream",
     "text": [
      "Reading table immunizations - 1 ...\n",
      "Table number 1 appended!\n",
      "Total table size is 873133.\n",
      " ------------------------\n",
      "Reading table immunizations - 2 ...\n",
      "Appending table numer 2...\n"
     ]
    },
    {
     "name": "stderr",
     "output_type": "stream",
     "text": [
      "C:\\Users\\Vassil\\AppData\\Local\\Temp\\ipykernel_8936\\3657629342.py:28: FutureWarning: The frame.append method is deprecated and will be removed from pandas in a future version. Use pandas.concat instead.\n",
      "  df = df.append (\n"
     ]
    },
    {
     "name": "stdout",
     "output_type": "stream",
     "text": [
      "Table number 2 appended!\n",
      "Total table size is 1740022.\n",
      " ------------------------\n",
      "Reading table immunizations - 3 ...\n",
      "Appending table numer 3...\n"
     ]
    },
    {
     "name": "stderr",
     "output_type": "stream",
     "text": [
      "C:\\Users\\Vassil\\AppData\\Local\\Temp\\ipykernel_8936\\3657629342.py:28: FutureWarning: The frame.append method is deprecated and will be removed from pandas in a future version. Use pandas.concat instead.\n",
      "  df = df.append (\n"
     ]
    },
    {
     "name": "stdout",
     "output_type": "stream",
     "text": [
      "Table number 3 appended!\n",
      "Total table size is 2606790.\n",
      " ------------------------\n",
      "Reading table immunizations - 4 ...\n",
      "Appending table numer 4...\n"
     ]
    },
    {
     "name": "stderr",
     "output_type": "stream",
     "text": [
      "C:\\Users\\Vassil\\AppData\\Local\\Temp\\ipykernel_8936\\3657629342.py:28: FutureWarning: The frame.append method is deprecated and will be removed from pandas in a future version. Use pandas.concat instead.\n",
      "  df = df.append (\n"
     ]
    },
    {
     "name": "stdout",
     "output_type": "stream",
     "text": [
      "Table number 4 appended!\n",
      "Total table size is 3475974.\n",
      " ------------------------\n",
      "Reading table immunizations - 5 ...\n",
      "Appending table numer 5...\n"
     ]
    },
    {
     "name": "stderr",
     "output_type": "stream",
     "text": [
      "C:\\Users\\Vassil\\AppData\\Local\\Temp\\ipykernel_8936\\3657629342.py:28: FutureWarning: The frame.append method is deprecated and will be removed from pandas in a future version. Use pandas.concat instead.\n",
      "  df = df.append (\n"
     ]
    },
    {
     "name": "stdout",
     "output_type": "stream",
     "text": [
      "Table number 5 appended!\n",
      "Total table size is 4342852.\n",
      " ------------------------\n",
      "Reading table immunizations - 6 ...\n",
      "Appending table numer 6...\n"
     ]
    },
    {
     "name": "stderr",
     "output_type": "stream",
     "text": [
      "C:\\Users\\Vassil\\AppData\\Local\\Temp\\ipykernel_8936\\3657629342.py:28: FutureWarning: The frame.append method is deprecated and will be removed from pandas in a future version. Use pandas.concat instead.\n",
      "  df = df.append (\n"
     ]
    },
    {
     "name": "stdout",
     "output_type": "stream",
     "text": [
      "Table number 6 appended!\n",
      "Total table size is 5209279.\n",
      " ------------------------\n",
      "Reading table immunizations - 7 ...\n",
      "Appending table numer 7...\n"
     ]
    },
    {
     "name": "stderr",
     "output_type": "stream",
     "text": [
      "C:\\Users\\Vassil\\AppData\\Local\\Temp\\ipykernel_8936\\3657629342.py:28: FutureWarning: The frame.append method is deprecated and will be removed from pandas in a future version. Use pandas.concat instead.\n",
      "  df = df.append (\n"
     ]
    },
    {
     "name": "stdout",
     "output_type": "stream",
     "text": [
      "Table number 7 appended!\n",
      "Total table size is 6077422.\n",
      " ------------------------\n",
      "Reading table immunizations - 8 ...\n",
      "Appending table numer 8...\n"
     ]
    },
    {
     "name": "stderr",
     "output_type": "stream",
     "text": [
      "C:\\Users\\Vassil\\AppData\\Local\\Temp\\ipykernel_8936\\3657629342.py:28: FutureWarning: The frame.append method is deprecated and will be removed from pandas in a future version. Use pandas.concat instead.\n",
      "  df = df.append (\n"
     ]
    },
    {
     "name": "stdout",
     "output_type": "stream",
     "text": [
      "Table number 8 appended!\n",
      "Total table size is 6943858.\n",
      " ------------------------\n",
      "Reading table immunizations - 9 ...\n",
      "Appending table numer 9...\n"
     ]
    },
    {
     "name": "stderr",
     "output_type": "stream",
     "text": [
      "C:\\Users\\Vassil\\AppData\\Local\\Temp\\ipykernel_8936\\3657629342.py:28: FutureWarning: The frame.append method is deprecated and will be removed from pandas in a future version. Use pandas.concat instead.\n",
      "  df = df.append (\n"
     ]
    },
    {
     "name": "stdout",
     "output_type": "stream",
     "text": [
      "Table number 9 appended!\n",
      "Total table size is 7810337.\n",
      " ------------------------\n",
      "Reading table immunizations - 10 ...\n",
      "Appending table numer 10...\n"
     ]
    },
    {
     "name": "stderr",
     "output_type": "stream",
     "text": [
      "C:\\Users\\Vassil\\AppData\\Local\\Temp\\ipykernel_8936\\3657629342.py:28: FutureWarning: The frame.append method is deprecated and will be removed from pandas in a future version. Use pandas.concat instead.\n",
      "  df = df.append (\n"
     ]
    },
    {
     "name": "stdout",
     "output_type": "stream",
     "text": [
      "Table number 10 appended!\n",
      "Total table size is 8679479.\n",
      " ------------------------\n",
      "Reading table immunizations - 11 ...\n",
      "Appending table numer 11...\n"
     ]
    },
    {
     "name": "stderr",
     "output_type": "stream",
     "text": [
      "C:\\Users\\Vassil\\AppData\\Local\\Temp\\ipykernel_8936\\3657629342.py:28: FutureWarning: The frame.append method is deprecated and will be removed from pandas in a future version. Use pandas.concat instead.\n",
      "  df = df.append (\n"
     ]
    },
    {
     "name": "stdout",
     "output_type": "stream",
     "text": [
      "Table number 11 appended!\n",
      "Total table size is 9546955.\n",
      " ------------------------\n",
      "Reading table immunizations - 12 ...\n",
      "Appending table numer 12...\n"
     ]
    },
    {
     "name": "stderr",
     "output_type": "stream",
     "text": [
      "C:\\Users\\Vassil\\AppData\\Local\\Temp\\ipykernel_8936\\3657629342.py:28: FutureWarning: The frame.append method is deprecated and will be removed from pandas in a future version. Use pandas.concat instead.\n",
      "  df = df.append (\n"
     ]
    },
    {
     "name": "stdout",
     "output_type": "stream",
     "text": [
      "Table number 12 appended!\n",
      "Total table size is 10412118.\n",
      " ------------------------\n"
     ]
    }
   ],
   "source": [
    "immunizations = read_table_csv('immunizations')"
   ]
  },
  {
   "cell_type": "code",
   "execution_count": 58,
   "id": "a8c1809e",
   "metadata": {
    "collapsed": true
   },
   "outputs": [
    {
     "name": "stdout",
     "output_type": "stream",
     "text": [
      "(10412118, 5)\n"
     ]
    },
    {
     "data": {
      "text/html": [
       "<div>\n",
       "<style scoped>\n",
       "    .dataframe tbody tr th:only-of-type {\n",
       "        vertical-align: middle;\n",
       "    }\n",
       "\n",
       "    .dataframe tbody tr th {\n",
       "        vertical-align: top;\n",
       "    }\n",
       "\n",
       "    .dataframe thead th {\n",
       "        text-align: right;\n",
       "    }\n",
       "</style>\n",
       "<table border=\"1\" class=\"dataframe\">\n",
       "  <thead>\n",
       "    <tr style=\"text-align: right;\">\n",
       "      <th></th>\n",
       "      <th>DATE</th>\n",
       "      <th>PATIENT</th>\n",
       "      <th>ENCOUNTER</th>\n",
       "      <th>CODE</th>\n",
       "      <th>DESCRIPTION</th>\n",
       "    </tr>\n",
       "  </thead>\n",
       "  <tbody>\n",
       "    <tr>\n",
       "      <th>0</th>\n",
       "      <td>2011-07-02</td>\n",
       "      <td>33f33990-ae8b-4be8-938f-e47ad473abfe</td>\n",
       "      <td>673daa98-67e9-4e80-be46-a0b547533653</td>\n",
       "      <td>140</td>\n",
       "      <td>Influenza  seasonal  injectable  preservative ...</td>\n",
       "    </tr>\n",
       "    <tr>\n",
       "      <th>1</th>\n",
       "      <td>2011-07-02</td>\n",
       "      <td>33f33990-ae8b-4be8-938f-e47ad473abfe</td>\n",
       "      <td>673daa98-67e9-4e80-be46-a0b547533653</td>\n",
       "      <td>114</td>\n",
       "      <td>meningococcal MCV4P</td>\n",
       "    </tr>\n",
       "    <tr>\n",
       "      <th>2</th>\n",
       "      <td>2011-03-12</td>\n",
       "      <td>36d131ee-dd5b-4acb-acbe-19961c32c099</td>\n",
       "      <td>bac018de-114a-481d-b4f9-87980d7ef8b8</td>\n",
       "      <td>140</td>\n",
       "      <td>Influenza  seasonal  injectable  preservative ...</td>\n",
       "    </tr>\n",
       "    <tr>\n",
       "      <th>3</th>\n",
       "      <td>2011-03-12</td>\n",
       "      <td>36d131ee-dd5b-4acb-acbe-19961c32c099</td>\n",
       "      <td>bac018de-114a-481d-b4f9-87980d7ef8b8</td>\n",
       "      <td>62</td>\n",
       "      <td>HPV  quadrivalent</td>\n",
       "    </tr>\n",
       "    <tr>\n",
       "      <th>4</th>\n",
       "      <td>2012-06-17</td>\n",
       "      <td>33f33990-ae8b-4be8-938f-e47ad473abfe</td>\n",
       "      <td>be0aa510-645e-421b-ad21-8a1ab442ca48</td>\n",
       "      <td>140</td>\n",
       "      <td>Influenza  seasonal  injectable  preservative ...</td>\n",
       "    </tr>\n",
       "    <tr>\n",
       "      <th>...</th>\n",
       "      <td>...</td>\n",
       "      <td>...</td>\n",
       "      <td>...</td>\n",
       "      <td>...</td>\n",
       "      <td>...</td>\n",
       "    </tr>\n",
       "    <tr>\n",
       "      <th>10412113</th>\n",
       "      <td>2012-05-26</td>\n",
       "      <td>de7374d5-f181-45ba-9a00-9bcddc45c2a7</td>\n",
       "      <td>be7069a5-967e-4d87-beb0-a315055b0327</td>\n",
       "      <td>140</td>\n",
       "      <td>Influenza  seasonal  injectable  preservative ...</td>\n",
       "    </tr>\n",
       "    <tr>\n",
       "      <th>10412114</th>\n",
       "      <td>2013-05-16</td>\n",
       "      <td>de7374d5-f181-45ba-9a00-9bcddc45c2a7</td>\n",
       "      <td>df7092a4-9741-4fdc-b16e-fa7171aa5eba</td>\n",
       "      <td>140</td>\n",
       "      <td>Influenza  seasonal  injectable  preservative ...</td>\n",
       "    </tr>\n",
       "    <tr>\n",
       "      <th>10412115</th>\n",
       "      <td>2014-03-18</td>\n",
       "      <td>de7374d5-f181-45ba-9a00-9bcddc45c2a7</td>\n",
       "      <td>1c6a9e87-c6ca-4cec-b0b8-be6dbfd3963c</td>\n",
       "      <td>140</td>\n",
       "      <td>Influenza  seasonal  injectable  preservative ...</td>\n",
       "    </tr>\n",
       "    <tr>\n",
       "      <th>10412116</th>\n",
       "      <td>2015-12-10</td>\n",
       "      <td>de7374d5-f181-45ba-9a00-9bcddc45c2a7</td>\n",
       "      <td>244c2843-889f-45c7-8682-e232afc71213</td>\n",
       "      <td>140</td>\n",
       "      <td>Influenza  seasonal  injectable  preservative ...</td>\n",
       "    </tr>\n",
       "    <tr>\n",
       "      <th>10412117</th>\n",
       "      <td>2016-12-11</td>\n",
       "      <td>de7374d5-f181-45ba-9a00-9bcddc45c2a7</td>\n",
       "      <td>8d27b288-7709-49bd-9f00-6bcbcb42b647</td>\n",
       "      <td>140</td>\n",
       "      <td>Influenza  seasonal  injectable  preservative ...</td>\n",
       "    </tr>\n",
       "  </tbody>\n",
       "</table>\n",
       "<p>10412118 rows × 5 columns</p>\n",
       "</div>"
      ],
      "text/plain": [
       "                DATE                               PATIENT  \\\n",
       "0         2011-07-02  33f33990-ae8b-4be8-938f-e47ad473abfe   \n",
       "1         2011-07-02  33f33990-ae8b-4be8-938f-e47ad473abfe   \n",
       "2         2011-03-12  36d131ee-dd5b-4acb-acbe-19961c32c099   \n",
       "3         2011-03-12  36d131ee-dd5b-4acb-acbe-19961c32c099   \n",
       "4         2012-06-17  33f33990-ae8b-4be8-938f-e47ad473abfe   \n",
       "...              ...                                   ...   \n",
       "10412113  2012-05-26  de7374d5-f181-45ba-9a00-9bcddc45c2a7   \n",
       "10412114  2013-05-16  de7374d5-f181-45ba-9a00-9bcddc45c2a7   \n",
       "10412115  2014-03-18  de7374d5-f181-45ba-9a00-9bcddc45c2a7   \n",
       "10412116  2015-12-10  de7374d5-f181-45ba-9a00-9bcddc45c2a7   \n",
       "10412117  2016-12-11  de7374d5-f181-45ba-9a00-9bcddc45c2a7   \n",
       "\n",
       "                                     ENCOUNTER  CODE  \\\n",
       "0         673daa98-67e9-4e80-be46-a0b547533653   140   \n",
       "1         673daa98-67e9-4e80-be46-a0b547533653   114   \n",
       "2         bac018de-114a-481d-b4f9-87980d7ef8b8   140   \n",
       "3         bac018de-114a-481d-b4f9-87980d7ef8b8    62   \n",
       "4         be0aa510-645e-421b-ad21-8a1ab442ca48   140   \n",
       "...                                        ...   ...   \n",
       "10412113  be7069a5-967e-4d87-beb0-a315055b0327   140   \n",
       "10412114  df7092a4-9741-4fdc-b16e-fa7171aa5eba   140   \n",
       "10412115  1c6a9e87-c6ca-4cec-b0b8-be6dbfd3963c   140   \n",
       "10412116  244c2843-889f-45c7-8682-e232afc71213   140   \n",
       "10412117  8d27b288-7709-49bd-9f00-6bcbcb42b647   140   \n",
       "\n",
       "                                                DESCRIPTION  \n",
       "0         Influenza  seasonal  injectable  preservative ...  \n",
       "1                                       meningococcal MCV4P  \n",
       "2         Influenza  seasonal  injectable  preservative ...  \n",
       "3                                         HPV  quadrivalent  \n",
       "4         Influenza  seasonal  injectable  preservative ...  \n",
       "...                                                     ...  \n",
       "10412113  Influenza  seasonal  injectable  preservative ...  \n",
       "10412114  Influenza  seasonal  injectable  preservative ...  \n",
       "10412115  Influenza  seasonal  injectable  preservative ...  \n",
       "10412116  Influenza  seasonal  injectable  preservative ...  \n",
       "10412117  Influenza  seasonal  injectable  preservative ...  \n",
       "\n",
       "[10412118 rows x 5 columns]"
      ]
     },
     "metadata": {},
     "output_type": "display_data"
    }
   ],
   "source": [
    "print(immunizations.shape)\n",
    "display(immunizations)"
   ]
  },
  {
   "cell_type": "markdown",
   "id": "88dbf867",
   "metadata": {},
   "source": [
    "#### Tidy table"
   ]
  },
  {
   "cell_type": "markdown",
   "id": "2b343b5b",
   "metadata": {},
   "source": [
    "Make sure `DATE` is datetime."
   ]
  },
  {
   "cell_type": "code",
   "execution_count": 59,
   "id": "f42f328a",
   "metadata": {
    "collapsed": true
   },
   "outputs": [
    {
     "name": "stdout",
     "output_type": "stream",
     "text": [
      "False\n",
      "True\n"
     ]
    }
   ],
   "source": [
    "print(pd.api.types.is_datetime64_any_dtype(immunizations['DATE']))\n",
    "immunizations['DATE'] = pd.to_datetime(immunizations.DATE)\n",
    "print(pd.api.types.is_datetime64_any_dtype(immunizations['DATE']))"
   ]
  },
  {
   "cell_type": "markdown",
   "id": "32ebc0b4",
   "metadata": {},
   "source": [
    "Check what unique values for `DESCRIPTION` (allergy types) there are."
   ]
  },
  {
   "cell_type": "code",
   "execution_count": 60,
   "id": "cf30a6c3",
   "metadata": {
    "collapsed": true
   },
   "outputs": [
    {
     "name": "stdout",
     "output_type": "stream",
     "text": [
      "Immunization types:\n",
      " ['zoster', 'rotavirus  monovalent', 'meningococcal MCV4P', 'Td (adult) preservative free', 'Pneumococcal conjugate PCV 13', 'Hep B  adolescent or pediatric', 'Hep A  ped/adol  2 dose', 'HPV  quadrivalent', 'Tdap', 'Hib (PRP-OMP)', 'Influenza  seasonal  injectable  preservative free', 'IPV', 'DTaP', 'MMR', 'pneumococcal polysaccharide vaccine  23 valent', 'varicella']\n",
      "Immunizations type number:\n",
      " 16\n"
     ]
    }
   ],
   "source": [
    "print('Immunization types:\\n', list(set(immunizations.DESCRIPTION)))\n",
    "print('Immunizations type number:\\n', len(list(set(immunizations.DESCRIPTION))))"
   ]
  },
  {
   "cell_type": "markdown",
   "id": "7bda0e99",
   "metadata": {},
   "source": [
    "Remove entries with no `DATE`, no `PATIENT` id and no `CODE`."
   ]
  },
  {
   "cell_type": "code",
   "execution_count": 61,
   "id": "6c0197a3",
   "metadata": {
    "collapsed": true
   },
   "outputs": [
    {
     "name": "stdout",
     "output_type": "stream",
     "text": [
      "Dimensions of table:\n",
      " (10412118, 5)\n",
      "Dimensions of table:\n",
      " (10412118, 5)\n"
     ]
    }
   ],
   "source": [
    "print('Dimensions of table:\\n', immunizations.shape)\n",
    "immunizations = immunizations[~immunizations.DATE.isna()]\n",
    "immunizations = immunizations[~immunizations.CODE.isna()]\n",
    "immunizations = immunizations[~immunizations.PATIENT.isna()]\n",
    "print('Dimensions of table:\\n', immunizations.shape)"
   ]
  },
  {
   "cell_type": "code",
   "execution_count": 62,
   "id": "042ee1cb",
   "metadata": {
    "collapsed": true
   },
   "outputs": [
    {
     "name": "stdout",
     "output_type": "stream",
     "text": [
      "All patients are in valid format?\n",
      " True\n"
     ]
    }
   ],
   "source": [
    "valid_patient_format = immunizations.PATIENT.apply(lambda x: \n",
    "                                               bool(\n",
    "                                                   re.match(\n",
    "                                                       r'^[0-9a-z]{8}-[0-9a-z]{4}-[0-9a-z]{4}-[0-9a-z]{4}-[0-9a-z]{12}$', \n",
    "                                                       str(x))))\n",
    "print('All patients are in valid format?\\n', valid_patient_format.all())"
   ]
  },
  {
   "cell_type": "markdown",
   "id": "4dbd7804",
   "metadata": {},
   "source": [
    "#### Save tidy table"
   ]
  },
  {
   "cell_type": "code",
   "execution_count": 63,
   "id": "9f338c43",
   "metadata": {},
   "outputs": [],
   "source": [
    "# open a file, where you ant to store the data\n",
    "file = open('immunizations.pkl', 'wb')\n",
    "\n",
    "# dump information to that file\n",
    "pickle.dump(immunizations, file)\n",
    "\n",
    "# Clean up space\n",
    "del immunizations, file"
   ]
  },
  {
   "cell_type": "markdown",
   "id": "d37decc1",
   "metadata": {},
   "source": [
    "---"
   ]
  },
  {
   "cell_type": "markdown",
   "id": "46438251",
   "metadata": {},
   "source": [
    "### Medications"
   ]
  },
  {
   "cell_type": "markdown",
   "id": "b73a0e43",
   "metadata": {},
   "source": [
    "#### Read table"
   ]
  },
  {
   "cell_type": "code",
   "execution_count": 64,
   "id": "b6e29bcc",
   "metadata": {
    "collapsed": true
   },
   "outputs": [
    {
     "name": "stdout",
     "output_type": "stream",
     "text": [
      "Reading table medications - 1 ...\n",
      "Table number 1 appended!\n",
      "Total table size is 397877.\n",
      " ------------------------\n",
      "Reading table medications - 2 ...\n",
      "Appending table numer 2...\n"
     ]
    },
    {
     "name": "stderr",
     "output_type": "stream",
     "text": [
      "C:\\Users\\Vassil\\AppData\\Local\\Temp\\ipykernel_8936\\3657629342.py:28: FutureWarning: The frame.append method is deprecated and will be removed from pandas in a future version. Use pandas.concat instead.\n",
      "  df = df.append (\n"
     ]
    },
    {
     "name": "stdout",
     "output_type": "stream",
     "text": [
      "Table number 2 appended!\n",
      "Total table size is 796648.\n",
      " ------------------------\n",
      "Reading table medications - 3 ...\n",
      "Appending table numer 3...\n",
      "Table number 3 appended!\n",
      "Total table size is 1193850.\n",
      " ------------------------\n",
      "Reading table medications - 4 ...\n"
     ]
    },
    {
     "name": "stderr",
     "output_type": "stream",
     "text": [
      "C:\\Users\\Vassil\\AppData\\Local\\Temp\\ipykernel_8936\\3657629342.py:28: FutureWarning: The frame.append method is deprecated and will be removed from pandas in a future version. Use pandas.concat instead.\n",
      "  df = df.append (\n"
     ]
    },
    {
     "name": "stdout",
     "output_type": "stream",
     "text": [
      "Appending table numer 4...\n"
     ]
    },
    {
     "name": "stderr",
     "output_type": "stream",
     "text": [
      "C:\\Users\\Vassil\\AppData\\Local\\Temp\\ipykernel_8936\\3657629342.py:28: FutureWarning: The frame.append method is deprecated and will be removed from pandas in a future version. Use pandas.concat instead.\n",
      "  df = df.append (\n"
     ]
    },
    {
     "name": "stdout",
     "output_type": "stream",
     "text": [
      "Table number 4 appended!\n",
      "Total table size is 1592658.\n",
      " ------------------------\n",
      "Reading table medications - 5 ...\n",
      "Appending table numer 5...\n"
     ]
    },
    {
     "name": "stderr",
     "output_type": "stream",
     "text": [
      "C:\\Users\\Vassil\\AppData\\Local\\Temp\\ipykernel_8936\\3657629342.py:28: FutureWarning: The frame.append method is deprecated and will be removed from pandas in a future version. Use pandas.concat instead.\n",
      "  df = df.append (\n"
     ]
    },
    {
     "name": "stdout",
     "output_type": "stream",
     "text": [
      "Table number 5 appended!\n",
      "Total table size is 1991139.\n",
      " ------------------------\n",
      "Reading table medications - 6 ...\n",
      "Appending table numer 6...\n"
     ]
    },
    {
     "name": "stderr",
     "output_type": "stream",
     "text": [
      "C:\\Users\\Vassil\\AppData\\Local\\Temp\\ipykernel_8936\\3657629342.py:28: FutureWarning: The frame.append method is deprecated and will be removed from pandas in a future version. Use pandas.concat instead.\n",
      "  df = df.append (\n"
     ]
    },
    {
     "name": "stdout",
     "output_type": "stream",
     "text": [
      "Table number 6 appended!\n",
      "Total table size is 2391868.\n",
      " ------------------------\n",
      "Reading table medications - 7 ...\n",
      "Appending table numer 7...\n"
     ]
    },
    {
     "name": "stderr",
     "output_type": "stream",
     "text": [
      "C:\\Users\\Vassil\\AppData\\Local\\Temp\\ipykernel_8936\\3657629342.py:28: FutureWarning: The frame.append method is deprecated and will be removed from pandas in a future version. Use pandas.concat instead.\n",
      "  df = df.append (\n"
     ]
    },
    {
     "name": "stdout",
     "output_type": "stream",
     "text": [
      "Table number 7 appended!\n",
      "Total table size is 2786805.\n",
      " ------------------------\n",
      "Reading table medications - 8 ...\n",
      "Appending table numer 8...\n"
     ]
    },
    {
     "name": "stderr",
     "output_type": "stream",
     "text": [
      "C:\\Users\\Vassil\\AppData\\Local\\Temp\\ipykernel_8936\\3657629342.py:28: FutureWarning: The frame.append method is deprecated and will be removed from pandas in a future version. Use pandas.concat instead.\n",
      "  df = df.append (\n"
     ]
    },
    {
     "name": "stdout",
     "output_type": "stream",
     "text": [
      "Table number 8 appended!\n",
      "Total table size is 3184515.\n",
      " ------------------------\n",
      "Reading table medications - 9 ...\n",
      "Appending table numer 9...\n"
     ]
    },
    {
     "name": "stderr",
     "output_type": "stream",
     "text": [
      "C:\\Users\\Vassil\\AppData\\Local\\Temp\\ipykernel_8936\\3657629342.py:28: FutureWarning: The frame.append method is deprecated and will be removed from pandas in a future version. Use pandas.concat instead.\n",
      "  df = df.append (\n"
     ]
    },
    {
     "name": "stdout",
     "output_type": "stream",
     "text": [
      "Table number 9 appended!\n",
      "Total table size is 3584297.\n",
      " ------------------------\n",
      "Reading table medications - 10 ...\n",
      "Appending table numer 10...\n"
     ]
    },
    {
     "name": "stderr",
     "output_type": "stream",
     "text": [
      "C:\\Users\\Vassil\\AppData\\Local\\Temp\\ipykernel_8936\\3657629342.py:28: FutureWarning: The frame.append method is deprecated and will be removed from pandas in a future version. Use pandas.concat instead.\n",
      "  df = df.append (\n"
     ]
    },
    {
     "name": "stdout",
     "output_type": "stream",
     "text": [
      "Table number 10 appended!\n",
      "Total table size is 3984789.\n",
      " ------------------------\n",
      "Reading table medications - 11 ...\n",
      "Appending table numer 11...\n"
     ]
    },
    {
     "name": "stderr",
     "output_type": "stream",
     "text": [
      "C:\\Users\\Vassil\\AppData\\Local\\Temp\\ipykernel_8936\\3657629342.py:28: FutureWarning: The frame.append method is deprecated and will be removed from pandas in a future version. Use pandas.concat instead.\n",
      "  df = df.append (\n"
     ]
    },
    {
     "name": "stdout",
     "output_type": "stream",
     "text": [
      "Table number 11 appended!\n",
      "Total table size is 4382233.\n",
      " ------------------------\n",
      "Reading table medications - 12 ...\n",
      "Appending table numer 12...\n"
     ]
    },
    {
     "name": "stderr",
     "output_type": "stream",
     "text": [
      "C:\\Users\\Vassil\\AppData\\Local\\Temp\\ipykernel_8936\\3657629342.py:28: FutureWarning: The frame.append method is deprecated and will be removed from pandas in a future version. Use pandas.concat instead.\n",
      "  df = df.append (\n"
     ]
    },
    {
     "name": "stdout",
     "output_type": "stream",
     "text": [
      "Table number 12 appended!\n",
      "Total table size is 4781956.\n",
      " ------------------------\n"
     ]
    }
   ],
   "source": [
    "medications = read_table_csv('medications')"
   ]
  },
  {
   "cell_type": "code",
   "execution_count": 65,
   "id": "cdbf35f9",
   "metadata": {
    "collapsed": true
   },
   "outputs": [
    {
     "name": "stdout",
     "output_type": "stream",
     "text": [
      "(4781956, 8)\n"
     ]
    },
    {
     "data": {
      "text/html": [
       "<div>\n",
       "<style scoped>\n",
       "    .dataframe tbody tr th:only-of-type {\n",
       "        vertical-align: middle;\n",
       "    }\n",
       "\n",
       "    .dataframe tbody tr th {\n",
       "        vertical-align: top;\n",
       "    }\n",
       "\n",
       "    .dataframe thead th {\n",
       "        text-align: right;\n",
       "    }\n",
       "</style>\n",
       "<table border=\"1\" class=\"dataframe\">\n",
       "  <thead>\n",
       "    <tr style=\"text-align: right;\">\n",
       "      <th></th>\n",
       "      <th>START</th>\n",
       "      <th>STOP</th>\n",
       "      <th>PATIENT</th>\n",
       "      <th>ENCOUNTER</th>\n",
       "      <th>CODE</th>\n",
       "      <th>DESCRIPTION</th>\n",
       "      <th>REASONCODE</th>\n",
       "      <th>REASONDESCRIPTION</th>\n",
       "    </tr>\n",
       "  </thead>\n",
       "  <tbody>\n",
       "    <tr>\n",
       "      <th>0</th>\n",
       "      <td>1999-05-05</td>\n",
       "      <td>NaN</td>\n",
       "      <td>660bec03-9e58-47f2-98b9-2f1c564f3838</td>\n",
       "      <td>815494d8-2570-4918-a8de-fd4000d8100f</td>\n",
       "      <td>834060</td>\n",
       "      <td>Penicillin V Potassium 250 MG</td>\n",
       "      <td>43878008.0</td>\n",
       "      <td>Streptococcal sore throat (disorder)</td>\n",
       "    </tr>\n",
       "    <tr>\n",
       "      <th>1</th>\n",
       "      <td>2010-08-02</td>\n",
       "      <td>NaN</td>\n",
       "      <td>660bec03-9e58-47f2-98b9-2f1c564f3838</td>\n",
       "      <td>815494d8-2570-4918-a8de-fd4000d8100f</td>\n",
       "      <td>748879</td>\n",
       "      <td>Levora 0.15/30 28 Day Pack</td>\n",
       "      <td>NaN</td>\n",
       "      <td>NaN</td>\n",
       "    </tr>\n",
       "    <tr>\n",
       "      <th>2</th>\n",
       "      <td>2012-11-21</td>\n",
       "      <td>2012-12-14</td>\n",
       "      <td>660bec03-9e58-47f2-98b9-2f1c564f3838</td>\n",
       "      <td>dbe481ce-b961-4f43-ac0a-07fa8cfa8bdd</td>\n",
       "      <td>310965</td>\n",
       "      <td>Ibuprofen 200 MG Oral Tablet</td>\n",
       "      <td>NaN</td>\n",
       "      <td>NaN</td>\n",
       "    </tr>\n",
       "    <tr>\n",
       "      <th>3</th>\n",
       "      <td>2013-12-04</td>\n",
       "      <td>2013-12-19</td>\n",
       "      <td>660bec03-9e58-47f2-98b9-2f1c564f3838</td>\n",
       "      <td>b5f1ab7e-5e67-4070-bcf0-52451eb20551</td>\n",
       "      <td>1020137</td>\n",
       "      <td>Dextromethorphan Hydrobromide 1 MG/ML</td>\n",
       "      <td>10509002.0</td>\n",
       "      <td>Acute bronchitis (disorder)</td>\n",
       "    </tr>\n",
       "    <tr>\n",
       "      <th>4</th>\n",
       "      <td>2014-07-03</td>\n",
       "      <td>2014-07-18</td>\n",
       "      <td>660bec03-9e58-47f2-98b9-2f1c564f3838</td>\n",
       "      <td>b7958497-2bfd-4863-9f09-0e0acff7b2a4</td>\n",
       "      <td>824184</td>\n",
       "      <td>Amoxicillin 250 MG / Clavulanate 125 MG [Augm...</td>\n",
       "      <td>444814009.0</td>\n",
       "      <td>Viral sinusitis (disorder)</td>\n",
       "    </tr>\n",
       "    <tr>\n",
       "      <th>...</th>\n",
       "      <td>...</td>\n",
       "      <td>...</td>\n",
       "      <td>...</td>\n",
       "      <td>...</td>\n",
       "      <td>...</td>\n",
       "      <td>...</td>\n",
       "      <td>...</td>\n",
       "      <td>...</td>\n",
       "    </tr>\n",
       "    <tr>\n",
       "      <th>4781951</th>\n",
       "      <td>2007-12-05</td>\n",
       "      <td>2007-12-20</td>\n",
       "      <td>0d8cca67-1970-4f15-b639-426a387686f4</td>\n",
       "      <td>b7f1c680-b752-4149-9908-011788927514</td>\n",
       "      <td>849574</td>\n",
       "      <td>Naproxen sodium 220 MG Oral Tablet</td>\n",
       "      <td>NaN</td>\n",
       "      <td>NaN</td>\n",
       "    </tr>\n",
       "    <tr>\n",
       "      <th>4781952</th>\n",
       "      <td>2013-08-04</td>\n",
       "      <td>2013-08-20</td>\n",
       "      <td>0d8cca67-1970-4f15-b639-426a387686f4</td>\n",
       "      <td>094c34eb-da3c-468a-aa5b-7d6d42f7483a</td>\n",
       "      <td>824184</td>\n",
       "      <td>Amoxicillin 250 MG / Clavulanate 125 MG [Augm...</td>\n",
       "      <td>75498004.0</td>\n",
       "      <td>Acute bacterial sinusitis (disorder)</td>\n",
       "    </tr>\n",
       "    <tr>\n",
       "      <th>4781953</th>\n",
       "      <td>2017-02-22</td>\n",
       "      <td>NaN</td>\n",
       "      <td>0d8cca67-1970-4f15-b639-426a387686f4</td>\n",
       "      <td>4806ee17-ea8c-4f5a-b45b-c343cb3ef4c1</td>\n",
       "      <td>849574</td>\n",
       "      <td>Naproxen sodium 220 MG Oral Tablet</td>\n",
       "      <td>NaN</td>\n",
       "      <td>NaN</td>\n",
       "    </tr>\n",
       "    <tr>\n",
       "      <th>4781954</th>\n",
       "      <td>1945-01-04</td>\n",
       "      <td>NaN</td>\n",
       "      <td>de7374d5-f181-45ba-9a00-9bcddc45c2a7</td>\n",
       "      <td>56f9b8f1-8867-42fa-b796-d3953ff4653a</td>\n",
       "      <td>834060</td>\n",
       "      <td>Penicillin V Potassium 250 MG</td>\n",
       "      <td>43878008.0</td>\n",
       "      <td>Streptococcal sore throat (disorder)</td>\n",
       "    </tr>\n",
       "    <tr>\n",
       "      <th>4781955</th>\n",
       "      <td>2012-11-25</td>\n",
       "      <td>2012-12-21</td>\n",
       "      <td>de7374d5-f181-45ba-9a00-9bcddc45c2a7</td>\n",
       "      <td>0f0c2769-6955-485c-95eb-8a5866b948fd</td>\n",
       "      <td>310965</td>\n",
       "      <td>Ibuprofen 200 MG Oral Tablet</td>\n",
       "      <td>NaN</td>\n",
       "      <td>NaN</td>\n",
       "    </tr>\n",
       "  </tbody>\n",
       "</table>\n",
       "<p>4781956 rows × 8 columns</p>\n",
       "</div>"
      ],
      "text/plain": [
       "              START        STOP                               PATIENT  \\\n",
       "0        1999-05-05         NaN  660bec03-9e58-47f2-98b9-2f1c564f3838   \n",
       "1        2010-08-02         NaN  660bec03-9e58-47f2-98b9-2f1c564f3838   \n",
       "2        2012-11-21  2012-12-14  660bec03-9e58-47f2-98b9-2f1c564f3838   \n",
       "3        2013-12-04  2013-12-19  660bec03-9e58-47f2-98b9-2f1c564f3838   \n",
       "4        2014-07-03  2014-07-18  660bec03-9e58-47f2-98b9-2f1c564f3838   \n",
       "...             ...         ...                                   ...   \n",
       "4781951  2007-12-05  2007-12-20  0d8cca67-1970-4f15-b639-426a387686f4   \n",
       "4781952  2013-08-04  2013-08-20  0d8cca67-1970-4f15-b639-426a387686f4   \n",
       "4781953  2017-02-22         NaN  0d8cca67-1970-4f15-b639-426a387686f4   \n",
       "4781954  1945-01-04         NaN  de7374d5-f181-45ba-9a00-9bcddc45c2a7   \n",
       "4781955  2012-11-25  2012-12-21  de7374d5-f181-45ba-9a00-9bcddc45c2a7   \n",
       "\n",
       "                                    ENCOUNTER     CODE  \\\n",
       "0        815494d8-2570-4918-a8de-fd4000d8100f   834060   \n",
       "1        815494d8-2570-4918-a8de-fd4000d8100f   748879   \n",
       "2        dbe481ce-b961-4f43-ac0a-07fa8cfa8bdd   310965   \n",
       "3        b5f1ab7e-5e67-4070-bcf0-52451eb20551  1020137   \n",
       "4        b7958497-2bfd-4863-9f09-0e0acff7b2a4   824184   \n",
       "...                                       ...      ...   \n",
       "4781951  b7f1c680-b752-4149-9908-011788927514   849574   \n",
       "4781952  094c34eb-da3c-468a-aa5b-7d6d42f7483a   824184   \n",
       "4781953  4806ee17-ea8c-4f5a-b45b-c343cb3ef4c1   849574   \n",
       "4781954  56f9b8f1-8867-42fa-b796-d3953ff4653a   834060   \n",
       "4781955  0f0c2769-6955-485c-95eb-8a5866b948fd   310965   \n",
       "\n",
       "                                               DESCRIPTION   REASONCODE  \\\n",
       "0                            Penicillin V Potassium 250 MG   43878008.0   \n",
       "1                               Levora 0.15/30 28 Day Pack          NaN   \n",
       "2                             Ibuprofen 200 MG Oral Tablet          NaN   \n",
       "3                    Dextromethorphan Hydrobromide 1 MG/ML   10509002.0   \n",
       "4         Amoxicillin 250 MG / Clavulanate 125 MG [Augm...  444814009.0   \n",
       "...                                                    ...          ...   \n",
       "4781951                 Naproxen sodium 220 MG Oral Tablet          NaN   \n",
       "4781952   Amoxicillin 250 MG / Clavulanate 125 MG [Augm...   75498004.0   \n",
       "4781953                 Naproxen sodium 220 MG Oral Tablet          NaN   \n",
       "4781954                      Penicillin V Potassium 250 MG   43878008.0   \n",
       "4781955                       Ibuprofen 200 MG Oral Tablet          NaN   \n",
       "\n",
       "                            REASONDESCRIPTION  \n",
       "0        Streptococcal sore throat (disorder)  \n",
       "1                                         NaN  \n",
       "2                                         NaN  \n",
       "3                 Acute bronchitis (disorder)  \n",
       "4                  Viral sinusitis (disorder)  \n",
       "...                                       ...  \n",
       "4781951                                   NaN  \n",
       "4781952  Acute bacterial sinusitis (disorder)  \n",
       "4781953                                   NaN  \n",
       "4781954  Streptococcal sore throat (disorder)  \n",
       "4781955                                   NaN  \n",
       "\n",
       "[4781956 rows x 8 columns]"
      ]
     },
     "metadata": {},
     "output_type": "display_data"
    }
   ],
   "source": [
    "print(medications.shape)\n",
    "display(medications)"
   ]
  },
  {
   "cell_type": "markdown",
   "id": "18a33880",
   "metadata": {},
   "source": [
    "#### Tidy table"
   ]
  },
  {
   "cell_type": "markdown",
   "id": "fc92e662",
   "metadata": {},
   "source": [
    "Make sure `START` and `STOP` are datetime"
   ]
  },
  {
   "cell_type": "code",
   "execution_count": 66,
   "id": "a42cafc4",
   "metadata": {
    "collapsed": true
   },
   "outputs": [
    {
     "name": "stdout",
     "output_type": "stream",
     "text": [
      "False\n",
      "False\n",
      "True\n",
      "True\n"
     ]
    }
   ],
   "source": [
    "print(pd.api.types.is_datetime64_any_dtype(medications['START']))\n",
    "print(pd.api.types.is_datetime64_any_dtype(medications.STOP))\n",
    "\n",
    "medications['START'] = pd.to_datetime(medications.START)\n",
    "\n",
    "medications['STOP'] = pd.to_datetime(medications.STOP)\n",
    "\n",
    "print(pd.api.types.is_datetime64_any_dtype(medications['START']))\n",
    "print(pd.api.types.is_datetime64_any_dtype(medications.STOP))"
   ]
  },
  {
   "cell_type": "markdown",
   "id": "dcebd0dc",
   "metadata": {},
   "source": [
    "Check what unique values for `DESCRIPTION` (allergy types) there are."
   ]
  },
  {
   "cell_type": "code",
   "execution_count": 67,
   "id": "589543a9",
   "metadata": {
    "collapsed": true
   },
   "outputs": [
    {
     "name": "stdout",
     "output_type": "stream",
     "text": [
      "Medications type:\n",
      " ['Nexplanon 68 MG Drug Implant', 'diphenhydrAMINE Hydrochloride 25 MG Oral Tablet', 'Methotrexate 10 MG [Trexall]', 'Memantine hydrochloride 2 MG/ML [Namenda]', 'Errin 28 Day Pack', 'Ibuprofen 200 MG Oral Tablet', 'Fexofenadine hydrochloride 60 MG Oral Tablet', 'insulin human  isophane 70 UNT/ML / Regular Insulin  Human 30 UNT/ML Injectable Suspension [Humulin]', 'Galantamine 4 MG [Razadyne]', '1 ML Depo-Provera 150 MG/ML Injection', 'Colchicine 0.6 MG [Colcrys]', 'Alendronic acid 10 MG [Fosamax]', 'Levora 0.15/30 28 Day Pack', 'Clopidogrel 75 MG Oral Tablet', 'Mestranol / Norethynodrel [Enovid]', 'Ortho Tri-Cyclen 28 Day Pack', 'Penicillin V Potassium 500 MG', 'Amlodipine 5 MG Oral Tablet', 'Nitroglycerin 0.4 MG/ACTUAT [Nitrolingual]', 'Acetaminophen 325 MG / oxyCODONE Hydrochloride 2.5 MG [Percocet]', '3 ML Amiodarone hydrocholoride 50 MG/ML Prefilled Syringe', 'NITROFURANTOIN  MACROCRYSTALS 50 MG [Macrodantin]', 'Natazia 28 Day Pack', 'Donepezil hydrochloride 10 MG / Memantine hydrochloride 28 MG [Namzaric]', 'cetirizine hydrochloride 5 MG Oral Tablet', 'Tacrine 10 MG Oral Capsule', '0.65 ML depo-subQ provera 160 MG/ML Prefilled Syringe', '3 ML liraglutide 6 MG/ML Pen Injector', 'Atomoxetine 100 MG [Strattera]', 'Liletta 52 MG Intrauterine System', 'Levonorgestrel 0.00354 MG/HR [Norplant]', 'cetirizine hydrochloride 10 MG Oral Tablet', 'Terfenadine 60 MG Oral Tablet', 'Fluticasone propionate 0.25 MG/ACTUAT / salmeterol 0.05 MG/ACTUAT [Advair]', 'Atorvastatin 80 MG Oral Tablet', 'Fexofenadine hydrochloride 30 MG Oral Tablet', 'Mirena 52 MG Intrauterine System', 'Trinessa 28 Day Pack', 'canagliflozin 100 MG Oral Tablet', 'Hydrocortisone 10 MG/ML Topical Cream', 'Loratadine 10 MG Oral Tablet', 'Acetaminophen 325 MG Oral Tablet', 'Camila 28 Day Pack', '24 HR Metformin hydrochloride 500 MG Extended Release Oral Tablet', 'Methylphenidate Hydrochloride 20 MG [Ritalin]', 'NuvaRing 0.12/0.015 MG per 24HR 21 Day Vaginal Ring', ' Amoxicillin 250 MG / Clavulanate 125 MG [Augmentin]', 'Yaz 28 Day Pack', 'Acetaminophen 160 MG Oral Tablet', 'Acetaminophen 325 MG / oxyCODONE Hydrochloride 5 MG Oral Tablet', 'Dextromethorphan Hydrobromide 1 MG/ML', 'Ibuprofen 100 MG Oral Tablet', 'Leucovorin 100 MG Injection', 'predniSONE 2.5 MG [Deltasone]', 'Jolivette 28 Day Pack', 'Acetaminophen 325 MG / oxyCODONE Hydrochloride 5 MG [Percocet]', 'Insulin Lispro 100 UNT/ML Injectable Solution [Humalog]', 'predniSONE 5 MG Oral Tablet', 'Astemizole 10 MG Oral Tablet', 'pregabalin 100 MG [Lyrica]', 'Meperidine Hydrochloride 50 MG Oral Tablet', 'Cefuroxime 250 MG Oral Tablet', 'Chlorpheniramine 8 MG Oral Tablet', 'oxaliplatin 5 MG/ML [Eloxatin]', 'Doxycycline Monohydrate 100 MG Oral Tablet', 'DULoxetine 20 MG [Cymbalta]', 'Donepezil hydrochloride 10 MG [Aricept]', 'cycloSPORINE  modified 100 MG [Neoral]', 'Alteplase 1 MG/ML Injectable Solution', '1 ML Epinephrine 1 MG/ML Prefilled Syringe', 'Simvastatin 20 MG Oral Tablet', 'Etoposide 100 MG Injection', 'Seasonique 91 Day Pack', 'Acetaminophen 325 MG / HYDROcodone Bitartrate 7.5 MG Oral Tablet', 'Phenazopyridine hydrochloride 100 MG [Pyridium]', 'Naproxen sodium 220 MG [Aleve]', 'Naproxen sodium 550 MG [Anaprox]', 'Chlorpheniramine 2 MG Chewable Tablet', 'oxyCODONE Hydrochloride 15 MG [OxyCONTIN]', '120 ACTUAT Fluticasone propionate 0.044 MG/ACTUAT Metered Dose Inhaler', 'Implanon 68 MG Drug Implant', 'Captopril 25 MG Oral Tablet', 'Kyleena 19.5 MG Intrauterine System', 'Donepezil hydrochloride 23 MG [Aricept]', 'Nitrofurantoin 5 MG/ML [Furadantin]', '12 HR Cefaclor 500 MG Extended Release Oral Tablet', 'Acetaminophen 300 MG / HYDROcodone Bitartrate 5 MG [Vicodin]', 'Allopurinol 100 MG [Zyloprim]', 'Aspirin 81 MG Oral Tablet', 'Xulane 150/35 MCG/Day Weekly Transdermal System', 'Norinyl 1+50 28 Day Pack', 'Acetaminophen 160 MG', 'Penicillin V Potassium 250 MG', 'Loratadine 5 MG Chewable Tablet', 'PACLitaxel 100 MG Injection', 'Amoxicillin 200 MG Oral Tablet', 'Milnacipran hydrochloride 100 MG [Savella]', 'Naproxen sodium 220 MG Oral Tablet', 'Estrostep Fe 28 Day Pack', 'Amoxicillin 500 MG Oral Tablet', 'Cisplatin 50 MG Injection', '200 ACTUAT Albuterol 0.09 MG/ACTUAT Metered Dose Inhaler', '0.3 ML EPINEPHrine 0.5 MG/ML Auto-Injector', 'Atropine Sulfate 1 MG/ML Injectable Solution']\n",
      "Medications type number:\n",
      " 104\n"
     ]
    }
   ],
   "source": [
    "print('Medications type:\\n', list(set(medications.DESCRIPTION)))\n",
    "print('Medications type number:\\n', len(list(set(medications.DESCRIPTION))))"
   ]
  },
  {
   "cell_type": "markdown",
   "id": "ad7f6d46",
   "metadata": {},
   "source": [
    "Remove entries with no `START`, no `PATIENT` id and no `CODE`."
   ]
  },
  {
   "cell_type": "code",
   "execution_count": 68,
   "id": "5acb3c2e",
   "metadata": {
    "collapsed": true
   },
   "outputs": [
    {
     "name": "stdout",
     "output_type": "stream",
     "text": [
      "Dimensions of table:\n",
      " (4781956, 8)\n",
      "Dimensions of table:\n",
      " (4781956, 8)\n"
     ]
    }
   ],
   "source": [
    "print('Dimensions of table:\\n', medications.shape)\n",
    "medications = medications[~medications.START.isna()]\n",
    "medications = medications[~medications.CODE.isna()]\n",
    "medications = medications[~medications.PATIENT.isna()]\n",
    "print('Dimensions of table:\\n', medications.shape)"
   ]
  },
  {
   "cell_type": "code",
   "execution_count": 69,
   "id": "6d93041d",
   "metadata": {
    "collapsed": true
   },
   "outputs": [
    {
     "name": "stdout",
     "output_type": "stream",
     "text": [
      "All patients are in valid format?\n",
      " True\n"
     ]
    }
   ],
   "source": [
    "valid_patient_format = medications.PATIENT.apply(lambda x: \n",
    "                                               bool(\n",
    "                                                   re.match(\n",
    "                                                       r'^[0-9a-z]{8}-[0-9a-z]{4}-[0-9a-z]{4}-[0-9a-z]{4}-[0-9a-z]{12}$', \n",
    "                                                       str(x))))\n",
    "print('All patients are in valid format?\\n', valid_patient_format.all())"
   ]
  },
  {
   "cell_type": "markdown",
   "id": "5a892ba0",
   "metadata": {},
   "source": [
    "#### Save tidy table"
   ]
  },
  {
   "cell_type": "code",
   "execution_count": 70,
   "id": "8970f02c",
   "metadata": {},
   "outputs": [],
   "source": [
    "# open a file, where you ant to store the data\n",
    "file = open('medications.pkl', 'wb')\n",
    "\n",
    "# dump information to that file\n",
    "pickle.dump(medications, file)\n",
    "\n",
    "# Clean up space\n",
    "del medications, file"
   ]
  },
  {
   "cell_type": "markdown",
   "id": "94a61941",
   "metadata": {},
   "source": [
    "---"
   ]
  },
  {
   "cell_type": "markdown",
   "id": "434b1ab8",
   "metadata": {},
   "source": [
    "### Observations"
   ]
  },
  {
   "cell_type": "markdown",
   "id": "303b006a",
   "metadata": {},
   "source": [
    "#### Read table"
   ]
  },
  {
   "cell_type": "code",
   "execution_count": 71,
   "id": "710941bc",
   "metadata": {
    "collapsed": true
   },
   "outputs": [
    {
     "name": "stdout",
     "output_type": "stream",
     "text": [
      "Reading table observations - 1 ...\n",
      "Table number 1 appended!\n",
      "Total table size is 5383318.\n",
      " ------------------------\n",
      "Reading table observations - 2 ...\n",
      "Appending table numer 2...\n"
     ]
    },
    {
     "name": "stderr",
     "output_type": "stream",
     "text": [
      "C:\\Users\\Vassil\\AppData\\Local\\Temp\\ipykernel_8936\\3657629342.py:28: FutureWarning: The frame.append method is deprecated and will be removed from pandas in a future version. Use pandas.concat instead.\n",
      "  df = df.append (\n"
     ]
    },
    {
     "name": "stdout",
     "output_type": "stream",
     "text": [
      "Table number 2 appended!\n",
      "Total table size is 10775414.\n",
      " ------------------------\n",
      "Reading table observations - 3 ...\n",
      "Appending table numer 3...\n"
     ]
    },
    {
     "name": "stderr",
     "output_type": "stream",
     "text": [
      "C:\\Users\\Vassil\\AppData\\Local\\Temp\\ipykernel_8936\\3657629342.py:28: FutureWarning: The frame.append method is deprecated and will be removed from pandas in a future version. Use pandas.concat instead.\n",
      "  df = df.append (\n"
     ]
    },
    {
     "name": "stdout",
     "output_type": "stream",
     "text": [
      "Table number 3 appended!\n",
      "Total table size is 16150709.\n",
      " ------------------------\n",
      "Reading table observations - 4 ...\n",
      "Appending table numer 4...\n"
     ]
    },
    {
     "name": "stderr",
     "output_type": "stream",
     "text": [
      "C:\\Users\\Vassil\\AppData\\Local\\Temp\\ipykernel_8936\\3657629342.py:28: FutureWarning: The frame.append method is deprecated and will be removed from pandas in a future version. Use pandas.concat instead.\n",
      "  df = df.append (\n"
     ]
    },
    {
     "name": "stdout",
     "output_type": "stream",
     "text": [
      "Table number 4 appended!\n",
      "Total table size is 21554009.\n",
      " ------------------------\n",
      "Reading table observations - 5 ...\n",
      "Appending table numer 5...\n"
     ]
    },
    {
     "name": "stderr",
     "output_type": "stream",
     "text": [
      "C:\\Users\\Vassil\\AppData\\Local\\Temp\\ipykernel_8936\\3657629342.py:28: FutureWarning: The frame.append method is deprecated and will be removed from pandas in a future version. Use pandas.concat instead.\n",
      "  df = df.append (\n"
     ]
    },
    {
     "name": "stdout",
     "output_type": "stream",
     "text": [
      "Table number 5 appended!\n",
      "Total table size is 26937767.\n",
      " ------------------------\n",
      "Reading table observations - 6 ...\n",
      "Appending table numer 6...\n"
     ]
    },
    {
     "name": "stderr",
     "output_type": "stream",
     "text": [
      "C:\\Users\\Vassil\\AppData\\Local\\Temp\\ipykernel_8936\\3657629342.py:28: FutureWarning: The frame.append method is deprecated and will be removed from pandas in a future version. Use pandas.concat instead.\n",
      "  df = df.append (\n"
     ]
    },
    {
     "name": "stdout",
     "output_type": "stream",
     "text": [
      "Table number 6 appended!\n",
      "Total table size is 32313238.\n",
      " ------------------------\n",
      "Reading table observations - 7 ...\n",
      "Appending table numer 7...\n"
     ]
    },
    {
     "name": "stderr",
     "output_type": "stream",
     "text": [
      "C:\\Users\\Vassil\\AppData\\Local\\Temp\\ipykernel_8936\\3657629342.py:28: FutureWarning: The frame.append method is deprecated and will be removed from pandas in a future version. Use pandas.concat instead.\n",
      "  df = df.append (\n"
     ]
    },
    {
     "name": "stdout",
     "output_type": "stream",
     "text": [
      "Table number 7 appended!\n",
      "Total table size is 37685281.\n",
      " ------------------------\n",
      "Reading table observations - 8 ...\n",
      "Appending table numer 8...\n"
     ]
    },
    {
     "name": "stderr",
     "output_type": "stream",
     "text": [
      "C:\\Users\\Vassil\\AppData\\Local\\Temp\\ipykernel_8936\\3657629342.py:28: FutureWarning: The frame.append method is deprecated and will be removed from pandas in a future version. Use pandas.concat instead.\n",
      "  df = df.append (\n"
     ]
    },
    {
     "name": "stdout",
     "output_type": "stream",
     "text": [
      "Table number 8 appended!\n",
      "Total table size is 43071108.\n",
      " ------------------------\n",
      "Reading table observations - 9 ...\n",
      "Appending table numer 9...\n"
     ]
    },
    {
     "name": "stderr",
     "output_type": "stream",
     "text": [
      "C:\\Users\\Vassil\\AppData\\Local\\Temp\\ipykernel_8936\\3657629342.py:28: FutureWarning: The frame.append method is deprecated and will be removed from pandas in a future version. Use pandas.concat instead.\n",
      "  df = df.append (\n"
     ]
    },
    {
     "name": "stdout",
     "output_type": "stream",
     "text": [
      "Table number 9 appended!\n",
      "Total table size is 48468155.\n",
      " ------------------------\n",
      "Reading table observations - 10 ...\n",
      "Appending table numer 10...\n"
     ]
    },
    {
     "name": "stderr",
     "output_type": "stream",
     "text": [
      "C:\\Users\\Vassil\\AppData\\Local\\Temp\\ipykernel_8936\\3657629342.py:28: FutureWarning: The frame.append method is deprecated and will be removed from pandas in a future version. Use pandas.concat instead.\n",
      "  df = df.append (\n"
     ]
    },
    {
     "name": "stdout",
     "output_type": "stream",
     "text": [
      "Table number 10 appended!\n",
      "Total table size is 53869420.\n",
      " ------------------------\n",
      "Reading table observations - 11 ...\n",
      "Appending table numer 11...\n"
     ]
    },
    {
     "name": "stderr",
     "output_type": "stream",
     "text": [
      "C:\\Users\\Vassil\\AppData\\Local\\Temp\\ipykernel_8936\\3657629342.py:28: FutureWarning: The frame.append method is deprecated and will be removed from pandas in a future version. Use pandas.concat instead.\n",
      "  df = df.append (\n"
     ]
    },
    {
     "name": "stdout",
     "output_type": "stream",
     "text": [
      "Table number 11 appended!\n",
      "Total table size is 59272063.\n",
      " ------------------------\n",
      "Reading table observations - 12 ...\n",
      "Appending table numer 12...\n"
     ]
    },
    {
     "name": "stderr",
     "output_type": "stream",
     "text": [
      "C:\\Users\\Vassil\\AppData\\Local\\Temp\\ipykernel_8936\\3657629342.py:28: FutureWarning: The frame.append method is deprecated and will be removed from pandas in a future version. Use pandas.concat instead.\n",
      "  df = df.append (\n"
     ]
    },
    {
     "name": "stdout",
     "output_type": "stream",
     "text": [
      "Table number 12 appended!\n",
      "Total table size is 64654706.\n",
      " ------------------------\n"
     ]
    }
   ],
   "source": [
    "observations = read_table_csv('observations')"
   ]
  },
  {
   "cell_type": "code",
   "execution_count": 72,
   "id": "daca5e22",
   "metadata": {
    "collapsed": true
   },
   "outputs": [
    {
     "name": "stdout",
     "output_type": "stream",
     "text": [
      "(64654706, 7)\n"
     ]
    },
    {
     "data": {
      "text/html": [
       "<div>\n",
       "<style scoped>\n",
       "    .dataframe tbody tr th:only-of-type {\n",
       "        vertical-align: middle;\n",
       "    }\n",
       "\n",
       "    .dataframe tbody tr th {\n",
       "        vertical-align: top;\n",
       "    }\n",
       "\n",
       "    .dataframe thead th {\n",
       "        text-align: right;\n",
       "    }\n",
       "</style>\n",
       "<table border=\"1\" class=\"dataframe\">\n",
       "  <thead>\n",
       "    <tr style=\"text-align: right;\">\n",
       "      <th></th>\n",
       "      <th>DATE</th>\n",
       "      <th>PATIENT</th>\n",
       "      <th>ENCOUNTER</th>\n",
       "      <th>CODE</th>\n",
       "      <th>DESCRIPTION</th>\n",
       "      <th>VALUE</th>\n",
       "      <th>UNITS</th>\n",
       "    </tr>\n",
       "  </thead>\n",
       "  <tbody>\n",
       "    <tr>\n",
       "      <th>0</th>\n",
       "      <td>2011-07-02</td>\n",
       "      <td>33f33990-ae8b-4be8-938f-e47ad473abfe</td>\n",
       "      <td>673daa98-67e9-4e80-be46-a0b547533653</td>\n",
       "      <td>8302-2</td>\n",
       "      <td>Body Height</td>\n",
       "      <td>175.76</td>\n",
       "      <td>cm</td>\n",
       "    </tr>\n",
       "    <tr>\n",
       "      <th>1</th>\n",
       "      <td>2011-03-12</td>\n",
       "      <td>36d131ee-dd5b-4acb-acbe-19961c32c099</td>\n",
       "      <td>bac018de-114a-481d-b4f9-87980d7ef8b8</td>\n",
       "      <td>8302-2</td>\n",
       "      <td>Body Height</td>\n",
       "      <td>167.28</td>\n",
       "      <td>cm</td>\n",
       "    </tr>\n",
       "    <tr>\n",
       "      <th>2</th>\n",
       "      <td>2011-07-02</td>\n",
       "      <td>33f33990-ae8b-4be8-938f-e47ad473abfe</td>\n",
       "      <td>673daa98-67e9-4e80-be46-a0b547533653</td>\n",
       "      <td>29463-7</td>\n",
       "      <td>Body Weight</td>\n",
       "      <td>56.51</td>\n",
       "      <td>kg</td>\n",
       "    </tr>\n",
       "    <tr>\n",
       "      <th>3</th>\n",
       "      <td>2011-03-12</td>\n",
       "      <td>36d131ee-dd5b-4acb-acbe-19961c32c099</td>\n",
       "      <td>bac018de-114a-481d-b4f9-87980d7ef8b8</td>\n",
       "      <td>29463-7</td>\n",
       "      <td>Body Weight</td>\n",
       "      <td>63.35</td>\n",
       "      <td>kg</td>\n",
       "    </tr>\n",
       "    <tr>\n",
       "      <th>4</th>\n",
       "      <td>2011-07-02</td>\n",
       "      <td>33f33990-ae8b-4be8-938f-e47ad473abfe</td>\n",
       "      <td>673daa98-67e9-4e80-be46-a0b547533653</td>\n",
       "      <td>39156-5</td>\n",
       "      <td>Body Mass Index</td>\n",
       "      <td>18.29</td>\n",
       "      <td>kg/m2</td>\n",
       "    </tr>\n",
       "    <tr>\n",
       "      <th>...</th>\n",
       "      <td>...</td>\n",
       "      <td>...</td>\n",
       "      <td>...</td>\n",
       "      <td>...</td>\n",
       "      <td>...</td>\n",
       "      <td>...</td>\n",
       "      <td>...</td>\n",
       "    </tr>\n",
       "    <tr>\n",
       "      <th>64654701</th>\n",
       "      <td>2016-12-11</td>\n",
       "      <td>de7374d5-f181-45ba-9a00-9bcddc45c2a7</td>\n",
       "      <td>8d27b288-7709-49bd-9f00-6bcbcb42b647</td>\n",
       "      <td>49765-1</td>\n",
       "      <td>Calcium</td>\n",
       "      <td>10.19</td>\n",
       "      <td>mg/dL</td>\n",
       "    </tr>\n",
       "    <tr>\n",
       "      <th>64654702</th>\n",
       "      <td>2016-12-11</td>\n",
       "      <td>de7374d5-f181-45ba-9a00-9bcddc45c2a7</td>\n",
       "      <td>8d27b288-7709-49bd-9f00-6bcbcb42b647</td>\n",
       "      <td>2947-0</td>\n",
       "      <td>Sodium</td>\n",
       "      <td>144.0</td>\n",
       "      <td>mmol/L</td>\n",
       "    </tr>\n",
       "    <tr>\n",
       "      <th>64654703</th>\n",
       "      <td>2016-12-11</td>\n",
       "      <td>de7374d5-f181-45ba-9a00-9bcddc45c2a7</td>\n",
       "      <td>8d27b288-7709-49bd-9f00-6bcbcb42b647</td>\n",
       "      <td>6298-4</td>\n",
       "      <td>Potassium</td>\n",
       "      <td>4.55</td>\n",
       "      <td>mmol/L</td>\n",
       "    </tr>\n",
       "    <tr>\n",
       "      <th>64654704</th>\n",
       "      <td>2016-12-11</td>\n",
       "      <td>de7374d5-f181-45ba-9a00-9bcddc45c2a7</td>\n",
       "      <td>8d27b288-7709-49bd-9f00-6bcbcb42b647</td>\n",
       "      <td>2069-3</td>\n",
       "      <td>Chloride</td>\n",
       "      <td>110.0</td>\n",
       "      <td>mmol/L</td>\n",
       "    </tr>\n",
       "    <tr>\n",
       "      <th>64654705</th>\n",
       "      <td>2016-12-11</td>\n",
       "      <td>de7374d5-f181-45ba-9a00-9bcddc45c2a7</td>\n",
       "      <td>8d27b288-7709-49bd-9f00-6bcbcb42b647</td>\n",
       "      <td>20565-8</td>\n",
       "      <td>Carbon Dioxide</td>\n",
       "      <td>26.0</td>\n",
       "      <td>mmol/L</td>\n",
       "    </tr>\n",
       "  </tbody>\n",
       "</table>\n",
       "<p>64654706 rows × 7 columns</p>\n",
       "</div>"
      ],
      "text/plain": [
       "                DATE                               PATIENT  \\\n",
       "0         2011-07-02  33f33990-ae8b-4be8-938f-e47ad473abfe   \n",
       "1         2011-03-12  36d131ee-dd5b-4acb-acbe-19961c32c099   \n",
       "2         2011-07-02  33f33990-ae8b-4be8-938f-e47ad473abfe   \n",
       "3         2011-03-12  36d131ee-dd5b-4acb-acbe-19961c32c099   \n",
       "4         2011-07-02  33f33990-ae8b-4be8-938f-e47ad473abfe   \n",
       "...              ...                                   ...   \n",
       "64654701  2016-12-11  de7374d5-f181-45ba-9a00-9bcddc45c2a7   \n",
       "64654702  2016-12-11  de7374d5-f181-45ba-9a00-9bcddc45c2a7   \n",
       "64654703  2016-12-11  de7374d5-f181-45ba-9a00-9bcddc45c2a7   \n",
       "64654704  2016-12-11  de7374d5-f181-45ba-9a00-9bcddc45c2a7   \n",
       "64654705  2016-12-11  de7374d5-f181-45ba-9a00-9bcddc45c2a7   \n",
       "\n",
       "                                     ENCOUNTER     CODE      DESCRIPTION  \\\n",
       "0         673daa98-67e9-4e80-be46-a0b547533653   8302-2      Body Height   \n",
       "1         bac018de-114a-481d-b4f9-87980d7ef8b8   8302-2      Body Height   \n",
       "2         673daa98-67e9-4e80-be46-a0b547533653  29463-7      Body Weight   \n",
       "3         bac018de-114a-481d-b4f9-87980d7ef8b8  29463-7      Body Weight   \n",
       "4         673daa98-67e9-4e80-be46-a0b547533653  39156-5  Body Mass Index   \n",
       "...                                        ...      ...              ...   \n",
       "64654701  8d27b288-7709-49bd-9f00-6bcbcb42b647  49765-1          Calcium   \n",
       "64654702  8d27b288-7709-49bd-9f00-6bcbcb42b647   2947-0           Sodium   \n",
       "64654703  8d27b288-7709-49bd-9f00-6bcbcb42b647   6298-4        Potassium   \n",
       "64654704  8d27b288-7709-49bd-9f00-6bcbcb42b647   2069-3         Chloride   \n",
       "64654705  8d27b288-7709-49bd-9f00-6bcbcb42b647  20565-8   Carbon Dioxide   \n",
       "\n",
       "           VALUE   UNITS  \n",
       "0         175.76      cm  \n",
       "1         167.28      cm  \n",
       "2          56.51      kg  \n",
       "3          63.35      kg  \n",
       "4          18.29   kg/m2  \n",
       "...          ...     ...  \n",
       "64654701   10.19   mg/dL  \n",
       "64654702   144.0  mmol/L  \n",
       "64654703    4.55  mmol/L  \n",
       "64654704   110.0  mmol/L  \n",
       "64654705    26.0  mmol/L  \n",
       "\n",
       "[64654706 rows x 7 columns]"
      ]
     },
     "metadata": {},
     "output_type": "display_data"
    }
   ],
   "source": [
    "print(observations.shape)\n",
    "display(observations)"
   ]
  },
  {
   "cell_type": "markdown",
   "id": "c33521a6",
   "metadata": {},
   "source": [
    "#### Tidy table"
   ]
  },
  {
   "cell_type": "markdown",
   "id": "deb3b444",
   "metadata": {},
   "source": [
    "Make sure `DATE` is datetime."
   ]
  },
  {
   "cell_type": "code",
   "execution_count": 73,
   "id": "d4a681bc",
   "metadata": {
    "collapsed": true
   },
   "outputs": [
    {
     "name": "stdout",
     "output_type": "stream",
     "text": [
      "False\n",
      "True\n"
     ]
    }
   ],
   "source": [
    "print(pd.api.types.is_datetime64_any_dtype(observations['DATE']))\n",
    "observations['DATE'] = pd.to_datetime(observations.DATE)\n",
    "print(pd.api.types.is_datetime64_any_dtype(observations['DATE']))"
   ]
  },
  {
   "cell_type": "markdown",
   "id": "04591b13",
   "metadata": {},
   "source": [
    "Check what unique values for `DESCRIPTION` (allergy types) there are."
   ]
  },
  {
   "cell_type": "code",
   "execution_count": 74,
   "id": "efc4e73d",
   "metadata": {
    "collapsed": true
   },
   "outputs": [
    {
     "name": "stdout",
     "output_type": "stream",
     "text": [
      "Observations types:\n",
      " ['Myocardial Infarction', 'Polyp size greatest dimension by CAP cancer protocols', 'Abuse Status [OMAHA]', 'Systolic Blood Pressure', 'Egg white IgE Ab in Serum', 'DXA [T-score] Bone density', 'Small cell carcinoma of lung (disorder)', 'FEV1/\\u200bFVC', 'Diastolic Blood Pressure', 'Triglycerides', 'Stroke', \"Familial Alzheimer's disease of early onset (disorder)\", 'End stage renal disease', 'Latex IgE Ab in Serum', 'Low Density Lipoprotein Cholesterol', 'Wheat IgE Ab in Serum', 'HIV status', 'Total Cholesterol', 'Body Weight', 'Cladosporium herbarum IgE Ab in Serum', 'Percentage area affected by eczema Trunk', 'Drug overdose', 'Carbon Dioxide', 'Honey bee IgE Ab in Serum', 'Housing status', 'Calcium', 'Percentage area affected by eczema Upper extremitiy - bilateral', 'Body Height', 'White oak IgE Ab in Serum', 'Walnut IgE Ab in Serum', 'Peanut IgE Ab in Serum', \"Alzheimer's disease (disorder)\", 'Are you covered by health insurance or some other kind of health care plan [PhenX]', 'Soybean IgE Ab in Serum', 'High Density Lipoprotein Cholesterol', 'Chronic obstructive bronchitis (disorder)', 'Cow milk IgE Ab in Serum', 'Cat dander IgE Ab in Serum', 'Codfish IgE Ab in Serum', 'Glucose', 'Pneumonia', 'Percentage area affected by eczema Head and Neck', 'Creatinine', 'Percentage area affected by eczema Lower extremitiy - bilateral', 'Pulmonary emphysema (disorder)', 'Shrimp IgE Ab in Serum', 'American house dust mite IgE Ab in Serum', 'Total score [MMSE]', 'Sexual orientation', 'Non-small cell lung cancer (disorder)', 'Urea Nitrogen', 'History of Hospitalizations+\\u200bOutpatient visits', 'Common Ragweed IgE Ab in Serum', 'Potassium', 'Oral temperature', 'Sodium', 'Body Mass Index', 'Hemoglobin.gastrointestinal [Presence] in Stool by Immunologic method', 'Estimated Glomerular Filtration Rate', 'Microalbumin Creatine Ratio', 'Chloride', 'Cardiac Arrest', 'Hemoglobin A1c/Hemoglobin.total in Blood']\n",
      "Observations type number:\n",
      " 63\n"
     ]
    }
   ],
   "source": [
    "print('Observations types:\\n', list(set(observations.DESCRIPTION)))\n",
    "print('Observations type number:\\n', len(list(set(observations.DESCRIPTION))))"
   ]
  },
  {
   "cell_type": "markdown",
   "id": "d5a71cb0",
   "metadata": {},
   "source": [
    "Remove entries with no `DATE`, no `PATIENT` id and no `CODE`."
   ]
  },
  {
   "cell_type": "code",
   "execution_count": 75,
   "id": "d1feb869",
   "metadata": {
    "collapsed": true
   },
   "outputs": [
    {
     "name": "stdout",
     "output_type": "stream",
     "text": [
      "Dimensions of table:\n",
      " (64654706, 7)\n",
      "Dimensions of table:\n",
      " (64654706, 7)\n"
     ]
    }
   ],
   "source": [
    "print('Dimensions of table:\\n', observations.shape)\n",
    "observations = observations[~observations.DATE.isna()]\n",
    "observations = observations[~observations.CODE.isna()]\n",
    "observations = observations[~observations.PATIENT.isna()]\n",
    "print('Dimensions of table:\\n', observations.shape)"
   ]
  },
  {
   "cell_type": "code",
   "execution_count": 76,
   "id": "c8276636",
   "metadata": {
    "collapsed": true
   },
   "outputs": [
    {
     "name": "stdout",
     "output_type": "stream",
     "text": [
      "All patients are in valid format?\n",
      " True\n"
     ]
    }
   ],
   "source": [
    "valid_patient_format = observations.PATIENT.apply(lambda x: \n",
    "                                               bool(\n",
    "                                                   re.match(\n",
    "                                                       r'^[0-9a-z]{8}-[0-9a-z]{4}-[0-9a-z]{4}-[0-9a-z]{4}-[0-9a-z]{12}$', \n",
    "                                                       str(x))))\n",
    "print('All patients are in valid format?\\n', valid_patient_format.all())"
   ]
  },
  {
   "cell_type": "markdown",
   "id": "2094dacd",
   "metadata": {},
   "source": [
    "#### Save tidy table"
   ]
  },
  {
   "cell_type": "code",
   "execution_count": 77,
   "id": "3b4cac0b",
   "metadata": {},
   "outputs": [],
   "source": [
    "# open a file, where you ant to store the data\n",
    "file = open('observations.pkl', 'wb')\n",
    "\n",
    "# dump information to that file\n",
    "pickle.dump(observations, file)\n",
    "\n",
    "# Clean up space\n",
    "del observations, file"
   ]
  },
  {
   "cell_type": "markdown",
   "id": "1c0d687e",
   "metadata": {},
   "source": [
    "---"
   ]
  },
  {
   "cell_type": "markdown",
   "id": "2cc7c663",
   "metadata": {},
   "source": [
    "### Patients"
   ]
  },
  {
   "cell_type": "markdown",
   "id": "8eaab013",
   "metadata": {},
   "source": [
    "#### Read table"
   ]
  },
  {
   "cell_type": "code",
   "execution_count": 19,
   "id": "59179607",
   "metadata": {
    "collapsed": true
   },
   "outputs": [
    {
     "name": "stdout",
     "output_type": "stream",
     "text": [
      "Reading table patients - 1 ...\n"
     ]
    },
    {
     "name": "stderr",
     "output_type": "stream",
     "text": [
      "C:\\Users\\Vassil\\AppData\\Local\\Temp\\ipykernel_3644\\2170467750.py:14: FutureWarning: The error_bad_lines argument has been deprecated and will be removed in a future version. Use on_bad_lines in the future.\n",
      "\n",
      "\n",
      "  df = pd.read_csv (path, error_bad_lines=False, warn_bad_lines=True)\n",
      "C:\\Users\\Vassil\\AppData\\Local\\Temp\\ipykernel_3644\\2170467750.py:14: FutureWarning: The warn_bad_lines argument has been deprecated and will be removed in a future version. Use on_bad_lines in the future.\n",
      "\n",
      "\n",
      "  df = pd.read_csv (path, error_bad_lines=False, warn_bad_lines=True)\n",
      "C:\\Users\\Vassil\\AppData\\Local\\Temp\\ipykernel_3644\\2170467750.py:14: DtypeWarning: Columns (17,18,19,20,21,22,23,24,25,26,27,28,29,30,31,32) have mixed types. Specify dtype option on import or set low_memory=False.\n",
      "  df = pd.read_csv (path, error_bad_lines=False, warn_bad_lines=True)\n"
     ]
    },
    {
     "name": "stdout",
     "output_type": "stream",
     "text": [
      "Table number 1 appended!\n",
      "Total table size is 132896.\n",
      " ------------------------\n",
      "Reading table patients - 2 ...\n"
     ]
    },
    {
     "name": "stderr",
     "output_type": "stream",
     "text": [
      "C:\\Users\\Vassil\\AppData\\Local\\Temp\\ipykernel_3644\\2170467750.py:17: FutureWarning: The error_bad_lines argument has been deprecated and will be removed in a future version. Use on_bad_lines in the future.\n",
      "\n",
      "\n",
      "  a = pd.read_csv (path, error_bad_lines=False, warn_bad_lines=True)\n",
      "C:\\Users\\Vassil\\AppData\\Local\\Temp\\ipykernel_3644\\2170467750.py:17: FutureWarning: The warn_bad_lines argument has been deprecated and will be removed in a future version. Use on_bad_lines in the future.\n",
      "\n",
      "\n",
      "  a = pd.read_csv (path, error_bad_lines=False, warn_bad_lines=True)\n",
      "Skipping line 1189: expected 17 fields, saw 32\n",
      "Skipping line 1238: expected 17 fields, saw 33\n",
      "Skipping line 1462: expected 17 fields, saw 18\n",
      "Skipping line 1507: expected 17 fields, saw 22\n",
      "Skipping line 2385: expected 17 fields, saw 23\n",
      "Skipping line 2411: expected 17 fields, saw 23\n",
      "Skipping line 3219: expected 17 fields, saw 30\n",
      "Skipping line 3228: expected 17 fields, saw 18\n",
      "Skipping line 3237: expected 17 fields, saw 33\n",
      "Skipping line 3299: expected 17 fields, saw 33\n",
      "Skipping line 3410: expected 17 fields, saw 18\n",
      "Skipping line 3441: expected 17 fields, saw 22\n",
      "Skipping line 3478: expected 17 fields, saw 18\n",
      "Skipping line 3725: expected 17 fields, saw 33\n",
      "Skipping line 3939: expected 17 fields, saw 33\n",
      "Skipping line 3991: expected 17 fields, saw 33\n",
      "Skipping line 4071: expected 17 fields, saw 33\n",
      "Skipping line 5566: expected 17 fields, saw 33\n",
      "Skipping line 6210: expected 17 fields, saw 33\n",
      "Skipping line 6713: expected 17 fields, saw 33\n",
      "Skipping line 7392: expected 17 fields, saw 33\n",
      "Skipping line 7526: expected 17 fields, saw 18\n",
      "Skipping line 7654: expected 17 fields, saw 33\n",
      "Skipping line 9596: expected 17 fields, saw 33\n",
      "Skipping line 10676: expected 17 fields, saw 33\n",
      "Skipping line 11089: expected 17 fields, saw 33\n",
      "Skipping line 11234: expected 17 fields, saw 20\n",
      "Skipping line 11577: expected 17 fields, saw 33\n",
      "Skipping line 11670: expected 17 fields, saw 28\n",
      "Skipping line 12655: expected 17 fields, saw 33\n",
      "Skipping line 12916: expected 17 fields, saw 18\n",
      "Skipping line 12983: expected 17 fields, saw 29\n",
      "Skipping line 13151: expected 17 fields, saw 32\n",
      "Skipping line 15592: expected 17 fields, saw 20\n",
      "Skipping line 15868: expected 17 fields, saw 33\n",
      "Skipping line 15885: expected 17 fields, saw 31\n",
      "Skipping line 15971: expected 17 fields, saw 22\n",
      "Skipping line 16566: expected 17 fields, saw 27\n",
      "Skipping line 17297: expected 17 fields, saw 19\n",
      "Skipping line 17654: expected 17 fields, saw 33\n",
      "Skipping line 18716: expected 17 fields, saw 20\n",
      "Skipping line 19839: expected 17 fields, saw 29\n",
      "Skipping line 21459: expected 17 fields, saw 19\n",
      "Skipping line 22270: expected 17 fields, saw 18\n",
      "Skipping line 24803: expected 17 fields, saw 33\n",
      "Skipping line 25628: expected 17 fields, saw 33\n",
      "Skipping line 26002: expected 17 fields, saw 32\n",
      "Skipping line 28777: expected 17 fields, saw 18\n",
      "Skipping line 29745: expected 17 fields, saw 33\n",
      "Skipping line 30018: expected 17 fields, saw 20\n",
      "Skipping line 30056: expected 17 fields, saw 33\n",
      "Skipping line 31330: expected 17 fields, saw 33\n",
      "\n",
      "Skipping line 34638: expected 17 fields, saw 33\n",
      "Skipping line 35903: expected 17 fields, saw 33\n",
      "Skipping line 36847: expected 17 fields, saw 18\n",
      "Skipping line 37310: expected 17 fields, saw 23\n",
      "Skipping line 37756: expected 17 fields, saw 33\n",
      "Skipping line 37857: expected 17 fields, saw 29\n",
      "Skipping line 38343: expected 17 fields, saw 33\n",
      "Skipping line 39279: expected 17 fields, saw 33\n",
      "Skipping line 39420: expected 17 fields, saw 20\n",
      "Skipping line 41117: expected 17 fields, saw 26\n",
      "Skipping line 41168: expected 17 fields, saw 22\n",
      "Skipping line 41255: expected 17 fields, saw 20\n",
      "Skipping line 42141: expected 17 fields, saw 31\n",
      "Skipping line 42466: expected 17 fields, saw 31\n",
      "Skipping line 43034: expected 17 fields, saw 19\n",
      "Skipping line 44832: expected 17 fields, saw 20\n",
      "Skipping line 45415: expected 17 fields, saw 22\n",
      "Skipping line 45962: expected 17 fields, saw 20\n",
      "Skipping line 46303: expected 17 fields, saw 33\n",
      "Skipping line 46621: expected 17 fields, saw 33\n",
      "Skipping line 48565: expected 17 fields, saw 20\n",
      "Skipping line 51321: expected 17 fields, saw 28\n",
      "Skipping line 51955: expected 17 fields, saw 20\n",
      "Skipping line 53040: expected 17 fields, saw 32\n",
      "Skipping line 55255: expected 17 fields, saw 24\n",
      "Skipping line 56729: expected 17 fields, saw 24\n",
      "Skipping line 57028: expected 17 fields, saw 27\n",
      "Skipping line 60761: expected 17 fields, saw 18\n",
      "Skipping line 61198: expected 17 fields, saw 18\n",
      "Skipping line 62940: expected 17 fields, saw 29\n",
      "Skipping line 65121: expected 17 fields, saw 26\n",
      "\n",
      "Skipping line 66153: expected 17 fields, saw 33\n",
      "Skipping line 67376: expected 17 fields, saw 33\n",
      "Skipping line 67626: expected 17 fields, saw 18\n",
      "Skipping line 67855: expected 17 fields, saw 30\n",
      "Skipping line 68517: expected 17 fields, saw 24\n",
      "Skipping line 68864: expected 17 fields, saw 33\n",
      "Skipping line 69143: expected 17 fields, saw 27\n",
      "Skipping line 69258: expected 17 fields, saw 26\n",
      "Skipping line 69648: expected 17 fields, saw 19\n",
      "Skipping line 70275: expected 17 fields, saw 18\n",
      "Skipping line 70477: expected 17 fields, saw 32\n",
      "Skipping line 71329: expected 17 fields, saw 22\n",
      "Skipping line 72167: expected 17 fields, saw 32\n",
      "Skipping line 72377: expected 17 fields, saw 33\n",
      "Skipping line 72392: expected 17 fields, saw 33\n",
      "Skipping line 73376: expected 17 fields, saw 33\n",
      "Skipping line 74392: expected 17 fields, saw 26\n",
      "Skipping line 74809: expected 17 fields, saw 33\n",
      "Skipping line 76280: expected 17 fields, saw 33\n",
      "Skipping line 76563: expected 17 fields, saw 33\n",
      "Skipping line 76614: expected 17 fields, saw 33\n",
      "Skipping line 79232: expected 17 fields, saw 29\n",
      "Skipping line 80835: expected 17 fields, saw 33\n",
      "Skipping line 83886: expected 17 fields, saw 32\n",
      "Skipping line 84283: expected 17 fields, saw 23\n",
      "Skipping line 85640: expected 17 fields, saw 33\n",
      "Skipping line 86183: expected 17 fields, saw 28\n",
      "Skipping line 90468: expected 17 fields, saw 24\n",
      "Skipping line 91252: expected 17 fields, saw 33\n",
      "Skipping line 93536: expected 17 fields, saw 18\n",
      "Skipping line 93767: expected 17 fields, saw 33\n",
      "Skipping line 93990: expected 17 fields, saw 18\n",
      "Skipping line 94443: expected 17 fields, saw 22\n",
      "Skipping line 95911: expected 17 fields, saw 20\n",
      "Skipping line 97051: expected 17 fields, saw 33\n",
      "\n",
      "Skipping line 100632: expected 17 fields, saw 33\n",
      "Skipping line 100880: expected 17 fields, saw 25\n",
      "Skipping line 101434: expected 17 fields, saw 18\n",
      "Skipping line 103232: expected 17 fields, saw 20\n",
      "Skipping line 103811: expected 17 fields, saw 33\n",
      "Skipping line 104158: expected 17 fields, saw 32\n",
      "Skipping line 106934: expected 17 fields, saw 33\n",
      "Skipping line 107335: expected 17 fields, saw 33\n",
      "Skipping line 108085: expected 17 fields, saw 18\n",
      "Skipping line 109527: expected 17 fields, saw 18\n",
      "Skipping line 110475: expected 17 fields, saw 33\n",
      "Skipping line 110702: expected 17 fields, saw 29\n",
      "Skipping line 110860: expected 17 fields, saw 18\n",
      "Skipping line 111462: expected 17 fields, saw 20\n",
      "Skipping line 112006: expected 17 fields, saw 29\n",
      "Skipping line 114155: expected 17 fields, saw 18\n",
      "Skipping line 117827: expected 17 fields, saw 33\n",
      "Skipping line 117907: expected 17 fields, saw 23\n",
      "Skipping line 119336: expected 17 fields, saw 33\n",
      "Skipping line 119393: expected 17 fields, saw 18\n",
      "Skipping line 120122: expected 17 fields, saw 33\n",
      "Skipping line 120408: expected 17 fields, saw 18\n",
      "Skipping line 120545: expected 17 fields, saw 33\n",
      "Skipping line 121802: expected 17 fields, saw 33\n",
      "Skipping line 122750: expected 17 fields, saw 29\n",
      "Skipping line 122819: expected 17 fields, saw 33\n",
      "Skipping line 123579: expected 17 fields, saw 28\n",
      "Skipping line 124150: expected 17 fields, saw 30\n",
      "Skipping line 124815: expected 17 fields, saw 31\n",
      "Skipping line 125120: expected 17 fields, saw 33\n",
      "Skipping line 125919: expected 17 fields, saw 28\n",
      "Skipping line 126018: expected 17 fields, saw 18\n",
      "Skipping line 126694: expected 17 fields, saw 32\n",
      "Skipping line 126697: expected 17 fields, saw 25\n",
      "Skipping line 126710: expected 17 fields, saw 32\n",
      "Skipping line 128489: expected 17 fields, saw 33\n",
      "Skipping line 130760: expected 17 fields, saw 24\n",
      "Skipping line 130930: expected 17 fields, saw 33\n",
      "Skipping line 131151: expected 17 fields, saw 29\n",
      "\n",
      "Skipping line 132835: expected 17 fields, saw 33\n",
      "\n"
     ]
    },
    {
     "name": "stdout",
     "output_type": "stream",
     "text": [
      "Appending table numer 2...\n",
      "Table number 2 appended!\n",
      "Total table size is 266158.\n",
      " ------------------------\n",
      "Reading table patients - 3 ...\n"
     ]
    },
    {
     "name": "stderr",
     "output_type": "stream",
     "text": [
      "C:\\Users\\Vassil\\AppData\\Local\\Temp\\ipykernel_3644\\2170467750.py:22: FutureWarning: The frame.append method is deprecated and will be removed from pandas in a future version. Use pandas.concat instead.\n",
      "  df = df.append (\n",
      "C:\\Users\\Vassil\\AppData\\Local\\Temp\\ipykernel_3644\\2170467750.py:17: FutureWarning: The error_bad_lines argument has been deprecated and will be removed in a future version. Use on_bad_lines in the future.\n",
      "\n",
      "\n",
      "  a = pd.read_csv (path, error_bad_lines=False, warn_bad_lines=True)\n",
      "C:\\Users\\Vassil\\AppData\\Local\\Temp\\ipykernel_3644\\2170467750.py:17: FutureWarning: The warn_bad_lines argument has been deprecated and will be removed in a future version. Use on_bad_lines in the future.\n",
      "\n",
      "\n",
      "  a = pd.read_csv (path, error_bad_lines=False, warn_bad_lines=True)\n",
      "Skipping line 1265: expected 17 fields, saw 40\n",
      "Skipping line 1756: expected 17 fields, saw 31\n",
      "Skipping line 1980: expected 17 fields, saw 33\n",
      "Skipping line 2348: expected 17 fields, saw 33\n",
      "Skipping line 2821: expected 17 fields, saw 33\n",
      "Skipping line 3266: expected 17 fields, saw 18\n",
      "Skipping line 3277: expected 17 fields, saw 33\n",
      "Skipping line 3352: expected 17 fields, saw 32\n",
      "Skipping line 3385: expected 17 fields, saw 29\n",
      "Skipping line 3406: expected 17 fields, saw 28\n",
      "Skipping line 3414: expected 17 fields, saw 33\n",
      "Skipping line 3420: expected 17 fields, saw 28\n",
      "Skipping line 3437: expected 17 fields, saw 18\n",
      "Skipping line 3484: expected 17 fields, saw 22\n",
      "Skipping line 3499: expected 17 fields, saw 18\n",
      "Skipping line 3648: expected 17 fields, saw 33\n",
      "Skipping line 3858: expected 17 fields, saw 33\n",
      "Skipping line 3935: expected 17 fields, saw 20\n",
      "Skipping line 3975: expected 17 fields, saw 33\n",
      "Skipping line 4374: expected 17 fields, saw 33\n",
      "Skipping line 4865: expected 17 fields, saw 33\n",
      "Skipping line 5017: expected 17 fields, saw 33\n",
      "Skipping line 6289: expected 17 fields, saw 18\n",
      "Skipping line 8380: expected 17 fields, saw 19\n",
      "Skipping line 8742: expected 17 fields, saw 33\n",
      "Skipping line 10813: expected 17 fields, saw 22\n",
      "Skipping line 11769: expected 17 fields, saw 31\n",
      "Skipping line 12479: expected 17 fields, saw 22\n",
      "Skipping line 14103: expected 17 fields, saw 32\n",
      "Skipping line 14119: expected 17 fields, saw 30\n",
      "Skipping line 14824: expected 17 fields, saw 25\n",
      "Skipping line 14933: expected 17 fields, saw 22\n",
      "Skipping line 15684: expected 17 fields, saw 23\n",
      "Skipping line 16299: expected 17 fields, saw 33\n",
      "Skipping line 16817: expected 17 fields, saw 33\n",
      "Skipping line 16973: expected 17 fields, saw 27\n",
      "Skipping line 17994: expected 17 fields, saw 20\n",
      "Skipping line 20850: expected 17 fields, saw 33\n",
      "Skipping line 21112: expected 17 fields, saw 33\n",
      "Skipping line 21349: expected 17 fields, saw 18\n",
      "Skipping line 24028: expected 17 fields, saw 25\n",
      "Skipping line 24370: expected 17 fields, saw 32\n",
      "Skipping line 24595: expected 17 fields, saw 22\n",
      "Skipping line 25562: expected 17 fields, saw 33\n",
      "Skipping line 26694: expected 17 fields, saw 33\n",
      "Skipping line 27235: expected 17 fields, saw 18\n",
      "Skipping line 28599: expected 17 fields, saw 33\n",
      "Skipping line 29169: expected 17 fields, saw 33\n",
      "Skipping line 29369: expected 17 fields, saw 22\n",
      "Skipping line 30885: expected 17 fields, saw 33\n",
      "Skipping line 31280: expected 17 fields, saw 18\n",
      "\n",
      "Skipping line 33188: expected 17 fields, saw 33\n",
      "Skipping line 34220: expected 17 fields, saw 32\n",
      "Skipping line 34936: expected 17 fields, saw 31\n",
      "Skipping line 36900: expected 17 fields, saw 22\n",
      "Skipping line 37750: expected 17 fields, saw 23\n",
      "Skipping line 38037: expected 17 fields, saw 33\n",
      "Skipping line 38662: expected 17 fields, saw 18\n",
      "Skipping line 39472: expected 17 fields, saw 32\n",
      "Skipping line 40100: expected 17 fields, saw 33\n",
      "Skipping line 41000: expected 17 fields, saw 33\n",
      "Skipping line 41172: expected 17 fields, saw 33\n",
      "Skipping line 41863: expected 17 fields, saw 33\n",
      "Skipping line 42070: expected 17 fields, saw 21\n",
      "Skipping line 43389: expected 17 fields, saw 18\n",
      "Skipping line 47782: expected 17 fields, saw 33\n",
      "Skipping line 47927: expected 17 fields, saw 33\n",
      "Skipping line 47937: expected 17 fields, saw 22\n",
      "Skipping line 48173: expected 17 fields, saw 30\n",
      "Skipping line 49768: expected 17 fields, saw 30\n",
      "Skipping line 51402: expected 17 fields, saw 29\n",
      "Skipping line 53840: expected 17 fields, saw 18\n",
      "Skipping line 54827: expected 17 fields, saw 33\n",
      "Skipping line 54871: expected 17 fields, saw 33\n",
      "Skipping line 56310: expected 17 fields, saw 19\n",
      "Skipping line 56677: expected 17 fields, saw 32\n",
      "Skipping line 58323: expected 17 fields, saw 26\n",
      "Skipping line 58613: expected 17 fields, saw 18\n",
      "Skipping line 59669: expected 17 fields, saw 18\n",
      "Skipping line 60551: expected 17 fields, saw 33\n",
      "Skipping line 61472: expected 17 fields, saw 18\n",
      "Skipping line 62830: expected 17 fields, saw 30\n",
      "Skipping line 64589: expected 17 fields, saw 28\n",
      "Skipping line 64953: expected 17 fields, saw 33\n",
      "Skipping line 65087: expected 17 fields, saw 32\n",
      "Skipping line 65519: expected 17 fields, saw 25\n",
      "\n",
      "Skipping line 66743: expected 17 fields, saw 25\n",
      "Skipping line 66924: expected 17 fields, saw 18\n",
      "Skipping line 74492: expected 17 fields, saw 33\n",
      "Skipping line 75293: expected 17 fields, saw 24\n",
      "Skipping line 77181: expected 17 fields, saw 33\n",
      "Skipping line 79172: expected 17 fields, saw 31\n",
      "Skipping line 80602: expected 17 fields, saw 18\n",
      "Skipping line 81570: expected 17 fields, saw 18\n",
      "Skipping line 82563: expected 17 fields, saw 18\n",
      "Skipping line 83783: expected 17 fields, saw 22\n",
      "Skipping line 85568: expected 17 fields, saw 32\n",
      "Skipping line 86798: expected 17 fields, saw 20\n",
      "Skipping line 86989: expected 17 fields, saw 22\n",
      "Skipping line 90546: expected 17 fields, saw 30\n",
      "Skipping line 90709: expected 17 fields, saw 33\n",
      "Skipping line 90868: expected 17 fields, saw 33\n",
      "Skipping line 92195: expected 17 fields, saw 18\n",
      "Skipping line 94645: expected 17 fields, saw 33\n",
      "Skipping line 95620: expected 17 fields, saw 18\n",
      "Skipping line 95999: expected 17 fields, saw 26\n",
      "Skipping line 96283: expected 17 fields, saw 18\n",
      "Skipping line 96697: expected 17 fields, saw 18\n",
      "Skipping line 97008: expected 17 fields, saw 33\n",
      "Skipping line 98301: expected 17 fields, saw 18\n",
      "\n",
      "Skipping line 98620: expected 17 fields, saw 29\n",
      "Skipping line 98735: expected 17 fields, saw 22\n",
      "Skipping line 98826: expected 17 fields, saw 22\n",
      "Skipping line 100453: expected 17 fields, saw 20\n",
      "Skipping line 100818: expected 17 fields, saw 33\n",
      "Skipping line 101750: expected 17 fields, saw 18\n",
      "Skipping line 102693: expected 17 fields, saw 33\n",
      "Skipping line 103594: expected 17 fields, saw 28\n",
      "Skipping line 103662: expected 17 fields, saw 18\n",
      "Skipping line 103693: expected 17 fields, saw 33\n",
      "Skipping line 104277: expected 17 fields, saw 31\n",
      "Skipping line 104424: expected 17 fields, saw 22\n",
      "Skipping line 105178: expected 17 fields, saw 25\n",
      "Skipping line 105489: expected 17 fields, saw 29\n",
      "Skipping line 105573: expected 17 fields, saw 33\n",
      "Skipping line 107522: expected 17 fields, saw 18\n",
      "Skipping line 108780: expected 17 fields, saw 29\n",
      "Skipping line 108867: expected 17 fields, saw 33\n",
      "Skipping line 109725: expected 17 fields, saw 19\n",
      "Skipping line 110282: expected 17 fields, saw 33\n",
      "Skipping line 110938: expected 17 fields, saw 33\n",
      "Skipping line 111550: expected 17 fields, saw 18\n",
      "Skipping line 111577: expected 17 fields, saw 33\n",
      "Skipping line 112964: expected 17 fields, saw 33\n",
      "Skipping line 113037: expected 17 fields, saw 32\n",
      "Skipping line 113310: expected 17 fields, saw 30\n",
      "Skipping line 113687: expected 17 fields, saw 31\n",
      "Skipping line 115001: expected 17 fields, saw 24\n",
      "Skipping line 115435: expected 17 fields, saw 32\n",
      "Skipping line 116061: expected 17 fields, saw 18\n",
      "Skipping line 117911: expected 17 fields, saw 20\n",
      "Skipping line 118105: expected 17 fields, saw 33\n",
      "Skipping line 118992: expected 17 fields, saw 18\n",
      "Skipping line 119362: expected 17 fields, saw 18\n",
      "Skipping line 121712: expected 17 fields, saw 29\n",
      "Skipping line 122999: expected 17 fields, saw 23\n",
      "Skipping line 126128: expected 17 fields, saw 33\n",
      "Skipping line 127143: expected 17 fields, saw 21\n",
      "Skipping line 129674: expected 17 fields, saw 26\n",
      "\n",
      "Skipping line 131931: expected 17 fields, saw 23\n",
      "Skipping line 131960: expected 17 fields, saw 33\n",
      "\n"
     ]
    },
    {
     "name": "stdout",
     "output_type": "stream",
     "text": [
      "Appending table numer 3...\n",
      "Table number 3 appended!\n",
      "Total table size is 398688.\n",
      " ------------------------\n",
      "Reading table patients - 4 ...\n"
     ]
    },
    {
     "name": "stderr",
     "output_type": "stream",
     "text": [
      "C:\\Users\\Vassil\\AppData\\Local\\Temp\\ipykernel_3644\\2170467750.py:22: FutureWarning: The frame.append method is deprecated and will be removed from pandas in a future version. Use pandas.concat instead.\n",
      "  df = df.append (\n",
      "C:\\Users\\Vassil\\AppData\\Local\\Temp\\ipykernel_3644\\2170467750.py:17: FutureWarning: The error_bad_lines argument has been deprecated and will be removed in a future version. Use on_bad_lines in the future.\n",
      "\n",
      "\n",
      "  a = pd.read_csv (path, error_bad_lines=False, warn_bad_lines=True)\n",
      "C:\\Users\\Vassil\\AppData\\Local\\Temp\\ipykernel_3644\\2170467750.py:17: FutureWarning: The warn_bad_lines argument has been deprecated and will be removed in a future version. Use on_bad_lines in the future.\n",
      "\n",
      "\n",
      "  a = pd.read_csv (path, error_bad_lines=False, warn_bad_lines=True)\n",
      "C:\\Users\\Vassil\\AppData\\Local\\Temp\\ipykernel_3644\\2170467750.py:17: DtypeWarning: Columns (22,23,25,32) have mixed types. Specify dtype option on import or set low_memory=False.\n",
      "  a = pd.read_csv (path, error_bad_lines=False, warn_bad_lines=True)\n"
     ]
    },
    {
     "name": "stdout",
     "output_type": "stream",
     "text": [
      "Appending table numer 4...\n",
      "Table number 4 appended!\n",
      "Total table size is 531516.\n",
      " ------------------------\n",
      "Reading table patients - 5 ...\n"
     ]
    },
    {
     "name": "stderr",
     "output_type": "stream",
     "text": [
      "C:\\Users\\Vassil\\AppData\\Local\\Temp\\ipykernel_3644\\2170467750.py:22: FutureWarning: The frame.append method is deprecated and will be removed from pandas in a future version. Use pandas.concat instead.\n",
      "  df = df.append (\n",
      "C:\\Users\\Vassil\\AppData\\Local\\Temp\\ipykernel_3644\\2170467750.py:17: FutureWarning: The error_bad_lines argument has been deprecated and will be removed in a future version. Use on_bad_lines in the future.\n",
      "\n",
      "\n",
      "  a = pd.read_csv (path, error_bad_lines=False, warn_bad_lines=True)\n",
      "C:\\Users\\Vassil\\AppData\\Local\\Temp\\ipykernel_3644\\2170467750.py:17: FutureWarning: The warn_bad_lines argument has been deprecated and will be removed in a future version. Use on_bad_lines in the future.\n",
      "\n",
      "\n",
      "  a = pd.read_csv (path, error_bad_lines=False, warn_bad_lines=True)\n",
      "Skipping line 310: expected 17 fields, saw 30\n",
      "Skipping line 2703: expected 17 fields, saw 30\n",
      "Skipping line 2837: expected 17 fields, saw 18\n",
      "Skipping line 2883: expected 17 fields, saw 33\n",
      "Skipping line 2899: expected 17 fields, saw 18\n",
      "Skipping line 3139: expected 17 fields, saw 24\n",
      "Skipping line 3320: expected 17 fields, saw 33\n",
      "Skipping line 3365: expected 17 fields, saw 22\n",
      "Skipping line 3390: expected 17 fields, saw 23\n",
      "Skipping line 3430: expected 17 fields, saw 20\n",
      "Skipping line 3439: expected 17 fields, saw 28\n",
      "Skipping line 3464: expected 17 fields, saw 33\n",
      "Skipping line 3488: expected 17 fields, saw 21\n",
      "Skipping line 3490: expected 17 fields, saw 19\n",
      "Skipping line 3522: expected 17 fields, saw 18\n",
      "Skipping line 3538: expected 17 fields, saw 27\n",
      "Skipping line 3604: expected 17 fields, saw 33\n",
      "Skipping line 3636: expected 17 fields, saw 33\n",
      "Skipping line 4046: expected 17 fields, saw 20\n",
      "Skipping line 4047: expected 17 fields, saw 26\n",
      "Skipping line 4123: expected 17 fields, saw 24\n",
      "Skipping line 4245: expected 17 fields, saw 32\n",
      "Skipping line 4646: expected 17 fields, saw 32\n",
      "Skipping line 4780: expected 17 fields, saw 33\n",
      "Skipping line 5026: expected 17 fields, saw 22\n",
      "Skipping line 6842: expected 17 fields, saw 18\n",
      "Skipping line 7566: expected 17 fields, saw 33\n",
      "Skipping line 7884: expected 17 fields, saw 21\n",
      "Skipping line 9388: expected 17 fields, saw 33\n",
      "Skipping line 10146: expected 17 fields, saw 24\n",
      "Skipping line 10373: expected 17 fields, saw 18\n",
      "Skipping line 10799: expected 17 fields, saw 33\n",
      "Skipping line 11157: expected 17 fields, saw 29\n",
      "Skipping line 11226: expected 17 fields, saw 20\n",
      "Skipping line 11614: expected 17 fields, saw 22\n",
      "Skipping line 11898: expected 17 fields, saw 29\n",
      "Skipping line 12646: expected 17 fields, saw 27\n",
      "Skipping line 13827: expected 17 fields, saw 22\n",
      "Skipping line 16348: expected 17 fields, saw 33\n",
      "Skipping line 17272: expected 17 fields, saw 18\n",
      "Skipping line 18210: expected 17 fields, saw 33\n",
      "Skipping line 18305: expected 17 fields, saw 31\n",
      "Skipping line 19318: expected 17 fields, saw 29\n",
      "Skipping line 20438: expected 17 fields, saw 27\n",
      "Skipping line 20932: expected 17 fields, saw 26\n",
      "Skipping line 21295: expected 17 fields, saw 25\n",
      "Skipping line 22039: expected 17 fields, saw 18\n",
      "Skipping line 22155: expected 17 fields, saw 33\n",
      "Skipping line 23138: expected 17 fields, saw 28\n",
      "Skipping line 23469: expected 17 fields, saw 33\n",
      "Skipping line 23801: expected 17 fields, saw 33\n",
      "Skipping line 24304: expected 17 fields, saw 19\n",
      "Skipping line 27909: expected 17 fields, saw 27\n",
      "Skipping line 28205: expected 17 fields, saw 33\n",
      "Skipping line 28513: expected 17 fields, saw 23\n",
      "Skipping line 30743: expected 17 fields, saw 32\n",
      "Skipping line 30928: expected 17 fields, saw 22\n",
      "Skipping line 31252: expected 17 fields, saw 18\n",
      "Skipping line 31811: expected 17 fields, saw 32\n",
      "Skipping line 31837: expected 17 fields, saw 18\n",
      "Skipping line 31883: expected 17 fields, saw 33\n",
      "Skipping line 32194: expected 17 fields, saw 19\n",
      "Skipping line 32557: expected 17 fields, saw 22\n",
      "\n",
      "Skipping line 33533: expected 17 fields, saw 33\n",
      "Skipping line 35704: expected 17 fields, saw 33\n",
      "Skipping line 35733: expected 17 fields, saw 33\n",
      "Skipping line 36068: expected 17 fields, saw 33\n",
      "Skipping line 36610: expected 17 fields, saw 30\n",
      "Skipping line 38774: expected 17 fields, saw 24\n",
      "Skipping line 39424: expected 17 fields, saw 29\n",
      "Skipping line 40630: expected 17 fields, saw 33\n",
      "Skipping line 40933: expected 17 fields, saw 25\n",
      "Skipping line 41512: expected 17 fields, saw 24\n",
      "Skipping line 43023: expected 17 fields, saw 33\n",
      "Skipping line 43329: expected 17 fields, saw 22\n",
      "Skipping line 46688: expected 17 fields, saw 24\n",
      "Skipping line 46775: expected 17 fields, saw 29\n",
      "Skipping line 47964: expected 17 fields, saw 22\n",
      "Skipping line 48188: expected 17 fields, saw 26\n",
      "Skipping line 48311: expected 17 fields, saw 22\n",
      "Skipping line 51163: expected 17 fields, saw 31\n",
      "Skipping line 51405: expected 17 fields, saw 31\n",
      "Skipping line 51543: expected 17 fields, saw 26\n",
      "Skipping line 51895: expected 17 fields, saw 20\n",
      "Skipping line 52165: expected 17 fields, saw 22\n",
      "Skipping line 53655: expected 17 fields, saw 33\n",
      "Skipping line 53657: expected 17 fields, saw 33\n",
      "Skipping line 53923: expected 17 fields, saw 33\n",
      "Skipping line 54308: expected 17 fields, saw 33\n",
      "Skipping line 54861: expected 17 fields, saw 18\n",
      "Skipping line 56056: expected 17 fields, saw 22\n",
      "Skipping line 56136: expected 17 fields, saw 20\n",
      "Skipping line 57111: expected 17 fields, saw 33\n",
      "Skipping line 58137: expected 17 fields, saw 33\n",
      "Skipping line 58213: expected 17 fields, saw 33\n",
      "Skipping line 58341: expected 17 fields, saw 29\n",
      "Skipping line 58627: expected 17 fields, saw 25\n",
      "Skipping line 61241: expected 17 fields, saw 32\n",
      "Skipping line 62570: expected 17 fields, saw 33\n",
      "Skipping line 62680: expected 17 fields, saw 18\n",
      "Skipping line 62921: expected 17 fields, saw 28\n",
      "Skipping line 63223: expected 17 fields, saw 32\n",
      "Skipping line 65273: expected 17 fields, saw 18\n",
      "\n",
      "Skipping line 65708: expected 17 fields, saw 23\n",
      "Skipping line 65846: expected 17 fields, saw 33\n",
      "Skipping line 68445: expected 17 fields, saw 18\n",
      "Skipping line 69728: expected 17 fields, saw 18\n",
      "Skipping line 70198: expected 17 fields, saw 33\n",
      "Skipping line 72873: expected 17 fields, saw 22\n",
      "Skipping line 75635: expected 17 fields, saw 22\n",
      "Skipping line 76024: expected 17 fields, saw 23\n",
      "Skipping line 77532: expected 17 fields, saw 33\n",
      "Skipping line 77586: expected 17 fields, saw 24\n",
      "Skipping line 78435: expected 17 fields, saw 20\n",
      "Skipping line 79522: expected 17 fields, saw 21\n",
      "Skipping line 81581: expected 17 fields, saw 33\n",
      "Skipping line 82294: expected 17 fields, saw 19\n",
      "Skipping line 82443: expected 17 fields, saw 28\n",
      "Skipping line 82924: expected 17 fields, saw 22\n",
      "Skipping line 84062: expected 17 fields, saw 32\n",
      "Skipping line 84073: expected 17 fields, saw 20\n",
      "Skipping line 87783: expected 17 fields, saw 26\n",
      "Skipping line 87871: expected 17 fields, saw 33\n",
      "Skipping line 88105: expected 17 fields, saw 31\n",
      "Skipping line 88530: expected 17 fields, saw 18\n",
      "Skipping line 88987: expected 17 fields, saw 19\n",
      "Skipping line 90382: expected 17 fields, saw 20\n",
      "Skipping line 92510: expected 17 fields, saw 27\n",
      "Skipping line 92929: expected 17 fields, saw 20\n",
      "Skipping line 93992: expected 17 fields, saw 18\n",
      "Skipping line 94586: expected 17 fields, saw 33\n",
      "Skipping line 94940: expected 17 fields, saw 28\n",
      "Skipping line 95040: expected 17 fields, saw 33\n",
      "Skipping line 95256: expected 17 fields, saw 28\n",
      "Skipping line 95592: expected 17 fields, saw 25\n",
      "Skipping line 96503: expected 17 fields, saw 33\n",
      "Skipping line 96529: expected 17 fields, saw 33\n",
      "Skipping line 96664: expected 17 fields, saw 22\n",
      "Skipping line 97158: expected 17 fields, saw 18\n",
      "Skipping line 98307: expected 17 fields, saw 33\n",
      "\n",
      "Skipping line 99121: expected 17 fields, saw 18\n",
      "Skipping line 100834: expected 17 fields, saw 33\n",
      "Skipping line 102106: expected 17 fields, saw 32\n",
      "Skipping line 103271: expected 17 fields, saw 33\n",
      "Skipping line 103625: expected 17 fields, saw 20\n",
      "Skipping line 104839: expected 17 fields, saw 33\n",
      "Skipping line 105183: expected 17 fields, saw 19\n",
      "Skipping line 105592: expected 17 fields, saw 29\n",
      "Skipping line 105956: expected 17 fields, saw 19\n",
      "Skipping line 108137: expected 17 fields, saw 33\n",
      "Skipping line 108220: expected 17 fields, saw 19\n",
      "Skipping line 108617: expected 17 fields, saw 22\n",
      "Skipping line 112239: expected 17 fields, saw 18\n",
      "Skipping line 114679: expected 17 fields, saw 24\n",
      "Skipping line 114841: expected 17 fields, saw 31\n",
      "Skipping line 114845: expected 17 fields, saw 28\n",
      "Skipping line 114892: expected 17 fields, saw 21\n",
      "Skipping line 115464: expected 17 fields, saw 25\n",
      "Skipping line 116066: expected 17 fields, saw 33\n",
      "Skipping line 116273: expected 17 fields, saw 18\n",
      "Skipping line 116726: expected 17 fields, saw 19\n",
      "Skipping line 117466: expected 17 fields, saw 29\n",
      "Skipping line 118470: expected 17 fields, saw 33\n",
      "Skipping line 119938: expected 17 fields, saw 23\n",
      "Skipping line 119989: expected 17 fields, saw 18\n",
      "Skipping line 120879: expected 17 fields, saw 31\n",
      "Skipping line 121792: expected 17 fields, saw 22\n",
      "Skipping line 121805: expected 17 fields, saw 18\n",
      "Skipping line 121922: expected 17 fields, saw 33\n",
      "Skipping line 122368: expected 17 fields, saw 33\n",
      "Skipping line 122640: expected 17 fields, saw 22\n",
      "Skipping line 123797: expected 17 fields, saw 33\n",
      "Skipping line 124281: expected 17 fields, saw 20\n",
      "Skipping line 124426: expected 17 fields, saw 33\n",
      "Skipping line 125003: expected 17 fields, saw 25\n",
      "Skipping line 125490: expected 17 fields, saw 33\n",
      "Skipping line 125679: expected 17 fields, saw 22\n",
      "Skipping line 126096: expected 17 fields, saw 24\n",
      "Skipping line 126372: expected 17 fields, saw 31\n",
      "Skipping line 128970: expected 17 fields, saw 20\n",
      "Skipping line 129511: expected 17 fields, saw 29\n",
      "Skipping line 129552: expected 17 fields, saw 24\n",
      "Skipping line 129559: expected 17 fields, saw 23\n",
      "Skipping line 130258: expected 17 fields, saw 32\n",
      "Skipping line 130735: expected 17 fields, saw 18\n",
      "Skipping line 130737: expected 17 fields, saw 22\n",
      "\n"
     ]
    },
    {
     "name": "stdout",
     "output_type": "stream",
     "text": [
      "Appending table numer 5...\n",
      "Table number 5 appended!\n",
      "Total table size is 664773.\n",
      " ------------------------\n",
      "Reading table patients - 6 ...\n"
     ]
    },
    {
     "name": "stderr",
     "output_type": "stream",
     "text": [
      "C:\\Users\\Vassil\\AppData\\Local\\Temp\\ipykernel_3644\\2170467750.py:22: FutureWarning: The frame.append method is deprecated and will be removed from pandas in a future version. Use pandas.concat instead.\n",
      "  df = df.append (\n",
      "C:\\Users\\Vassil\\AppData\\Local\\Temp\\ipykernel_3644\\2170467750.py:17: FutureWarning: The error_bad_lines argument has been deprecated and will be removed in a future version. Use on_bad_lines in the future.\n",
      "\n",
      "\n",
      "  a = pd.read_csv (path, error_bad_lines=False, warn_bad_lines=True)\n",
      "C:\\Users\\Vassil\\AppData\\Local\\Temp\\ipykernel_3644\\2170467750.py:17: FutureWarning: The warn_bad_lines argument has been deprecated and will be removed in a future version. Use on_bad_lines in the future.\n",
      "\n",
      "\n",
      "  a = pd.read_csv (path, error_bad_lines=False, warn_bad_lines=True)\n",
      "Skipping line 439: expected 17 fields, saw 23\n",
      "Skipping line 1101: expected 17 fields, saw 20\n",
      "Skipping line 1471: expected 17 fields, saw 18\n",
      "Skipping line 1574: expected 17 fields, saw 33\n",
      "Skipping line 1847: expected 17 fields, saw 18\n",
      "Skipping line 1870: expected 17 fields, saw 31\n",
      "Skipping line 1940: expected 17 fields, saw 18\n",
      "Skipping line 2422: expected 17 fields, saw 26\n",
      "Skipping line 3138: expected 17 fields, saw 33\n",
      "Skipping line 3310: expected 17 fields, saw 29\n",
      "Skipping line 3339: expected 17 fields, saw 33\n",
      "Skipping line 3348: expected 17 fields, saw 21\n",
      "Skipping line 3359: expected 17 fields, saw 18\n",
      "Skipping line 3367: expected 17 fields, saw 30\n",
      "Skipping line 3383: expected 17 fields, saw 19\n",
      "Skipping line 3402: expected 17 fields, saw 19\n",
      "Skipping line 3476: expected 17 fields, saw 28\n",
      "Skipping line 3485: expected 17 fields, saw 33\n",
      "Skipping line 3528: expected 17 fields, saw 18\n",
      "Skipping line 3786: expected 17 fields, saw 19\n",
      "Skipping line 4017: expected 17 fields, saw 20\n",
      "Skipping line 4049: expected 17 fields, saw 18\n",
      "Skipping line 5699: expected 17 fields, saw 33\n",
      "Skipping line 6034: expected 17 fields, saw 33\n",
      "Skipping line 6639: expected 17 fields, saw 29\n",
      "Skipping line 7756: expected 17 fields, saw 21\n",
      "Skipping line 10122: expected 17 fields, saw 18\n",
      "Skipping line 10123: expected 17 fields, saw 19\n",
      "Skipping line 10669: expected 17 fields, saw 18\n",
      "Skipping line 11249: expected 17 fields, saw 18\n",
      "Skipping line 12642: expected 17 fields, saw 33\n",
      "Skipping line 14971: expected 17 fields, saw 31\n",
      "Skipping line 15341: expected 17 fields, saw 33\n",
      "Skipping line 15841: expected 17 fields, saw 25\n",
      "Skipping line 16345: expected 17 fields, saw 31\n",
      "Skipping line 16604: expected 17 fields, saw 26\n",
      "Skipping line 16686: expected 17 fields, saw 31\n",
      "Skipping line 17043: expected 17 fields, saw 32\n",
      "Skipping line 17060: expected 17 fields, saw 22\n",
      "Skipping line 17193: expected 17 fields, saw 19\n",
      "Skipping line 18459: expected 17 fields, saw 20\n",
      "Skipping line 21033: expected 17 fields, saw 33\n",
      "Skipping line 21341: expected 17 fields, saw 19\n",
      "Skipping line 21382: expected 17 fields, saw 20\n",
      "Skipping line 21552: expected 17 fields, saw 19\n",
      "Skipping line 25121: expected 17 fields, saw 33\n",
      "Skipping line 26721: expected 17 fields, saw 24\n",
      "Skipping line 27616: expected 17 fields, saw 25\n",
      "Skipping line 27970: expected 17 fields, saw 33\n",
      "Skipping line 28181: expected 17 fields, saw 33\n",
      "Skipping line 28227: expected 17 fields, saw 18\n",
      "Skipping line 28995: expected 17 fields, saw 18\n",
      "Skipping line 29232: expected 17 fields, saw 33\n",
      "Skipping line 29336: expected 17 fields, saw 31\n",
      "Skipping line 30051: expected 17 fields, saw 32\n",
      "Skipping line 30258: expected 17 fields, saw 31\n",
      "Skipping line 30848: expected 17 fields, saw 20\n",
      "Skipping line 32297: expected 17 fields, saw 33\n",
      "\n",
      "Skipping line 34042: expected 17 fields, saw 30\n",
      "Skipping line 34492: expected 17 fields, saw 33\n",
      "Skipping line 35248: expected 17 fields, saw 33\n",
      "Skipping line 37745: expected 17 fields, saw 33\n",
      "Skipping line 37781: expected 17 fields, saw 19\n",
      "Skipping line 38456: expected 17 fields, saw 22\n",
      "Skipping line 38713: expected 17 fields, saw 26\n",
      "Skipping line 43022: expected 17 fields, saw 24\n",
      "Skipping line 43322: expected 17 fields, saw 31\n",
      "Skipping line 43635: expected 17 fields, saw 33\n",
      "Skipping line 43686: expected 17 fields, saw 30\n",
      "Skipping line 45023: expected 17 fields, saw 18\n",
      "Skipping line 45139: expected 17 fields, saw 31\n",
      "Skipping line 46695: expected 17 fields, saw 31\n",
      "Skipping line 48420: expected 17 fields, saw 32\n",
      "Skipping line 49793: expected 17 fields, saw 20\n",
      "Skipping line 51395: expected 17 fields, saw 28\n",
      "Skipping line 52134: expected 17 fields, saw 33\n",
      "Skipping line 52344: expected 17 fields, saw 24\n",
      "Skipping line 52618: expected 17 fields, saw 30\n",
      "Skipping line 54276: expected 17 fields, saw 22\n",
      "Skipping line 56228: expected 17 fields, saw 19\n",
      "Skipping line 56980: expected 17 fields, saw 18\n",
      "Skipping line 57197: expected 17 fields, saw 33\n",
      "Skipping line 57954: expected 17 fields, saw 33\n",
      "Skipping line 59577: expected 17 fields, saw 33\n",
      "Skipping line 60584: expected 17 fields, saw 32\n",
      "Skipping line 61397: expected 17 fields, saw 31\n",
      "Skipping line 61670: expected 17 fields, saw 32\n",
      "Skipping line 63090: expected 17 fields, saw 33\n",
      "Skipping line 63198: expected 17 fields, saw 32\n",
      "Skipping line 64193: expected 17 fields, saw 33\n",
      "Skipping line 64943: expected 17 fields, saw 32\n",
      "Skipping line 65452: expected 17 fields, saw 18\n",
      "\n",
      "Skipping line 67832: expected 17 fields, saw 33\n",
      "Skipping line 69787: expected 17 fields, saw 31\n",
      "Skipping line 70388: expected 17 fields, saw 18\n",
      "Skipping line 70433: expected 17 fields, saw 31\n",
      "Skipping line 71174: expected 17 fields, saw 33\n",
      "Skipping line 71783: expected 17 fields, saw 30\n",
      "Skipping line 72755: expected 17 fields, saw 33\n",
      "Skipping line 74089: expected 17 fields, saw 23\n",
      "Skipping line 74198: expected 17 fields, saw 27\n",
      "Skipping line 74294: expected 17 fields, saw 26\n",
      "Skipping line 76593: expected 17 fields, saw 33\n",
      "Skipping line 77267: expected 17 fields, saw 23\n",
      "Skipping line 77613: expected 17 fields, saw 26\n",
      "Skipping line 78421: expected 17 fields, saw 18\n",
      "Skipping line 79809: expected 17 fields, saw 33\n",
      "Skipping line 79995: expected 17 fields, saw 25\n",
      "Skipping line 82257: expected 17 fields, saw 33\n",
      "Skipping line 83616: expected 17 fields, saw 33\n",
      "Skipping line 84069: expected 17 fields, saw 33\n",
      "Skipping line 84778: expected 17 fields, saw 18\n",
      "Skipping line 85994: expected 17 fields, saw 33\n",
      "Skipping line 87254: expected 17 fields, saw 20\n",
      "Skipping line 88473: expected 17 fields, saw 18\n",
      "Skipping line 88626: expected 17 fields, saw 33\n",
      "Skipping line 88901: expected 17 fields, saw 32\n",
      "Skipping line 88973: expected 17 fields, saw 23\n",
      "Skipping line 91346: expected 17 fields, saw 33\n",
      "Skipping line 91988: expected 17 fields, saw 18\n",
      "Skipping line 92869: expected 17 fields, saw 33\n",
      "Skipping line 94661: expected 17 fields, saw 33\n",
      "Skipping line 95269: expected 17 fields, saw 19\n",
      "\n",
      "Skipping line 99574: expected 17 fields, saw 19\n",
      "Skipping line 100986: expected 17 fields, saw 33\n",
      "Skipping line 103601: expected 17 fields, saw 23\n",
      "Skipping line 105769: expected 17 fields, saw 33\n",
      "Skipping line 107477: expected 17 fields, saw 32\n",
      "Skipping line 107803: expected 17 fields, saw 28\n",
      "Skipping line 110436: expected 17 fields, saw 18\n",
      "Skipping line 112326: expected 17 fields, saw 33\n",
      "Skipping line 113122: expected 17 fields, saw 20\n",
      "Skipping line 114696: expected 17 fields, saw 33\n",
      "Skipping line 115039: expected 17 fields, saw 23\n",
      "Skipping line 115557: expected 17 fields, saw 33\n",
      "Skipping line 116164: expected 17 fields, saw 32\n",
      "Skipping line 117351: expected 17 fields, saw 24\n",
      "Skipping line 117397: expected 17 fields, saw 29\n",
      "Skipping line 117525: expected 17 fields, saw 26\n",
      "Skipping line 120583: expected 17 fields, saw 23\n",
      "Skipping line 120952: expected 17 fields, saw 32\n",
      "Skipping line 121355: expected 17 fields, saw 18\n",
      "Skipping line 121926: expected 17 fields, saw 20\n",
      "Skipping line 122595: expected 17 fields, saw 33\n",
      "Skipping line 122601: expected 17 fields, saw 18\n",
      "Skipping line 123137: expected 17 fields, saw 33\n",
      "Skipping line 123517: expected 17 fields, saw 18\n",
      "Skipping line 123899: expected 17 fields, saw 18\n",
      "Skipping line 123983: expected 17 fields, saw 33\n",
      "Skipping line 124018: expected 17 fields, saw 33\n",
      "Skipping line 124067: expected 17 fields, saw 33\n",
      "Skipping line 124395: expected 17 fields, saw 18\n",
      "Skipping line 125216: expected 17 fields, saw 33\n",
      "Skipping line 125938: expected 17 fields, saw 33\n",
      "Skipping line 126502: expected 17 fields, saw 22\n",
      "Skipping line 126525: expected 17 fields, saw 27\n",
      "Skipping line 126904: expected 17 fields, saw 22\n",
      "Skipping line 127639: expected 17 fields, saw 19\n",
      "Skipping line 129134: expected 17 fields, saw 18\n",
      "Skipping line 129270: expected 17 fields, saw 22\n",
      "Skipping line 129542: expected 17 fields, saw 18\n",
      "Skipping line 130124: expected 17 fields, saw 26\n",
      "\n"
     ]
    },
    {
     "name": "stdout",
     "output_type": "stream",
     "text": [
      "Appending table numer 6...\n",
      "Table number 6 appended!\n",
      "Total table size is 797412.\n",
      " ------------------------\n",
      "Reading table patients - 7 ...\n"
     ]
    },
    {
     "name": "stderr",
     "output_type": "stream",
     "text": [
      "C:\\Users\\Vassil\\AppData\\Local\\Temp\\ipykernel_3644\\2170467750.py:22: FutureWarning: The frame.append method is deprecated and will be removed from pandas in a future version. Use pandas.concat instead.\n",
      "  df = df.append (\n",
      "C:\\Users\\Vassil\\AppData\\Local\\Temp\\ipykernel_3644\\2170467750.py:17: FutureWarning: The error_bad_lines argument has been deprecated and will be removed in a future version. Use on_bad_lines in the future.\n",
      "\n",
      "\n",
      "  a = pd.read_csv (path, error_bad_lines=False, warn_bad_lines=True)\n",
      "C:\\Users\\Vassil\\AppData\\Local\\Temp\\ipykernel_3644\\2170467750.py:17: FutureWarning: The warn_bad_lines argument has been deprecated and will be removed in a future version. Use on_bad_lines in the future.\n",
      "\n",
      "\n",
      "  a = pd.read_csv (path, error_bad_lines=False, warn_bad_lines=True)\n",
      "Skipping line 1294: expected 17 fields, saw 18\n",
      "Skipping line 1512: expected 17 fields, saw 18\n",
      "Skipping line 1604: expected 17 fields, saw 18\n",
      "Skipping line 1695: expected 17 fields, saw 33\n",
      "Skipping line 2061: expected 17 fields, saw 18\n",
      "Skipping line 2413: expected 17 fields, saw 33\n",
      "Skipping line 2616: expected 17 fields, saw 27\n",
      "Skipping line 2863: expected 17 fields, saw 33\n",
      "Skipping line 2877: expected 17 fields, saw 18\n",
      "Skipping line 3016: expected 17 fields, saw 33\n",
      "Skipping line 3233: expected 17 fields, saw 30\n",
      "Skipping line 3272: expected 17 fields, saw 19\n",
      "Skipping line 3285: expected 17 fields, saw 28\n",
      "Skipping line 3290: expected 17 fields, saw 27\n",
      "Skipping line 3310: expected 17 fields, saw 32\n",
      "Skipping line 3319: expected 17 fields, saw 29\n",
      "Skipping line 3366: expected 17 fields, saw 21\n",
      "Skipping line 3424: expected 17 fields, saw 33\n",
      "Skipping line 3481: expected 17 fields, saw 33\n",
      "Skipping line 3492: expected 17 fields, saw 27\n",
      "Skipping line 3594: expected 17 fields, saw 20\n",
      "Skipping line 3599: expected 17 fields, saw 19\n",
      "Skipping line 3681: expected 17 fields, saw 29\n",
      "Skipping line 3746: expected 17 fields, saw 26\n",
      "Skipping line 3802: expected 17 fields, saw 25\n",
      "Skipping line 5549: expected 17 fields, saw 32\n",
      "Skipping line 7553: expected 17 fields, saw 33\n",
      "Skipping line 7814: expected 17 fields, saw 22\n",
      "Skipping line 9731: expected 17 fields, saw 18\n",
      "Skipping line 10601: expected 17 fields, saw 18\n",
      "Skipping line 10695: expected 17 fields, saw 33\n",
      "Skipping line 11060: expected 17 fields, saw 19\n",
      "Skipping line 13024: expected 17 fields, saw 32\n",
      "Skipping line 13430: expected 17 fields, saw 33\n",
      "Skipping line 13468: expected 17 fields, saw 33\n",
      "Skipping line 13498: expected 17 fields, saw 22\n",
      "Skipping line 14116: expected 17 fields, saw 18\n",
      "Skipping line 15175: expected 17 fields, saw 28\n",
      "Skipping line 15558: expected 17 fields, saw 30\n",
      "Skipping line 16474: expected 17 fields, saw 33\n",
      "Skipping line 16949: expected 17 fields, saw 33\n",
      "Skipping line 17567: expected 17 fields, saw 27\n",
      "Skipping line 17819: expected 17 fields, saw 33\n",
      "Skipping line 18245: expected 17 fields, saw 31\n",
      "Skipping line 18726: expected 17 fields, saw 33\n",
      "Skipping line 19708: expected 17 fields, saw 26\n",
      "Skipping line 20374: expected 17 fields, saw 31\n",
      "Skipping line 21958: expected 17 fields, saw 21\n",
      "Skipping line 22014: expected 17 fields, saw 33\n",
      "Skipping line 22371: expected 17 fields, saw 33\n",
      "Skipping line 23920: expected 17 fields, saw 23\n",
      "Skipping line 24274: expected 17 fields, saw 22\n",
      "Skipping line 24512: expected 17 fields, saw 20\n",
      "Skipping line 24812: expected 17 fields, saw 33\n",
      "Skipping line 24910: expected 17 fields, saw 22\n",
      "Skipping line 25212: expected 17 fields, saw 30\n",
      "Skipping line 25958: expected 17 fields, saw 33\n",
      "Skipping line 25983: expected 17 fields, saw 18\n",
      "Skipping line 26301: expected 17 fields, saw 18\n",
      "Skipping line 27593: expected 17 fields, saw 32\n",
      "Skipping line 27808: expected 17 fields, saw 31\n",
      "Skipping line 28616: expected 17 fields, saw 18\n",
      "Skipping line 31302: expected 17 fields, saw 33\n",
      "Skipping line 32261: expected 17 fields, saw 33\n",
      "Skipping line 32601: expected 17 fields, saw 31\n",
      "Skipping line 32630: expected 17 fields, saw 33\n",
      "Skipping line 32837: expected 17 fields, saw 18\n",
      "\n",
      "Skipping line 33559: expected 17 fields, saw 18\n",
      "Skipping line 33639: expected 17 fields, saw 31\n",
      "Skipping line 33761: expected 17 fields, saw 33\n",
      "Skipping line 33989: expected 17 fields, saw 28\n",
      "Skipping line 34095: expected 17 fields, saw 18\n",
      "Skipping line 34150: expected 17 fields, saw 29\n",
      "Skipping line 34434: expected 17 fields, saw 29\n",
      "Skipping line 35227: expected 17 fields, saw 33\n",
      "Skipping line 36455: expected 17 fields, saw 30\n",
      "Skipping line 37165: expected 17 fields, saw 25\n",
      "Skipping line 38001: expected 17 fields, saw 33\n",
      "Skipping line 38357: expected 17 fields, saw 33\n",
      "Skipping line 38544: expected 17 fields, saw 33\n",
      "Skipping line 38705: expected 17 fields, saw 32\n",
      "Skipping line 39582: expected 17 fields, saw 33\n",
      "Skipping line 39762: expected 17 fields, saw 19\n",
      "Skipping line 41540: expected 17 fields, saw 24\n",
      "Skipping line 41589: expected 17 fields, saw 33\n",
      "Skipping line 43380: expected 17 fields, saw 33\n",
      "Skipping line 43625: expected 17 fields, saw 32\n",
      "Skipping line 44219: expected 17 fields, saw 33\n",
      "Skipping line 45302: expected 17 fields, saw 26\n",
      "Skipping line 45603: expected 17 fields, saw 32\n",
      "Skipping line 45905: expected 17 fields, saw 20\n",
      "Skipping line 48405: expected 17 fields, saw 33\n",
      "Skipping line 49067: expected 17 fields, saw 33\n",
      "Skipping line 49655: expected 17 fields, saw 33\n",
      "Skipping line 49695: expected 17 fields, saw 23\n",
      "Skipping line 51043: expected 17 fields, saw 28\n",
      "Skipping line 51502: expected 17 fields, saw 33\n",
      "Skipping line 52013: expected 17 fields, saw 20\n",
      "Skipping line 52129: expected 17 fields, saw 33\n",
      "Skipping line 52619: expected 17 fields, saw 33\n",
      "Skipping line 52839: expected 17 fields, saw 20\n",
      "Skipping line 53653: expected 17 fields, saw 20\n",
      "Skipping line 54426: expected 17 fields, saw 19\n",
      "Skipping line 54831: expected 17 fields, saw 18\n",
      "Skipping line 56612: expected 17 fields, saw 30\n",
      "Skipping line 56983: expected 17 fields, saw 32\n",
      "Skipping line 57687: expected 17 fields, saw 31\n",
      "Skipping line 58629: expected 17 fields, saw 33\n",
      "Skipping line 59778: expected 17 fields, saw 29\n",
      "Skipping line 59809: expected 17 fields, saw 20\n",
      "Skipping line 59865: expected 17 fields, saw 33\n",
      "Skipping line 62159: expected 17 fields, saw 18\n",
      "Skipping line 63377: expected 17 fields, saw 25\n",
      "Skipping line 63728: expected 17 fields, saw 20\n",
      "Skipping line 64067: expected 17 fields, saw 33\n",
      "Skipping line 64622: expected 17 fields, saw 33\n",
      "\n",
      "Skipping line 66779: expected 17 fields, saw 33\n",
      "Skipping line 67292: expected 17 fields, saw 18\n",
      "Skipping line 68832: expected 17 fields, saw 18\n",
      "Skipping line 68921: expected 17 fields, saw 31\n",
      "Skipping line 69355: expected 17 fields, saw 18\n",
      "Skipping line 71192: expected 17 fields, saw 33\n",
      "Skipping line 76444: expected 17 fields, saw 22\n",
      "Skipping line 76569: expected 17 fields, saw 33\n",
      "Skipping line 77927: expected 17 fields, saw 18\n",
      "Skipping line 80737: expected 17 fields, saw 32\n",
      "Skipping line 80884: expected 17 fields, saw 33\n",
      "Skipping line 81185: expected 17 fields, saw 26\n",
      "Skipping line 82767: expected 17 fields, saw 23\n",
      "Skipping line 83017: expected 17 fields, saw 21\n",
      "Skipping line 86577: expected 17 fields, saw 33\n",
      "Skipping line 86814: expected 17 fields, saw 18\n",
      "Skipping line 88162: expected 17 fields, saw 33\n",
      "Skipping line 89304: expected 17 fields, saw 33\n",
      "Skipping line 89655: expected 17 fields, saw 18\n",
      "Skipping line 89996: expected 17 fields, saw 29\n",
      "Skipping line 90089: expected 17 fields, saw 20\n",
      "Skipping line 90714: expected 17 fields, saw 33\n",
      "Skipping line 90843: expected 17 fields, saw 33\n",
      "Skipping line 91300: expected 17 fields, saw 32\n",
      "Skipping line 92838: expected 17 fields, saw 24\n",
      "Skipping line 94435: expected 17 fields, saw 33\n",
      "Skipping line 94892: expected 17 fields, saw 32\n",
      "Skipping line 96049: expected 17 fields, saw 29\n",
      "Skipping line 96378: expected 17 fields, saw 23\n",
      "Skipping line 97243: expected 17 fields, saw 30\n",
      "Skipping line 97909: expected 17 fields, saw 31\n",
      "\n",
      "Skipping line 98990: expected 17 fields, saw 33\n",
      "Skipping line 99111: expected 17 fields, saw 30\n",
      "Skipping line 99752: expected 17 fields, saw 33\n",
      "Skipping line 102016: expected 17 fields, saw 33\n",
      "Skipping line 102609: expected 17 fields, saw 33\n",
      "Skipping line 103022: expected 17 fields, saw 27\n",
      "Skipping line 104907: expected 17 fields, saw 18\n",
      "Skipping line 106611: expected 17 fields, saw 33\n",
      "Skipping line 107250: expected 17 fields, saw 26\n",
      "Skipping line 108539: expected 17 fields, saw 33\n",
      "Skipping line 110049: expected 17 fields, saw 31\n",
      "Skipping line 110163: expected 17 fields, saw 33\n",
      "Skipping line 110509: expected 17 fields, saw 18\n",
      "Skipping line 112652: expected 17 fields, saw 33\n",
      "Skipping line 112931: expected 17 fields, saw 33\n",
      "Skipping line 113644: expected 17 fields, saw 18\n",
      "Skipping line 113699: expected 17 fields, saw 32\n",
      "Skipping line 114089: expected 17 fields, saw 33\n",
      "Skipping line 116156: expected 17 fields, saw 22\n",
      "Skipping line 117960: expected 17 fields, saw 29\n",
      "Skipping line 125751: expected 17 fields, saw 29\n",
      "Skipping line 126784: expected 17 fields, saw 33\n",
      "Skipping line 128152: expected 17 fields, saw 33\n",
      "Skipping line 128727: expected 17 fields, saw 29\n",
      "Skipping line 128740: expected 17 fields, saw 33\n",
      "Skipping line 130554: expected 17 fields, saw 22\n",
      "\n",
      "Skipping line 131848: expected 17 fields, saw 33\n",
      "\n"
     ]
    },
    {
     "name": "stdout",
     "output_type": "stream",
     "text": [
      "Appending table numer 7...\n"
     ]
    },
    {
     "name": "stderr",
     "output_type": "stream",
     "text": [
      "C:\\Users\\Vassil\\AppData\\Local\\Temp\\ipykernel_3644\\2170467750.py:22: FutureWarning: The frame.append method is deprecated and will be removed from pandas in a future version. Use pandas.concat instead.\n",
      "  df = df.append (\n"
     ]
    },
    {
     "name": "stdout",
     "output_type": "stream",
     "text": [
      "Table number 7 appended!\n",
      "Total table size is 929929.\n",
      " ------------------------\n",
      "Reading table patients - 8 ...\n"
     ]
    },
    {
     "name": "stderr",
     "output_type": "stream",
     "text": [
      "C:\\Users\\Vassil\\AppData\\Local\\Temp\\ipykernel_3644\\2170467750.py:17: FutureWarning: The error_bad_lines argument has been deprecated and will be removed in a future version. Use on_bad_lines in the future.\n",
      "\n",
      "\n",
      "  a = pd.read_csv (path, error_bad_lines=False, warn_bad_lines=True)\n",
      "C:\\Users\\Vassil\\AppData\\Local\\Temp\\ipykernel_3644\\2170467750.py:17: FutureWarning: The warn_bad_lines argument has been deprecated and will be removed in a future version. Use on_bad_lines in the future.\n",
      "\n",
      "\n",
      "  a = pd.read_csv (path, error_bad_lines=False, warn_bad_lines=True)\n",
      "Skipping line 9: expected 17 fields, saw 32\n",
      "Skipping line 19: expected 17 fields, saw 33\n",
      "Skipping line 53: expected 17 fields, saw 33\n",
      "Skipping line 628: expected 17 fields, saw 33\n",
      "Skipping line 2305: expected 17 fields, saw 28\n",
      "Skipping line 2373: expected 17 fields, saw 33\n",
      "Skipping line 2626: expected 17 fields, saw 33\n",
      "Skipping line 3216: expected 17 fields, saw 22\n",
      "Skipping line 3230: expected 17 fields, saw 19\n",
      "Skipping line 3248: expected 17 fields, saw 32\n",
      "Skipping line 3274: expected 17 fields, saw 22\n",
      "Skipping line 3320: expected 17 fields, saw 21\n",
      "Skipping line 3392: expected 17 fields, saw 20\n",
      "Skipping line 3421: expected 17 fields, saw 33\n",
      "Skipping line 3432: expected 17 fields, saw 18\n",
      "Skipping line 3502: expected 17 fields, saw 28\n",
      "Skipping line 3547: expected 17 fields, saw 33\n",
      "Skipping line 3583: expected 17 fields, saw 23\n",
      "Skipping line 3604: expected 17 fields, saw 29\n",
      "Skipping line 3650: expected 17 fields, saw 18\n",
      "Skipping line 3792: expected 17 fields, saw 18\n",
      "Skipping line 3886: expected 17 fields, saw 18\n",
      "Skipping line 4098: expected 17 fields, saw 24\n",
      "Skipping line 5360: expected 17 fields, saw 33\n",
      "Skipping line 8336: expected 17 fields, saw 28\n",
      "Skipping line 10703: expected 17 fields, saw 18\n",
      "Skipping line 11762: expected 17 fields, saw 18\n",
      "Skipping line 13489: expected 17 fields, saw 22\n",
      "Skipping line 14746: expected 17 fields, saw 18\n",
      "Skipping line 15744: expected 17 fields, saw 29\n",
      "Skipping line 16528: expected 17 fields, saw 33\n",
      "Skipping line 16620: expected 17 fields, saw 19\n",
      "Skipping line 17894: expected 17 fields, saw 18\n",
      "Skipping line 19145: expected 17 fields, saw 18\n",
      "Skipping line 19205: expected 17 fields, saw 31\n",
      "Skipping line 19215: expected 17 fields, saw 23\n",
      "Skipping line 23531: expected 17 fields, saw 21\n",
      "Skipping line 23593: expected 17 fields, saw 33\n",
      "Skipping line 23726: expected 17 fields, saw 31\n",
      "Skipping line 23738: expected 17 fields, saw 31\n",
      "Skipping line 24124: expected 17 fields, saw 20\n",
      "Skipping line 24503: expected 17 fields, saw 22\n",
      "Skipping line 24714: expected 17 fields, saw 33\n",
      "Skipping line 24864: expected 17 fields, saw 33\n",
      "Skipping line 25193: expected 17 fields, saw 23\n",
      "Skipping line 26148: expected 17 fields, saw 18\n",
      "Skipping line 27280: expected 17 fields, saw 27\n",
      "Skipping line 27706: expected 17 fields, saw 22\n",
      "Skipping line 28037: expected 17 fields, saw 18\n",
      "Skipping line 28623: expected 17 fields, saw 30\n",
      "Skipping line 29730: expected 17 fields, saw 33\n",
      "Skipping line 30156: expected 17 fields, saw 20\n",
      "Skipping line 30792: expected 17 fields, saw 33\n",
      "Skipping line 31746: expected 17 fields, saw 33\n",
      "Skipping line 31769: expected 17 fields, saw 18\n",
      "Skipping line 32128: expected 17 fields, saw 25\n",
      "Skipping line 32819: expected 17 fields, saw 25\n",
      "\n",
      "Skipping line 32840: expected 17 fields, saw 20\n",
      "Skipping line 33255: expected 17 fields, saw 31\n",
      "Skipping line 34511: expected 17 fields, saw 25\n",
      "Skipping line 35241: expected 17 fields, saw 18\n",
      "Skipping line 35562: expected 17 fields, saw 20\n",
      "Skipping line 36298: expected 17 fields, saw 24\n",
      "Skipping line 36300: expected 17 fields, saw 22\n",
      "Skipping line 37019: expected 17 fields, saw 19\n",
      "Skipping line 37411: expected 17 fields, saw 18\n",
      "Skipping line 40019: expected 17 fields, saw 33\n",
      "Skipping line 42278: expected 17 fields, saw 18\n",
      "Skipping line 42431: expected 17 fields, saw 18\n",
      "Skipping line 42754: expected 17 fields, saw 33\n",
      "Skipping line 42787: expected 17 fields, saw 30\n",
      "Skipping line 42795: expected 17 fields, saw 18\n",
      "Skipping line 43587: expected 17 fields, saw 33\n",
      "Skipping line 43680: expected 17 fields, saw 23\n",
      "Skipping line 44185: expected 17 fields, saw 25\n",
      "Skipping line 44236: expected 17 fields, saw 33\n",
      "Skipping line 45007: expected 17 fields, saw 31\n",
      "Skipping line 45670: expected 17 fields, saw 20\n",
      "Skipping line 45892: expected 17 fields, saw 33\n",
      "Skipping line 46141: expected 17 fields, saw 30\n",
      "Skipping line 47624: expected 17 fields, saw 28\n",
      "Skipping line 47882: expected 17 fields, saw 20\n",
      "Skipping line 48730: expected 17 fields, saw 31\n",
      "Skipping line 48853: expected 17 fields, saw 33\n",
      "Skipping line 48986: expected 17 fields, saw 18\n",
      "Skipping line 50312: expected 17 fields, saw 22\n",
      "Skipping line 50686: expected 17 fields, saw 18\n",
      "Skipping line 50812: expected 17 fields, saw 30\n",
      "Skipping line 50979: expected 17 fields, saw 28\n",
      "Skipping line 54617: expected 17 fields, saw 33\n",
      "Skipping line 54783: expected 17 fields, saw 20\n",
      "Skipping line 54866: expected 17 fields, saw 33\n",
      "Skipping line 57744: expected 17 fields, saw 33\n",
      "Skipping line 58787: expected 17 fields, saw 30\n",
      "Skipping line 60169: expected 17 fields, saw 33\n",
      "Skipping line 61071: expected 17 fields, saw 32\n",
      "Skipping line 61204: expected 17 fields, saw 33\n",
      "Skipping line 61896: expected 17 fields, saw 23\n",
      "Skipping line 62524: expected 17 fields, saw 33\n",
      "Skipping line 62812: expected 17 fields, saw 18\n",
      "Skipping line 64153: expected 17 fields, saw 27\n",
      "Skipping line 64718: expected 17 fields, saw 20\n",
      "Skipping line 65316: expected 17 fields, saw 31\n",
      "Skipping line 65452: expected 17 fields, saw 18\n",
      "\n",
      "Skipping line 65742: expected 17 fields, saw 33\n",
      "Skipping line 66632: expected 17 fields, saw 33\n",
      "Skipping line 68105: expected 17 fields, saw 31\n",
      "Skipping line 68731: expected 17 fields, saw 33\n",
      "Skipping line 70759: expected 17 fields, saw 31\n",
      "Skipping line 70935: expected 17 fields, saw 18\n",
      "Skipping line 71646: expected 17 fields, saw 25\n",
      "Skipping line 71905: expected 17 fields, saw 33\n",
      "Skipping line 72732: expected 17 fields, saw 33\n",
      "Skipping line 73435: expected 17 fields, saw 27\n",
      "Skipping line 75305: expected 17 fields, saw 33\n",
      "Skipping line 77309: expected 17 fields, saw 22\n",
      "Skipping line 77546: expected 17 fields, saw 25\n",
      "Skipping line 78470: expected 17 fields, saw 19\n",
      "Skipping line 78482: expected 17 fields, saw 33\n",
      "Skipping line 78957: expected 17 fields, saw 33\n",
      "Skipping line 79408: expected 17 fields, saw 32\n",
      "Skipping line 79736: expected 17 fields, saw 23\n",
      "Skipping line 80046: expected 17 fields, saw 29\n",
      "Skipping line 80898: expected 17 fields, saw 18\n",
      "Skipping line 83618: expected 17 fields, saw 33\n",
      "Skipping line 83692: expected 17 fields, saw 33\n",
      "Skipping line 83746: expected 17 fields, saw 33\n",
      "Skipping line 84536: expected 17 fields, saw 29\n",
      "Skipping line 86169: expected 17 fields, saw 33\n",
      "Skipping line 88331: expected 17 fields, saw 22\n",
      "Skipping line 88437: expected 17 fields, saw 29\n",
      "Skipping line 89067: expected 17 fields, saw 30\n",
      "Skipping line 91168: expected 17 fields, saw 18\n",
      "Skipping line 91173: expected 17 fields, saw 18\n",
      "Skipping line 93714: expected 17 fields, saw 33\n",
      "Skipping line 93769: expected 17 fields, saw 31\n",
      "Skipping line 94278: expected 17 fields, saw 26\n",
      "Skipping line 95336: expected 17 fields, saw 18\n",
      "Skipping line 95834: expected 17 fields, saw 33\n",
      "Skipping line 96085: expected 17 fields, saw 33\n",
      "Skipping line 96324: expected 17 fields, saw 24\n",
      "Skipping line 96397: expected 17 fields, saw 33\n",
      "Skipping line 96511: expected 17 fields, saw 28\n",
      "\n",
      "Skipping line 100694: expected 17 fields, saw 33\n",
      "Skipping line 103116: expected 17 fields, saw 18\n",
      "Skipping line 104606: expected 17 fields, saw 18\n",
      "Skipping line 106131: expected 17 fields, saw 33\n",
      "Skipping line 108054: expected 17 fields, saw 26\n",
      "Skipping line 108384: expected 17 fields, saw 23\n",
      "Skipping line 109997: expected 17 fields, saw 33\n",
      "Skipping line 110540: expected 17 fields, saw 33\n",
      "Skipping line 110622: expected 17 fields, saw 29\n",
      "Skipping line 110631: expected 17 fields, saw 33\n",
      "Skipping line 111503: expected 17 fields, saw 19\n",
      "Skipping line 112072: expected 17 fields, saw 18\n",
      "Skipping line 112242: expected 17 fields, saw 33\n",
      "Skipping line 113562: expected 17 fields, saw 29\n",
      "Skipping line 113619: expected 17 fields, saw 33\n",
      "Skipping line 115393: expected 17 fields, saw 33\n",
      "Skipping line 115956: expected 17 fields, saw 33\n",
      "Skipping line 116032: expected 17 fields, saw 29\n",
      "Skipping line 117698: expected 17 fields, saw 18\n",
      "Skipping line 119700: expected 17 fields, saw 22\n",
      "Skipping line 120194: expected 17 fields, saw 19\n",
      "Skipping line 120273: expected 17 fields, saw 18\n",
      "Skipping line 120434: expected 17 fields, saw 18\n",
      "Skipping line 121038: expected 17 fields, saw 18\n",
      "Skipping line 121126: expected 17 fields, saw 31\n",
      "Skipping line 122110: expected 17 fields, saw 18\n",
      "Skipping line 125133: expected 17 fields, saw 18\n",
      "Skipping line 125909: expected 17 fields, saw 20\n",
      "Skipping line 126058: expected 17 fields, saw 25\n",
      "Skipping line 127181: expected 17 fields, saw 18\n",
      "Skipping line 128131: expected 17 fields, saw 18\n",
      "Skipping line 128679: expected 17 fields, saw 18\n",
      "Skipping line 130034: expected 17 fields, saw 33\n",
      "Skipping line 130650: expected 17 fields, saw 22\n",
      "Skipping line 130939: expected 17 fields, saw 33\n",
      "\n",
      "Skipping line 131736: expected 17 fields, saw 33\n",
      "Skipping line 132656: expected 17 fields, saw 30\n",
      "\n"
     ]
    },
    {
     "name": "stdout",
     "output_type": "stream",
     "text": [
      "Appending table numer 8...\n"
     ]
    },
    {
     "name": "stderr",
     "output_type": "stream",
     "text": [
      "C:\\Users\\Vassil\\AppData\\Local\\Temp\\ipykernel_3644\\2170467750.py:22: FutureWarning: The frame.append method is deprecated and will be removed from pandas in a future version. Use pandas.concat instead.\n",
      "  df = df.append (\n"
     ]
    },
    {
     "name": "stdout",
     "output_type": "stream",
     "text": [
      "Table number 8 appended!\n",
      "Total table size is 1062789.\n",
      " ------------------------\n",
      "Reading table patients - 9 ...\n"
     ]
    },
    {
     "name": "stderr",
     "output_type": "stream",
     "text": [
      "C:\\Users\\Vassil\\AppData\\Local\\Temp\\ipykernel_3644\\2170467750.py:17: FutureWarning: The error_bad_lines argument has been deprecated and will be removed in a future version. Use on_bad_lines in the future.\n",
      "\n",
      "\n",
      "  a = pd.read_csv (path, error_bad_lines=False, warn_bad_lines=True)\n",
      "C:\\Users\\Vassil\\AppData\\Local\\Temp\\ipykernel_3644\\2170467750.py:17: FutureWarning: The warn_bad_lines argument has been deprecated and will be removed in a future version. Use on_bad_lines in the future.\n",
      "\n",
      "\n",
      "  a = pd.read_csv (path, error_bad_lines=False, warn_bad_lines=True)\n",
      "Skipping line 53: expected 33 fields, saw 39\n",
      "Skipping line 4239: expected 33 fields, saw 36\n",
      "\n",
      "C:\\Users\\Vassil\\AppData\\Local\\Temp\\ipykernel_3644\\2170467750.py:17: DtypeWarning: Columns (21,22,24,26,32) have mixed types. Specify dtype option on import or set low_memory=False.\n",
      "  a = pd.read_csv (path, error_bad_lines=False, warn_bad_lines=True)\n"
     ]
    },
    {
     "name": "stdout",
     "output_type": "stream",
     "text": [
      "Appending table numer 9...\n"
     ]
    },
    {
     "name": "stderr",
     "output_type": "stream",
     "text": [
      "C:\\Users\\Vassil\\AppData\\Local\\Temp\\ipykernel_3644\\2170467750.py:22: FutureWarning: The frame.append method is deprecated and will be removed from pandas in a future version. Use pandas.concat instead.\n",
      "  df = df.append (\n"
     ]
    },
    {
     "name": "stdout",
     "output_type": "stream",
     "text": [
      "Table number 9 appended!\n",
      "Total table size is 1195988.\n",
      " ------------------------\n",
      "Reading table patients - 10 ...\n"
     ]
    },
    {
     "name": "stderr",
     "output_type": "stream",
     "text": [
      "C:\\Users\\Vassil\\AppData\\Local\\Temp\\ipykernel_3644\\2170467750.py:17: FutureWarning: The error_bad_lines argument has been deprecated and will be removed in a future version. Use on_bad_lines in the future.\n",
      "\n",
      "\n",
      "  a = pd.read_csv (path, error_bad_lines=False, warn_bad_lines=True)\n",
      "C:\\Users\\Vassil\\AppData\\Local\\Temp\\ipykernel_3644\\2170467750.py:17: FutureWarning: The warn_bad_lines argument has been deprecated and will be removed in a future version. Use on_bad_lines in the future.\n",
      "\n",
      "\n",
      "  a = pd.read_csv (path, error_bad_lines=False, warn_bad_lines=True)\n",
      "Skipping line 142: expected 17 fields, saw 31\n",
      "Skipping line 1628: expected 17 fields, saw 33\n",
      "Skipping line 2401: expected 17 fields, saw 22\n",
      "Skipping line 2791: expected 17 fields, saw 18\n",
      "Skipping line 3331: expected 17 fields, saw 20\n",
      "Skipping line 3431: expected 17 fields, saw 32\n",
      "Skipping line 3470: expected 17 fields, saw 29\n",
      "Skipping line 3632: expected 17 fields, saw 33\n",
      "Skipping line 3681: expected 17 fields, saw 25\n",
      "Skipping line 3693: expected 17 fields, saw 33\n",
      "Skipping line 3701: expected 17 fields, saw 23\n",
      "Skipping line 3739: expected 17 fields, saw 20\n",
      "Skipping line 3784: expected 17 fields, saw 27\n",
      "Skipping line 3830: expected 17 fields, saw 33\n",
      "Skipping line 3994: expected 17 fields, saw 18\n",
      "Skipping line 4038: expected 17 fields, saw 18\n",
      "Skipping line 4063: expected 17 fields, saw 18\n",
      "Skipping line 4086: expected 17 fields, saw 33\n",
      "Skipping line 4093: expected 17 fields, saw 29\n",
      "Skipping line 4200: expected 17 fields, saw 29\n",
      "Skipping line 5984: expected 17 fields, saw 33\n",
      "Skipping line 6487: expected 17 fields, saw 18\n",
      "Skipping line 6556: expected 17 fields, saw 18\n",
      "Skipping line 6985: expected 17 fields, saw 23\n",
      "Skipping line 7025: expected 17 fields, saw 18\n",
      "Skipping line 7782: expected 17 fields, saw 23\n",
      "Skipping line 12370: expected 17 fields, saw 31\n",
      "Skipping line 12656: expected 17 fields, saw 33\n",
      "Skipping line 15604: expected 17 fields, saw 33\n",
      "Skipping line 17405: expected 17 fields, saw 29\n",
      "Skipping line 17512: expected 17 fields, saw 18\n",
      "Skipping line 17883: expected 17 fields, saw 33\n",
      "Skipping line 18291: expected 17 fields, saw 27\n",
      "Skipping line 18478: expected 17 fields, saw 31\n",
      "Skipping line 18517: expected 17 fields, saw 20\n",
      "Skipping line 19176: expected 17 fields, saw 33\n",
      "Skipping line 20372: expected 17 fields, saw 18\n",
      "Skipping line 20688: expected 17 fields, saw 33\n",
      "Skipping line 21667: expected 17 fields, saw 29\n",
      "Skipping line 21822: expected 17 fields, saw 29\n",
      "Skipping line 22529: expected 17 fields, saw 32\n",
      "Skipping line 22541: expected 17 fields, saw 18\n",
      "Skipping line 22671: expected 17 fields, saw 33\n",
      "Skipping line 23164: expected 17 fields, saw 29\n",
      "Skipping line 24065: expected 17 fields, saw 32\n",
      "Skipping line 24817: expected 17 fields, saw 32\n",
      "Skipping line 25158: expected 17 fields, saw 32\n",
      "Skipping line 25244: expected 17 fields, saw 33\n",
      "Skipping line 25514: expected 17 fields, saw 33\n",
      "Skipping line 26338: expected 17 fields, saw 18\n",
      "Skipping line 27496: expected 17 fields, saw 18\n",
      "Skipping line 28434: expected 17 fields, saw 22\n",
      "Skipping line 28858: expected 17 fields, saw 33\n",
      "Skipping line 29345: expected 17 fields, saw 33\n",
      "Skipping line 30061: expected 17 fields, saw 33\n",
      "Skipping line 30675: expected 17 fields, saw 31\n",
      "Skipping line 32377: expected 17 fields, saw 18\n",
      "\n",
      "Skipping line 33714: expected 17 fields, saw 18\n",
      "Skipping line 34456: expected 17 fields, saw 33\n",
      "Skipping line 35029: expected 17 fields, saw 33\n",
      "Skipping line 35121: expected 17 fields, saw 31\n",
      "Skipping line 35644: expected 17 fields, saw 33\n",
      "Skipping line 36162: expected 17 fields, saw 33\n",
      "Skipping line 36630: expected 17 fields, saw 33\n",
      "Skipping line 36953: expected 17 fields, saw 25\n",
      "Skipping line 36958: expected 17 fields, saw 18\n",
      "Skipping line 38702: expected 17 fields, saw 33\n",
      "Skipping line 38914: expected 17 fields, saw 32\n",
      "Skipping line 40219: expected 17 fields, saw 25\n",
      "Skipping line 40910: expected 17 fields, saw 33\n",
      "Skipping line 43251: expected 17 fields, saw 32\n",
      "Skipping line 43261: expected 17 fields, saw 33\n",
      "Skipping line 43727: expected 17 fields, saw 33\n",
      "Skipping line 44033: expected 17 fields, saw 18\n",
      "Skipping line 44398: expected 17 fields, saw 26\n",
      "Skipping line 44906: expected 17 fields, saw 23\n",
      "Skipping line 45357: expected 17 fields, saw 30\n",
      "Skipping line 46188: expected 17 fields, saw 18\n",
      "Skipping line 46314: expected 17 fields, saw 30\n",
      "Skipping line 47173: expected 17 fields, saw 18\n",
      "Skipping line 47490: expected 17 fields, saw 33\n",
      "Skipping line 49228: expected 17 fields, saw 33\n",
      "Skipping line 49666: expected 17 fields, saw 30\n",
      "Skipping line 50199: expected 17 fields, saw 33\n",
      "Skipping line 51136: expected 17 fields, saw 18\n",
      "Skipping line 51428: expected 17 fields, saw 31\n",
      "Skipping line 52537: expected 17 fields, saw 33\n",
      "Skipping line 52817: expected 17 fields, saw 33\n",
      "Skipping line 53015: expected 17 fields, saw 30\n",
      "Skipping line 53144: expected 17 fields, saw 29\n",
      "Skipping line 53334: expected 17 fields, saw 33\n",
      "Skipping line 53597: expected 17 fields, saw 32\n",
      "Skipping line 54550: expected 17 fields, saw 19\n",
      "Skipping line 55221: expected 17 fields, saw 27\n",
      "Skipping line 55501: expected 17 fields, saw 29\n",
      "Skipping line 55702: expected 17 fields, saw 22\n",
      "Skipping line 55827: expected 17 fields, saw 18\n",
      "Skipping line 56189: expected 17 fields, saw 29\n",
      "Skipping line 56389: expected 17 fields, saw 18\n",
      "Skipping line 56516: expected 17 fields, saw 33\n",
      "Skipping line 57715: expected 17 fields, saw 18\n",
      "Skipping line 58554: expected 17 fields, saw 32\n",
      "Skipping line 59240: expected 17 fields, saw 26\n",
      "Skipping line 59781: expected 17 fields, saw 33\n",
      "Skipping line 61746: expected 17 fields, saw 18\n",
      "Skipping line 62402: expected 17 fields, saw 33\n",
      "Skipping line 63186: expected 17 fields, saw 29\n",
      "Skipping line 64484: expected 17 fields, saw 33\n",
      "Skipping line 64739: expected 17 fields, saw 18\n",
      "Skipping line 65545: expected 17 fields, saw 33\n",
      "\n",
      "Skipping line 65840: expected 17 fields, saw 23\n",
      "Skipping line 71819: expected 17 fields, saw 26\n",
      "Skipping line 72861: expected 17 fields, saw 23\n",
      "Skipping line 74558: expected 17 fields, saw 20\n",
      "Skipping line 74975: expected 17 fields, saw 33\n",
      "Skipping line 75279: expected 17 fields, saw 33\n",
      "Skipping line 76260: expected 17 fields, saw 29\n",
      "Skipping line 76467: expected 17 fields, saw 26\n",
      "Skipping line 76924: expected 17 fields, saw 18\n",
      "Skipping line 77131: expected 17 fields, saw 18\n",
      "Skipping line 78279: expected 17 fields, saw 33\n",
      "Skipping line 78835: expected 17 fields, saw 18\n",
      "Skipping line 80224: expected 17 fields, saw 33\n",
      "Skipping line 80344: expected 17 fields, saw 20\n",
      "Skipping line 80600: expected 17 fields, saw 33\n",
      "Skipping line 81464: expected 17 fields, saw 26\n",
      "Skipping line 84311: expected 17 fields, saw 30\n",
      "Skipping line 84357: expected 17 fields, saw 20\n",
      "Skipping line 84623: expected 17 fields, saw 33\n",
      "Skipping line 86992: expected 17 fields, saw 27\n",
      "Skipping line 88627: expected 17 fields, saw 20\n",
      "Skipping line 89027: expected 17 fields, saw 33\n",
      "Skipping line 89305: expected 17 fields, saw 29\n",
      "Skipping line 89955: expected 17 fields, saw 33\n",
      "Skipping line 90416: expected 17 fields, saw 18\n",
      "Skipping line 92163: expected 17 fields, saw 28\n",
      "Skipping line 93327: expected 17 fields, saw 33\n",
      "Skipping line 94592: expected 17 fields, saw 18\n",
      "Skipping line 95248: expected 17 fields, saw 32\n",
      "Skipping line 95816: expected 17 fields, saw 33\n",
      "Skipping line 97191: expected 17 fields, saw 31\n",
      "\n",
      "Skipping line 98913: expected 17 fields, saw 32\n",
      "Skipping line 101162: expected 17 fields, saw 23\n",
      "Skipping line 101733: expected 17 fields, saw 33\n",
      "Skipping line 101859: expected 17 fields, saw 28\n",
      "Skipping line 102804: expected 17 fields, saw 33\n",
      "Skipping line 103335: expected 17 fields, saw 26\n",
      "Skipping line 104577: expected 17 fields, saw 23\n",
      "Skipping line 105064: expected 17 fields, saw 33\n",
      "Skipping line 105998: expected 17 fields, saw 33\n",
      "Skipping line 108192: expected 17 fields, saw 33\n",
      "Skipping line 108211: expected 17 fields, saw 33\n",
      "Skipping line 108578: expected 17 fields, saw 21\n",
      "Skipping line 110091: expected 17 fields, saw 33\n",
      "Skipping line 110328: expected 17 fields, saw 33\n",
      "Skipping line 111056: expected 17 fields, saw 29\n",
      "Skipping line 111226: expected 17 fields, saw 27\n",
      "Skipping line 111336: expected 17 fields, saw 32\n",
      "Skipping line 111379: expected 17 fields, saw 33\n",
      "Skipping line 112560: expected 17 fields, saw 32\n",
      "Skipping line 112650: expected 17 fields, saw 22\n",
      "Skipping line 112923: expected 17 fields, saw 32\n",
      "Skipping line 112928: expected 17 fields, saw 33\n",
      "Skipping line 113406: expected 17 fields, saw 21\n",
      "Skipping line 114516: expected 17 fields, saw 26\n",
      "Skipping line 114999: expected 17 fields, saw 32\n",
      "Skipping line 116222: expected 17 fields, saw 32\n",
      "Skipping line 116450: expected 17 fields, saw 20\n",
      "Skipping line 116633: expected 17 fields, saw 18\n",
      "Skipping line 117866: expected 17 fields, saw 25\n",
      "Skipping line 119547: expected 17 fields, saw 33\n",
      "Skipping line 120018: expected 17 fields, saw 33\n",
      "Skipping line 122324: expected 17 fields, saw 31\n",
      "Skipping line 122916: expected 17 fields, saw 33\n",
      "Skipping line 123114: expected 17 fields, saw 20\n",
      "Skipping line 125743: expected 17 fields, saw 33\n",
      "Skipping line 125905: expected 17 fields, saw 27\n",
      "Skipping line 126368: expected 17 fields, saw 22\n",
      "Skipping line 126720: expected 17 fields, saw 33\n",
      "Skipping line 126919: expected 17 fields, saw 24\n",
      "Skipping line 127754: expected 17 fields, saw 33\n",
      "Skipping line 127964: expected 17 fields, saw 18\n",
      "Skipping line 128747: expected 17 fields, saw 22\n",
      "Skipping line 129838: expected 17 fields, saw 18\n",
      "Skipping line 130668: expected 17 fields, saw 25\n",
      "\n",
      "C:\\Users\\Vassil\\AppData\\Local\\Temp\\ipykernel_3644\\2170467750.py:22: FutureWarning: The frame.append method is deprecated and will be removed from pandas in a future version. Use pandas.concat instead.\n",
      "  df = df.append (\n"
     ]
    },
    {
     "name": "stdout",
     "output_type": "stream",
     "text": [
      "Appending table numer 10...\n",
      "Table number 10 appended!\n",
      "Total table size is 1327897.\n",
      " ------------------------\n",
      "Reading table patients - 11 ...\n"
     ]
    },
    {
     "name": "stderr",
     "output_type": "stream",
     "text": [
      "C:\\Users\\Vassil\\AppData\\Local\\Temp\\ipykernel_3644\\2170467750.py:17: FutureWarning: The error_bad_lines argument has been deprecated and will be removed in a future version. Use on_bad_lines in the future.\n",
      "\n",
      "\n",
      "  a = pd.read_csv (path, error_bad_lines=False, warn_bad_lines=True)\n",
      "C:\\Users\\Vassil\\AppData\\Local\\Temp\\ipykernel_3644\\2170467750.py:17: FutureWarning: The warn_bad_lines argument has been deprecated and will be removed in a future version. Use on_bad_lines in the future.\n",
      "\n",
      "\n",
      "  a = pd.read_csv (path, error_bad_lines=False, warn_bad_lines=True)\n",
      "Skipping line 327: expected 17 fields, saw 18\n",
      "Skipping line 466: expected 17 fields, saw 33\n",
      "Skipping line 1221: expected 17 fields, saw 33\n",
      "Skipping line 1436: expected 17 fields, saw 18\n",
      "Skipping line 2216: expected 17 fields, saw 33\n",
      "Skipping line 2506: expected 17 fields, saw 22\n",
      "Skipping line 2674: expected 17 fields, saw 33\n",
      "Skipping line 2724: expected 17 fields, saw 18\n",
      "Skipping line 2965: expected 17 fields, saw 24\n",
      "Skipping line 3202: expected 17 fields, saw 20\n",
      "Skipping line 3206: expected 17 fields, saw 30\n",
      "Skipping line 3235: expected 17 fields, saw 33\n",
      "Skipping line 3286: expected 17 fields, saw 33\n",
      "Skipping line 3292: expected 17 fields, saw 31\n",
      "Skipping line 3331: expected 17 fields, saw 33\n",
      "Skipping line 3341: expected 17 fields, saw 30\n",
      "Skipping line 3410: expected 17 fields, saw 22\n",
      "Skipping line 3417: expected 17 fields, saw 18\n",
      "Skipping line 3444: expected 17 fields, saw 33\n",
      "Skipping line 3500: expected 17 fields, saw 18\n",
      "Skipping line 3669: expected 17 fields, saw 25\n",
      "Skipping line 3671: expected 17 fields, saw 33\n",
      "Skipping line 3700: expected 17 fields, saw 20\n",
      "Skipping line 3751: expected 17 fields, saw 33\n",
      "Skipping line 3799: expected 17 fields, saw 19\n",
      "Skipping line 3837: expected 17 fields, saw 30\n",
      "Skipping line 4049: expected 17 fields, saw 29\n",
      "Skipping line 4053: expected 17 fields, saw 19\n",
      "Skipping line 4062: expected 17 fields, saw 22\n",
      "Skipping line 4089: expected 17 fields, saw 32\n",
      "Skipping line 4103: expected 17 fields, saw 18\n",
      "Skipping line 4190: expected 17 fields, saw 33\n",
      "Skipping line 4511: expected 17 fields, saw 20\n",
      "Skipping line 5400: expected 17 fields, saw 24\n",
      "Skipping line 5744: expected 17 fields, saw 29\n",
      "Skipping line 6917: expected 17 fields, saw 27\n",
      "Skipping line 6938: expected 17 fields, saw 33\n",
      "Skipping line 6964: expected 17 fields, saw 32\n",
      "Skipping line 7809: expected 17 fields, saw 30\n",
      "Skipping line 8177: expected 17 fields, saw 32\n",
      "Skipping line 9165: expected 17 fields, saw 29\n",
      "Skipping line 9800: expected 17 fields, saw 33\n",
      "Skipping line 10011: expected 17 fields, saw 19\n",
      "Skipping line 10253: expected 17 fields, saw 33\n",
      "Skipping line 10447: expected 17 fields, saw 32\n",
      "Skipping line 10898: expected 17 fields, saw 33\n",
      "Skipping line 11689: expected 17 fields, saw 22\n",
      "Skipping line 12248: expected 17 fields, saw 32\n",
      "Skipping line 12319: expected 17 fields, saw 33\n",
      "Skipping line 13338: expected 17 fields, saw 19\n",
      "Skipping line 14808: expected 17 fields, saw 33\n",
      "Skipping line 15318: expected 17 fields, saw 29\n",
      "Skipping line 15491: expected 17 fields, saw 18\n",
      "Skipping line 16887: expected 17 fields, saw 32\n",
      "Skipping line 17569: expected 17 fields, saw 23\n",
      "Skipping line 20499: expected 17 fields, saw 18\n",
      "Skipping line 20506: expected 17 fields, saw 33\n",
      "Skipping line 22001: expected 17 fields, saw 22\n",
      "Skipping line 22390: expected 17 fields, saw 22\n",
      "Skipping line 23006: expected 17 fields, saw 33\n",
      "Skipping line 24233: expected 17 fields, saw 19\n",
      "Skipping line 26511: expected 17 fields, saw 33\n",
      "Skipping line 27409: expected 17 fields, saw 18\n",
      "Skipping line 28100: expected 17 fields, saw 33\n",
      "Skipping line 28445: expected 17 fields, saw 30\n",
      "Skipping line 28783: expected 17 fields, saw 31\n",
      "Skipping line 29240: expected 17 fields, saw 30\n",
      "Skipping line 29621: expected 17 fields, saw 18\n",
      "Skipping line 30696: expected 17 fields, saw 31\n",
      "Skipping line 31210: expected 17 fields, saw 31\n",
      "Skipping line 31242: expected 17 fields, saw 33\n",
      "Skipping line 31811: expected 17 fields, saw 33\n",
      "\n",
      "Skipping line 33074: expected 17 fields, saw 26\n",
      "Skipping line 34457: expected 17 fields, saw 27\n",
      "Skipping line 36429: expected 17 fields, saw 33\n",
      "Skipping line 36771: expected 17 fields, saw 20\n",
      "Skipping line 37976: expected 17 fields, saw 18\n",
      "Skipping line 40870: expected 17 fields, saw 33\n",
      "Skipping line 40956: expected 17 fields, saw 33\n",
      "Skipping line 42576: expected 17 fields, saw 25\n",
      "Skipping line 42721: expected 17 fields, saw 28\n",
      "Skipping line 44115: expected 17 fields, saw 33\n",
      "Skipping line 44796: expected 17 fields, saw 33\n",
      "Skipping line 45006: expected 17 fields, saw 18\n",
      "Skipping line 45408: expected 17 fields, saw 32\n",
      "Skipping line 45422: expected 17 fields, saw 32\n",
      "Skipping line 46436: expected 17 fields, saw 18\n",
      "Skipping line 46601: expected 17 fields, saw 18\n",
      "Skipping line 48024: expected 17 fields, saw 33\n",
      "Skipping line 48139: expected 17 fields, saw 20\n",
      "Skipping line 51461: expected 17 fields, saw 19\n",
      "Skipping line 52392: expected 17 fields, saw 19\n",
      "Skipping line 54002: expected 17 fields, saw 18\n",
      "Skipping line 54305: expected 17 fields, saw 21\n",
      "Skipping line 55257: expected 17 fields, saw 25\n",
      "Skipping line 55591: expected 17 fields, saw 29\n",
      "Skipping line 55781: expected 17 fields, saw 33\n",
      "Skipping line 59065: expected 17 fields, saw 33\n",
      "Skipping line 61422: expected 17 fields, saw 33\n",
      "Skipping line 61986: expected 17 fields, saw 18\n",
      "Skipping line 62188: expected 17 fields, saw 19\n",
      "Skipping line 63631: expected 17 fields, saw 20\n",
      "Skipping line 64253: expected 17 fields, saw 18\n",
      "Skipping line 65390: expected 17 fields, saw 18\n",
      "\n",
      "Skipping line 66739: expected 17 fields, saw 33\n",
      "Skipping line 67687: expected 17 fields, saw 33\n",
      "Skipping line 68217: expected 17 fields, saw 33\n",
      "Skipping line 69262: expected 17 fields, saw 18\n",
      "Skipping line 69670: expected 17 fields, saw 30\n",
      "Skipping line 70002: expected 17 fields, saw 33\n",
      "Skipping line 70644: expected 17 fields, saw 30\n",
      "Skipping line 71218: expected 17 fields, saw 22\n",
      "Skipping line 72713: expected 17 fields, saw 31\n",
      "Skipping line 73280: expected 17 fields, saw 33\n",
      "Skipping line 76541: expected 17 fields, saw 18\n",
      "Skipping line 76673: expected 17 fields, saw 32\n",
      "Skipping line 77428: expected 17 fields, saw 33\n",
      "Skipping line 77537: expected 17 fields, saw 33\n",
      "Skipping line 77974: expected 17 fields, saw 33\n",
      "Skipping line 78414: expected 17 fields, saw 33\n",
      "Skipping line 78703: expected 17 fields, saw 29\n",
      "Skipping line 79296: expected 17 fields, saw 33\n",
      "Skipping line 79791: expected 17 fields, saw 25\n",
      "Skipping line 80350: expected 17 fields, saw 33\n",
      "Skipping line 80861: expected 17 fields, saw 33\n",
      "Skipping line 83325: expected 17 fields, saw 20\n",
      "Skipping line 83330: expected 17 fields, saw 24\n",
      "Skipping line 83698: expected 17 fields, saw 32\n",
      "Skipping line 84267: expected 17 fields, saw 19\n",
      "Skipping line 84710: expected 17 fields, saw 19\n",
      "Skipping line 85056: expected 17 fields, saw 18\n",
      "Skipping line 87232: expected 17 fields, saw 18\n",
      "Skipping line 87625: expected 17 fields, saw 32\n",
      "Skipping line 87699: expected 17 fields, saw 30\n",
      "Skipping line 88948: expected 17 fields, saw 22\n",
      "Skipping line 89587: expected 17 fields, saw 19\n",
      "Skipping line 90055: expected 17 fields, saw 30\n",
      "Skipping line 90123: expected 17 fields, saw 33\n",
      "Skipping line 91271: expected 17 fields, saw 18\n",
      "Skipping line 91488: expected 17 fields, saw 19\n",
      "Skipping line 92936: expected 17 fields, saw 23\n",
      "Skipping line 95233: expected 17 fields, saw 18\n",
      "Skipping line 95254: expected 17 fields, saw 33\n",
      "Skipping line 97548: expected 17 fields, saw 33\n",
      "Skipping line 97721: expected 17 fields, saw 31\n",
      "\n",
      "Skipping line 98801: expected 17 fields, saw 29\n",
      "Skipping line 101362: expected 17 fields, saw 25\n",
      "Skipping line 101579: expected 17 fields, saw 18\n",
      "Skipping line 101673: expected 17 fields, saw 32\n",
      "Skipping line 102017: expected 17 fields, saw 18\n",
      "Skipping line 102951: expected 17 fields, saw 18\n",
      "Skipping line 103375: expected 17 fields, saw 33\n",
      "Skipping line 105127: expected 17 fields, saw 33\n",
      "Skipping line 106304: expected 17 fields, saw 32\n",
      "Skipping line 108800: expected 17 fields, saw 20\n",
      "Skipping line 110282: expected 17 fields, saw 18\n",
      "Skipping line 111951: expected 17 fields, saw 33\n",
      "Skipping line 113097: expected 17 fields, saw 31\n",
      "Skipping line 115142: expected 17 fields, saw 18\n",
      "Skipping line 115596: expected 17 fields, saw 33\n",
      "Skipping line 116876: expected 17 fields, saw 29\n",
      "Skipping line 117221: expected 17 fields, saw 18\n",
      "Skipping line 117434: expected 17 fields, saw 33\n",
      "Skipping line 118038: expected 17 fields, saw 25\n",
      "Skipping line 118355: expected 17 fields, saw 18\n",
      "Skipping line 118599: expected 17 fields, saw 33\n",
      "Skipping line 119214: expected 17 fields, saw 31\n",
      "Skipping line 120368: expected 17 fields, saw 32\n",
      "Skipping line 120520: expected 17 fields, saw 31\n",
      "Skipping line 121291: expected 17 fields, saw 30\n",
      "Skipping line 122519: expected 17 fields, saw 22\n",
      "Skipping line 123410: expected 17 fields, saw 31\n",
      "Skipping line 123455: expected 17 fields, saw 33\n",
      "Skipping line 123837: expected 17 fields, saw 29\n",
      "Skipping line 125190: expected 17 fields, saw 33\n",
      "Skipping line 126125: expected 17 fields, saw 18\n",
      "Skipping line 127951: expected 17 fields, saw 33\n",
      "Skipping line 128093: expected 17 fields, saw 32\n",
      "Skipping line 128923: expected 17 fields, saw 33\n",
      "Skipping line 129747: expected 17 fields, saw 27\n",
      "Skipping line 130441: expected 17 fields, saw 33\n",
      "\n",
      "Skipping line 131482: expected 17 fields, saw 32\n",
      "Skipping line 131512: expected 17 fields, saw 30\n",
      "Skipping line 131823: expected 17 fields, saw 33\n",
      "\n"
     ]
    },
    {
     "name": "stdout",
     "output_type": "stream",
     "text": [
      "Appending table numer 11...\n"
     ]
    },
    {
     "name": "stderr",
     "output_type": "stream",
     "text": [
      "C:\\Users\\Vassil\\AppData\\Local\\Temp\\ipykernel_3644\\2170467750.py:22: FutureWarning: The frame.append method is deprecated and will be removed from pandas in a future version. Use pandas.concat instead.\n",
      "  df = df.append (\n"
     ]
    },
    {
     "name": "stdout",
     "output_type": "stream",
     "text": [
      "Table number 11 appended!\n",
      "Total table size is 1460253.\n",
      " ------------------------\n",
      "Reading table patients - 12 ...\n"
     ]
    },
    {
     "name": "stderr",
     "output_type": "stream",
     "text": [
      "C:\\Users\\Vassil\\AppData\\Local\\Temp\\ipykernel_3644\\2170467750.py:17: FutureWarning: The error_bad_lines argument has been deprecated and will be removed in a future version. Use on_bad_lines in the future.\n",
      "\n",
      "\n",
      "  a = pd.read_csv (path, error_bad_lines=False, warn_bad_lines=True)\n",
      "C:\\Users\\Vassil\\AppData\\Local\\Temp\\ipykernel_3644\\2170467750.py:17: FutureWarning: The warn_bad_lines argument has been deprecated and will be removed in a future version. Use on_bad_lines in the future.\n",
      "\n",
      "\n",
      "  a = pd.read_csv (path, error_bad_lines=False, warn_bad_lines=True)\n",
      "Skipping line 3: expected 17 fields, saw 32\n",
      "Skipping line 942: expected 17 fields, saw 25\n",
      "Skipping line 973: expected 17 fields, saw 21\n",
      "Skipping line 983: expected 17 fields, saw 31\n",
      "Skipping line 1152: expected 17 fields, saw 33\n",
      "Skipping line 1873: expected 17 fields, saw 33\n",
      "Skipping line 2755: expected 17 fields, saw 18\n",
      "Skipping line 3297: expected 17 fields, saw 32\n",
      "Skipping line 3323: expected 17 fields, saw 33\n",
      "Skipping line 3394: expected 17 fields, saw 18\n",
      "Skipping line 3427: expected 17 fields, saw 22\n",
      "Skipping line 3465: expected 17 fields, saw 32\n",
      "Skipping line 3588: expected 17 fields, saw 33\n",
      "Skipping line 3614: expected 17 fields, saw 18\n",
      "Skipping line 3706: expected 17 fields, saw 18\n",
      "Skipping line 3717: expected 17 fields, saw 28\n",
      "Skipping line 3842: expected 17 fields, saw 32\n",
      "Skipping line 4007: expected 17 fields, saw 28\n",
      "Skipping line 4024: expected 17 fields, saw 33\n",
      "Skipping line 5186: expected 17 fields, saw 30\n",
      "Skipping line 5779: expected 17 fields, saw 31\n",
      "Skipping line 6078: expected 17 fields, saw 33\n",
      "Skipping line 8342: expected 17 fields, saw 32\n",
      "Skipping line 8362: expected 17 fields, saw 33\n",
      "Skipping line 9523: expected 17 fields, saw 30\n",
      "Skipping line 9576: expected 17 fields, saw 31\n",
      "Skipping line 11492: expected 17 fields, saw 18\n",
      "Skipping line 13801: expected 17 fields, saw 20\n",
      "Skipping line 14254: expected 17 fields, saw 33\n",
      "Skipping line 14337: expected 17 fields, saw 33\n",
      "Skipping line 14399: expected 17 fields, saw 33\n",
      "Skipping line 14651: expected 17 fields, saw 18\n",
      "Skipping line 16153: expected 17 fields, saw 29\n",
      "Skipping line 16390: expected 17 fields, saw 33\n",
      "Skipping line 17337: expected 17 fields, saw 18\n",
      "Skipping line 17877: expected 17 fields, saw 18\n",
      "Skipping line 18659: expected 17 fields, saw 32\n",
      "Skipping line 19411: expected 17 fields, saw 19\n",
      "Skipping line 19897: expected 17 fields, saw 29\n",
      "Skipping line 21079: expected 17 fields, saw 33\n",
      "Skipping line 22586: expected 17 fields, saw 20\n",
      "Skipping line 22900: expected 17 fields, saw 20\n",
      "Skipping line 22912: expected 17 fields, saw 22\n",
      "Skipping line 23194: expected 17 fields, saw 18\n",
      "Skipping line 24598: expected 17 fields, saw 18\n",
      "Skipping line 24720: expected 17 fields, saw 27\n",
      "Skipping line 25832: expected 17 fields, saw 18\n",
      "Skipping line 26052: expected 17 fields, saw 31\n",
      "Skipping line 26831: expected 17 fields, saw 33\n",
      "Skipping line 27657: expected 17 fields, saw 29\n",
      "Skipping line 27725: expected 17 fields, saw 33\n",
      "Skipping line 27879: expected 17 fields, saw 32\n",
      "Skipping line 28631: expected 17 fields, saw 23\n",
      "Skipping line 29034: expected 17 fields, saw 18\n",
      "Skipping line 29263: expected 17 fields, saw 33\n",
      "Skipping line 29723: expected 17 fields, saw 29\n",
      "Skipping line 29924: expected 17 fields, saw 33\n",
      "Skipping line 30614: expected 17 fields, saw 33\n",
      "Skipping line 30621: expected 17 fields, saw 29\n",
      "Skipping line 30685: expected 17 fields, saw 33\n",
      "Skipping line 31644: expected 17 fields, saw 33\n",
      "Skipping line 31749: expected 17 fields, saw 25\n",
      "Skipping line 32172: expected 17 fields, saw 33\n",
      "Skipping line 32284: expected 17 fields, saw 18\n",
      "\n",
      "Skipping line 33064: expected 17 fields, saw 33\n",
      "Skipping line 33187: expected 17 fields, saw 33\n",
      "Skipping line 33688: expected 17 fields, saw 33\n",
      "Skipping line 34041: expected 17 fields, saw 33\n",
      "Skipping line 37187: expected 17 fields, saw 20\n",
      "Skipping line 37233: expected 17 fields, saw 25\n",
      "Skipping line 37390: expected 17 fields, saw 18\n",
      "Skipping line 39148: expected 17 fields, saw 18\n",
      "Skipping line 39840: expected 17 fields, saw 31\n",
      "Skipping line 40227: expected 17 fields, saw 29\n",
      "Skipping line 41420: expected 17 fields, saw 33\n",
      "Skipping line 43607: expected 17 fields, saw 33\n",
      "Skipping line 44453: expected 17 fields, saw 18\n",
      "Skipping line 44663: expected 17 fields, saw 33\n",
      "Skipping line 46289: expected 17 fields, saw 33\n",
      "Skipping line 47418: expected 17 fields, saw 18\n",
      "Skipping line 47839: expected 17 fields, saw 33\n",
      "Skipping line 48972: expected 17 fields, saw 29\n",
      "Skipping line 49396: expected 17 fields, saw 33\n",
      "Skipping line 50058: expected 17 fields, saw 33\n",
      "Skipping line 50117: expected 17 fields, saw 31\n",
      "Skipping line 50209: expected 17 fields, saw 29\n",
      "Skipping line 50656: expected 17 fields, saw 18\n",
      "Skipping line 50974: expected 17 fields, saw 33\n",
      "Skipping line 51416: expected 17 fields, saw 33\n",
      "Skipping line 51899: expected 17 fields, saw 33\n",
      "Skipping line 52147: expected 17 fields, saw 24\n",
      "Skipping line 52315: expected 17 fields, saw 31\n",
      "Skipping line 53233: expected 17 fields, saw 30\n",
      "Skipping line 54990: expected 17 fields, saw 33\n",
      "Skipping line 55793: expected 17 fields, saw 33\n",
      "Skipping line 55810: expected 17 fields, saw 24\n",
      "Skipping line 56232: expected 17 fields, saw 27\n",
      "Skipping line 56919: expected 17 fields, saw 20\n",
      "Skipping line 58626: expected 17 fields, saw 18\n",
      "Skipping line 58963: expected 17 fields, saw 18\n",
      "Skipping line 59658: expected 17 fields, saw 33\n",
      "Skipping line 60090: expected 17 fields, saw 33\n",
      "Skipping line 61579: expected 17 fields, saw 18\n",
      "Skipping line 61646: expected 17 fields, saw 19\n",
      "Skipping line 61674: expected 17 fields, saw 33\n",
      "Skipping line 62317: expected 17 fields, saw 27\n",
      "Skipping line 62546: expected 17 fields, saw 33\n",
      "Skipping line 62737: expected 17 fields, saw 33\n",
      "Skipping line 64946: expected 17 fields, saw 33\n",
      "Skipping line 65147: expected 17 fields, saw 18\n",
      "Skipping line 65315: expected 17 fields, saw 22\n",
      "\n",
      "Skipping line 66591: expected 17 fields, saw 33\n",
      "Skipping line 66624: expected 17 fields, saw 28\n",
      "Skipping line 67175: expected 17 fields, saw 33\n",
      "Skipping line 67266: expected 17 fields, saw 33\n",
      "Skipping line 69391: expected 17 fields, saw 32\n",
      "Skipping line 69625: expected 17 fields, saw 23\n",
      "Skipping line 71822: expected 17 fields, saw 28\n",
      "Skipping line 71859: expected 17 fields, saw 22\n",
      "Skipping line 72571: expected 17 fields, saw 33\n",
      "Skipping line 74511: expected 17 fields, saw 31\n",
      "Skipping line 74994: expected 17 fields, saw 18\n",
      "Skipping line 76083: expected 17 fields, saw 29\n",
      "Skipping line 78955: expected 17 fields, saw 33\n",
      "Skipping line 79609: expected 17 fields, saw 20\n",
      "Skipping line 80318: expected 17 fields, saw 32\n",
      "Skipping line 80646: expected 17 fields, saw 21\n",
      "Skipping line 80791: expected 17 fields, saw 27\n",
      "Skipping line 81895: expected 17 fields, saw 33\n",
      "Skipping line 83407: expected 17 fields, saw 20\n",
      "Skipping line 84109: expected 17 fields, saw 30\n",
      "Skipping line 85503: expected 17 fields, saw 19\n",
      "Skipping line 85512: expected 17 fields, saw 33\n",
      "Skipping line 86706: expected 17 fields, saw 24\n",
      "Skipping line 86799: expected 17 fields, saw 33\n",
      "Skipping line 89043: expected 17 fields, saw 20\n",
      "Skipping line 89508: expected 17 fields, saw 24\n",
      "Skipping line 90987: expected 17 fields, saw 25\n",
      "Skipping line 91533: expected 17 fields, saw 19\n",
      "Skipping line 92819: expected 17 fields, saw 30\n",
      "Skipping line 94372: expected 17 fields, saw 25\n",
      "Skipping line 94777: expected 17 fields, saw 25\n",
      "Skipping line 95045: expected 17 fields, saw 33\n",
      "Skipping line 95090: expected 17 fields, saw 33\n",
      "Skipping line 95229: expected 17 fields, saw 20\n",
      "Skipping line 95530: expected 17 fields, saw 33\n",
      "Skipping line 97237: expected 17 fields, saw 33\n",
      "Skipping line 97442: expected 17 fields, saw 18\n",
      "Skipping line 97664: expected 17 fields, saw 33\n",
      "Skipping line 98073: expected 17 fields, saw 20\n",
      "Skipping line 98305: expected 17 fields, saw 24\n",
      "\n",
      "Skipping line 98554: expected 17 fields, saw 33\n",
      "Skipping line 99254: expected 17 fields, saw 32\n",
      "Skipping line 99706: expected 17 fields, saw 33\n",
      "Skipping line 102679: expected 17 fields, saw 32\n",
      "Skipping line 103121: expected 17 fields, saw 26\n",
      "Skipping line 103874: expected 17 fields, saw 32\n",
      "Skipping line 104195: expected 17 fields, saw 33\n",
      "Skipping line 104334: expected 17 fields, saw 20\n",
      "Skipping line 104378: expected 17 fields, saw 25\n",
      "Skipping line 104553: expected 17 fields, saw 18\n",
      "Skipping line 106668: expected 17 fields, saw 33\n",
      "Skipping line 108758: expected 17 fields, saw 33\n",
      "Skipping line 109711: expected 17 fields, saw 32\n",
      "Skipping line 110032: expected 17 fields, saw 18\n",
      "Skipping line 111220: expected 17 fields, saw 19\n",
      "Skipping line 111724: expected 17 fields, saw 33\n",
      "Skipping line 112342: expected 17 fields, saw 20\n",
      "Skipping line 112460: expected 17 fields, saw 33\n",
      "Skipping line 113177: expected 17 fields, saw 33\n",
      "Skipping line 114399: expected 17 fields, saw 18\n",
      "Skipping line 114631: expected 17 fields, saw 33\n",
      "Skipping line 117871: expected 17 fields, saw 31\n",
      "Skipping line 119212: expected 17 fields, saw 18\n",
      "Skipping line 121252: expected 17 fields, saw 18\n",
      "Skipping line 122141: expected 17 fields, saw 18\n",
      "Skipping line 122963: expected 17 fields, saw 31\n",
      "Skipping line 124922: expected 17 fields, saw 30\n",
      "Skipping line 125229: expected 17 fields, saw 33\n",
      "Skipping line 125287: expected 17 fields, saw 27\n",
      "Skipping line 125570: expected 17 fields, saw 22\n",
      "Skipping line 126177: expected 17 fields, saw 27\n",
      "Skipping line 127138: expected 17 fields, saw 33\n",
      "Skipping line 129580: expected 17 fields, saw 18\n",
      "Skipping line 129642: expected 17 fields, saw 33\n",
      "Skipping line 130150: expected 17 fields, saw 33\n",
      "\n"
     ]
    },
    {
     "name": "stdout",
     "output_type": "stream",
     "text": [
      "Appending table numer 12...\n"
     ]
    },
    {
     "name": "stderr",
     "output_type": "stream",
     "text": [
      "C:\\Users\\Vassil\\AppData\\Local\\Temp\\ipykernel_3644\\2170467750.py:22: FutureWarning: The frame.append method is deprecated and will be removed from pandas in a future version. Use pandas.concat instead.\n",
      "  df = df.append (\n"
     ]
    },
    {
     "name": "stdout",
     "output_type": "stream",
     "text": [
      "Table number 12 appended!\n",
      "Total table size is 1593143.\n",
      " ------------------------\n"
     ]
    }
   ],
   "source": [
    "# Define table to read:\n",
    "table_name = 'patients'\n",
    "\n",
    "# Read and merge all csv tables for observations:\n",
    "for i in range (1, 13):\n",
    "\n",
    "\n",
    "    # Declare path to table:\n",
    "    path = os.getcwd() + '\\\\synthea_1m_fhir_3_0_May_24\\\\output_'+str(i)+'\\\\'+table_name+'.csv'\n",
    "\n",
    "    print (f'Reading table {table_name} - {i} ...')\n",
    "\n",
    "    if i == 1: # reading first table\n",
    "        df = pd.read_csv (path, error_bad_lines=False, warn_bad_lines=True)\n",
    "\n",
    "    else: # reading subsequent tables\n",
    "        a = pd.read_csv (path, error_bad_lines=False, warn_bad_lines=True)\n",
    "\n",
    "        print (f'Appending table numer {i}...')\n",
    "\n",
    "        # merge with existin observations table:\n",
    "        df = df.append (\n",
    "            a, ignore_index = True\n",
    "        )\n",
    "\n",
    "        # Clean up memory\n",
    "        del a\n",
    "\n",
    "    print (f'Table number {i} appended!')\n",
    "    print (f'Total table size is {df.shape[0]}.\\n ------------------------')"
   ]
  },
  {
   "cell_type": "code",
   "execution_count": 20,
   "id": "03b8b9f8",
   "metadata": {
    "collapsed": true
   },
   "outputs": [
    {
     "name": "stdout",
     "output_type": "stream",
     "text": [
      "(1593143, 17)\n"
     ]
    },
    {
     "data": {
      "text/html": [
       "<div>\n",
       "<style scoped>\n",
       "    .dataframe tbody tr th:only-of-type {\n",
       "        vertical-align: middle;\n",
       "    }\n",
       "\n",
       "    .dataframe tbody tr th {\n",
       "        vertical-align: top;\n",
       "    }\n",
       "\n",
       "    .dataframe thead th {\n",
       "        text-align: right;\n",
       "    }\n",
       "</style>\n",
       "<table border=\"1\" class=\"dataframe\">\n",
       "  <thead>\n",
       "    <tr style=\"text-align: right;\">\n",
       "      <th></th>\n",
       "      <th>ID</th>\n",
       "      <th>BIRTHDATE</th>\n",
       "      <th>DEATHDATE</th>\n",
       "      <th>SSN</th>\n",
       "      <th>DRIVERS</th>\n",
       "      <th>PASSPORT</th>\n",
       "      <th>PREFIX</th>\n",
       "      <th>FIRST</th>\n",
       "      <th>LAST</th>\n",
       "      <th>SUFFIX</th>\n",
       "      <th>MAIDEN</th>\n",
       "      <th>MARITAL</th>\n",
       "      <th>RACE</th>\n",
       "      <th>ETHNICITY</th>\n",
       "      <th>GENDER</th>\n",
       "      <th>BIRTHPLACE</th>\n",
       "      <th>ADDRESS</th>\n",
       "    </tr>\n",
       "  </thead>\n",
       "  <tbody>\n",
       "    <tr>\n",
       "      <th>0</th>\n",
       "      <td>italian</td>\n",
       "      <td>M</td>\n",
       "      <td>Boston MA US</td>\n",
       "      <td>NaN</td>\n",
       "      <td>S99943248</td>\n",
       "      <td>X93787069X</td>\n",
       "      <td>Mr.</td>\n",
       "      <td>Jennings258</td>\n",
       "      <td>Mertz249</td>\n",
       "      <td>NaN</td>\n",
       "      <td>NaN</td>\n",
       "      <td>NaN</td>\n",
       "      <td>white</td>\n",
       "      <td>polish</td>\n",
       "      <td>M</td>\n",
       "      <td>Danvers MA US</td>\n",
       "      <td>526 Herzog Parkways Eastham MA 02642 US</td>\n",
       "    </tr>\n",
       "    <tr>\n",
       "      <th>1</th>\n",
       "      <td>NaN</td>\n",
       "      <td>NaN</td>\n",
       "      <td>NaN</td>\n",
       "      <td>NaN</td>\n",
       "      <td>NaN</td>\n",
       "      <td>NaN</td>\n",
       "      <td>NaN</td>\n",
       "      <td>NaN</td>\n",
       "      <td>NaN</td>\n",
       "      <td>NaN</td>\n",
       "      <td>NaN</td>\n",
       "      <td>NaN</td>\n",
       "      <td>NaN</td>\n",
       "      <td>NaN</td>\n",
       "      <td>NaN</td>\n",
       "      <td>NaN</td>\n",
       "      <td>NaN</td>\n",
       "    </tr>\n",
       "    <tr>\n",
       "      <th>2</th>\n",
       "      <td>20810 Bart Inlet Eastham MA 02642 US</td>\n",
       "      <td>NaN</td>\n",
       "      <td>NaN</td>\n",
       "      <td>NaN</td>\n",
       "      <td>NaN</td>\n",
       "      <td>NaN</td>\n",
       "      <td>NaN</td>\n",
       "      <td>NaN</td>\n",
       "      <td>NaN</td>\n",
       "      <td>NaN</td>\n",
       "      <td>NaN</td>\n",
       "      <td>NaN</td>\n",
       "      <td>NaN</td>\n",
       "      <td>NaN</td>\n",
       "      <td>NaN</td>\n",
       "      <td>NaN</td>\n",
       "      <td>NaN</td>\n",
       "    </tr>\n",
       "    <tr>\n",
       "      <th>3</th>\n",
       "      <td>295 Walter Mill Dennis MA 02638 US</td>\n",
       "      <td>NaN</td>\n",
       "      <td>NaN</td>\n",
       "      <td>NaN</td>\n",
       "      <td>NaN</td>\n",
       "      <td>NaN</td>\n",
       "      <td>NaN</td>\n",
       "      <td>NaN</td>\n",
       "      <td>NaN</td>\n",
       "      <td>NaN</td>\n",
       "      <td>NaN</td>\n",
       "      <td>NaN</td>\n",
       "      <td>NaN</td>\n",
       "      <td>NaN</td>\n",
       "      <td>NaN</td>\n",
       "      <td>NaN</td>\n",
       "      <td>NaN</td>\n",
       "    </tr>\n",
       "    <tr>\n",
       "      <th>4</th>\n",
       "      <td>23401 Gerhold Fords Eastham MA 02642 US</td>\n",
       "      <td>NaN</td>\n",
       "      <td>NaN</td>\n",
       "      <td>NaN</td>\n",
       "      <td>NaN</td>\n",
       "      <td>NaN</td>\n",
       "      <td>NaN</td>\n",
       "      <td>NaN</td>\n",
       "      <td>NaN</td>\n",
       "      <td>NaN</td>\n",
       "      <td>NaN</td>\n",
       "      <td>NaN</td>\n",
       "      <td>NaN</td>\n",
       "      <td>NaN</td>\n",
       "      <td>NaN</td>\n",
       "      <td>NaN</td>\n",
       "      <td>NaN</td>\n",
       "    </tr>\n",
       "    <tr>\n",
       "      <th>...</th>\n",
       "      <td>...</td>\n",
       "      <td>...</td>\n",
       "      <td>...</td>\n",
       "      <td>...</td>\n",
       "      <td>...</td>\n",
       "      <td>...</td>\n",
       "      <td>...</td>\n",
       "      <td>...</td>\n",
       "      <td>...</td>\n",
       "      <td>...</td>\n",
       "      <td>...</td>\n",
       "      <td>...</td>\n",
       "      <td>...</td>\n",
       "      <td>...</td>\n",
       "      <td>...</td>\n",
       "      <td>...</td>\n",
       "      <td>...</td>\n",
       "    </tr>\n",
       "    <tr>\n",
       "      <th>1593138</th>\n",
       "      <td>c58f4fa8-8b09-4267-abd9-37f8d5825c5f</td>\n",
       "      <td>1939-01-08</td>\n",
       "      <td>2016-02-28</td>\n",
       "      <td>999-99-4930</td>\n",
       "      <td>S99983686</td>\n",
       "      <td>X59356112X</td>\n",
       "      <td>Mrs.</td>\n",
       "      <td>Alexandra712</td>\n",
       "      <td>Waelchi583</td>\n",
       "      <td>NaN</td>\n",
       "      <td>Feest188</td>\n",
       "      <td>M</td>\n",
       "      <td>asian</td>\n",
       "      <td>asian_indian</td>\n",
       "      <td>F</td>\n",
       "      <td>Winchendon MA US</td>\n",
       "      <td>4944 Kamille Creek Suite 607 Boston MA 02127 US</td>\n",
       "    </tr>\n",
       "    <tr>\n",
       "      <th>1593139</th>\n",
       "      <td>953f9c04-1aba-4821-8dbb-90e8fbafafb2</td>\n",
       "      <td>1939-05-01</td>\n",
       "      <td>1978-12-25</td>\n",
       "      <td>999-83-9728</td>\n",
       "      <td>S99937094</td>\n",
       "      <td>false</td>\n",
       "      <td>Mrs.</td>\n",
       "      <td>Colt56</td>\n",
       "      <td>Gibson264</td>\n",
       "      <td>NaN</td>\n",
       "      <td>Kilback971</td>\n",
       "      <td>M</td>\n",
       "      <td>asian</td>\n",
       "      <td>asian_indian</td>\n",
       "      <td>F</td>\n",
       "      <td>Dracut MA US</td>\n",
       "      <td>735 Litzy Inlet Boston MA 02203 US</td>\n",
       "    </tr>\n",
       "    <tr>\n",
       "      <th>1593140</th>\n",
       "      <td>0d8cca67-1970-4f15-b639-426a387686f4</td>\n",
       "      <td>1949-12-01</td>\n",
       "      <td>NaN</td>\n",
       "      <td>999-50-3789</td>\n",
       "      <td>S99993389</td>\n",
       "      <td>X18854925X</td>\n",
       "      <td>Mrs.</td>\n",
       "      <td>Maida335</td>\n",
       "      <td>Baumbach589</td>\n",
       "      <td>NaN</td>\n",
       "      <td>Beatty138</td>\n",
       "      <td>M</td>\n",
       "      <td>hispanic</td>\n",
       "      <td>puerto_rican</td>\n",
       "      <td>F</td>\n",
       "      <td>Brookline MA US</td>\n",
       "      <td>292 Gerlach Landing Suite 812 Boston MA 02117 US</td>\n",
       "    </tr>\n",
       "    <tr>\n",
       "      <th>1593141</th>\n",
       "      <td>7dccb70e-973e-4855-a69d-7df63b866968</td>\n",
       "      <td>1939-02-22</td>\n",
       "      <td>2000-04-04</td>\n",
       "      <td>999-47-2393</td>\n",
       "      <td>S99930531</td>\n",
       "      <td>false</td>\n",
       "      <td>Mrs.</td>\n",
       "      <td>Mckayla180</td>\n",
       "      <td>Mann945</td>\n",
       "      <td>NaN</td>\n",
       "      <td>Heaney263</td>\n",
       "      <td>M</td>\n",
       "      <td>asian</td>\n",
       "      <td>asian_indian</td>\n",
       "      <td>F</td>\n",
       "      <td>Quincy MA US</td>\n",
       "      <td>29773 O'Keefe Highway Apt. 961 Boston MA 02204 US</td>\n",
       "    </tr>\n",
       "    <tr>\n",
       "      <th>1593142</th>\n",
       "      <td>de7374d5-f181-45ba-9a00-9bcddc45c2a7</td>\n",
       "      <td>1938-07-25</td>\n",
       "      <td>NaN</td>\n",
       "      <td>999-18-1819</td>\n",
       "      <td>S99949401</td>\n",
       "      <td>X24682383X</td>\n",
       "      <td>Ms.</td>\n",
       "      <td>Teagan35</td>\n",
       "      <td>Kilback971</td>\n",
       "      <td>NaN</td>\n",
       "      <td>NaN</td>\n",
       "      <td>S</td>\n",
       "      <td>asian</td>\n",
       "      <td>asian_indian</td>\n",
       "      <td>F</td>\n",
       "      <td>Winthrop Town MA US</td>\n",
       "      <td>888 Lindgren Courts Boston MA 02204 US</td>\n",
       "    </tr>\n",
       "  </tbody>\n",
       "</table>\n",
       "<p>1593143 rows × 17 columns</p>\n",
       "</div>"
      ],
      "text/plain": [
       "                                              ID   BIRTHDATE     DEATHDATE  \\\n",
       "0                                        italian           M  Boston MA US   \n",
       "1                                            NaN         NaN           NaN   \n",
       "2           20810 Bart Inlet Eastham MA 02642 US         NaN           NaN   \n",
       "3             295 Walter Mill Dennis MA 02638 US         NaN           NaN   \n",
       "4        23401 Gerhold Fords Eastham MA 02642 US         NaN           NaN   \n",
       "...                                          ...         ...           ...   \n",
       "1593138     c58f4fa8-8b09-4267-abd9-37f8d5825c5f  1939-01-08    2016-02-28   \n",
       "1593139     953f9c04-1aba-4821-8dbb-90e8fbafafb2  1939-05-01    1978-12-25   \n",
       "1593140     0d8cca67-1970-4f15-b639-426a387686f4  1949-12-01           NaN   \n",
       "1593141     7dccb70e-973e-4855-a69d-7df63b866968  1939-02-22    2000-04-04   \n",
       "1593142     de7374d5-f181-45ba-9a00-9bcddc45c2a7  1938-07-25           NaN   \n",
       "\n",
       "                 SSN    DRIVERS    PASSPORT PREFIX         FIRST         LAST  \\\n",
       "0                NaN  S99943248  X93787069X    Mr.   Jennings258     Mertz249   \n",
       "1                NaN        NaN         NaN    NaN           NaN          NaN   \n",
       "2                NaN        NaN         NaN    NaN           NaN          NaN   \n",
       "3                NaN        NaN         NaN    NaN           NaN          NaN   \n",
       "4                NaN        NaN         NaN    NaN           NaN          NaN   \n",
       "...              ...        ...         ...    ...           ...          ...   \n",
       "1593138  999-99-4930  S99983686  X59356112X   Mrs.  Alexandra712   Waelchi583   \n",
       "1593139  999-83-9728  S99937094       false   Mrs.        Colt56    Gibson264   \n",
       "1593140  999-50-3789  S99993389  X18854925X   Mrs.      Maida335  Baumbach589   \n",
       "1593141  999-47-2393  S99930531       false   Mrs.    Mckayla180      Mann945   \n",
       "1593142  999-18-1819  S99949401  X24682383X    Ms.      Teagan35   Kilback971   \n",
       "\n",
       "        SUFFIX      MAIDEN MARITAL      RACE     ETHNICITY GENDER  \\\n",
       "0          NaN         NaN     NaN     white        polish      M   \n",
       "1          NaN         NaN     NaN       NaN           NaN    NaN   \n",
       "2          NaN         NaN     NaN       NaN           NaN    NaN   \n",
       "3          NaN         NaN     NaN       NaN           NaN    NaN   \n",
       "4          NaN         NaN     NaN       NaN           NaN    NaN   \n",
       "...        ...         ...     ...       ...           ...    ...   \n",
       "1593138    NaN    Feest188       M     asian  asian_indian      F   \n",
       "1593139    NaN  Kilback971       M     asian  asian_indian      F   \n",
       "1593140    NaN   Beatty138       M  hispanic  puerto_rican      F   \n",
       "1593141    NaN   Heaney263       M     asian  asian_indian      F   \n",
       "1593142    NaN         NaN       S     asian  asian_indian      F   \n",
       "\n",
       "                  BIRTHPLACE  \\\n",
       "0              Danvers MA US   \n",
       "1                        NaN   \n",
       "2                        NaN   \n",
       "3                        NaN   \n",
       "4                        NaN   \n",
       "...                      ...   \n",
       "1593138     Winchendon MA US   \n",
       "1593139         Dracut MA US   \n",
       "1593140      Brookline MA US   \n",
       "1593141         Quincy MA US   \n",
       "1593142  Winthrop Town MA US   \n",
       "\n",
       "                                                   ADDRESS  \n",
       "0                  526 Herzog Parkways Eastham MA 02642 US  \n",
       "1                                                      NaN  \n",
       "2                                                      NaN  \n",
       "3                                                      NaN  \n",
       "4                                                      NaN  \n",
       "...                                                    ...  \n",
       "1593138    4944 Kamille Creek Suite 607 Boston MA 02127 US  \n",
       "1593139                 735 Litzy Inlet Boston MA 02203 US  \n",
       "1593140   292 Gerlach Landing Suite 812 Boston MA 02117 US  \n",
       "1593141  29773 O'Keefe Highway Apt. 961 Boston MA 02204 US  \n",
       "1593142             888 Lindgren Courts Boston MA 02204 US  \n",
       "\n",
       "[1593143 rows x 17 columns]"
      ]
     },
     "metadata": {},
     "output_type": "display_data"
    }
   ],
   "source": [
    "print(df.shape)\n",
    "display(df)"
   ]
  },
  {
   "cell_type": "markdown",
   "id": "a1ff2845",
   "metadata": {},
   "source": [
    "#### Tidy table"
   ]
  },
  {
   "cell_type": "markdown",
   "id": "559db9f9",
   "metadata": {},
   "source": [
    "Check that all patients have a valid ID:"
   ]
  },
  {
   "cell_type": "code",
   "execution_count": 21,
   "id": "206ecaf8",
   "metadata": {},
   "outputs": [
    {
     "name": "stdout",
     "output_type": "stream",
     "text": [
      "All patients are in valid format?\n",
      " False\n"
     ]
    }
   ],
   "source": [
    "valid_patient_format = df.ID.apply(lambda x: \n",
    "                                               bool(\n",
    "                                                   re.match(\n",
    "                                                       r'^[0-9a-z]{8}-[0-9a-z]{4}-[0-9a-z]{4}-[0-9a-z]{4}-[0-9a-z]{12}$', \n",
    "                                                       str(x))))\n",
    "print('All patients are in valid format?\\n', valid_patient_format.all())"
   ]
  },
  {
   "cell_type": "markdown",
   "id": "fd4fe8eb",
   "metadata": {},
   "source": [
    "Remove all patients without a valid ID"
   ]
  },
  {
   "cell_type": "code",
   "execution_count": 22,
   "id": "d544f529",
   "metadata": {},
   "outputs": [
    {
     "data": {
      "text/plain": [
       "1192962"
      ]
     },
     "execution_count": 22,
     "metadata": {},
     "output_type": "execute_result"
    }
   ],
   "source": [
    "sum(valid_patient_format)"
   ]
  },
  {
   "cell_type": "code",
   "execution_count": 23,
   "id": "39820b92",
   "metadata": {},
   "outputs": [],
   "source": [
    "patients = df[valid_patient_format]"
   ]
  },
  {
   "cell_type": "code",
   "execution_count": 24,
   "id": "ba3ffa76",
   "metadata": {
    "scrolled": true
   },
   "outputs": [
    {
     "name": "stdout",
     "output_type": "stream",
     "text": [
      "Dimensions of data with valid patient IDs:\n",
      " (1192962, 17)\n"
     ]
    }
   ],
   "source": [
    "print('Dimensions of data with valid patient IDs:\\n', patients.shape)"
   ]
  },
  {
   "cell_type": "markdown",
   "id": "02dbd851",
   "metadata": {},
   "source": [
    "Make sure `BIRTHDATE` and `DEATHDATE` are datetime"
   ]
  },
  {
   "cell_type": "code",
   "execution_count": 25,
   "id": "ed4c7784",
   "metadata": {
    "collapsed": true
   },
   "outputs": [
    {
     "data": {
      "text/html": [
       "<div>\n",
       "<style scoped>\n",
       "    .dataframe tbody tr th:only-of-type {\n",
       "        vertical-align: middle;\n",
       "    }\n",
       "\n",
       "    .dataframe tbody tr th {\n",
       "        vertical-align: top;\n",
       "    }\n",
       "\n",
       "    .dataframe thead th {\n",
       "        text-align: right;\n",
       "    }\n",
       "</style>\n",
       "<table border=\"1\" class=\"dataframe\">\n",
       "  <thead>\n",
       "    <tr style=\"text-align: right;\">\n",
       "      <th></th>\n",
       "      <th>ID</th>\n",
       "      <th>BIRTHDATE</th>\n",
       "      <th>DEATHDATE</th>\n",
       "      <th>SSN</th>\n",
       "      <th>DRIVERS</th>\n",
       "      <th>PASSPORT</th>\n",
       "      <th>PREFIX</th>\n",
       "      <th>FIRST</th>\n",
       "      <th>LAST</th>\n",
       "      <th>SUFFIX</th>\n",
       "      <th>MAIDEN</th>\n",
       "      <th>MARITAL</th>\n",
       "      <th>RACE</th>\n",
       "      <th>ETHNICITY</th>\n",
       "      <th>GENDER</th>\n",
       "      <th>BIRTHPLACE</th>\n",
       "      <th>ADDRESS</th>\n",
       "    </tr>\n",
       "  </thead>\n",
       "  <tbody>\n",
       "    <tr>\n",
       "      <th>29455</th>\n",
       "      <td>c1c0f5f8-2099-4479-8450-5217276ad7f5</td>\n",
       "      <td>69152 Pamela Walks Suite 840 Lawrence MA 01843 US</td>\n",
       "      <td>NaN</td>\n",
       "      <td>NaN</td>\n",
       "      <td>NaN</td>\n",
       "      <td>NaN</td>\n",
       "      <td>NaN</td>\n",
       "      <td>NaN</td>\n",
       "      <td>NaN</td>\n",
       "      <td>NaN</td>\n",
       "      <td>NaN</td>\n",
       "      <td>NaN</td>\n",
       "      <td>NaN</td>\n",
       "      <td>NaN</td>\n",
       "      <td>NaN</td>\n",
       "      <td>NaN</td>\n",
       "      <td>NaN</td>\n",
       "    </tr>\n",
       "    <tr>\n",
       "      <th>66350</th>\n",
       "      <td>d286d701-2161-4b69-a0f2-9557247de0c6</td>\n",
       "      <td>4812 Wehner Crest Natick MA 01760 US</td>\n",
       "      <td>NaN</td>\n",
       "      <td>NaN</td>\n",
       "      <td>NaN</td>\n",
       "      <td>NaN</td>\n",
       "      <td>NaN</td>\n",
       "      <td>NaN</td>\n",
       "      <td>NaN</td>\n",
       "      <td>NaN</td>\n",
       "      <td>NaN</td>\n",
       "      <td>NaN</td>\n",
       "      <td>NaN</td>\n",
       "      <td>NaN</td>\n",
       "      <td>NaN</td>\n",
       "      <td>NaN</td>\n",
       "      <td>NaN</td>\n",
       "    </tr>\n",
       "    <tr>\n",
       "      <th>70566</th>\n",
       "      <td>89286075-7237-46fe-93b1-ce2f4a1aac43</td>\n",
       "      <td>763 Alexandre Flats Suite 577 Sudbury MA 01776 US</td>\n",
       "      <td>NaN</td>\n",
       "      <td>NaN</td>\n",
       "      <td>NaN</td>\n",
       "      <td>NaN</td>\n",
       "      <td>NaN</td>\n",
       "      <td>NaN</td>\n",
       "      <td>NaN</td>\n",
       "      <td>NaN</td>\n",
       "      <td>NaN</td>\n",
       "      <td>NaN</td>\n",
       "      <td>NaN</td>\n",
       "      <td>NaN</td>\n",
       "      <td>NaN</td>\n",
       "      <td>NaN</td>\n",
       "      <td>NaN</td>\n",
       "    </tr>\n",
       "    <tr>\n",
       "      <th>75128</th>\n",
       "      <td>d977b6f0-bfa5-4ee4-a3b9-9a67f5d3a4f8</td>\n",
       "      <td>804 Magdalena Spring Apt. 978 Waltham MA 02455 US</td>\n",
       "      <td>NaN</td>\n",
       "      <td>NaN</td>\n",
       "      <td>NaN</td>\n",
       "      <td>NaN</td>\n",
       "      <td>NaN</td>\n",
       "      <td>NaN</td>\n",
       "      <td>NaN</td>\n",
       "      <td>NaN</td>\n",
       "      <td>NaN</td>\n",
       "      <td>NaN</td>\n",
       "      <td>NaN</td>\n",
       "      <td>NaN</td>\n",
       "      <td>NaN</td>\n",
       "      <td>NaN</td>\n",
       "      <td>NaN</td>\n",
       "    </tr>\n",
       "    <tr>\n",
       "      <th>87329</th>\n",
       "      <td>c626c21e-f05b-494b-b077-35e4421b5130</td>\n",
       "      <td>4006 Murazik Field Suite 250 Norwood MA 02062 US</td>\n",
       "      <td>NaN</td>\n",
       "      <td>NaN</td>\n",
       "      <td>NaN</td>\n",
       "      <td>NaN</td>\n",
       "      <td>NaN</td>\n",
       "      <td>NaN</td>\n",
       "      <td>NaN</td>\n",
       "      <td>NaN</td>\n",
       "      <td>NaN</td>\n",
       "      <td>NaN</td>\n",
       "      <td>NaN</td>\n",
       "      <td>NaN</td>\n",
       "      <td>NaN</td>\n",
       "      <td>NaN</td>\n",
       "      <td>NaN</td>\n",
       "    </tr>\n",
       "  </tbody>\n",
       "</table>\n",
       "</div>"
      ],
      "text/plain": [
       "                                         ID  \\\n",
       "29455  c1c0f5f8-2099-4479-8450-5217276ad7f5   \n",
       "66350  d286d701-2161-4b69-a0f2-9557247de0c6   \n",
       "70566  89286075-7237-46fe-93b1-ce2f4a1aac43   \n",
       "75128  d977b6f0-bfa5-4ee4-a3b9-9a67f5d3a4f8   \n",
       "87329  c626c21e-f05b-494b-b077-35e4421b5130   \n",
       "\n",
       "                                               BIRTHDATE DEATHDATE  SSN  \\\n",
       "29455  69152 Pamela Walks Suite 840 Lawrence MA 01843 US       NaN  NaN   \n",
       "66350               4812 Wehner Crest Natick MA 01760 US       NaN  NaN   \n",
       "70566  763 Alexandre Flats Suite 577 Sudbury MA 01776 US       NaN  NaN   \n",
       "75128  804 Magdalena Spring Apt. 978 Waltham MA 02455 US       NaN  NaN   \n",
       "87329   4006 Murazik Field Suite 250 Norwood MA 02062 US       NaN  NaN   \n",
       "\n",
       "      DRIVERS PASSPORT PREFIX FIRST LAST SUFFIX MAIDEN MARITAL RACE ETHNICITY  \\\n",
       "29455     NaN      NaN    NaN   NaN  NaN    NaN    NaN     NaN  NaN       NaN   \n",
       "66350     NaN      NaN    NaN   NaN  NaN    NaN    NaN     NaN  NaN       NaN   \n",
       "70566     NaN      NaN    NaN   NaN  NaN    NaN    NaN     NaN  NaN       NaN   \n",
       "75128     NaN      NaN    NaN   NaN  NaN    NaN    NaN     NaN  NaN       NaN   \n",
       "87329     NaN      NaN    NaN   NaN  NaN    NaN    NaN     NaN  NaN       NaN   \n",
       "\n",
       "      GENDER BIRTHPLACE ADDRESS  \n",
       "29455    NaN        NaN     NaN  \n",
       "66350    NaN        NaN     NaN  \n",
       "70566    NaN        NaN     NaN  \n",
       "75128    NaN        NaN     NaN  \n",
       "87329    NaN        NaN     NaN  "
      ]
     },
     "execution_count": 25,
     "metadata": {},
     "output_type": "execute_result"
    }
   ],
   "source": [
    "patients.head()"
   ]
  },
  {
   "cell_type": "markdown",
   "id": "124a0198",
   "metadata": {},
   "source": [
    "Remove all entries that do not contain a valid date of birth entry in `BIRTHDATE`."
   ]
  },
  {
   "cell_type": "code",
   "execution_count": 26,
   "id": "fdd385de",
   "metadata": {},
   "outputs": [],
   "source": [
    "patients = patients[patients.BIRTHDATE.str.contains(r'\\d{4}-\\d{2}-\\d{2}')]"
   ]
  },
  {
   "cell_type": "code",
   "execution_count": 27,
   "id": "fed5558c",
   "metadata": {
    "collapsed": true
   },
   "outputs": [
    {
     "data": {
      "text/html": [
       "<div>\n",
       "<style scoped>\n",
       "    .dataframe tbody tr th:only-of-type {\n",
       "        vertical-align: middle;\n",
       "    }\n",
       "\n",
       "    .dataframe tbody tr th {\n",
       "        vertical-align: top;\n",
       "    }\n",
       "\n",
       "    .dataframe thead th {\n",
       "        text-align: right;\n",
       "    }\n",
       "</style>\n",
       "<table border=\"1\" class=\"dataframe\">\n",
       "  <thead>\n",
       "    <tr style=\"text-align: right;\">\n",
       "      <th></th>\n",
       "      <th>ID</th>\n",
       "      <th>BIRTHDATE</th>\n",
       "      <th>DEATHDATE</th>\n",
       "      <th>SSN</th>\n",
       "      <th>DRIVERS</th>\n",
       "      <th>PASSPORT</th>\n",
       "      <th>PREFIX</th>\n",
       "      <th>FIRST</th>\n",
       "      <th>LAST</th>\n",
       "      <th>SUFFIX</th>\n",
       "      <th>MAIDEN</th>\n",
       "      <th>MARITAL</th>\n",
       "      <th>RACE</th>\n",
       "      <th>ETHNICITY</th>\n",
       "      <th>GENDER</th>\n",
       "      <th>BIRTHPLACE</th>\n",
       "      <th>ADDRESS</th>\n",
       "    </tr>\n",
       "  </thead>\n",
       "  <tbody>\n",
       "    <tr>\n",
       "      <th>132896</th>\n",
       "      <td>d3ae0579-ac2c-48b0-a0c1-a858b63e3b99</td>\n",
       "      <td>2013-12-02</td>\n",
       "      <td>NaN</td>\n",
       "      <td>999-85-8182</td>\n",
       "      <td>NaN</td>\n",
       "      <td>NaN</td>\n",
       "      <td>NaN</td>\n",
       "      <td>Katlynn733</td>\n",
       "      <td>Kulas756</td>\n",
       "      <td>NaN</td>\n",
       "      <td>NaN</td>\n",
       "      <td>NaN</td>\n",
       "      <td>white</td>\n",
       "      <td>scottish</td>\n",
       "      <td>M</td>\n",
       "      <td>North Andover MA US</td>\n",
       "      <td>971 MacGyver Lake Apt. 695 Chatham MA 02633 US</td>\n",
       "    </tr>\n",
       "    <tr>\n",
       "      <th>132897</th>\n",
       "      <td>6304009d-9c80-44f0-ae72-4c42eb5e8f38</td>\n",
       "      <td>2006-12-02</td>\n",
       "      <td>NaN</td>\n",
       "      <td>999-79-6418</td>\n",
       "      <td>NaN</td>\n",
       "      <td>NaN</td>\n",
       "      <td>NaN</td>\n",
       "      <td>Maria168</td>\n",
       "      <td>Bechtelar102</td>\n",
       "      <td>NaN</td>\n",
       "      <td>NaN</td>\n",
       "      <td>NaN</td>\n",
       "      <td>white</td>\n",
       "      <td>french</td>\n",
       "      <td>M</td>\n",
       "      <td>Florida MA US</td>\n",
       "      <td>9591 Fern Unions Eastham MA 02642 US</td>\n",
       "    </tr>\n",
       "    <tr>\n",
       "      <th>132898</th>\n",
       "      <td>927cdcb7-adfb-4968-b5d4-745764eb931e</td>\n",
       "      <td>1996-12-24</td>\n",
       "      <td>NaN</td>\n",
       "      <td>999-23-7921</td>\n",
       "      <td>S99965998</td>\n",
       "      <td>false</td>\n",
       "      <td>Ms.</td>\n",
       "      <td>Susana578</td>\n",
       "      <td>Weissnat96</td>\n",
       "      <td>NaN</td>\n",
       "      <td>NaN</td>\n",
       "      <td>NaN</td>\n",
       "      <td>white</td>\n",
       "      <td>irish</td>\n",
       "      <td>F</td>\n",
       "      <td>Westwood MA US</td>\n",
       "      <td>293 Jaeden Drive Eastham MA 02642 US</td>\n",
       "    </tr>\n",
       "    <tr>\n",
       "      <th>132899</th>\n",
       "      <td>47c8c88a-7c03-48d8-85d1-3f37299cac61</td>\n",
       "      <td>1992-10-07</td>\n",
       "      <td>NaN</td>\n",
       "      <td>999-28-1975</td>\n",
       "      <td>S99911349</td>\n",
       "      <td>false</td>\n",
       "      <td>Ms.</td>\n",
       "      <td>Precious239</td>\n",
       "      <td>McLaughlin261</td>\n",
       "      <td>NaN</td>\n",
       "      <td>NaN</td>\n",
       "      <td>NaN</td>\n",
       "      <td>white</td>\n",
       "      <td>english</td>\n",
       "      <td>F</td>\n",
       "      <td>Brockton MA US</td>\n",
       "      <td>724 Sabina Station Suite 136 Eastham MA 02642 US</td>\n",
       "    </tr>\n",
       "    <tr>\n",
       "      <th>132900</th>\n",
       "      <td>971c0a8b-e356-48d1-8de5-e0f9688b10cf</td>\n",
       "      <td>1985-03-18</td>\n",
       "      <td>NaN</td>\n",
       "      <td>999-38-6138</td>\n",
       "      <td>S99995084</td>\n",
       "      <td>false</td>\n",
       "      <td>Mr.</td>\n",
       "      <td>America141</td>\n",
       "      <td>Weber8</td>\n",
       "      <td>NaN</td>\n",
       "      <td>NaN</td>\n",
       "      <td>M</td>\n",
       "      <td>white</td>\n",
       "      <td>french_canadian</td>\n",
       "      <td>M</td>\n",
       "      <td>Wakefield MA US</td>\n",
       "      <td>328 Alexie Crest Eastham MA 02642 US</td>\n",
       "    </tr>\n",
       "  </tbody>\n",
       "</table>\n",
       "</div>"
      ],
      "text/plain": [
       "                                          ID   BIRTHDATE DEATHDATE  \\\n",
       "132896  d3ae0579-ac2c-48b0-a0c1-a858b63e3b99  2013-12-02       NaN   \n",
       "132897  6304009d-9c80-44f0-ae72-4c42eb5e8f38  2006-12-02       NaN   \n",
       "132898  927cdcb7-adfb-4968-b5d4-745764eb931e  1996-12-24       NaN   \n",
       "132899  47c8c88a-7c03-48d8-85d1-3f37299cac61  1992-10-07       NaN   \n",
       "132900  971c0a8b-e356-48d1-8de5-e0f9688b10cf  1985-03-18       NaN   \n",
       "\n",
       "                SSN    DRIVERS PASSPORT PREFIX        FIRST           LAST  \\\n",
       "132896  999-85-8182        NaN      NaN    NaN   Katlynn733       Kulas756   \n",
       "132897  999-79-6418        NaN      NaN    NaN     Maria168   Bechtelar102   \n",
       "132898  999-23-7921  S99965998    false    Ms.    Susana578     Weissnat96   \n",
       "132899  999-28-1975  S99911349    false    Ms.  Precious239  McLaughlin261   \n",
       "132900  999-38-6138  S99995084    false    Mr.   America141         Weber8   \n",
       "\n",
       "       SUFFIX MAIDEN MARITAL   RACE        ETHNICITY GENDER  \\\n",
       "132896    NaN    NaN     NaN  white         scottish      M   \n",
       "132897    NaN    NaN     NaN  white           french      M   \n",
       "132898    NaN    NaN     NaN  white            irish      F   \n",
       "132899    NaN    NaN     NaN  white          english      F   \n",
       "132900    NaN    NaN       M  white  french_canadian      M   \n",
       "\n",
       "                 BIRTHPLACE                                           ADDRESS  \n",
       "132896  North Andover MA US    971 MacGyver Lake Apt. 695 Chatham MA 02633 US  \n",
       "132897        Florida MA US              9591 Fern Unions Eastham MA 02642 US  \n",
       "132898       Westwood MA US              293 Jaeden Drive Eastham MA 02642 US  \n",
       "132899       Brockton MA US  724 Sabina Station Suite 136 Eastham MA 02642 US  \n",
       "132900      Wakefield MA US              328 Alexie Crest Eastham MA 02642 US  "
      ]
     },
     "execution_count": 27,
     "metadata": {},
     "output_type": "execute_result"
    }
   ],
   "source": [
    "patients.head()"
   ]
  },
  {
   "cell_type": "code",
   "execution_count": 28,
   "id": "3ce48f06",
   "metadata": {},
   "outputs": [
    {
     "data": {
      "text/plain": [
       "(1192923, 17)"
      ]
     },
     "execution_count": 28,
     "metadata": {},
     "output_type": "execute_result"
    }
   ],
   "source": [
    "patients.shape"
   ]
  },
  {
   "cell_type": "markdown",
   "id": "aac8d488",
   "metadata": {},
   "source": [
    "Keep only the first occurrence of date of birth (if multiple occur)."
   ]
  },
  {
   "cell_type": "code",
   "execution_count": 30,
   "id": "57352ad6",
   "metadata": {},
   "outputs": [],
   "source": [
    "patients.BIRTHDATE = patients.BIRTHDATE.str.extract(r'(\\d{4}-\\d{2}-\\d{2})')"
   ]
  },
  {
   "cell_type": "code",
   "execution_count": 31,
   "id": "a8b944fa",
   "metadata": {
    "collapsed": true
   },
   "outputs": [
    {
     "name": "stdout",
     "output_type": "stream",
     "text": [
      "(1192923, 17)\n"
     ]
    },
    {
     "data": {
      "text/html": [
       "<div>\n",
       "<style scoped>\n",
       "    .dataframe tbody tr th:only-of-type {\n",
       "        vertical-align: middle;\n",
       "    }\n",
       "\n",
       "    .dataframe tbody tr th {\n",
       "        vertical-align: top;\n",
       "    }\n",
       "\n",
       "    .dataframe thead th {\n",
       "        text-align: right;\n",
       "    }\n",
       "</style>\n",
       "<table border=\"1\" class=\"dataframe\">\n",
       "  <thead>\n",
       "    <tr style=\"text-align: right;\">\n",
       "      <th></th>\n",
       "      <th>ID</th>\n",
       "      <th>BIRTHDATE</th>\n",
       "      <th>DEATHDATE</th>\n",
       "      <th>SSN</th>\n",
       "      <th>DRIVERS</th>\n",
       "      <th>PASSPORT</th>\n",
       "      <th>PREFIX</th>\n",
       "      <th>FIRST</th>\n",
       "      <th>LAST</th>\n",
       "      <th>SUFFIX</th>\n",
       "      <th>MAIDEN</th>\n",
       "      <th>MARITAL</th>\n",
       "      <th>RACE</th>\n",
       "      <th>ETHNICITY</th>\n",
       "      <th>GENDER</th>\n",
       "      <th>BIRTHPLACE</th>\n",
       "      <th>ADDRESS</th>\n",
       "    </tr>\n",
       "  </thead>\n",
       "  <tbody>\n",
       "    <tr>\n",
       "      <th>132896</th>\n",
       "      <td>d3ae0579-ac2c-48b0-a0c1-a858b63e3b99</td>\n",
       "      <td>2013-12-02</td>\n",
       "      <td>NaN</td>\n",
       "      <td>999-85-8182</td>\n",
       "      <td>NaN</td>\n",
       "      <td>NaN</td>\n",
       "      <td>NaN</td>\n",
       "      <td>Katlynn733</td>\n",
       "      <td>Kulas756</td>\n",
       "      <td>NaN</td>\n",
       "      <td>NaN</td>\n",
       "      <td>NaN</td>\n",
       "      <td>white</td>\n",
       "      <td>scottish</td>\n",
       "      <td>M</td>\n",
       "      <td>North Andover MA US</td>\n",
       "      <td>971 MacGyver Lake Apt. 695 Chatham MA 02633 US</td>\n",
       "    </tr>\n",
       "    <tr>\n",
       "      <th>132897</th>\n",
       "      <td>6304009d-9c80-44f0-ae72-4c42eb5e8f38</td>\n",
       "      <td>2006-12-02</td>\n",
       "      <td>NaN</td>\n",
       "      <td>999-79-6418</td>\n",
       "      <td>NaN</td>\n",
       "      <td>NaN</td>\n",
       "      <td>NaN</td>\n",
       "      <td>Maria168</td>\n",
       "      <td>Bechtelar102</td>\n",
       "      <td>NaN</td>\n",
       "      <td>NaN</td>\n",
       "      <td>NaN</td>\n",
       "      <td>white</td>\n",
       "      <td>french</td>\n",
       "      <td>M</td>\n",
       "      <td>Florida MA US</td>\n",
       "      <td>9591 Fern Unions Eastham MA 02642 US</td>\n",
       "    </tr>\n",
       "    <tr>\n",
       "      <th>132898</th>\n",
       "      <td>927cdcb7-adfb-4968-b5d4-745764eb931e</td>\n",
       "      <td>1996-12-24</td>\n",
       "      <td>NaN</td>\n",
       "      <td>999-23-7921</td>\n",
       "      <td>S99965998</td>\n",
       "      <td>false</td>\n",
       "      <td>Ms.</td>\n",
       "      <td>Susana578</td>\n",
       "      <td>Weissnat96</td>\n",
       "      <td>NaN</td>\n",
       "      <td>NaN</td>\n",
       "      <td>NaN</td>\n",
       "      <td>white</td>\n",
       "      <td>irish</td>\n",
       "      <td>F</td>\n",
       "      <td>Westwood MA US</td>\n",
       "      <td>293 Jaeden Drive Eastham MA 02642 US</td>\n",
       "    </tr>\n",
       "    <tr>\n",
       "      <th>132899</th>\n",
       "      <td>47c8c88a-7c03-48d8-85d1-3f37299cac61</td>\n",
       "      <td>1992-10-07</td>\n",
       "      <td>NaN</td>\n",
       "      <td>999-28-1975</td>\n",
       "      <td>S99911349</td>\n",
       "      <td>false</td>\n",
       "      <td>Ms.</td>\n",
       "      <td>Precious239</td>\n",
       "      <td>McLaughlin261</td>\n",
       "      <td>NaN</td>\n",
       "      <td>NaN</td>\n",
       "      <td>NaN</td>\n",
       "      <td>white</td>\n",
       "      <td>english</td>\n",
       "      <td>F</td>\n",
       "      <td>Brockton MA US</td>\n",
       "      <td>724 Sabina Station Suite 136 Eastham MA 02642 US</td>\n",
       "    </tr>\n",
       "    <tr>\n",
       "      <th>132900</th>\n",
       "      <td>971c0a8b-e356-48d1-8de5-e0f9688b10cf</td>\n",
       "      <td>1985-03-18</td>\n",
       "      <td>NaN</td>\n",
       "      <td>999-38-6138</td>\n",
       "      <td>S99995084</td>\n",
       "      <td>false</td>\n",
       "      <td>Mr.</td>\n",
       "      <td>America141</td>\n",
       "      <td>Weber8</td>\n",
       "      <td>NaN</td>\n",
       "      <td>NaN</td>\n",
       "      <td>M</td>\n",
       "      <td>white</td>\n",
       "      <td>french_canadian</td>\n",
       "      <td>M</td>\n",
       "      <td>Wakefield MA US</td>\n",
       "      <td>328 Alexie Crest Eastham MA 02642 US</td>\n",
       "    </tr>\n",
       "  </tbody>\n",
       "</table>\n",
       "</div>"
      ],
      "text/plain": [
       "                                          ID   BIRTHDATE DEATHDATE  \\\n",
       "132896  d3ae0579-ac2c-48b0-a0c1-a858b63e3b99  2013-12-02       NaN   \n",
       "132897  6304009d-9c80-44f0-ae72-4c42eb5e8f38  2006-12-02       NaN   \n",
       "132898  927cdcb7-adfb-4968-b5d4-745764eb931e  1996-12-24       NaN   \n",
       "132899  47c8c88a-7c03-48d8-85d1-3f37299cac61  1992-10-07       NaN   \n",
       "132900  971c0a8b-e356-48d1-8de5-e0f9688b10cf  1985-03-18       NaN   \n",
       "\n",
       "                SSN    DRIVERS PASSPORT PREFIX        FIRST           LAST  \\\n",
       "132896  999-85-8182        NaN      NaN    NaN   Katlynn733       Kulas756   \n",
       "132897  999-79-6418        NaN      NaN    NaN     Maria168   Bechtelar102   \n",
       "132898  999-23-7921  S99965998    false    Ms.    Susana578     Weissnat96   \n",
       "132899  999-28-1975  S99911349    false    Ms.  Precious239  McLaughlin261   \n",
       "132900  999-38-6138  S99995084    false    Mr.   America141         Weber8   \n",
       "\n",
       "       SUFFIX MAIDEN MARITAL   RACE        ETHNICITY GENDER  \\\n",
       "132896    NaN    NaN     NaN  white         scottish      M   \n",
       "132897    NaN    NaN     NaN  white           french      M   \n",
       "132898    NaN    NaN     NaN  white            irish      F   \n",
       "132899    NaN    NaN     NaN  white          english      F   \n",
       "132900    NaN    NaN       M  white  french_canadian      M   \n",
       "\n",
       "                 BIRTHPLACE                                           ADDRESS  \n",
       "132896  North Andover MA US    971 MacGyver Lake Apt. 695 Chatham MA 02633 US  \n",
       "132897        Florida MA US              9591 Fern Unions Eastham MA 02642 US  \n",
       "132898       Westwood MA US              293 Jaeden Drive Eastham MA 02642 US  \n",
       "132899       Brockton MA US  724 Sabina Station Suite 136 Eastham MA 02642 US  \n",
       "132900      Wakefield MA US              328 Alexie Crest Eastham MA 02642 US  "
      ]
     },
     "execution_count": 31,
     "metadata": {},
     "output_type": "execute_result"
    }
   ],
   "source": [
    "print(patients.shape)\n",
    "patients.head()"
   ]
  },
  {
   "cell_type": "code",
   "execution_count": 32,
   "id": "be675b45",
   "metadata": {},
   "outputs": [],
   "source": [
    "patients.DEATHDATE = patients.DEATHDATE.str.extract(r'(\\d{4}-\\d{2}-\\d{2})')"
   ]
  },
  {
   "cell_type": "code",
   "execution_count": 33,
   "id": "7399548c",
   "metadata": {},
   "outputs": [
    {
     "name": "stdout",
     "output_type": "stream",
     "text": [
      "False\n",
      "False\n",
      "True\n",
      "True\n"
     ]
    }
   ],
   "source": [
    "print(pd.api.types.is_datetime64_any_dtype(patients['BIRTHDATE']))\n",
    "print(pd.api.types.is_datetime64_any_dtype(patients.DEATHDATE))\n",
    "\n",
    "patients['BIRTHDATE'] = pd.to_datetime(patients.BIRTHDATE)\n",
    "\n",
    "patients['DEATHDATE'] = pd.to_datetime(patients.DEATHDATE)\n",
    "\n",
    "print(pd.api.types.is_datetime64_any_dtype(patients['BIRTHDATE']))\n",
    "print(pd.api.types.is_datetime64_any_dtype(patients.DEATHDATE))"
   ]
  },
  {
   "cell_type": "code",
   "execution_count": 34,
   "id": "f4eb853c",
   "metadata": {
    "collapsed": true
   },
   "outputs": [
    {
     "data": {
      "text/html": [
       "<div>\n",
       "<style scoped>\n",
       "    .dataframe tbody tr th:only-of-type {\n",
       "        vertical-align: middle;\n",
       "    }\n",
       "\n",
       "    .dataframe tbody tr th {\n",
       "        vertical-align: top;\n",
       "    }\n",
       "\n",
       "    .dataframe thead th {\n",
       "        text-align: right;\n",
       "    }\n",
       "</style>\n",
       "<table border=\"1\" class=\"dataframe\">\n",
       "  <thead>\n",
       "    <tr style=\"text-align: right;\">\n",
       "      <th></th>\n",
       "      <th>ID</th>\n",
       "      <th>BIRTHDATE</th>\n",
       "      <th>DEATHDATE</th>\n",
       "      <th>SSN</th>\n",
       "      <th>DRIVERS</th>\n",
       "      <th>PASSPORT</th>\n",
       "      <th>PREFIX</th>\n",
       "      <th>FIRST</th>\n",
       "      <th>LAST</th>\n",
       "      <th>SUFFIX</th>\n",
       "      <th>MAIDEN</th>\n",
       "      <th>MARITAL</th>\n",
       "      <th>RACE</th>\n",
       "      <th>ETHNICITY</th>\n",
       "      <th>GENDER</th>\n",
       "      <th>BIRTHPLACE</th>\n",
       "      <th>ADDRESS</th>\n",
       "    </tr>\n",
       "  </thead>\n",
       "  <tbody>\n",
       "    <tr>\n",
       "      <th>132896</th>\n",
       "      <td>d3ae0579-ac2c-48b0-a0c1-a858b63e3b99</td>\n",
       "      <td>2013-12-02</td>\n",
       "      <td>NaT</td>\n",
       "      <td>999-85-8182</td>\n",
       "      <td>NaN</td>\n",
       "      <td>NaN</td>\n",
       "      <td>NaN</td>\n",
       "      <td>Katlynn733</td>\n",
       "      <td>Kulas756</td>\n",
       "      <td>NaN</td>\n",
       "      <td>NaN</td>\n",
       "      <td>NaN</td>\n",
       "      <td>white</td>\n",
       "      <td>scottish</td>\n",
       "      <td>M</td>\n",
       "      <td>North Andover MA US</td>\n",
       "      <td>971 MacGyver Lake Apt. 695 Chatham MA 02633 US</td>\n",
       "    </tr>\n",
       "    <tr>\n",
       "      <th>132897</th>\n",
       "      <td>6304009d-9c80-44f0-ae72-4c42eb5e8f38</td>\n",
       "      <td>2006-12-02</td>\n",
       "      <td>NaT</td>\n",
       "      <td>999-79-6418</td>\n",
       "      <td>NaN</td>\n",
       "      <td>NaN</td>\n",
       "      <td>NaN</td>\n",
       "      <td>Maria168</td>\n",
       "      <td>Bechtelar102</td>\n",
       "      <td>NaN</td>\n",
       "      <td>NaN</td>\n",
       "      <td>NaN</td>\n",
       "      <td>white</td>\n",
       "      <td>french</td>\n",
       "      <td>M</td>\n",
       "      <td>Florida MA US</td>\n",
       "      <td>9591 Fern Unions Eastham MA 02642 US</td>\n",
       "    </tr>\n",
       "    <tr>\n",
       "      <th>132898</th>\n",
       "      <td>927cdcb7-adfb-4968-b5d4-745764eb931e</td>\n",
       "      <td>1996-12-24</td>\n",
       "      <td>NaT</td>\n",
       "      <td>999-23-7921</td>\n",
       "      <td>S99965998</td>\n",
       "      <td>false</td>\n",
       "      <td>Ms.</td>\n",
       "      <td>Susana578</td>\n",
       "      <td>Weissnat96</td>\n",
       "      <td>NaN</td>\n",
       "      <td>NaN</td>\n",
       "      <td>NaN</td>\n",
       "      <td>white</td>\n",
       "      <td>irish</td>\n",
       "      <td>F</td>\n",
       "      <td>Westwood MA US</td>\n",
       "      <td>293 Jaeden Drive Eastham MA 02642 US</td>\n",
       "    </tr>\n",
       "    <tr>\n",
       "      <th>132899</th>\n",
       "      <td>47c8c88a-7c03-48d8-85d1-3f37299cac61</td>\n",
       "      <td>1992-10-07</td>\n",
       "      <td>NaT</td>\n",
       "      <td>999-28-1975</td>\n",
       "      <td>S99911349</td>\n",
       "      <td>false</td>\n",
       "      <td>Ms.</td>\n",
       "      <td>Precious239</td>\n",
       "      <td>McLaughlin261</td>\n",
       "      <td>NaN</td>\n",
       "      <td>NaN</td>\n",
       "      <td>NaN</td>\n",
       "      <td>white</td>\n",
       "      <td>english</td>\n",
       "      <td>F</td>\n",
       "      <td>Brockton MA US</td>\n",
       "      <td>724 Sabina Station Suite 136 Eastham MA 02642 US</td>\n",
       "    </tr>\n",
       "    <tr>\n",
       "      <th>132900</th>\n",
       "      <td>971c0a8b-e356-48d1-8de5-e0f9688b10cf</td>\n",
       "      <td>1985-03-18</td>\n",
       "      <td>NaT</td>\n",
       "      <td>999-38-6138</td>\n",
       "      <td>S99995084</td>\n",
       "      <td>false</td>\n",
       "      <td>Mr.</td>\n",
       "      <td>America141</td>\n",
       "      <td>Weber8</td>\n",
       "      <td>NaN</td>\n",
       "      <td>NaN</td>\n",
       "      <td>M</td>\n",
       "      <td>white</td>\n",
       "      <td>french_canadian</td>\n",
       "      <td>M</td>\n",
       "      <td>Wakefield MA US</td>\n",
       "      <td>328 Alexie Crest Eastham MA 02642 US</td>\n",
       "    </tr>\n",
       "  </tbody>\n",
       "</table>\n",
       "</div>"
      ],
      "text/plain": [
       "                                          ID  BIRTHDATE DEATHDATE  \\\n",
       "132896  d3ae0579-ac2c-48b0-a0c1-a858b63e3b99 2013-12-02       NaT   \n",
       "132897  6304009d-9c80-44f0-ae72-4c42eb5e8f38 2006-12-02       NaT   \n",
       "132898  927cdcb7-adfb-4968-b5d4-745764eb931e 1996-12-24       NaT   \n",
       "132899  47c8c88a-7c03-48d8-85d1-3f37299cac61 1992-10-07       NaT   \n",
       "132900  971c0a8b-e356-48d1-8de5-e0f9688b10cf 1985-03-18       NaT   \n",
       "\n",
       "                SSN    DRIVERS PASSPORT PREFIX        FIRST           LAST  \\\n",
       "132896  999-85-8182        NaN      NaN    NaN   Katlynn733       Kulas756   \n",
       "132897  999-79-6418        NaN      NaN    NaN     Maria168   Bechtelar102   \n",
       "132898  999-23-7921  S99965998    false    Ms.    Susana578     Weissnat96   \n",
       "132899  999-28-1975  S99911349    false    Ms.  Precious239  McLaughlin261   \n",
       "132900  999-38-6138  S99995084    false    Mr.   America141         Weber8   \n",
       "\n",
       "       SUFFIX MAIDEN MARITAL   RACE        ETHNICITY GENDER  \\\n",
       "132896    NaN    NaN     NaN  white         scottish      M   \n",
       "132897    NaN    NaN     NaN  white           french      M   \n",
       "132898    NaN    NaN     NaN  white            irish      F   \n",
       "132899    NaN    NaN     NaN  white          english      F   \n",
       "132900    NaN    NaN       M  white  french_canadian      M   \n",
       "\n",
       "                 BIRTHPLACE                                           ADDRESS  \n",
       "132896  North Andover MA US    971 MacGyver Lake Apt. 695 Chatham MA 02633 US  \n",
       "132897        Florida MA US              9591 Fern Unions Eastham MA 02642 US  \n",
       "132898       Westwood MA US              293 Jaeden Drive Eastham MA 02642 US  \n",
       "132899       Brockton MA US  724 Sabina Station Suite 136 Eastham MA 02642 US  \n",
       "132900      Wakefield MA US              328 Alexie Crest Eastham MA 02642 US  "
      ]
     },
     "execution_count": 34,
     "metadata": {},
     "output_type": "execute_result"
    }
   ],
   "source": [
    "patients.head()"
   ]
  },
  {
   "cell_type": "code",
   "execution_count": 35,
   "id": "495d739e",
   "metadata": {},
   "outputs": [
    {
     "data": {
      "text/plain": [
       "(1192923, 17)"
      ]
     },
     "execution_count": 35,
     "metadata": {},
     "output_type": "execute_result"
    }
   ],
   "source": [
    "patients.shape"
   ]
  },
  {
   "cell_type": "markdown",
   "id": "67858538",
   "metadata": {},
   "source": [
    "#### Save tidy table"
   ]
  },
  {
   "cell_type": "code",
   "execution_count": 36,
   "id": "ddca2347",
   "metadata": {},
   "outputs": [],
   "source": [
    "# open a file, where you ant to store the data\n",
    "file = open('patients.pkl', 'wb')\n",
    "\n",
    "# dump information to that file\n",
    "pickle.dump(patients, file)\n",
    "\n",
    "# Clean up space\n",
    "del patients, file"
   ]
  },
  {
   "cell_type": "markdown",
   "id": "eff45bf4",
   "metadata": {},
   "source": [
    "---"
   ]
  },
  {
   "cell_type": "markdown",
   "id": "1ffbe09b",
   "metadata": {},
   "source": [
    "### Procedures"
   ]
  },
  {
   "cell_type": "markdown",
   "id": "7de70588",
   "metadata": {},
   "source": [
    "#### Read table"
   ]
  },
  {
   "cell_type": "code",
   "execution_count": 80,
   "id": "aceb2e2f",
   "metadata": {
    "collapsed": true
   },
   "outputs": [
    {
     "name": "stdout",
     "output_type": "stream",
     "text": [
      "Reading table procedures - 1 ...\n",
      "Table number 1 appended!\n",
      "Total table size is 628785.\n",
      " ------------------------\n",
      "Reading table procedures - 2 ...\n",
      "Appending table numer 2...\n"
     ]
    },
    {
     "name": "stderr",
     "output_type": "stream",
     "text": [
      "C:\\Users\\Vassil\\AppData\\Local\\Temp\\ipykernel_8936\\3657629342.py:28: FutureWarning: The frame.append method is deprecated and will be removed from pandas in a future version. Use pandas.concat instead.\n",
      "  df = df.append (\n"
     ]
    },
    {
     "name": "stdout",
     "output_type": "stream",
     "text": [
      "Table number 2 appended!\n",
      "Total table size is 1255924.\n",
      " ------------------------\n",
      "Reading table procedures - 3 ...\n",
      "Appending table numer 3...\n"
     ]
    },
    {
     "name": "stderr",
     "output_type": "stream",
     "text": [
      "C:\\Users\\Vassil\\AppData\\Local\\Temp\\ipykernel_8936\\3657629342.py:28: FutureWarning: The frame.append method is deprecated and will be removed from pandas in a future version. Use pandas.concat instead.\n",
      "  df = df.append (\n"
     ]
    },
    {
     "name": "stdout",
     "output_type": "stream",
     "text": [
      "Table number 3 appended!\n",
      "Total table size is 1881926.\n",
      " ------------------------\n",
      "Reading table procedures - 4 ...\n",
      "Appending table numer 4...\n"
     ]
    },
    {
     "name": "stderr",
     "output_type": "stream",
     "text": [
      "C:\\Users\\Vassil\\AppData\\Local\\Temp\\ipykernel_8936\\3657629342.py:28: FutureWarning: The frame.append method is deprecated and will be removed from pandas in a future version. Use pandas.concat instead.\n",
      "  df = df.append (\n"
     ]
    },
    {
     "name": "stdout",
     "output_type": "stream",
     "text": [
      "Table number 4 appended!\n",
      "Total table size is 2505572.\n",
      " ------------------------\n",
      "Reading table procedures - 5 ...\n",
      "Appending table numer 5...\n"
     ]
    },
    {
     "name": "stderr",
     "output_type": "stream",
     "text": [
      "C:\\Users\\Vassil\\AppData\\Local\\Temp\\ipykernel_8936\\3657629342.py:28: FutureWarning: The frame.append method is deprecated and will be removed from pandas in a future version. Use pandas.concat instead.\n",
      "  df = df.append (\n"
     ]
    },
    {
     "name": "stdout",
     "output_type": "stream",
     "text": [
      "Table number 5 appended!\n",
      "Total table size is 3128423.\n",
      " ------------------------\n",
      "Reading table procedures - 6 ...\n",
      "Appending table numer 6...\n"
     ]
    },
    {
     "name": "stderr",
     "output_type": "stream",
     "text": [
      "C:\\Users\\Vassil\\AppData\\Local\\Temp\\ipykernel_8936\\3657629342.py:28: FutureWarning: The frame.append method is deprecated and will be removed from pandas in a future version. Use pandas.concat instead.\n",
      "  df = df.append (\n"
     ]
    },
    {
     "name": "stdout",
     "output_type": "stream",
     "text": [
      "Table number 6 appended!\n",
      "Total table size is 3757240.\n",
      " ------------------------\n",
      "Reading table procedures - 7 ...\n",
      "Appending table numer 7...\n"
     ]
    },
    {
     "name": "stderr",
     "output_type": "stream",
     "text": [
      "C:\\Users\\Vassil\\AppData\\Local\\Temp\\ipykernel_8936\\3657629342.py:28: FutureWarning: The frame.append method is deprecated and will be removed from pandas in a future version. Use pandas.concat instead.\n",
      "  df = df.append (\n"
     ]
    },
    {
     "name": "stdout",
     "output_type": "stream",
     "text": [
      "Table number 7 appended!\n",
      "Total table size is 4379821.\n",
      " ------------------------\n",
      "Reading table procedures - 8 ...\n",
      "Appending table numer 8...\n"
     ]
    },
    {
     "name": "stderr",
     "output_type": "stream",
     "text": [
      "C:\\Users\\Vassil\\AppData\\Local\\Temp\\ipykernel_8936\\3657629342.py:28: FutureWarning: The frame.append method is deprecated and will be removed from pandas in a future version. Use pandas.concat instead.\n",
      "  df = df.append (\n"
     ]
    },
    {
     "name": "stdout",
     "output_type": "stream",
     "text": [
      "Table number 8 appended!\n",
      "Total table size is 5001308.\n",
      " ------------------------\n",
      "Reading table procedures - 9 ...\n",
      "Appending table numer 9...\n"
     ]
    },
    {
     "name": "stderr",
     "output_type": "stream",
     "text": [
      "C:\\Users\\Vassil\\AppData\\Local\\Temp\\ipykernel_8936\\3657629342.py:28: FutureWarning: The frame.append method is deprecated and will be removed from pandas in a future version. Use pandas.concat instead.\n",
      "  df = df.append (\n"
     ]
    },
    {
     "name": "stdout",
     "output_type": "stream",
     "text": [
      "Table number 9 appended!\n",
      "Total table size is 5628754.\n",
      " ------------------------\n",
      "Reading table procedures - 10 ...\n",
      "Appending table numer 10...\n"
     ]
    },
    {
     "name": "stderr",
     "output_type": "stream",
     "text": [
      "C:\\Users\\Vassil\\AppData\\Local\\Temp\\ipykernel_8936\\3657629342.py:28: FutureWarning: The frame.append method is deprecated and will be removed from pandas in a future version. Use pandas.concat instead.\n",
      "  df = df.append (\n"
     ]
    },
    {
     "name": "stdout",
     "output_type": "stream",
     "text": [
      "Table number 10 appended!\n",
      "Total table size is 6256651.\n",
      " ------------------------\n",
      "Reading table procedures - 11 ...\n",
      "Appending table numer 11...\n"
     ]
    },
    {
     "name": "stderr",
     "output_type": "stream",
     "text": [
      "C:\\Users\\Vassil\\AppData\\Local\\Temp\\ipykernel_8936\\3657629342.py:28: FutureWarning: The frame.append method is deprecated and will be removed from pandas in a future version. Use pandas.concat instead.\n",
      "  df = df.append (\n"
     ]
    },
    {
     "name": "stdout",
     "output_type": "stream",
     "text": [
      "Table number 11 appended!\n",
      "Total table size is 6877879.\n",
      " ------------------------\n",
      "Reading table procedures - 12 ...\n",
      "Appending table numer 12...\n"
     ]
    },
    {
     "name": "stderr",
     "output_type": "stream",
     "text": [
      "C:\\Users\\Vassil\\AppData\\Local\\Temp\\ipykernel_8936\\3657629342.py:28: FutureWarning: The frame.append method is deprecated and will be removed from pandas in a future version. Use pandas.concat instead.\n",
      "  df = df.append (\n"
     ]
    },
    {
     "name": "stdout",
     "output_type": "stream",
     "text": [
      "Table number 12 appended!\n",
      "Total table size is 7502018.\n",
      " ------------------------\n"
     ]
    }
   ],
   "source": [
    "procedures = read_table_csv('procedures')"
   ]
  },
  {
   "cell_type": "code",
   "execution_count": 81,
   "id": "16b42b61",
   "metadata": {
    "scrolled": true
   },
   "outputs": [
    {
     "name": "stdout",
     "output_type": "stream",
     "text": [
      "(7502018, 7)\n"
     ]
    },
    {
     "data": {
      "text/html": [
       "<div>\n",
       "<style scoped>\n",
       "    .dataframe tbody tr th:only-of-type {\n",
       "        vertical-align: middle;\n",
       "    }\n",
       "\n",
       "    .dataframe tbody tr th {\n",
       "        vertical-align: top;\n",
       "    }\n",
       "\n",
       "    .dataframe thead th {\n",
       "        text-align: right;\n",
       "    }\n",
       "</style>\n",
       "<table border=\"1\" class=\"dataframe\">\n",
       "  <thead>\n",
       "    <tr style=\"text-align: right;\">\n",
       "      <th></th>\n",
       "      <th>DATE</th>\n",
       "      <th>PATIENT</th>\n",
       "      <th>ENCOUNTER</th>\n",
       "      <th>CODE</th>\n",
       "      <th>DESCRIPTION</th>\n",
       "      <th>REASONCODE</th>\n",
       "      <th>REASONDESCRIPTION</th>\n",
       "    </tr>\n",
       "  </thead>\n",
       "  <tbody>\n",
       "    <tr>\n",
       "      <th>0</th>\n",
       "      <td>2013-07-14</td>\n",
       "      <td>33f33990-ae8b-4be8-938f-e47ad473abfe</td>\n",
       "      <td>a88f1e8d-da51-41e2-ac25-952f69c635fa</td>\n",
       "      <td>428191000124101</td>\n",
       "      <td>Documentation of current medications</td>\n",
       "      <td>NaN</td>\n",
       "      <td>NaN</td>\n",
       "    </tr>\n",
       "    <tr>\n",
       "      <th>1</th>\n",
       "      <td>2013-04-17</td>\n",
       "      <td>36d131ee-dd5b-4acb-acbe-19961c32c099</td>\n",
       "      <td>c34c60b3-c7f4-4651-b02c-6e3eec08aa58</td>\n",
       "      <td>428191000124101</td>\n",
       "      <td>Documentation of current medications</td>\n",
       "      <td>NaN</td>\n",
       "      <td>NaN</td>\n",
       "    </tr>\n",
       "    <tr>\n",
       "      <th>2</th>\n",
       "      <td>2015-09-17</td>\n",
       "      <td>33f33990-ae8b-4be8-938f-e47ad473abfe</td>\n",
       "      <td>85601b75-7745-4af8-bbab-86566ebdfb51</td>\n",
       "      <td>428191000124101</td>\n",
       "      <td>Documentation of current medications</td>\n",
       "      <td>NaN</td>\n",
       "      <td>NaN</td>\n",
       "    </tr>\n",
       "    <tr>\n",
       "      <th>3</th>\n",
       "      <td>2016-05-25</td>\n",
       "      <td>36d131ee-dd5b-4acb-acbe-19961c32c099</td>\n",
       "      <td>352d1693-591a-4615-9b1b-f145648f49cc</td>\n",
       "      <td>428191000124101</td>\n",
       "      <td>Documentation of current medications</td>\n",
       "      <td>NaN</td>\n",
       "      <td>NaN</td>\n",
       "    </tr>\n",
       "    <tr>\n",
       "      <th>4</th>\n",
       "      <td>2013-01-19</td>\n",
       "      <td>660bec03-9e58-47f2-98b9-2f1c564f3838</td>\n",
       "      <td>f9972916-4ec4-4b04-8de2-5b08f17de56b</td>\n",
       "      <td>428191000124101</td>\n",
       "      <td>Documentation of current medications</td>\n",
       "      <td>NaN</td>\n",
       "      <td>NaN</td>\n",
       "    </tr>\n",
       "    <tr>\n",
       "      <th>...</th>\n",
       "      <td>...</td>\n",
       "      <td>...</td>\n",
       "      <td>...</td>\n",
       "      <td>...</td>\n",
       "      <td>...</td>\n",
       "      <td>...</td>\n",
       "      <td>...</td>\n",
       "    </tr>\n",
       "    <tr>\n",
       "      <th>7502013</th>\n",
       "      <td>2011-06-20</td>\n",
       "      <td>de7374d5-f181-45ba-9a00-9bcddc45c2a7</td>\n",
       "      <td>44c04cd8-6287-4029-8711-1e889d078d3a</td>\n",
       "      <td>428191000124101</td>\n",
       "      <td>Documentation of current medications</td>\n",
       "      <td>NaN</td>\n",
       "      <td>NaN</td>\n",
       "    </tr>\n",
       "    <tr>\n",
       "      <th>7502014</th>\n",
       "      <td>2012-05-26</td>\n",
       "      <td>de7374d5-f181-45ba-9a00-9bcddc45c2a7</td>\n",
       "      <td>be7069a5-967e-4d87-beb0-a315055b0327</td>\n",
       "      <td>428191000124101</td>\n",
       "      <td>Documentation of current medications</td>\n",
       "      <td>NaN</td>\n",
       "      <td>NaN</td>\n",
       "    </tr>\n",
       "    <tr>\n",
       "      <th>7502015</th>\n",
       "      <td>2013-05-16</td>\n",
       "      <td>de7374d5-f181-45ba-9a00-9bcddc45c2a7</td>\n",
       "      <td>df7092a4-9741-4fdc-b16e-fa7171aa5eba</td>\n",
       "      <td>428191000124101</td>\n",
       "      <td>Documentation of current medications</td>\n",
       "      <td>NaN</td>\n",
       "      <td>NaN</td>\n",
       "    </tr>\n",
       "    <tr>\n",
       "      <th>7502016</th>\n",
       "      <td>2013-07-25</td>\n",
       "      <td>de7374d5-f181-45ba-9a00-9bcddc45c2a7</td>\n",
       "      <td>d64f1261-3760-42da-899b-c706a02b7b44</td>\n",
       "      <td>73761001</td>\n",
       "      <td>Colonoscopy</td>\n",
       "      <td>NaN</td>\n",
       "      <td>NaN</td>\n",
       "    </tr>\n",
       "    <tr>\n",
       "      <th>7502017</th>\n",
       "      <td>2015-12-10</td>\n",
       "      <td>de7374d5-f181-45ba-9a00-9bcddc45c2a7</td>\n",
       "      <td>244c2843-889f-45c7-8682-e232afc71213</td>\n",
       "      <td>428191000124101</td>\n",
       "      <td>Documentation of current medications</td>\n",
       "      <td>NaN</td>\n",
       "      <td>NaN</td>\n",
       "    </tr>\n",
       "  </tbody>\n",
       "</table>\n",
       "<p>7502018 rows × 7 columns</p>\n",
       "</div>"
      ],
      "text/plain": [
       "               DATE                               PATIENT  \\\n",
       "0        2013-07-14  33f33990-ae8b-4be8-938f-e47ad473abfe   \n",
       "1        2013-04-17  36d131ee-dd5b-4acb-acbe-19961c32c099   \n",
       "2        2015-09-17  33f33990-ae8b-4be8-938f-e47ad473abfe   \n",
       "3        2016-05-25  36d131ee-dd5b-4acb-acbe-19961c32c099   \n",
       "4        2013-01-19  660bec03-9e58-47f2-98b9-2f1c564f3838   \n",
       "...             ...                                   ...   \n",
       "7502013  2011-06-20  de7374d5-f181-45ba-9a00-9bcddc45c2a7   \n",
       "7502014  2012-05-26  de7374d5-f181-45ba-9a00-9bcddc45c2a7   \n",
       "7502015  2013-05-16  de7374d5-f181-45ba-9a00-9bcddc45c2a7   \n",
       "7502016  2013-07-25  de7374d5-f181-45ba-9a00-9bcddc45c2a7   \n",
       "7502017  2015-12-10  de7374d5-f181-45ba-9a00-9bcddc45c2a7   \n",
       "\n",
       "                                    ENCOUNTER             CODE  \\\n",
       "0        a88f1e8d-da51-41e2-ac25-952f69c635fa  428191000124101   \n",
       "1        c34c60b3-c7f4-4651-b02c-6e3eec08aa58  428191000124101   \n",
       "2        85601b75-7745-4af8-bbab-86566ebdfb51  428191000124101   \n",
       "3        352d1693-591a-4615-9b1b-f145648f49cc  428191000124101   \n",
       "4        f9972916-4ec4-4b04-8de2-5b08f17de56b  428191000124101   \n",
       "...                                       ...              ...   \n",
       "7502013  44c04cd8-6287-4029-8711-1e889d078d3a  428191000124101   \n",
       "7502014  be7069a5-967e-4d87-beb0-a315055b0327  428191000124101   \n",
       "7502015  df7092a4-9741-4fdc-b16e-fa7171aa5eba  428191000124101   \n",
       "7502016  d64f1261-3760-42da-899b-c706a02b7b44         73761001   \n",
       "7502017  244c2843-889f-45c7-8682-e232afc71213  428191000124101   \n",
       "\n",
       "                                  DESCRIPTION  REASONCODE REASONDESCRIPTION  \n",
       "0        Documentation of current medications         NaN               NaN  \n",
       "1        Documentation of current medications         NaN               NaN  \n",
       "2        Documentation of current medications         NaN               NaN  \n",
       "3        Documentation of current medications         NaN               NaN  \n",
       "4        Documentation of current medications         NaN               NaN  \n",
       "...                                       ...         ...               ...  \n",
       "7502013  Documentation of current medications         NaN               NaN  \n",
       "7502014  Documentation of current medications         NaN               NaN  \n",
       "7502015  Documentation of current medications         NaN               NaN  \n",
       "7502016                           Colonoscopy         NaN               NaN  \n",
       "7502017  Documentation of current medications         NaN               NaN  \n",
       "\n",
       "[7502018 rows x 7 columns]"
      ]
     },
     "metadata": {},
     "output_type": "display_data"
    }
   ],
   "source": [
    "print(procedures.shape)\n",
    "display(procedures)"
   ]
  },
  {
   "cell_type": "markdown",
   "id": "4fca090c",
   "metadata": {},
   "source": [
    "#### Tidy table"
   ]
  },
  {
   "cell_type": "markdown",
   "id": "efa7bfbc",
   "metadata": {},
   "source": [
    "Make sure `DATE` is datetime."
   ]
  },
  {
   "cell_type": "code",
   "execution_count": 82,
   "id": "d559e0ad",
   "metadata": {
    "collapsed": true
   },
   "outputs": [
    {
     "name": "stdout",
     "output_type": "stream",
     "text": [
      "False\n",
      "True\n"
     ]
    }
   ],
   "source": [
    "print(pd.api.types.is_datetime64_any_dtype(procedures['DATE']))\n",
    "procedures['DATE'] = pd.to_datetime(procedures.DATE)\n",
    "print(pd.api.types.is_datetime64_any_dtype(procedures['DATE']))"
   ]
  },
  {
   "cell_type": "markdown",
   "id": "9b908576",
   "metadata": {},
   "source": [
    "Check what unique values for `DESCRIPTION` (allergy types) there are."
   ]
  },
  {
   "cell_type": "code",
   "execution_count": 83,
   "id": "db85fbba",
   "metadata": {
    "collapsed": true
   },
   "outputs": [
    {
     "name": "stdout",
     "output_type": "stream",
     "text": [
      "Observations types:\n",
      " ['Plain chest X-ray (procedure)', 'Coronary artery bypass grafting', 'Diagnostic fiberoptic bronchoscopy (procedure)', 'Admission to neurosurgical department', 'Admission to orthopedic department', 'Pulmonary rehabilitation (regime/therapy)', 'Medical induction of labor', 'Excision of fallopian tube and surgical removal of ectopic pregnancy', 'Psychiatric follow-up', 'Hospital admission  short-term  24 hours', 'Amputation of right hand', 'Sputum examination (procedure)', 'Renal dialysis (procedure)', 'Amputation of right arm', 'Suture open wound', 'Biopsy of colon', 'Extraction of wisdom tooth', 'Computed tomography of chest and abdomen', 'Magnetic resonance imaging for measurement of brain volume (procedure)', 'Total knee replacement', 'Admission to trauma surgery department', 'Documentation of current medications', 'Amputation of left arm', 'Removal of subcutaneous contraceptive', 'Amputation of left hand', 'Childbirth', 'Intramuscular injection', 'Instrumental delivery', 'Admission to burn unit', 'Total replacement of hip', 'Percutaneous mechanical thrombectomy of portal vein using fluoroscopic guidance', 'Removal of intrauterine device', 'Thoracentesis (procedure)', 'Surgical manipulation of joint of knee', 'Cognitive and behavioral therapy', 'Epidural anesthesia', 'Bilateral tubal ligation', 'Vasectomy', 'Fine needle aspiration biopsy of lung (procedure)', 'Spirometry (procedure)', 'Cesarean section', 'Standard pregnancy test', 'Premature birth of newborn', 'Amputation of right foot', 'Evaluation of psychiatric state of patient', 'Insertion of intrauterine contraceptive device', 'Percutaneous coronary intervention', 'Colonoscopy', 'Injection of adrenaline', 'Surgical manipulation of shoulder joint', 'Transplant of lung (procedure)', 'Bone density scan (procedure)', 'Insertion of biventricular implantable cardioverter defibrillator', 'Allergy screening test', 'Appendectomy', 'Subcutaneous immunotherapy', 'Amputation of left leg', 'Measurement of respiratory function (procedure)', 'Bone immobilization', 'Induced termination of pregnancy', 'Amputation of right leg', 'Nasal sinus endoscopy (procedure)', 'Admission to long stay hospital', 'Augmentation of labor', 'Lung volume reduction surgery (procedure)', 'Fecal occult blood test', 'Amputation of left foot', 'Episiotomy', 'Spontaneous breech delivery', 'Insertion of subcutaneous contraceptive', 'Rectal polypectomy', 'Construction of diverting colostomy', 'Combined chemotherapy and radiation therapy (procedure)', 'Injection of tetanus antitoxin', 'Throat culture (procedure) ', 'Replacement of subcutaneous contraceptive', 'Partial resection of colon', 'Autopsy examination', 'Replacement of contraceptive intrauterine device', 'Asthma screening', 'Sputum microscopy (procedure)', 'Information gathering (procedure)', 'Catheter ablation of tissue of heart']\n",
      "Observations type number:\n",
      " 83\n"
     ]
    }
   ],
   "source": [
    "print('Observations types:\\n', list(set(procedures.DESCRIPTION)))\n",
    "print('Observations type number:\\n', len(list(set(procedures.DESCRIPTION))))"
   ]
  },
  {
   "cell_type": "markdown",
   "id": "3252cd8d",
   "metadata": {},
   "source": [
    "Remove entries with no `DATE`, no `PATIENT` id and no `CODE`."
   ]
  },
  {
   "cell_type": "code",
   "execution_count": 84,
   "id": "0465f171",
   "metadata": {},
   "outputs": [
    {
     "name": "stdout",
     "output_type": "stream",
     "text": [
      "Dimensions of table:\n",
      " (7502018, 7)\n",
      "Dimensions of table:\n",
      " (7502018, 7)\n"
     ]
    }
   ],
   "source": [
    "print('Dimensions of table:\\n', procedures.shape)\n",
    "procedures = procedures[~procedures.DATE.isna()]\n",
    "procedures = procedures[~procedures.CODE.isna()]\n",
    "procedures = procedures[~procedures.PATIENT.isna()]\n",
    "print('Dimensions of table:\\n', procedures.shape)"
   ]
  },
  {
   "cell_type": "code",
   "execution_count": 85,
   "id": "888cede9",
   "metadata": {
    "scrolled": true
   },
   "outputs": [
    {
     "name": "stdout",
     "output_type": "stream",
     "text": [
      "All patients are in valid format?\n",
      " True\n"
     ]
    }
   ],
   "source": [
    "valid_patient_format = procedures.PATIENT.apply(lambda x: \n",
    "                                               bool(\n",
    "                                                   re.match(\n",
    "                                                       r'^[0-9a-z]{8}-[0-9a-z]{4}-[0-9a-z]{4}-[0-9a-z]{4}-[0-9a-z]{12}$', \n",
    "                                                       str(x))))\n",
    "print('All patients are in valid format?\\n', valid_patient_format.all())"
   ]
  },
  {
   "cell_type": "markdown",
   "id": "b2ae169c",
   "metadata": {},
   "source": [
    "#### Save tidy table"
   ]
  },
  {
   "cell_type": "code",
   "execution_count": 86,
   "id": "33f55796",
   "metadata": {},
   "outputs": [],
   "source": [
    "# open a file, where you ant to store the data\n",
    "file = open('procedures.pkl', 'wb')\n",
    "\n",
    "# dump information to that file\n",
    "pickle.dump(procedures, file)\n",
    "\n",
    "# Clean up space\n",
    "del procedures, file"
   ]
  },
  {
   "cell_type": "markdown",
   "id": "ec65d001",
   "metadata": {},
   "source": [
    "---"
   ]
  },
  {
   "cell_type": "markdown",
   "id": "20df296b",
   "metadata": {},
   "source": [
    "## Merge Tables"
   ]
  },
  {
   "cell_type": "markdown",
   "id": "0b1b2f2f",
   "metadata": {},
   "source": [
    "The main purpose of this section is to load the tables, merge them together and transform them in such a way as to obtain a sequence of events for each patient: each patient contains a sequence of measurements per date."
   ]
  },
  {
   "cell_type": "code",
   "execution_count": 2,
   "id": "f5a872e0",
   "metadata": {},
   "outputs": [],
   "source": [
    "# encounters\n",
    "encounters = pd.read_pickle('encounters.pkl')"
   ]
  },
  {
   "cell_type": "code",
   "execution_count": 3,
   "id": "9775e414",
   "metadata": {},
   "outputs": [],
   "source": [
    "# patients:\n",
    "patients = pd.read_pickle('patients.pkl')\n",
    "\n",
    "# conditions:\n",
    "conditions = pd.read_pickle('conditions.pkl')"
   ]
  },
  {
   "cell_type": "code",
   "execution_count": 11,
   "id": "380a3ad9",
   "metadata": {
    "collapsed": true
   },
   "outputs": [
    {
     "name": "stdout",
     "output_type": "stream",
     "text": [
      "encounters dimensions: (15109427, 7) \n",
      "\n",
      "\n",
      "encounters:\n",
      "\n"
     ]
    },
    {
     "data": {
      "text/html": [
       "<div>\n",
       "<style scoped>\n",
       "    .dataframe tbody tr th:only-of-type {\n",
       "        vertical-align: middle;\n",
       "    }\n",
       "\n",
       "    .dataframe tbody tr th {\n",
       "        vertical-align: top;\n",
       "    }\n",
       "\n",
       "    .dataframe thead th {\n",
       "        text-align: right;\n",
       "    }\n",
       "</style>\n",
       "<table border=\"1\" class=\"dataframe\">\n",
       "  <thead>\n",
       "    <tr style=\"text-align: right;\">\n",
       "      <th></th>\n",
       "      <th>ID</th>\n",
       "      <th>DATE</th>\n",
       "      <th>PATIENT</th>\n",
       "      <th>CODE</th>\n",
       "      <th>DESCRIPTION</th>\n",
       "      <th>REASONCODE</th>\n",
       "      <th>REASONDESCRIPTION</th>\n",
       "    </tr>\n",
       "  </thead>\n",
       "  <tbody>\n",
       "    <tr>\n",
       "      <th>0</th>\n",
       "      <td>673daa98-67e9-4e80-be46-a0b547533653</td>\n",
       "      <td>2011-07-02</td>\n",
       "      <td>33f33990-ae8b-4be8-938f-e47ad473abfe</td>\n",
       "      <td>170258001</td>\n",
       "      <td>Outpatient Encounter</td>\n",
       "      <td>NaN</td>\n",
       "      <td>NaN</td>\n",
       "    </tr>\n",
       "    <tr>\n",
       "      <th>1</th>\n",
       "      <td>bac018de-114a-481d-b4f9-87980d7ef8b8</td>\n",
       "      <td>2011-03-12</td>\n",
       "      <td>36d131ee-dd5b-4acb-acbe-19961c32c099</td>\n",
       "      <td>170258001</td>\n",
       "      <td>Outpatient Encounter</td>\n",
       "      <td>NaN</td>\n",
       "      <td>NaN</td>\n",
       "    </tr>\n",
       "    <tr>\n",
       "      <th>2</th>\n",
       "      <td>be0aa510-645e-421b-ad21-8a1ab442ca48</td>\n",
       "      <td>2012-06-17</td>\n",
       "      <td>33f33990-ae8b-4be8-938f-e47ad473abfe</td>\n",
       "      <td>170258001</td>\n",
       "      <td>Outpatient Encounter</td>\n",
       "      <td>NaN</td>\n",
       "      <td>NaN</td>\n",
       "    </tr>\n",
       "  </tbody>\n",
       "</table>\n",
       "</div>"
      ],
      "text/plain": [
       "                                     ID       DATE  \\\n",
       "0  673daa98-67e9-4e80-be46-a0b547533653 2011-07-02   \n",
       "1  bac018de-114a-481d-b4f9-87980d7ef8b8 2011-03-12   \n",
       "2  be0aa510-645e-421b-ad21-8a1ab442ca48 2012-06-17   \n",
       "\n",
       "                                PATIENT       CODE           DESCRIPTION  \\\n",
       "0  33f33990-ae8b-4be8-938f-e47ad473abfe  170258001  Outpatient Encounter   \n",
       "1  36d131ee-dd5b-4acb-acbe-19961c32c099  170258001  Outpatient Encounter   \n",
       "2  33f33990-ae8b-4be8-938f-e47ad473abfe  170258001  Outpatient Encounter   \n",
       "\n",
       "   REASONCODE REASONDESCRIPTION  \n",
       "0         NaN               NaN  \n",
       "1         NaN               NaN  \n",
       "2         NaN               NaN  "
      ]
     },
     "metadata": {},
     "output_type": "display_data"
    }
   ],
   "source": [
    "print('encounters dimensions:', encounters.shape, '\\n\\n')\n",
    "print('encounters:\\n')\n",
    "display(encounters.head(3))"
   ]
  },
  {
   "cell_type": "code",
   "execution_count": 10,
   "id": "4186d0af",
   "metadata": {
    "collapsed": true
   },
   "outputs": [
    {
     "name": "stdout",
     "output_type": "stream",
     "text": [
      "conditions dimensions: (5809954, 6) \n",
      "\n",
      "patient dimensions: (1192923, 17) \n",
      "\n",
      "\n",
      "\n",
      "conditions:\n",
      "\n"
     ]
    },
    {
     "data": {
      "text/html": [
       "<div>\n",
       "<style scoped>\n",
       "    .dataframe tbody tr th:only-of-type {\n",
       "        vertical-align: middle;\n",
       "    }\n",
       "\n",
       "    .dataframe tbody tr th {\n",
       "        vertical-align: top;\n",
       "    }\n",
       "\n",
       "    .dataframe thead th {\n",
       "        text-align: right;\n",
       "    }\n",
       "</style>\n",
       "<table border=\"1\" class=\"dataframe\">\n",
       "  <thead>\n",
       "    <tr style=\"text-align: right;\">\n",
       "      <th></th>\n",
       "      <th>START</th>\n",
       "      <th>STOP</th>\n",
       "      <th>PATIENT</th>\n",
       "      <th>ENCOUNTER</th>\n",
       "      <th>CODE</th>\n",
       "      <th>DESCRIPTION</th>\n",
       "    </tr>\n",
       "  </thead>\n",
       "  <tbody>\n",
       "    <tr>\n",
       "      <th>0</th>\n",
       "      <td>2011-05-07</td>\n",
       "      <td>2011-06-03</td>\n",
       "      <td>36d131ee-dd5b-4acb-acbe-19961c32c099</td>\n",
       "      <td>ff93cedb-8245-4091-838d-a568bcbcb00b</td>\n",
       "      <td>444814009</td>\n",
       "      <td>Viral sinusitis (disorder)</td>\n",
       "    </tr>\n",
       "    <tr>\n",
       "      <th>1</th>\n",
       "      <td>2014-01-04</td>\n",
       "      <td>2014-02-06</td>\n",
       "      <td>33f33990-ae8b-4be8-938f-e47ad473abfe</td>\n",
       "      <td>714fd61a-f9fd-43ff-87b9-3cc45a3f1e53</td>\n",
       "      <td>444814009</td>\n",
       "      <td>Viral sinusitis (disorder)</td>\n",
       "    </tr>\n",
       "    <tr>\n",
       "      <th>2</th>\n",
       "      <td>2015-07-06</td>\n",
       "      <td>2015-09-02</td>\n",
       "      <td>33f33990-ae8b-4be8-938f-e47ad473abfe</td>\n",
       "      <td>45044100-aaba-4209-8ad1-15383c76842d</td>\n",
       "      <td>36971009</td>\n",
       "      <td>Sinusitis (disorder)</td>\n",
       "    </tr>\n",
       "  </tbody>\n",
       "</table>\n",
       "</div>"
      ],
      "text/plain": [
       "       START       STOP                               PATIENT  \\\n",
       "0 2011-05-07 2011-06-03  36d131ee-dd5b-4acb-acbe-19961c32c099   \n",
       "1 2014-01-04 2014-02-06  33f33990-ae8b-4be8-938f-e47ad473abfe   \n",
       "2 2015-07-06 2015-09-02  33f33990-ae8b-4be8-938f-e47ad473abfe   \n",
       "\n",
       "                              ENCOUNTER       CODE                 DESCRIPTION  \n",
       "0  ff93cedb-8245-4091-838d-a568bcbcb00b  444814009  Viral sinusitis (disorder)  \n",
       "1  714fd61a-f9fd-43ff-87b9-3cc45a3f1e53  444814009  Viral sinusitis (disorder)  \n",
       "2  45044100-aaba-4209-8ad1-15383c76842d   36971009        Sinusitis (disorder)  "
      ]
     },
     "metadata": {},
     "output_type": "display_data"
    },
    {
     "name": "stdout",
     "output_type": "stream",
     "text": [
      "\n",
      "\n",
      "patients:\n",
      "\n"
     ]
    },
    {
     "data": {
      "text/html": [
       "<div>\n",
       "<style scoped>\n",
       "    .dataframe tbody tr th:only-of-type {\n",
       "        vertical-align: middle;\n",
       "    }\n",
       "\n",
       "    .dataframe tbody tr th {\n",
       "        vertical-align: top;\n",
       "    }\n",
       "\n",
       "    .dataframe thead th {\n",
       "        text-align: right;\n",
       "    }\n",
       "</style>\n",
       "<table border=\"1\" class=\"dataframe\">\n",
       "  <thead>\n",
       "    <tr style=\"text-align: right;\">\n",
       "      <th></th>\n",
       "      <th>ID</th>\n",
       "      <th>BIRTHDATE</th>\n",
       "      <th>DEATHDATE</th>\n",
       "      <th>SSN</th>\n",
       "      <th>DRIVERS</th>\n",
       "      <th>PASSPORT</th>\n",
       "      <th>PREFIX</th>\n",
       "      <th>FIRST</th>\n",
       "      <th>LAST</th>\n",
       "      <th>SUFFIX</th>\n",
       "      <th>MAIDEN</th>\n",
       "      <th>MARITAL</th>\n",
       "      <th>RACE</th>\n",
       "      <th>ETHNICITY</th>\n",
       "      <th>GENDER</th>\n",
       "      <th>BIRTHPLACE</th>\n",
       "      <th>ADDRESS</th>\n",
       "    </tr>\n",
       "  </thead>\n",
       "  <tbody>\n",
       "    <tr>\n",
       "      <th>132896</th>\n",
       "      <td>d3ae0579-ac2c-48b0-a0c1-a858b63e3b99</td>\n",
       "      <td>2013-12-02</td>\n",
       "      <td>NaT</td>\n",
       "      <td>999-85-8182</td>\n",
       "      <td>NaN</td>\n",
       "      <td>NaN</td>\n",
       "      <td>NaN</td>\n",
       "      <td>Katlynn733</td>\n",
       "      <td>Kulas756</td>\n",
       "      <td>NaN</td>\n",
       "      <td>NaN</td>\n",
       "      <td>NaN</td>\n",
       "      <td>white</td>\n",
       "      <td>scottish</td>\n",
       "      <td>M</td>\n",
       "      <td>North Andover MA US</td>\n",
       "      <td>971 MacGyver Lake Apt. 695 Chatham MA 02633 US</td>\n",
       "    </tr>\n",
       "    <tr>\n",
       "      <th>132897</th>\n",
       "      <td>6304009d-9c80-44f0-ae72-4c42eb5e8f38</td>\n",
       "      <td>2006-12-02</td>\n",
       "      <td>NaT</td>\n",
       "      <td>999-79-6418</td>\n",
       "      <td>NaN</td>\n",
       "      <td>NaN</td>\n",
       "      <td>NaN</td>\n",
       "      <td>Maria168</td>\n",
       "      <td>Bechtelar102</td>\n",
       "      <td>NaN</td>\n",
       "      <td>NaN</td>\n",
       "      <td>NaN</td>\n",
       "      <td>white</td>\n",
       "      <td>french</td>\n",
       "      <td>M</td>\n",
       "      <td>Florida MA US</td>\n",
       "      <td>9591 Fern Unions Eastham MA 02642 US</td>\n",
       "    </tr>\n",
       "    <tr>\n",
       "      <th>132898</th>\n",
       "      <td>927cdcb7-adfb-4968-b5d4-745764eb931e</td>\n",
       "      <td>1996-12-24</td>\n",
       "      <td>NaT</td>\n",
       "      <td>999-23-7921</td>\n",
       "      <td>S99965998</td>\n",
       "      <td>false</td>\n",
       "      <td>Ms.</td>\n",
       "      <td>Susana578</td>\n",
       "      <td>Weissnat96</td>\n",
       "      <td>NaN</td>\n",
       "      <td>NaN</td>\n",
       "      <td>NaN</td>\n",
       "      <td>white</td>\n",
       "      <td>irish</td>\n",
       "      <td>F</td>\n",
       "      <td>Westwood MA US</td>\n",
       "      <td>293 Jaeden Drive Eastham MA 02642 US</td>\n",
       "    </tr>\n",
       "  </tbody>\n",
       "</table>\n",
       "</div>"
      ],
      "text/plain": [
       "                                          ID  BIRTHDATE DEATHDATE  \\\n",
       "132896  d3ae0579-ac2c-48b0-a0c1-a858b63e3b99 2013-12-02       NaT   \n",
       "132897  6304009d-9c80-44f0-ae72-4c42eb5e8f38 2006-12-02       NaT   \n",
       "132898  927cdcb7-adfb-4968-b5d4-745764eb931e 1996-12-24       NaT   \n",
       "\n",
       "                SSN    DRIVERS PASSPORT PREFIX       FIRST          LAST  \\\n",
       "132896  999-85-8182        NaN      NaN    NaN  Katlynn733      Kulas756   \n",
       "132897  999-79-6418        NaN      NaN    NaN    Maria168  Bechtelar102   \n",
       "132898  999-23-7921  S99965998    false    Ms.   Susana578    Weissnat96   \n",
       "\n",
       "       SUFFIX MAIDEN MARITAL   RACE ETHNICITY GENDER           BIRTHPLACE  \\\n",
       "132896    NaN    NaN     NaN  white  scottish      M  North Andover MA US   \n",
       "132897    NaN    NaN     NaN  white    french      M        Florida MA US   \n",
       "132898    NaN    NaN     NaN  white     irish      F       Westwood MA US   \n",
       "\n",
       "                                               ADDRESS  \n",
       "132896  971 MacGyver Lake Apt. 695 Chatham MA 02633 US  \n",
       "132897            9591 Fern Unions Eastham MA 02642 US  \n",
       "132898            293 Jaeden Drive Eastham MA 02642 US  "
      ]
     },
     "metadata": {},
     "output_type": "display_data"
    }
   ],
   "source": [
    "print('conditions dimensions:', conditions.shape, '\\n')\n",
    "print('patient dimensions:', patients.shape, '\\n')\n",
    "print('\\n\\nconditions:\\n')\n",
    "display(conditions.head(3))\n",
    "print('\\n\\npatients:\\n')\n",
    "display(patients.head(3))"
   ]
  },
  {
   "cell_type": "markdown",
   "id": "b14efd3e",
   "metadata": {},
   "source": [
    "First, tables will be cleaned up in order to eliminate unnecessary information"
   ]
  },
  {
   "cell_type": "markdown",
   "id": "3785f683",
   "metadata": {},
   "source": [
    "For patients, `DEATHDATE`, `SSN`, `DRIVERS`, `PASSPORT`, `PREFIX`, `FIRST`, `LAST`, `SUFFIX`, `MAIDEN`, `BIRTHPLACE` and `ADDRESS` will be dropped."
   ]
  },
  {
   "cell_type": "code",
   "execution_count": 12,
   "id": "8cb7edb2",
   "metadata": {
    "collapsed": true
   },
   "outputs": [
    {
     "name": "stdout",
     "output_type": "stream",
     "text": [
      "patients dimensions after dropping unnecessary columns: (1192923, 6)\n"
     ]
    }
   ],
   "source": [
    "patients.drop(columns=['DEATHDATE', 'SSN', 'DRIVERS', 'PASSPORT', 'PREFIX',\n",
    "                       'FIRST', 'LAST', 'SUFFIX', 'MAIDEN', 'BIRTHPLACE', 'ADDRESS'\n",
    "                      ],\n",
    "              inplace=True)\n",
    "print('patients dimensions after dropping unnecessary columns:', patients.shape)"
   ]
  },
  {
   "cell_type": "markdown",
   "id": "828bf269",
   "metadata": {},
   "source": [
    "For encounters, `REASONCODE` and `REASONDESCRIPTION` will be excluded."
   ]
  },
  {
   "cell_type": "code",
   "execution_count": 13,
   "id": "e8df0697",
   "metadata": {},
   "outputs": [
    {
     "name": "stdout",
     "output_type": "stream",
     "text": [
      "encounters dimensions after dropping 2 columns: (15109427, 5)\n"
     ]
    }
   ],
   "source": [
    "encounters.drop(columns=['REASONCODE', 'REASONDESCRIPTION'],\n",
    "                inplace=True)\n",
    "print('encounters dimensions after dropping 2 columns:', encounters.shape)"
   ]
  },
  {
   "cell_type": "markdown",
   "id": "4109d61a",
   "metadata": {},
   "source": [
    "Conditions will be kept intact."
   ]
  },
  {
   "cell_type": "markdown",
   "id": "f72ccc48",
   "metadata": {},
   "source": [
    "Load the remaining tables:\n",
    "- allergies\n",
    "- careplans\n",
    "- immunizations\n",
    "- observations\n",
    "- medications\n",
    "- procedures"
   ]
  },
  {
   "cell_type": "code",
   "execution_count": 14,
   "id": "f222f602",
   "metadata": {},
   "outputs": [],
   "source": [
    "# allergies:\n",
    "allergies = pd.read_pickle('allergies.pkl')\n",
    "# careplans:\n",
    "careplans = pd.read_pickle('careplans.pkl')\n",
    "# immunizations:\n",
    "immunizations = pd.read_pickle('immunizations.pkl')\n",
    "# observations:\n",
    "observations = pd.read_pickle('observations.pkl')\n",
    "# medications:\n",
    "medications = pd.read_pickle('medications.pkl')\n",
    "# procedures:\n",
    "procedures = pd.read_pickle('procedures.pkl')"
   ]
  },
  {
   "cell_type": "markdown",
   "id": "0d3a7c3f",
   "metadata": {},
   "source": [
    "Assess allergies table."
   ]
  },
  {
   "cell_type": "code",
   "execution_count": 15,
   "id": "43c86804",
   "metadata": {
    "collapsed": true
   },
   "outputs": [
    {
     "data": {
      "text/html": [
       "<div>\n",
       "<style scoped>\n",
       "    .dataframe tbody tr th:only-of-type {\n",
       "        vertical-align: middle;\n",
       "    }\n",
       "\n",
       "    .dataframe tbody tr th {\n",
       "        vertical-align: top;\n",
       "    }\n",
       "\n",
       "    .dataframe thead th {\n",
       "        text-align: right;\n",
       "    }\n",
       "</style>\n",
       "<table border=\"1\" class=\"dataframe\">\n",
       "  <thead>\n",
       "    <tr style=\"text-align: right;\">\n",
       "      <th></th>\n",
       "      <th>START</th>\n",
       "      <th>STOP</th>\n",
       "      <th>PATIENT</th>\n",
       "      <th>ENCOUNTER</th>\n",
       "      <th>CODE</th>\n",
       "      <th>DESCRIPTION</th>\n",
       "    </tr>\n",
       "  </thead>\n",
       "  <tbody>\n",
       "    <tr>\n",
       "      <th>0</th>\n",
       "      <td>1997-09-13</td>\n",
       "      <td>2015-03-01</td>\n",
       "      <td>5125d2b2-3aef-4ae2-aa5c-335f7e206b92</td>\n",
       "      <td>63dbbe97-0f0a-4b11-abed-a507b632f059</td>\n",
       "      <td>91930004</td>\n",
       "      <td>Allergy to eggs</td>\n",
       "    </tr>\n",
       "    <tr>\n",
       "      <th>1</th>\n",
       "      <td>1997-09-13</td>\n",
       "      <td>NaT</td>\n",
       "      <td>5125d2b2-3aef-4ae2-aa5c-335f7e206b92</td>\n",
       "      <td>63dbbe97-0f0a-4b11-abed-a507b632f059</td>\n",
       "      <td>419263009</td>\n",
       "      <td>Allergy to tree pollen</td>\n",
       "    </tr>\n",
       "    <tr>\n",
       "      <th>2</th>\n",
       "      <td>1997-09-13</td>\n",
       "      <td>NaT</td>\n",
       "      <td>5125d2b2-3aef-4ae2-aa5c-335f7e206b92</td>\n",
       "      <td>63dbbe97-0f0a-4b11-abed-a507b632f059</td>\n",
       "      <td>424213003</td>\n",
       "      <td>Allergy to bee venom</td>\n",
       "    </tr>\n",
       "  </tbody>\n",
       "</table>\n",
       "</div>"
      ],
      "text/plain": [
       "       START       STOP                               PATIENT  \\\n",
       "0 1997-09-13 2015-03-01  5125d2b2-3aef-4ae2-aa5c-335f7e206b92   \n",
       "1 1997-09-13        NaT  5125d2b2-3aef-4ae2-aa5c-335f7e206b92   \n",
       "2 1997-09-13        NaT  5125d2b2-3aef-4ae2-aa5c-335f7e206b92   \n",
       "\n",
       "                              ENCOUNTER       CODE             DESCRIPTION  \n",
       "0  63dbbe97-0f0a-4b11-abed-a507b632f059   91930004         Allergy to eggs  \n",
       "1  63dbbe97-0f0a-4b11-abed-a507b632f059  419263009  Allergy to tree pollen  \n",
       "2  63dbbe97-0f0a-4b11-abed-a507b632f059  424213003    Allergy to bee venom  "
      ]
     },
     "metadata": {},
     "output_type": "display_data"
    }
   ],
   "source": [
    "display(allergies.head(3))"
   ]
  },
  {
   "cell_type": "markdown",
   "id": "9ad2f252",
   "metadata": {},
   "source": [
    "The allergies table will be left intact."
   ]
  },
  {
   "cell_type": "markdown",
   "id": "37b4a266",
   "metadata": {},
   "source": [
    "Assess careplans:"
   ]
  },
  {
   "cell_type": "code",
   "execution_count": 16,
   "id": "24d3b61f",
   "metadata": {
    "collapsed": true
   },
   "outputs": [
    {
     "data": {
      "text/html": [
       "<div>\n",
       "<style scoped>\n",
       "    .dataframe tbody tr th:only-of-type {\n",
       "        vertical-align: middle;\n",
       "    }\n",
       "\n",
       "    .dataframe tbody tr th {\n",
       "        vertical-align: top;\n",
       "    }\n",
       "\n",
       "    .dataframe thead th {\n",
       "        text-align: right;\n",
       "    }\n",
       "</style>\n",
       "<table border=\"1\" class=\"dataframe\">\n",
       "  <thead>\n",
       "    <tr style=\"text-align: right;\">\n",
       "      <th></th>\n",
       "      <th>ID</th>\n",
       "      <th>START</th>\n",
       "      <th>STOP</th>\n",
       "      <th>PATIENT</th>\n",
       "      <th>ENCOUNTER</th>\n",
       "      <th>CODE</th>\n",
       "      <th>DESCRIPTION</th>\n",
       "      <th>REASONCODE</th>\n",
       "      <th>REASONDESCRIPTION</th>\n",
       "    </tr>\n",
       "  </thead>\n",
       "  <tbody>\n",
       "    <tr>\n",
       "      <th>0</th>\n",
       "      <td>cd96613b-22cd-4b70-8847-55008ee6bd0c</td>\n",
       "      <td>2012-11-21</td>\n",
       "      <td>2012-12-14</td>\n",
       "      <td>660bec03-9e58-47f2-98b9-2f1c564f3838</td>\n",
       "      <td>dbe481ce-b961-4f43-ac0a-07fa8cfa8bdd</td>\n",
       "      <td>872781000000100</td>\n",
       "      <td>Musculoskeletal care</td>\n",
       "      <td>39848009.0</td>\n",
       "      <td>Whiplash injury to neck</td>\n",
       "    </tr>\n",
       "    <tr>\n",
       "      <th>1</th>\n",
       "      <td>cd96613b-22cd-4b70-8847-55008ee6bd0c</td>\n",
       "      <td>2012-11-21</td>\n",
       "      <td>2012-12-14</td>\n",
       "      <td>660bec03-9e58-47f2-98b9-2f1c564f3838</td>\n",
       "      <td>dbe481ce-b961-4f43-ac0a-07fa8cfa8bdd</td>\n",
       "      <td>266694003</td>\n",
       "      <td>Heat therapy</td>\n",
       "      <td>39848009.0</td>\n",
       "      <td>Whiplash injury to neck</td>\n",
       "    </tr>\n",
       "    <tr>\n",
       "      <th>2</th>\n",
       "      <td>cd96613b-22cd-4b70-8847-55008ee6bd0c</td>\n",
       "      <td>2012-11-21</td>\n",
       "      <td>2012-12-14</td>\n",
       "      <td>660bec03-9e58-47f2-98b9-2f1c564f3838</td>\n",
       "      <td>dbe481ce-b961-4f43-ac0a-07fa8cfa8bdd</td>\n",
       "      <td>183051005</td>\n",
       "      <td>Recommendation to rest</td>\n",
       "      <td>39848009.0</td>\n",
       "      <td>Whiplash injury to neck</td>\n",
       "    </tr>\n",
       "  </tbody>\n",
       "</table>\n",
       "</div>"
      ],
      "text/plain": [
       "                                     ID      START       STOP  \\\n",
       "0  cd96613b-22cd-4b70-8847-55008ee6bd0c 2012-11-21 2012-12-14   \n",
       "1  cd96613b-22cd-4b70-8847-55008ee6bd0c 2012-11-21 2012-12-14   \n",
       "2  cd96613b-22cd-4b70-8847-55008ee6bd0c 2012-11-21 2012-12-14   \n",
       "\n",
       "                                PATIENT                             ENCOUNTER  \\\n",
       "0  660bec03-9e58-47f2-98b9-2f1c564f3838  dbe481ce-b961-4f43-ac0a-07fa8cfa8bdd   \n",
       "1  660bec03-9e58-47f2-98b9-2f1c564f3838  dbe481ce-b961-4f43-ac0a-07fa8cfa8bdd   \n",
       "2  660bec03-9e58-47f2-98b9-2f1c564f3838  dbe481ce-b961-4f43-ac0a-07fa8cfa8bdd   \n",
       "\n",
       "              CODE             DESCRIPTION  REASONCODE  \\\n",
       "0  872781000000100    Musculoskeletal care  39848009.0   \n",
       "1        266694003            Heat therapy  39848009.0   \n",
       "2        183051005  Recommendation to rest  39848009.0   \n",
       "\n",
       "         REASONDESCRIPTION  \n",
       "0  Whiplash injury to neck  \n",
       "1  Whiplash injury to neck  \n",
       "2  Whiplash injury to neck  "
      ]
     },
     "metadata": {},
     "output_type": "display_data"
    }
   ],
   "source": [
    "display(careplans.head(3))"
   ]
  },
  {
   "cell_type": "markdown",
   "id": "da32e52e",
   "metadata": {},
   "source": [
    "Here, several columns will be removed: `ID`, `REASONCODE` and `REASONDESCRIPTION`."
   ]
  },
  {
   "cell_type": "code",
   "execution_count": 17,
   "id": "a843443d",
   "metadata": {},
   "outputs": [],
   "source": [
    "careplans.drop(columns=['ID', 'REASONCODE', 'REASONDESCRIPTION'], inplace=True)"
   ]
  },
  {
   "cell_type": "markdown",
   "id": "dd06ae01",
   "metadata": {},
   "source": [
    "Assess immunizations:"
   ]
  },
  {
   "cell_type": "code",
   "execution_count": 18,
   "id": "a0473365",
   "metadata": {
    "collapsed": true
   },
   "outputs": [
    {
     "data": {
      "text/html": [
       "<div>\n",
       "<style scoped>\n",
       "    .dataframe tbody tr th:only-of-type {\n",
       "        vertical-align: middle;\n",
       "    }\n",
       "\n",
       "    .dataframe tbody tr th {\n",
       "        vertical-align: top;\n",
       "    }\n",
       "\n",
       "    .dataframe thead th {\n",
       "        text-align: right;\n",
       "    }\n",
       "</style>\n",
       "<table border=\"1\" class=\"dataframe\">\n",
       "  <thead>\n",
       "    <tr style=\"text-align: right;\">\n",
       "      <th></th>\n",
       "      <th>DATE</th>\n",
       "      <th>PATIENT</th>\n",
       "      <th>ENCOUNTER</th>\n",
       "      <th>CODE</th>\n",
       "      <th>DESCRIPTION</th>\n",
       "    </tr>\n",
       "  </thead>\n",
       "  <tbody>\n",
       "    <tr>\n",
       "      <th>0</th>\n",
       "      <td>2011-07-02</td>\n",
       "      <td>33f33990-ae8b-4be8-938f-e47ad473abfe</td>\n",
       "      <td>673daa98-67e9-4e80-be46-a0b547533653</td>\n",
       "      <td>140</td>\n",
       "      <td>Influenza  seasonal  injectable  preservative ...</td>\n",
       "    </tr>\n",
       "    <tr>\n",
       "      <th>1</th>\n",
       "      <td>2011-07-02</td>\n",
       "      <td>33f33990-ae8b-4be8-938f-e47ad473abfe</td>\n",
       "      <td>673daa98-67e9-4e80-be46-a0b547533653</td>\n",
       "      <td>114</td>\n",
       "      <td>meningococcal MCV4P</td>\n",
       "    </tr>\n",
       "    <tr>\n",
       "      <th>2</th>\n",
       "      <td>2011-03-12</td>\n",
       "      <td>36d131ee-dd5b-4acb-acbe-19961c32c099</td>\n",
       "      <td>bac018de-114a-481d-b4f9-87980d7ef8b8</td>\n",
       "      <td>140</td>\n",
       "      <td>Influenza  seasonal  injectable  preservative ...</td>\n",
       "    </tr>\n",
       "  </tbody>\n",
       "</table>\n",
       "</div>"
      ],
      "text/plain": [
       "        DATE                               PATIENT  \\\n",
       "0 2011-07-02  33f33990-ae8b-4be8-938f-e47ad473abfe   \n",
       "1 2011-07-02  33f33990-ae8b-4be8-938f-e47ad473abfe   \n",
       "2 2011-03-12  36d131ee-dd5b-4acb-acbe-19961c32c099   \n",
       "\n",
       "                              ENCOUNTER  CODE  \\\n",
       "0  673daa98-67e9-4e80-be46-a0b547533653   140   \n",
       "1  673daa98-67e9-4e80-be46-a0b547533653   114   \n",
       "2  bac018de-114a-481d-b4f9-87980d7ef8b8   140   \n",
       "\n",
       "                                         DESCRIPTION  \n",
       "0  Influenza  seasonal  injectable  preservative ...  \n",
       "1                                meningococcal MCV4P  \n",
       "2  Influenza  seasonal  injectable  preservative ...  "
      ]
     },
     "metadata": {},
     "output_type": "display_data"
    }
   ],
   "source": [
    "display(immunizations.head(3))"
   ]
  },
  {
   "cell_type": "markdown",
   "id": "aebbf6cd",
   "metadata": {},
   "source": [
    "Immunizations table will be left intact."
   ]
  },
  {
   "cell_type": "markdown",
   "id": "5d6fb424",
   "metadata": {},
   "source": [
    "Assess observations:"
   ]
  },
  {
   "cell_type": "code",
   "execution_count": 19,
   "id": "57d95813",
   "metadata": {
    "collapsed": true
   },
   "outputs": [
    {
     "data": {
      "text/html": [
       "<div>\n",
       "<style scoped>\n",
       "    .dataframe tbody tr th:only-of-type {\n",
       "        vertical-align: middle;\n",
       "    }\n",
       "\n",
       "    .dataframe tbody tr th {\n",
       "        vertical-align: top;\n",
       "    }\n",
       "\n",
       "    .dataframe thead th {\n",
       "        text-align: right;\n",
       "    }\n",
       "</style>\n",
       "<table border=\"1\" class=\"dataframe\">\n",
       "  <thead>\n",
       "    <tr style=\"text-align: right;\">\n",
       "      <th></th>\n",
       "      <th>DATE</th>\n",
       "      <th>PATIENT</th>\n",
       "      <th>ENCOUNTER</th>\n",
       "      <th>CODE</th>\n",
       "      <th>DESCRIPTION</th>\n",
       "      <th>VALUE</th>\n",
       "      <th>UNITS</th>\n",
       "    </tr>\n",
       "  </thead>\n",
       "  <tbody>\n",
       "    <tr>\n",
       "      <th>0</th>\n",
       "      <td>2011-07-02</td>\n",
       "      <td>33f33990-ae8b-4be8-938f-e47ad473abfe</td>\n",
       "      <td>673daa98-67e9-4e80-be46-a0b547533653</td>\n",
       "      <td>8302-2</td>\n",
       "      <td>Body Height</td>\n",
       "      <td>175.76</td>\n",
       "      <td>cm</td>\n",
       "    </tr>\n",
       "    <tr>\n",
       "      <th>1</th>\n",
       "      <td>2011-03-12</td>\n",
       "      <td>36d131ee-dd5b-4acb-acbe-19961c32c099</td>\n",
       "      <td>bac018de-114a-481d-b4f9-87980d7ef8b8</td>\n",
       "      <td>8302-2</td>\n",
       "      <td>Body Height</td>\n",
       "      <td>167.28</td>\n",
       "      <td>cm</td>\n",
       "    </tr>\n",
       "    <tr>\n",
       "      <th>2</th>\n",
       "      <td>2011-07-02</td>\n",
       "      <td>33f33990-ae8b-4be8-938f-e47ad473abfe</td>\n",
       "      <td>673daa98-67e9-4e80-be46-a0b547533653</td>\n",
       "      <td>29463-7</td>\n",
       "      <td>Body Weight</td>\n",
       "      <td>56.51</td>\n",
       "      <td>kg</td>\n",
       "    </tr>\n",
       "  </tbody>\n",
       "</table>\n",
       "</div>"
      ],
      "text/plain": [
       "        DATE                               PATIENT  \\\n",
       "0 2011-07-02  33f33990-ae8b-4be8-938f-e47ad473abfe   \n",
       "1 2011-03-12  36d131ee-dd5b-4acb-acbe-19961c32c099   \n",
       "2 2011-07-02  33f33990-ae8b-4be8-938f-e47ad473abfe   \n",
       "\n",
       "                              ENCOUNTER     CODE  DESCRIPTION   VALUE UNITS  \n",
       "0  673daa98-67e9-4e80-be46-a0b547533653   8302-2  Body Height  175.76    cm  \n",
       "1  bac018de-114a-481d-b4f9-87980d7ef8b8   8302-2  Body Height  167.28    cm  \n",
       "2  673daa98-67e9-4e80-be46-a0b547533653  29463-7  Body Weight   56.51    kg  "
      ]
     },
     "metadata": {},
     "output_type": "display_data"
    }
   ],
   "source": [
    "display(observations.head(3))"
   ]
  },
  {
   "cell_type": "markdown",
   "id": "8a1ee6da",
   "metadata": {},
   "source": [
    "Here we have value and units. If all the units corresponding to the same measurement (`DESCRIPTION`) are the same, then the `UNITS` variable will be dropped."
   ]
  },
  {
   "cell_type": "code",
   "execution_count": null,
   "id": "0a386d76",
   "metadata": {},
   "outputs": [],
   "source": [
    "units = observations.groupby('DESCRIPTION')['UNITS'].nunique()"
   ]
  },
  {
   "cell_type": "code",
   "execution_count": 28,
   "id": "23e03fe9",
   "metadata": {},
   "outputs": [
    {
     "data": {
      "image/png": "[encoded data removed]",
      "text/plain": [
       "<Figure size 800x1200 with 1 Axes>"
      ]
     },
     "metadata": {},
     "output_type": "display_data"
    }
   ],
   "source": [
    "plt.figure(figsize=(8,12))\n",
    "units.plot.barh()\n",
    "plt.show()"
   ]
  },
  {
   "cell_type": "markdown",
   "id": "e31a1096",
   "metadata": {},
   "source": [
    "It is apparent that each description corresponds to a single unique value. Some observations are mere diagnoses and have no UNITS at all. In this case, the `UNITS` column will be removed."
   ]
  },
  {
   "cell_type": "code",
   "execution_count": 29,
   "id": "0762999c",
   "metadata": {},
   "outputs": [],
   "source": [
    "observations.drop(columns='UNITS', inplace=True)"
   ]
  },
  {
   "cell_type": "markdown",
   "id": "11eed8d5",
   "metadata": {},
   "source": [
    "Assess medications:"
   ]
  },
  {
   "cell_type": "code",
   "execution_count": 30,
   "id": "6d34cb1b",
   "metadata": {},
   "outputs": [
    {
     "data": {
      "text/html": [
       "<div>\n",
       "<style scoped>\n",
       "    .dataframe tbody tr th:only-of-type {\n",
       "        vertical-align: middle;\n",
       "    }\n",
       "\n",
       "    .dataframe tbody tr th {\n",
       "        vertical-align: top;\n",
       "    }\n",
       "\n",
       "    .dataframe thead th {\n",
       "        text-align: right;\n",
       "    }\n",
       "</style>\n",
       "<table border=\"1\" class=\"dataframe\">\n",
       "  <thead>\n",
       "    <tr style=\"text-align: right;\">\n",
       "      <th></th>\n",
       "      <th>START</th>\n",
       "      <th>STOP</th>\n",
       "      <th>PATIENT</th>\n",
       "      <th>ENCOUNTER</th>\n",
       "      <th>CODE</th>\n",
       "      <th>DESCRIPTION</th>\n",
       "      <th>REASONCODE</th>\n",
       "      <th>REASONDESCRIPTION</th>\n",
       "    </tr>\n",
       "  </thead>\n",
       "  <tbody>\n",
       "    <tr>\n",
       "      <th>0</th>\n",
       "      <td>1999-05-05</td>\n",
       "      <td>NaT</td>\n",
       "      <td>660bec03-9e58-47f2-98b9-2f1c564f3838</td>\n",
       "      <td>815494d8-2570-4918-a8de-fd4000d8100f</td>\n",
       "      <td>834060</td>\n",
       "      <td>Penicillin V Potassium 250 MG</td>\n",
       "      <td>43878008.0</td>\n",
       "      <td>Streptococcal sore throat (disorder)</td>\n",
       "    </tr>\n",
       "    <tr>\n",
       "      <th>1</th>\n",
       "      <td>2010-08-02</td>\n",
       "      <td>NaT</td>\n",
       "      <td>660bec03-9e58-47f2-98b9-2f1c564f3838</td>\n",
       "      <td>815494d8-2570-4918-a8de-fd4000d8100f</td>\n",
       "      <td>748879</td>\n",
       "      <td>Levora 0.15/30 28 Day Pack</td>\n",
       "      <td>NaN</td>\n",
       "      <td>NaN</td>\n",
       "    </tr>\n",
       "    <tr>\n",
       "      <th>2</th>\n",
       "      <td>2012-11-21</td>\n",
       "      <td>2012-12-14</td>\n",
       "      <td>660bec03-9e58-47f2-98b9-2f1c564f3838</td>\n",
       "      <td>dbe481ce-b961-4f43-ac0a-07fa8cfa8bdd</td>\n",
       "      <td>310965</td>\n",
       "      <td>Ibuprofen 200 MG Oral Tablet</td>\n",
       "      <td>NaN</td>\n",
       "      <td>NaN</td>\n",
       "    </tr>\n",
       "  </tbody>\n",
       "</table>\n",
       "</div>"
      ],
      "text/plain": [
       "       START       STOP                               PATIENT  \\\n",
       "0 1999-05-05        NaT  660bec03-9e58-47f2-98b9-2f1c564f3838   \n",
       "1 2010-08-02        NaT  660bec03-9e58-47f2-98b9-2f1c564f3838   \n",
       "2 2012-11-21 2012-12-14  660bec03-9e58-47f2-98b9-2f1c564f3838   \n",
       "\n",
       "                              ENCOUNTER    CODE  \\\n",
       "0  815494d8-2570-4918-a8de-fd4000d8100f  834060   \n",
       "1  815494d8-2570-4918-a8de-fd4000d8100f  748879   \n",
       "2  dbe481ce-b961-4f43-ac0a-07fa8cfa8bdd  310965   \n",
       "\n",
       "                     DESCRIPTION  REASONCODE  \\\n",
       "0  Penicillin V Potassium 250 MG  43878008.0   \n",
       "1     Levora 0.15/30 28 Day Pack         NaN   \n",
       "2   Ibuprofen 200 MG Oral Tablet         NaN   \n",
       "\n",
       "                      REASONDESCRIPTION  \n",
       "0  Streptococcal sore throat (disorder)  \n",
       "1                                   NaN  \n",
       "2                                   NaN  "
      ]
     },
     "metadata": {},
     "output_type": "display_data"
    }
   ],
   "source": [
    "display(medications.head(3))"
   ]
  },
  {
   "cell_type": "markdown",
   "id": "60d1b18e",
   "metadata": {},
   "source": [
    "Again, `REASONCODE` and `REASONDESCRIPTION` will be removed from downstream analysis."
   ]
  },
  {
   "cell_type": "code",
   "execution_count": null,
   "id": "c0ccef73",
   "metadata": {},
   "outputs": [],
   "source": [
    "medications.drop(columns=['REASONCODE'])"
   ]
  }
 ],
 "metadata": {
  "kernelspec": {
   "display_name": "Python 3 (ipykernel)",
   "language": "python",
   "name": "python3"
  },
  "language_info": {
   "codemirror_mode": {
    "name": "ipython",
    "version": 3
   },
   "file_extension": ".py",
   "mimetype": "text/x-python",
   "name": "python",
   "nbconvert_exporter": "python",
   "pygments_lexer": "ipython3",
   "version": "3.11.3"
  }
 },
 "nbformat": 4,
 "nbformat_minor": 5
}
