{
 "cells": [
  {
   "cell_type": "markdown",
   "id": "db44859c",
   "metadata": {},
   "source": [
    "# Consolidate data (Batch1)"
   ]
  },
  {
   "cell_type": "markdown",
   "id": "662c29ea",
   "metadata": {},
   "source": [
    "<div style=\"text-align: right\"> Author: Vassil Dimitrov </div>\n",
    "<div style=\"text-align: right\"> Date: 2023-08-01 </div>"
   ]
  },
  {
   "cell_type": "markdown",
   "id": "cae1ddc6",
   "metadata": {},
   "source": [
    "Batch 1 of the data will be prepared by merging the patients_batch1 data with the corresponding patient data from all other available tables. Note that some preprocessing will be required for some of the tables encluding `medications`, `observations` and `procedures`."
   ]
  },
  {
   "cell_type": "markdown",
   "id": "247fa4c4",
   "metadata": {},
   "source": [
    "## Prep"
   ]
  },
  {
   "cell_type": "markdown",
   "id": "ebe612c0",
   "metadata": {},
   "source": [
    "### Load libraries"
   ]
  },
  {
   "cell_type": "code",
   "execution_count": null,
   "id": "949c5918",
   "metadata": {},
   "outputs": [],
   "source": [
    "import numpy as np\n",
    "import pandas as pd"
   ]
  },
  {
   "cell_type": "markdown",
   "id": "5362a3d7",
   "metadata": {},
   "source": [
    "---"
   ]
  },
  {
   "cell_type": "markdown",
   "id": "e479546d",
   "metadata": {},
   "source": [
    "### Load patients data"
   ]
  },
  {
   "cell_type": "code",
   "execution_count": null,
   "id": "01e85ee2",
   "metadata": {},
   "outputs": [],
   "source": [
    "b = pd.read_pickle('patients_batch1.pkl')"
   ]
  },
  {
   "cell_type": "code",
   "execution_count": null,
   "id": "e8307cd2",
   "metadata": {},
   "outputs": [],
   "source": [
    "b.shape"
   ]
  },
  {
   "cell_type": "code",
   "execution_count": null,
   "id": "c6b6d569",
   "metadata": {
    "scrolled": true
   },
   "outputs": [],
   "source": [
    "display(b.head())"
   ]
  },
  {
   "cell_type": "markdown",
   "id": "f48329cd",
   "metadata": {},
   "source": [
    "Obtain column names from the patients dataframe for downstream analyses."
   ]
  },
  {
   "cell_type": "code",
   "execution_count": null,
   "id": "0cc9e5c5",
   "metadata": {},
   "outputs": [],
   "source": [
    "patients_dat_cols = list(b.columns)\n",
    "print(patients_dat_cols)"
   ]
  },
  {
   "cell_type": "markdown",
   "id": "5db7b0be",
   "metadata": {},
   "source": [
    "---"
   ]
  },
  {
   "cell_type": "markdown",
   "id": "6b808ba3",
   "metadata": {},
   "source": [
    "## Functions"
   ]
  },
  {
   "cell_type": "markdown",
   "id": "7954f25e",
   "metadata": {},
   "source": [
    "### `PATIENT` to index & explode"
   ]
  },
  {
   "cell_type": "code",
   "execution_count": null,
   "id": "81ba3b86",
   "metadata": {},
   "outputs": [],
   "source": [
    "def patient_subset_index_explode(df1, df2):\n",
    "    # Subset data\n",
    "    print('subsetting...')\n",
    "    tab = df2[df2['PATIENT'].isin(df1.index)]\n",
    "    del df2\n",
    "    print('Subset table dimensions:', tab.shape)\n",
    "   \n",
    "    # Create a new column 'encounter' to differentiate between duplicate rows for each patient\n",
    "    print('Counting number of encounters per patient...')\n",
    "    tab['encounter_n'] = tab.groupby('PATIENT').cumcount()+1\n",
    "    print('Pivoting table and setting \"PATIENT\" as index')\n",
    "    tab = tab.pivot_table(index='PATIENT',\n",
    "                          columns='encounter_n',\n",
    "                          aggfunc='first')\n",
    "    print(tab.shape)\n",
    "    # Flatten the MultiIndex columns\n",
    "    tab.columns = [f'{col[0]}_{col[1]}' for col in tab.columns]\n",
    "    # Fill in nulls with 0\n",
    "    print('Filling in nulls with 0s')\n",
    "    tab.fillna(0, inplace=True)\n",
    "    # Convert to uint32\n",
    "    tab = tab.astype('uint32')\n",
    "    # Return processed and subset table\n",
    "    return tab"
   ]
  },
  {
   "cell_type": "markdown",
   "id": "745c7397",
   "metadata": {},
   "source": [
    "### Batch merge"
   ]
  },
  {
   "cell_type": "code",
   "execution_count": null,
   "id": "549497c8",
   "metadata": {},
   "outputs": [],
   "source": [
    "def batch_merge (df1, tab):\n",
    "    # Merge the data with consolidated dataframe\n",
    "    print('Merging...')\n",
    "    df1 = df1.merge(tab, \n",
    "                  left_index=True, \n",
    "                  right_index=True, \n",
    "                  how='left')\n",
    "    print('Merged!')\n",
    "    print('New dimensions:', df1.shape)\n",
    "    return df1"
   ]
  },
  {
   "cell_type": "markdown",
   "id": "80ff4fa0",
   "metadata": {},
   "source": [
    "### Load data"
   ]
  },
  {
   "cell_type": "code",
   "execution_count": null,
   "id": "359fd9fd",
   "metadata": {},
   "outputs": [],
   "source": [
    "def load_table (tab_name):\n",
    "    to_merge = pd.read_pickle(tab_name)\n",
    "    print(f'Dimensions for {tab_name}:')\n",
    "    print(to_merge.shape)\n",
    "    return to_merge"
   ]
  },
  {
   "cell_type": "markdown",
   "id": "8e2d29c7",
   "metadata": {},
   "source": [
    "### Subset batch"
   ]
  },
  {
   "cell_type": "code",
   "execution_count": null,
   "id": "4d864f34",
   "metadata": {},
   "outputs": [],
   "source": [
    "def subset_batch_merge (df1, df2):\n",
    "    print('Merging...')\n",
    "    df_b = df2[df2.index.isin(df1.index)]\n",
    "    df1 = df1.merge(df_b, \n",
    "                  left_index=True, \n",
    "                  right_index=True, \n",
    "                  how='left')\n",
    "    print('Merged!')\n",
    "    return df1"
   ]
  },
  {
   "cell_type": "markdown",
   "id": "b716c046",
   "metadata": {},
   "source": [
    "### Tidy up"
   ]
  },
  {
   "cell_type": "code",
   "execution_count": null,
   "id": "4afba26c",
   "metadata": {},
   "outputs": [],
   "source": [
    "def tidy_up (df, cols2exclude):\n",
    "    print('Filling up with 0s')\n",
    "    df = df.fillna(0)\n",
    "    cols = [col for col in list(df.columns) if col not in cols2exclude]\n",
    "    for col in cols:\n",
    "        print(f'Processing column {col}...')\n",
    "        if pd.api.types.is_sparse(df[col]):\n",
    "            df[col] = df[col].sparse.to_dense().astype(np.uint32)\n",
    "        else:\n",
    "            df[col] = df[col].astype(np.uint32)\n",
    "        print(f'Processed column {col}.')\n",
    "    return df"
   ]
  },
  {
   "cell_type": "markdown",
   "id": "85206b46",
   "metadata": {},
   "source": [
    "### Process and merge\n",
    "Uses the three other functions defined above: `load_table`, `subset_batch_merge` and `tidy_up`."
   ]
  },
  {
   "cell_type": "code",
   "execution_count": null,
   "id": "f3c9d093",
   "metadata": {},
   "outputs": [],
   "source": [
    "def process_n_merge_processed (df_a, tab_name_b):\n",
    "    cols2exclude=list(df_a.columns)\n",
    "    df_b = load_table(tab_name_b)\n",
    "    df_a = subset_batch_merge(df_a, df_b)\n",
    "    df_a = tidy_up(df_a, cols2exclude)\n",
    "    return df_a"
   ]
  },
  {
   "cell_type": "markdown",
   "id": "1704e03a",
   "metadata": {},
   "source": [
    "---\n",
    "---"
   ]
  },
  {
   "cell_type": "markdown",
   "id": "7701f503",
   "metadata": {},
   "source": [
    "---\n",
    "---"
   ]
  },
  {
   "cell_type": "markdown",
   "id": "7b3aaed9",
   "metadata": {},
   "source": [
    "## Allergies"
   ]
  },
  {
   "cell_type": "markdown",
   "id": "7e18ff02",
   "metadata": {},
   "source": [
    "`allergies` is already preprocessed so it will essentially be loaded, the corresponding patients will be identified based on the `patients_batch1` information, and their respecive data will be merged to the patients data based on the indexes of both tables, keeping all batch1 patients."
   ]
  },
  {
   "cell_type": "markdown",
   "id": "dd7bc86a",
   "metadata": {},
   "source": [
    "### Read table"
   ]
  },
  {
   "cell_type": "code",
   "execution_count": null,
   "id": "dbb13edb",
   "metadata": {},
   "outputs": [],
   "source": [
    "to_merge = pd.read_pickle('allergies_encounters.pkl')\n",
    "# Sanity check\n",
    "print('dimensions:', to_merge.shape)\n",
    "display(to_merge.head())"
   ]
  },
  {
   "cell_type": "markdown",
   "id": "9193304b",
   "metadata": {},
   "source": [
    "### Subset for batch1 patients only"
   ]
  },
  {
   "cell_type": "code",
   "execution_count": null,
   "id": "c36402bd",
   "metadata": {},
   "outputs": [],
   "source": [
    "to_merge_b = to_merge[to_merge.index.isin(b.index)]\n",
    "# Sanity check\n",
    "print('dimensions:', to_merge_b.shape)\n",
    "display(to_merge_b.head())"
   ]
  },
  {
   "cell_type": "markdown",
   "id": "f8e72109",
   "metadata": {},
   "source": [
    "A bit over 12,000 patients from batch1 also have information about allergies."
   ]
  },
  {
   "cell_type": "markdown",
   "id": "1c72bac6",
   "metadata": {},
   "source": [
    "### Merge `allergies` to batch1"
   ]
  },
  {
   "cell_type": "code",
   "execution_count": null,
   "id": "d6274892",
   "metadata": {},
   "outputs": [],
   "source": [
    "batch = b.merge(to_merge_b, \n",
    "                  left_index=True, \n",
    "                  right_index=True, \n",
    "                  how='left')\n",
    "# Sanity check:\n",
    "print(batch.shape)\n",
    "display(batch.head())"
   ]
  },
  {
   "cell_type": "code",
   "execution_count": null,
   "id": "d985324f",
   "metadata": {},
   "outputs": [],
   "source": [
    "# Clean up memory\n",
    "del b, to_merge, to_merge_b"
   ]
  },
  {
   "cell_type": "markdown",
   "id": "4ef1086b",
   "metadata": {},
   "source": [
    "### Tidy up table"
   ]
  },
  {
   "cell_type": "markdown",
   "id": "c7072d1e",
   "metadata": {},
   "source": [
    "Replace nulls with 0 (no allergy encounter with a physician)."
   ]
  },
  {
   "cell_type": "code",
   "execution_count": null,
   "id": "1611b1fd",
   "metadata": {},
   "outputs": [],
   "source": [
    "batch.fillna(0, inplace=True)\n",
    "display(batch.head())"
   ]
  },
  {
   "cell_type": "markdown",
   "id": "444baa5b",
   "metadata": {},
   "source": [
    "Check the variable types for each column."
   ]
  },
  {
   "cell_type": "code",
   "execution_count": null,
   "id": "c3d2e3c5",
   "metadata": {},
   "outputs": [],
   "source": [
    "batch.dtypes"
   ]
  },
  {
   "cell_type": "markdown",
   "id": "abf16779",
   "metadata": {},
   "source": [
    "The allergy types were transformed into `float64` type. They will be converted to `uint32` to save memory."
   ]
  },
  {
   "cell_type": "code",
   "execution_count": null,
   "id": "85be7c78",
   "metadata": {},
   "outputs": [],
   "source": [
    "for col in batch.columns:\n",
    "    if col not in patients_dat_cols:\n",
    "        print('Converting', col)\n",
    "        batch[col] = batch[col].astype('uint32')\n",
    "    else:\n",
    "        continue"
   ]
  },
  {
   "cell_type": "code",
   "execution_count": null,
   "id": "7b886672",
   "metadata": {},
   "outputs": [],
   "source": [
    "batch.dtypes"
   ]
  },
  {
   "cell_type": "markdown",
   "id": "78c7a163",
   "metadata": {},
   "source": [
    "The types for the merged dataframe are of appropriate value.  \n",
    "  \n",
    "  The column names will be saved to exclude for downstream data manipulation."
   ]
  },
  {
   "cell_type": "code",
   "execution_count": null,
   "id": "914da4bf",
   "metadata": {
    "scrolled": true
   },
   "outputs": [],
   "source": [
    "cols2exclude = list(batch.columns)\n",
    "print(cols2exclude)"
   ]
  },
  {
   "cell_type": "markdown",
   "id": "f010476d",
   "metadata": {},
   "source": [
    "---\n",
    "---"
   ]
  },
  {
   "cell_type": "markdown",
   "id": "a7791662",
   "metadata": {},
   "source": [
    "## Careplans"
   ]
  },
  {
   "cell_type": "code",
   "execution_count": null,
   "id": "bda55dcd",
   "metadata": {},
   "outputs": [],
   "source": [
    "careplans = load_table('careplans_encounters.pkl')"
   ]
  },
  {
   "cell_type": "code",
   "execution_count": null,
   "id": "6fc16b61",
   "metadata": {},
   "outputs": [],
   "source": [
    "careplans.dtypes"
   ]
  },
  {
   "cell_type": "code",
   "execution_count": null,
   "id": "24fa1da2",
   "metadata": {},
   "outputs": [],
   "source": [
    "print(batch.shape)\n",
    "cols2exclude = list(batch.columns)\n",
    "batch = subset_batch_merge(batch, careplans)\n",
    "print(batch.shape)"
   ]
  },
  {
   "cell_type": "code",
   "execution_count": null,
   "id": "e8c638b5",
   "metadata": {},
   "outputs": [],
   "source": [
    "batch.dtypes"
   ]
  },
  {
   "cell_type": "code",
   "execution_count": null,
   "id": "5523c67f",
   "metadata": {},
   "outputs": [],
   "source": [
    "batch = tidy_up(batch, cols2exclude)\n",
    "batch.dtypes"
   ]
  },
  {
   "cell_type": "code",
   "execution_count": null,
   "id": "97afee23",
   "metadata": {},
   "outputs": [],
   "source": [
    "print('Dimensions so far:', batch.shape)"
   ]
  },
  {
   "cell_type": "code",
   "execution_count": null,
   "id": "ae3f1fdf",
   "metadata": {},
   "outputs": [],
   "source": [
    "# Clean up memory\n",
    "del careplans, cols2exclude"
   ]
  },
  {
   "cell_type": "markdown",
   "id": "b881a6bc",
   "metadata": {},
   "source": [
    "---\n",
    "---"
   ]
  },
  {
   "cell_type": "markdown",
   "id": "adb46c30",
   "metadata": {},
   "source": [
    "## Conditions"
   ]
  },
  {
   "cell_type": "code",
   "execution_count": null,
   "id": "324def4b",
   "metadata": {},
   "outputs": [],
   "source": [
    "batch = process_n_merge_processed (batch, 'conditions_encounters.pkl')\n",
    "print('Dimensions so far:', batch.shape)"
   ]
  },
  {
   "cell_type": "markdown",
   "id": "33eb2bf5",
   "metadata": {},
   "source": [
    "---\n",
    "---"
   ]
  },
  {
   "cell_type": "markdown",
   "id": "a6aa3b0a",
   "metadata": {},
   "source": [
    "## Immunizations"
   ]
  },
  {
   "cell_type": "code",
   "execution_count": null,
   "id": "c5c915ba",
   "metadata": {},
   "outputs": [],
   "source": [
    "batch = process_n_merge_processed (batch, 'immunizations_encounters.pkl')\n",
    "print('Dimensions so far:', batch.shape)"
   ]
  },
  {
   "cell_type": "markdown",
   "id": "7432cf6a",
   "metadata": {},
   "source": [
    "---\n",
    "---"
   ]
  },
  {
   "cell_type": "markdown",
   "id": "09bbe702",
   "metadata": {},
   "source": [
    "## Save"
   ]
  },
  {
   "cell_type": "markdown",
   "id": "2a3f53cd",
   "metadata": {},
   "source": [
    "Delete the batch table so far to liberate memory for processing the next table - `observations`."
   ]
  },
  {
   "cell_type": "code",
   "execution_count": null,
   "id": "42df1158",
   "metadata": {},
   "outputs": [],
   "source": [
    "batch.to_pickle('batch1.pkl')\n",
    "del batch"
   ]
  },
  {
   "cell_type": "markdown",
   "id": "b6bad324",
   "metadata": {},
   "source": [
    "## Observations"
   ]
  },
  {
   "cell_type": "code",
   "execution_count": null,
   "id": "54032cde",
   "metadata": {},
   "outputs": [],
   "source": [
    "observations = load_table('observations_encounters.pkl')"
   ]
  },
  {
   "cell_type": "code",
   "execution_count": null,
   "id": "2bf0330e",
   "metadata": {},
   "outputs": [],
   "source": [
    "display(observations.head())"
   ]
  },
  {
   "cell_type": "code",
   "execution_count": null,
   "id": "15c2c139",
   "metadata": {},
   "outputs": [],
   "source": [
    "batch = pd.read_pickle('batch1.pkl')"
   ]
  },
  {
   "cell_type": "code",
   "execution_count": null,
   "id": "aa4edeb8",
   "metadata": {},
   "outputs": [],
   "source": [
    "cols2exclude = list(batch.columns)"
   ]
  },
  {
   "cell_type": "code",
   "execution_count": null,
   "id": "3013c89a",
   "metadata": {
    "collapsed": true
   },
   "outputs": [],
   "source": [
    "df2 = patient_subset_index_explode(batch, observations)"
   ]
  },
  {
   "cell_type": "code",
   "execution_count": null,
   "id": "e9c8c113",
   "metadata": {},
   "outputs": [],
   "source": [
    "del observations"
   ]
  },
  {
   "cell_type": "code",
   "execution_count": null,
   "id": "1893a3d5",
   "metadata": {},
   "outputs": [],
   "source": [
    "print('Current consolidated table dimensions:', batch.shape)"
   ]
  },
  {
   "cell_type": "code",
   "execution_count": null,
   "id": "c9517288",
   "metadata": {},
   "outputs": [],
   "source": [
    "batch = batch_merge (batch, df2)"
   ]
  },
  {
   "cell_type": "code",
   "execution_count": null,
   "id": "0a773549",
   "metadata": {},
   "outputs": [],
   "source": [
    "del df2"
   ]
  },
  {
   "cell_type": "code",
   "execution_count": null,
   "id": "f2a17cbc",
   "metadata": {},
   "outputs": [],
   "source": [
    "batch = tidy_up (batch, cols2exclude)"
   ]
  },
  {
   "cell_type": "code",
   "execution_count": null,
   "id": "078702d3",
   "metadata": {},
   "outputs": [],
   "source": [
    "batch.dtypes"
   ]
  },
  {
   "cell_type": "code",
   "execution_count": null,
   "id": "ff4fbfcb",
   "metadata": {},
   "outputs": [],
   "source": [
    "batch.to_pickle('batch1.pkl')"
   ]
  },
  {
   "cell_type": "markdown",
   "id": "3f398cd4",
   "metadata": {},
   "source": [
    "---\n",
    "---"
   ]
  },
  {
   "cell_type": "markdown",
   "id": "4a387b9f",
   "metadata": {},
   "source": [
    "## Procedures"
   ]
  },
  {
   "cell_type": "code",
   "execution_count": 140,
   "id": "b25b6f08",
   "metadata": {},
   "outputs": [],
   "source": [
    "procedures = pd.read_pickle('procedure_encounters.pkl')"
   ]
  },
  {
   "cell_type": "code",
   "execution_count": 141,
   "id": "6f812a1e",
   "metadata": {},
   "outputs": [
    {
     "data": {
      "text/html": [
       "<div>\n",
       "<style scoped>\n",
       "    .dataframe tbody tr th:only-of-type {\n",
       "        vertical-align: middle;\n",
       "    }\n",
       "\n",
       "    .dataframe tbody tr th {\n",
       "        vertical-align: top;\n",
       "    }\n",
       "\n",
       "    .dataframe thead th {\n",
       "        text-align: right;\n",
       "    }\n",
       "</style>\n",
       "<table border=\"1\" class=\"dataframe\">\n",
       "  <thead>\n",
       "    <tr style=\"text-align: right;\">\n",
       "      <th></th>\n",
       "      <th>Admission to burn unit</th>\n",
       "      <th>Admission to long stay hospital</th>\n",
       "      <th>Admission to neurosurgical department</th>\n",
       "      <th>Admission to orthopedic department</th>\n",
       "      <th>Admission to trauma surgery department</th>\n",
       "      <th>Allergy screening test</th>\n",
       "      <th>Amputation of left arm</th>\n",
       "      <th>Amputation of left foot</th>\n",
       "      <th>Amputation of left hand</th>\n",
       "      <th>Amputation of left leg</th>\n",
       "      <th>...</th>\n",
       "      <th>Surgical manipulation of joint of knee</th>\n",
       "      <th>Surgical manipulation of shoulder joint</th>\n",
       "      <th>Suture open wound</th>\n",
       "      <th>Thoracentesis (procedure)</th>\n",
       "      <th>Throat culture (procedure)</th>\n",
       "      <th>Total knee replacement</th>\n",
       "      <th>Total replacement of hip</th>\n",
       "      <th>Transplant of lung (procedure)</th>\n",
       "      <th>Vasectomy</th>\n",
       "      <th>PATIENT</th>\n",
       "    </tr>\n",
       "  </thead>\n",
       "  <tbody>\n",
       "    <tr>\n",
       "      <th>1516584</th>\n",
       "      <td>0</td>\n",
       "      <td>0</td>\n",
       "      <td>0</td>\n",
       "      <td>0</td>\n",
       "      <td>0</td>\n",
       "      <td>0</td>\n",
       "      <td>0</td>\n",
       "      <td>0</td>\n",
       "      <td>0</td>\n",
       "      <td>0</td>\n",
       "      <td>...</td>\n",
       "      <td>0</td>\n",
       "      <td>0</td>\n",
       "      <td>0</td>\n",
       "      <td>0</td>\n",
       "      <td>0</td>\n",
       "      <td>0</td>\n",
       "      <td>0</td>\n",
       "      <td>0</td>\n",
       "      <td>0</td>\n",
       "      <td>33f33990-ae8b-4be8-938f-e47ad473abfe</td>\n",
       "    </tr>\n",
       "    <tr>\n",
       "      <th>1600279</th>\n",
       "      <td>0</td>\n",
       "      <td>0</td>\n",
       "      <td>0</td>\n",
       "      <td>0</td>\n",
       "      <td>0</td>\n",
       "      <td>0</td>\n",
       "      <td>0</td>\n",
       "      <td>0</td>\n",
       "      <td>0</td>\n",
       "      <td>0</td>\n",
       "      <td>...</td>\n",
       "      <td>0</td>\n",
       "      <td>0</td>\n",
       "      <td>0</td>\n",
       "      <td>0</td>\n",
       "      <td>0</td>\n",
       "      <td>0</td>\n",
       "      <td>0</td>\n",
       "      <td>0</td>\n",
       "      <td>0</td>\n",
       "      <td>36d131ee-dd5b-4acb-acbe-19961c32c099</td>\n",
       "    </tr>\n",
       "    <tr>\n",
       "      <th>1516585</th>\n",
       "      <td>0</td>\n",
       "      <td>0</td>\n",
       "      <td>0</td>\n",
       "      <td>0</td>\n",
       "      <td>0</td>\n",
       "      <td>0</td>\n",
       "      <td>0</td>\n",
       "      <td>0</td>\n",
       "      <td>0</td>\n",
       "      <td>0</td>\n",
       "      <td>...</td>\n",
       "      <td>0</td>\n",
       "      <td>0</td>\n",
       "      <td>0</td>\n",
       "      <td>0</td>\n",
       "      <td>0</td>\n",
       "      <td>0</td>\n",
       "      <td>0</td>\n",
       "      <td>0</td>\n",
       "      <td>0</td>\n",
       "      <td>33f33990-ae8b-4be8-938f-e47ad473abfe</td>\n",
       "    </tr>\n",
       "    <tr>\n",
       "      <th>1600280</th>\n",
       "      <td>0</td>\n",
       "      <td>0</td>\n",
       "      <td>0</td>\n",
       "      <td>0</td>\n",
       "      <td>0</td>\n",
       "      <td>0</td>\n",
       "      <td>0</td>\n",
       "      <td>0</td>\n",
       "      <td>0</td>\n",
       "      <td>0</td>\n",
       "      <td>...</td>\n",
       "      <td>0</td>\n",
       "      <td>0</td>\n",
       "      <td>0</td>\n",
       "      <td>0</td>\n",
       "      <td>0</td>\n",
       "      <td>0</td>\n",
       "      <td>0</td>\n",
       "      <td>0</td>\n",
       "      <td>0</td>\n",
       "      <td>36d131ee-dd5b-4acb-acbe-19961c32c099</td>\n",
       "    </tr>\n",
       "    <tr>\n",
       "      <th>2987976</th>\n",
       "      <td>0</td>\n",
       "      <td>0</td>\n",
       "      <td>0</td>\n",
       "      <td>0</td>\n",
       "      <td>0</td>\n",
       "      <td>0</td>\n",
       "      <td>0</td>\n",
       "      <td>0</td>\n",
       "      <td>0</td>\n",
       "      <td>0</td>\n",
       "      <td>...</td>\n",
       "      <td>0</td>\n",
       "      <td>0</td>\n",
       "      <td>0</td>\n",
       "      <td>0</td>\n",
       "      <td>0</td>\n",
       "      <td>0</td>\n",
       "      <td>0</td>\n",
       "      <td>0</td>\n",
       "      <td>0</td>\n",
       "      <td>660bec03-9e58-47f2-98b9-2f1c564f3838</td>\n",
       "    </tr>\n",
       "  </tbody>\n",
       "</table>\n",
       "<p>5 rows × 84 columns</p>\n",
       "</div>"
      ],
      "text/plain": [
       "         Admission to burn unit  Admission to long stay hospital  \\\n",
       "1516584                       0                                0   \n",
       "1600279                       0                                0   \n",
       "1516585                       0                                0   \n",
       "1600280                       0                                0   \n",
       "2987976                       0                                0   \n",
       "\n",
       "         Admission to neurosurgical department  \\\n",
       "1516584                                      0   \n",
       "1600279                                      0   \n",
       "1516585                                      0   \n",
       "1600280                                      0   \n",
       "2987976                                      0   \n",
       "\n",
       "         Admission to orthopedic department  \\\n",
       "1516584                                   0   \n",
       "1600279                                   0   \n",
       "1516585                                   0   \n",
       "1600280                                   0   \n",
       "2987976                                   0   \n",
       "\n",
       "         Admission to trauma surgery department  Allergy screening test  \\\n",
       "1516584                                       0                       0   \n",
       "1600279                                       0                       0   \n",
       "1516585                                       0                       0   \n",
       "1600280                                       0                       0   \n",
       "2987976                                       0                       0   \n",
       "\n",
       "         Amputation of left arm  Amputation of left foot  \\\n",
       "1516584                       0                        0   \n",
       "1600279                       0                        0   \n",
       "1516585                       0                        0   \n",
       "1600280                       0                        0   \n",
       "2987976                       0                        0   \n",
       "\n",
       "         Amputation of left hand  Amputation of left leg  ...  \\\n",
       "1516584                        0                       0  ...   \n",
       "1600279                        0                       0  ...   \n",
       "1516585                        0                       0  ...   \n",
       "1600280                        0                       0  ...   \n",
       "2987976                        0                       0  ...   \n",
       "\n",
       "         Surgical manipulation of joint of knee  \\\n",
       "1516584                                       0   \n",
       "1600279                                       0   \n",
       "1516585                                       0   \n",
       "1600280                                       0   \n",
       "2987976                                       0   \n",
       "\n",
       "         Surgical manipulation of shoulder joint  Suture open wound  \\\n",
       "1516584                                        0                  0   \n",
       "1600279                                        0                  0   \n",
       "1516585                                        0                  0   \n",
       "1600280                                        0                  0   \n",
       "2987976                                        0                  0   \n",
       "\n",
       "         Thoracentesis (procedure)  Throat culture (procedure)   \\\n",
       "1516584                          0                            0   \n",
       "1600279                          0                            0   \n",
       "1516585                          0                            0   \n",
       "1600280                          0                            0   \n",
       "2987976                          0                            0   \n",
       "\n",
       "         Total knee replacement  Total replacement of hip  \\\n",
       "1516584                       0                         0   \n",
       "1600279                       0                         0   \n",
       "1516585                       0                         0   \n",
       "1600280                       0                         0   \n",
       "2987976                       0                         0   \n",
       "\n",
       "         Transplant of lung (procedure)  Vasectomy  \\\n",
       "1516584                               0          0   \n",
       "1600279                               0          0   \n",
       "1516585                               0          0   \n",
       "1600280                               0          0   \n",
       "2987976                               0          0   \n",
       "\n",
       "                                      PATIENT  \n",
       "1516584  33f33990-ae8b-4be8-938f-e47ad473abfe  \n",
       "1600279  36d131ee-dd5b-4acb-acbe-19961c32c099  \n",
       "1516585  33f33990-ae8b-4be8-938f-e47ad473abfe  \n",
       "1600280  36d131ee-dd5b-4acb-acbe-19961c32c099  \n",
       "2987976  660bec03-9e58-47f2-98b9-2f1c564f3838  \n",
       "\n",
       "[5 rows x 84 columns]"
      ]
     },
     "metadata": {},
     "output_type": "display_data"
    }
   ],
   "source": [
    "display(procedures.head())"
   ]
  },
  {
   "cell_type": "code",
   "execution_count": 142,
   "id": "2dccfc50",
   "metadata": {},
   "outputs": [],
   "source": [
    "batch = pd.read_pickle('batch1.pkl')"
   ]
  },
  {
   "cell_type": "code",
   "execution_count": 143,
   "id": "58e2c713",
   "metadata": {},
   "outputs": [],
   "source": [
    "cols2exclude = list(batch.columns)"
   ]
  },
  {
   "cell_type": "code",
   "execution_count": null,
   "id": "4408dad4",
   "metadata": {},
   "outputs": [
    {
     "name": "stdout",
     "output_type": "stream",
     "text": [
      "subsetting...\n",
      "Subset table dimensions: (562787, 84)\n"
     ]
    },
    {
     "name": "stderr",
     "output_type": "stream",
     "text": [
      "C:\\Users\\Admin\\AppData\\Local\\Temp\\ipykernel_10776\\87141843.py:9: SettingWithCopyWarning: \n",
      "A value is trying to be set on a copy of a slice from a DataFrame.\n",
      "Try using .loc[row_indexer,col_indexer] = value instead\n",
      "\n",
      "See the caveats in the documentation: https://pandas.pydata.org/pandas-docs/stable/user_guide/indexing.html#returning-a-view-versus-a-copy\n",
      "  tab['encounter_n'] = tab.groupby('PATIENT').cumcount()+1\n"
     ]
    }
   ],
   "source": [
    "df2 = patient_subset_index_explode(batch, procedures)"
   ]
  },
  {
   "cell_type": "code",
   "execution_count": null,
   "id": "e13a50ba",
   "metadata": {},
   "outputs": [],
   "source": [
    "del procedures"
   ]
  },
  {
   "cell_type": "code",
   "execution_count": null,
   "id": "8d343fd9",
   "metadata": {},
   "outputs": [],
   "source": [
    "print('Current consolidated table dimensions:', batch.shape)"
   ]
  },
  {
   "cell_type": "code",
   "execution_count": null,
   "id": "36d215b5",
   "metadata": {},
   "outputs": [],
   "source": [
    "batch = batch_merge (batch, df2)"
   ]
  },
  {
   "cell_type": "code",
   "execution_count": null,
   "id": "348db49f",
   "metadata": {},
   "outputs": [],
   "source": [
    "del df2"
   ]
  },
  {
   "cell_type": "code",
   "execution_count": null,
   "id": "295ca020",
   "metadata": {},
   "outputs": [],
   "source": [
    "batch = tidy_up (batch, cols2exclude)"
   ]
  },
  {
   "cell_type": "code",
   "execution_count": null,
   "id": "1694affa",
   "metadata": {},
   "outputs": [],
   "source": [
    "batch.dtypes"
   ]
  },
  {
   "cell_type": "code",
   "execution_count": null,
   "id": "9eb754d6",
   "metadata": {},
   "outputs": [],
   "source": [
    "batch.to_pickle('batch1.pkl')"
   ]
  },
  {
   "cell_type": "code",
   "execution_count": null,
   "id": "c2fa18dd",
   "metadata": {},
   "outputs": [],
   "source": []
  }
 ],
 "metadata": {
  "kernelspec": {
   "display_name": "Python 3 (ipykernel)",
   "language": "python",
   "name": "python3"
  },
  "language_info": {
   "codemirror_mode": {
    "name": "ipython",
    "version": 3
   },
   "file_extension": ".py",
   "mimetype": "text/x-python",
   "name": "python",
   "nbconvert_exporter": "python",
   "pygments_lexer": "ipython3",
   "version": "3.11.3"
  }
 },
 "nbformat": 4,
 "nbformat_minor": 5
}
