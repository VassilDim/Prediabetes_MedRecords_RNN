{
 "cells": [
  {
   "cell_type": "markdown",
   "id": "1977bb2c",
   "metadata": {},
   "source": [
    "# Consolidate Data (1)"
   ]
  },
  {
   "cell_type": "markdown",
   "id": "20bcb501",
   "metadata": {},
   "source": [
    "In this module, each data table with encoded encounters ranked by time of occurrence will be loaded. Conditions will also be loaded and all conditions occurring prior to pre-diabetes will be kept as features. The incidence of diabetes will be encoded as a binary response variable. All diabetes conditions will be dropped from downstream analysis because the incidence of diabetes implies that at some stage a prediabetic stage must have taken place (especially for Type 2 Diabetes Mellitus)."
   ]
  },
  {
   "cell_type": "markdown",
   "id": "5caaa309",
   "metadata": {},
   "source": [
    "---\n",
    "---"
   ]
  },
  {
   "cell_type": "markdown",
   "id": "fe887fb4",
   "metadata": {},
   "source": [
    "## Prep"
   ]
  },
  {
   "cell_type": "markdown",
   "id": "69f622f7",
   "metadata": {},
   "source": [
    "### Load Libraries"
   ]
  },
  {
   "cell_type": "code",
   "execution_count": 1,
   "id": "88430838",
   "metadata": {},
   "outputs": [],
   "source": [
    "import pandas as pd\n",
    "import numpy as np"
   ]
  },
  {
   "cell_type": "markdown",
   "id": "09a8e76b",
   "metadata": {},
   "source": [
    "---"
   ]
  },
  {
   "cell_type": "markdown",
   "id": "7b58780a",
   "metadata": {},
   "source": [
    "### Functions"
   ]
  },
  {
   "cell_type": "markdown",
   "id": "ac38f09a",
   "metadata": {},
   "source": [
    "#### `PATIENT` to index & explode"
   ]
  },
  {
   "cell_type": "code",
   "execution_count": 3,
   "id": "c240c890",
   "metadata": {},
   "outputs": [],
   "source": [
    "def patient_index_explode(tab):\n",
    "    # Create a new column 'encounter' to differentiate between duplicate rows for each patient\n",
    "    tab['encounter_n'] = tab.groupby('PATIENT').cumcount()+1\n",
    "    tab = tab.pivot_table(index='PATIENT',\n",
    "                          columns='encounter_n',\n",
    "                          aggfunc='first')\n",
    "    # Flatten the MultiIndex columns\n",
    "    tab.columns = [f'{col[0]}_{col[1]}' for col in tab.columns]\n",
    "    # Fill in nulls with 0\n",
    "    tab.fillna(0, inplace=True)\n",
    "    # Convert to uint32\n",
    "    tab=tab.astype('uint32')\n",
    "    sparse_dtype = pd.SparseDtype(np.uint32, fill_value=0)\n",
    "    tab = tab.astype(sparse_dtype)\n",
    "    return tab"
   ]
  },
  {
   "cell_type": "markdown",
   "id": "43183db2",
   "metadata": {},
   "source": [
    "---"
   ]
  },
  {
   "cell_type": "markdown",
   "id": "06f952f0",
   "metadata": {},
   "source": [
    "### Read & Tidy"
   ]
  },
  {
   "cell_type": "code",
   "execution_count": 5,
   "id": "1a8fd825",
   "metadata": {},
   "outputs": [],
   "source": [
    "def read_n_tidy (tab_name_pkl):\n",
    "    tab = pd.read_pickle(tab_name_pkl)\n",
    "    tab.drop_duplicates (inplace=True)\n",
    "    tab.fillna(0, inplace=True)\n",
    "    cols2trans = list(tab.columns)\n",
    "    for col in cols2trans:\n",
    "        print(col)\n",
    "        if col == 'PATIENT':\n",
    "            continue\n",
    "        else:\n",
    "            tab[col] = tab[col].sparse.to_dense().astype(np.uint32)\n",
    "    return tab"
   ]
  },
  {
   "cell_type": "markdown",
   "id": "5f932b43",
   "metadata": {},
   "source": [
    "---\n",
    "---"
   ]
  },
  {
   "cell_type": "markdown",
   "id": "b2315149",
   "metadata": {},
   "source": [
    "## Prepare tables for merging"
   ]
  },
  {
   "cell_type": "markdown",
   "id": "ebf3bb8a",
   "metadata": {},
   "source": [
    "Tables will be loaded and transformed such that for each patient there is a multitude of numerically encoded data in each column. The table will contain encounter codes with a parallel table containing corresponding encounter values. The encounter codes and the `encounters` table will be used to sort the data in a time-depending manner for both encounter codes and encounter values in order to be able to input a sequence of events (and their values) for RNN construction."
   ]
  },
  {
   "cell_type": "markdown",
   "id": "507a5d57",
   "metadata": {},
   "source": [
    "---"
   ]
  },
  {
   "cell_type": "markdown",
   "id": "7ddf3b71",
   "metadata": {},
   "source": [
    "### Patients"
   ]
  },
  {
   "cell_type": "code",
   "execution_count": null,
   "id": "85d98582",
   "metadata": {},
   "outputs": [],
   "source": [
    "patients = pd.read_pickle('patients2.pkl')\n",
    "print('patients:', patients.shape)"
   ]
  },
  {
   "cell_type": "markdown",
   "id": "60f60818",
   "metadata": {},
   "source": [
    "A total of a bit more than 1 million patients"
   ]
  },
  {
   "cell_type": "markdown",
   "id": "5b96fdce",
   "metadata": {},
   "source": [
    "#### Tidy up `patients`"
   ]
  },
  {
   "cell_type": "markdown",
   "id": "1ce9540a",
   "metadata": {},
   "source": [
    "##### Handle null values"
   ]
  },
  {
   "cell_type": "code",
   "execution_count": null,
   "id": "4afefef6",
   "metadata": {},
   "outputs": [],
   "source": [
    "patients.isna().sum()"
   ]
  },
  {
   "cell_type": "markdown",
   "id": "3ad4d96f",
   "metadata": {},
   "source": [
    "There are many null values for marital status. Let us explore the different categories for this feature."
   ]
  },
  {
   "cell_type": "code",
   "execution_count": null,
   "id": "d2d961d0",
   "metadata": {},
   "outputs": [],
   "source": [
    "patients['MARITAL'].value_counts()"
   ]
  },
  {
   "cell_type": "markdown",
   "id": "ab4e26fa",
   "metadata": {},
   "source": [
    "There are 2 categories for `MARITAL`:\n",
    "- M (married)\n",
    "- S (single)\n",
    "  \n",
    "  \n",
    "These will be encoded in the following way:\n",
    "- M (married) - 1\n",
    "- S (single) - 0\n",
    "- Null (single) - 0  \n",
    "  \n",
    "Note that the null values are lumped together with single as one does not know what the marital status of these patients is (likely single)."
   ]
  },
  {
   "cell_type": "code",
   "execution_count": null,
   "id": "a4ecd740",
   "metadata": {},
   "outputs": [],
   "source": [
    "patients['MARITAL'] = patients['MARITAL'].map({'M' : 1,\n",
    "                                         'S' : 0,\n",
    "                                         np.nan : 0\n",
    "                                        })\n",
    "# Sanity check:\n",
    "print(patients['MARITAL'].value_counts())\n",
    "print('Total nulls for \"MARITAL\":', patients['MARITAL'].isna().sum())"
   ]
  },
  {
   "cell_type": "markdown",
   "id": "d861b157",
   "metadata": {},
   "source": [
    "##### Numerically encode features"
   ]
  },
  {
   "cell_type": "code",
   "execution_count": null,
   "id": "975a4633",
   "metadata": {},
   "outputs": [],
   "source": [
    "category_count = {col : patients[col].value_counts() for col in patients.columns[1:]}\n",
    "for v in category_count:\n",
    "    print(v)\n",
    "    print (category_count[v],'\\n---------------\\n')"
   ]
  },
  {
   "cell_type": "markdown",
   "id": "3d93d86a",
   "metadata": {},
   "source": [
    "###### `GENDER`"
   ]
  },
  {
   "cell_type": "markdown",
   "id": "155b6255",
   "metadata": {},
   "source": [
    "This feature will be encoded as follows:\n",
    "- M (male) : 0\n",
    "- F (female) : 1"
   ]
  },
  {
   "cell_type": "code",
   "execution_count": null,
   "id": "c5c3dd60",
   "metadata": {},
   "outputs": [],
   "source": [
    "patients['GENDER'] = patients['GENDER'].map({'M' : 0, 'F' : 1})"
   ]
  },
  {
   "cell_type": "markdown",
   "id": "18a50a30",
   "metadata": {},
   "source": [
    "##### `BIRTHDATE` - ***feature engineering***"
   ]
  },
  {
   "cell_type": "markdown",
   "id": "a6e44a91",
   "metadata": {},
   "source": [
    "`BIRTHDATE` will be used to calculate the time elapsed (in months) from birth until March 1, 2018 (the creation of the synthetic medical records dataset). This feature will be an integer. Months was selected here instead of days or years because it provides a good balance between two competing aims of accuracy and saving memory."
   ]
  },
  {
   "cell_type": "code",
   "execution_count": null,
   "id": "579a101c",
   "metadata": {},
   "outputs": [],
   "source": [
    "# Declare the reference date:\n",
    "reference_date = pd.to_datetime('2018-03-01')\n",
    "# Calculate months since birth:\n",
    "patients['m_since_birth'] = ((reference_date - patients['BIRTHDATE'])/np.timedelta64(1, 'M')).astype(int)\n",
    "# Plot the result for visualization\n",
    "patients['m_since_birth'].hist(bins=30)"
   ]
  },
  {
   "cell_type": "markdown",
   "id": "b4fa8ecb",
   "metadata": {},
   "source": [
    "Great. No outliers either."
   ]
  },
  {
   "cell_type": "code",
   "execution_count": null,
   "id": "f3c18398",
   "metadata": {},
   "outputs": [],
   "source": [
    "patients.drop('BIRTHDATE', axis=1, inplace=True)"
   ]
  },
  {
   "cell_type": "markdown",
   "id": "9ef0dd88",
   "metadata": {},
   "source": [
    "#### `RACE` and `ETHNICITY`"
   ]
  },
  {
   "cell_type": "markdown",
   "id": "6c89db82",
   "metadata": {},
   "source": [
    "`RACE` and `ETHNICITY` will simply be 1-hot-encoded."
   ]
  },
  {
   "cell_type": "code",
   "execution_count": null,
   "id": "5f04393f",
   "metadata": {},
   "outputs": [],
   "source": [
    "# 1-hot encode variables\n",
    "patients_1hot = pd.get_dummies(patients, columns=['RACE', 'ETHNICITY'])\n",
    "# Sanity check:\n",
    "display(patients_1hot.head())"
   ]
  },
  {
   "cell_type": "markdown",
   "id": "cc6f09b7",
   "metadata": {},
   "source": [
    "##### Downcast numbers"
   ]
  },
  {
   "cell_type": "markdown",
   "id": "5930c62b",
   "metadata": {},
   "source": [
    "In order to save space, all numbers will be downcast. Specifically, all columns except `PATIENT` and `m_since_birth` will be assigned type `UInt8`"
   ]
  },
  {
   "cell_type": "code",
   "execution_count": null,
   "id": "f308aa8b",
   "metadata": {},
   "outputs": [],
   "source": [
    "cols2trans = list(patients_1hot.columns)\n",
    "print(cols2trans)"
   ]
  },
  {
   "cell_type": "code",
   "execution_count": null,
   "id": "06424bb8",
   "metadata": {},
   "outputs": [],
   "source": [
    "for col in cols2trans:\n",
    "    print(col)\n",
    "    if col == 'PATIENT':\n",
    "        continue\n",
    "    elif col == 'm_since_birth':\n",
    "        patients_1hot[col] = patients_1hot[col].astype(np.uint16)\n",
    "    else:\n",
    "        patients_1hot[col] = patients_1hot[col].astype(np.uint8)"
   ]
  },
  {
   "cell_type": "code",
   "execution_count": null,
   "id": "426909e4",
   "metadata": {},
   "outputs": [],
   "source": [
    "# Check types:\n",
    "print(patients_1hot.dtypes)"
   ]
  },
  {
   "cell_type": "markdown",
   "id": "5ffe7117",
   "metadata": {},
   "source": [
    "Great!  \n",
    "Now I will check again for missing/null values."
   ]
  },
  {
   "cell_type": "code",
   "execution_count": null,
   "id": "545b26a3",
   "metadata": {},
   "outputs": [],
   "source": [
    "patients_1hot.isna().sum()"
   ]
  },
  {
   "cell_type": "markdown",
   "id": "24723280",
   "metadata": {},
   "source": [
    "`patients` table is properly encoded and contains no nulls."
   ]
  },
  {
   "cell_type": "markdown",
   "id": "e843356a",
   "metadata": {},
   "source": [
    "##### Duplicates"
   ]
  },
  {
   "cell_type": "code",
   "execution_count": null,
   "id": "3b206aa0",
   "metadata": {},
   "outputs": [],
   "source": [
    "# Check how many duplicates there are:\n",
    "print(patients_1hot.duplicated().sum())"
   ]
  },
  {
   "cell_type": "markdown",
   "id": "e55ab567",
   "metadata": {},
   "source": [
    "No duplicated rows so data can be properly saved."
   ]
  },
  {
   "cell_type": "code",
   "execution_count": null,
   "id": "95eb53dd",
   "metadata": {},
   "outputs": [],
   "source": [
    "patients = patients_1hot\n",
    "del patients_1hot\n",
    "print('Dimensions of patients table --', patients.shape)"
   ]
  },
  {
   "cell_type": "markdown",
   "id": "39ed955a",
   "metadata": {},
   "source": [
    "##### Index and save"
   ]
  },
  {
   "cell_type": "code",
   "execution_count": null,
   "id": "a8633606",
   "metadata": {},
   "outputs": [],
   "source": [
    "patients.set_index('PATIENT', inplace=True)"
   ]
  },
  {
   "cell_type": "code",
   "execution_count": null,
   "id": "81987ddf",
   "metadata": {},
   "outputs": [],
   "source": [
    "patients = pd.read_pickle('patients2.pkl')\n",
    "display(patients.head())"
   ]
  },
  {
   "cell_type": "code",
   "execution_count": null,
   "id": "8f470672",
   "metadata": {},
   "outputs": [],
   "source": [
    "# Save table:\n",
    "patients.to_pickle('patients2.pkl')"
   ]
  },
  {
   "cell_type": "code",
   "execution_count": null,
   "id": "b44bbca8",
   "metadata": {},
   "outputs": [],
   "source": [
    "# Clear memory\n",
    "del patients, col, cols2trans"
   ]
  },
  {
   "cell_type": "markdown",
   "id": "1ba10e41",
   "metadata": {},
   "source": [
    "---"
   ]
  },
  {
   "cell_type": "markdown",
   "id": "58ad56d0",
   "metadata": {},
   "source": [
    "### Allergies (encounters)"
   ]
  },
  {
   "cell_type": "markdown",
   "id": "8c389035",
   "metadata": {},
   "source": [
    "#### Read table"
   ]
  },
  {
   "cell_type": "code",
   "execution_count": null,
   "id": "517a1832",
   "metadata": {},
   "outputs": [],
   "source": [
    "allergies = pd.read_pickle('allergies_encounters.pkl')\n",
    "print('allergies:', allergies.shape)"
   ]
  },
  {
   "cell_type": "markdown",
   "id": "7b82b68a",
   "metadata": {},
   "source": [
    "#### Tidy up `allergies`"
   ]
  },
  {
   "cell_type": "markdown",
   "id": "2db594a9",
   "metadata": {},
   "source": [
    "##### Check for duplicates"
   ]
  },
  {
   "cell_type": "code",
   "execution_count": null,
   "id": "bb7a52f4",
   "metadata": {},
   "outputs": [],
   "source": [
    "print(allergies.duplicated().sum())"
   ]
  },
  {
   "cell_type": "markdown",
   "id": "3afe7b51",
   "metadata": {},
   "source": [
    "##### Check for null values"
   ]
  },
  {
   "cell_type": "code",
   "execution_count": null,
   "id": "9df5d4e7",
   "metadata": {},
   "outputs": [],
   "source": [
    "print(allergies.isna().sum())"
   ]
  },
  {
   "cell_type": "markdown",
   "id": "66544d7b",
   "metadata": {},
   "source": [
    "##### Transform data type"
   ]
  },
  {
   "cell_type": "markdown",
   "id": "1c18e3b1",
   "metadata": {},
   "source": [
    "First, take a look at the data type for each column."
   ]
  },
  {
   "cell_type": "code",
   "execution_count": null,
   "id": "bfcbabb9",
   "metadata": {},
   "outputs": [],
   "source": [
    "print(allergies.dtypes)"
   ]
  },
  {
   "cell_type": "markdown",
   "id": "a8f1b1ee",
   "metadata": {},
   "source": [
    "Each column is of sparse format and contains int64. This is an overkill. `np.uint32` will be used since all the values are positive integer codes for encounters."
   ]
  },
  {
   "cell_type": "code",
   "execution_count": null,
   "id": "a8aa7e07",
   "metadata": {},
   "outputs": [],
   "source": [
    "cols2trans = list(allergies.columns)\n",
    "print(cols2trans)"
   ]
  },
  {
   "cell_type": "code",
   "execution_count": null,
   "id": "d0fa3814",
   "metadata": {},
   "outputs": [],
   "source": [
    "for col in cols2trans:\n",
    "    print(col)\n",
    "    if col == 'PATIENT':\n",
    "        continue\n",
    "    else:\n",
    "        allergies[col] = allergies[col].sparse.to_dense().astype(np.uint32)"
   ]
  },
  {
   "cell_type": "code",
   "execution_count": null,
   "id": "17c14339",
   "metadata": {},
   "outputs": [],
   "source": [
    "# Sanity check:\n",
    "print(allergies.dtypes)"
   ]
  },
  {
   "cell_type": "markdown",
   "id": "4c5f8d8d",
   "metadata": {},
   "source": [
    "Check how many of the patient id's (`PATIENT`) are duplicated."
   ]
  },
  {
   "cell_type": "code",
   "execution_count": null,
   "id": "80012547",
   "metadata": {},
   "outputs": [],
   "source": [
    "print('Duplicates for patients:', allergies['PATIENT'].duplicated().sum())"
   ]
  },
  {
   "cell_type": "markdown",
   "id": "41bef042",
   "metadata": {},
   "source": [
    "So mostly duplicated. The table will be arranged such that each row corresponds to a single patient and each column, to a single  encounter type with values corresponding to the encounter time rank."
   ]
  },
  {
   "cell_type": "code",
   "execution_count": null,
   "id": "1aa3deef",
   "metadata": {},
   "outputs": [],
   "source": [
    "# Create a new column 'encounter' to differentiate between duplicate rows for each patient\n",
    "allergies['encounter_n'] = allergies.groupby('PATIENT').cumcount()+1\n",
    "# Sanity check:\n",
    "display(allergies.head())"
   ]
  },
  {
   "cell_type": "code",
   "execution_count": null,
   "id": "fa4cb69a",
   "metadata": {},
   "outputs": [],
   "source": [
    "allergies_pivot = allergies.pivot_table(index='PATIENT', \n",
    "                                        columns='encounter_n', \n",
    "                                        aggfunc='first')\n",
    "# Sanity check:\n",
    "display (allergies_pivot.head())"
   ]
  },
  {
   "cell_type": "code",
   "execution_count": null,
   "id": "945cae72",
   "metadata": {},
   "outputs": [],
   "source": [
    "# Flatten the MultiIndex columns\n",
    "allergies_pivot.columns = [f'{col[0]}_{col[1]}' for col in allergies_pivot.columns]\n",
    "# Sanity check:\n",
    "display(allergies_pivot.head())"
   ]
  },
  {
   "cell_type": "code",
   "execution_count": null,
   "id": "9d9c4661",
   "metadata": {},
   "outputs": [],
   "source": [
    "print('dimensions for allergies:', allergies_pivot.shape)"
   ]
  },
  {
   "cell_type": "code",
   "execution_count": null,
   "id": "6fa7b578",
   "metadata": {},
   "outputs": [],
   "source": [
    "allergies = allergies_pivot\n",
    "del allergies_pivot, col"
   ]
  },
  {
   "cell_type": "markdown",
   "id": "7cdd305b",
   "metadata": {},
   "source": [
    "The null values obtain after pivoting the table will be replaced with 0 indicating no encounter for the patient."
   ]
  },
  {
   "cell_type": "code",
   "execution_count": null,
   "id": "5a6acddf",
   "metadata": {},
   "outputs": [],
   "source": [
    "allergies.fillna(0, inplace=True)\n",
    "# Convert to uint32\n",
    "allergies=allergies.astype('uint32')\n",
    "# Sanity check:\n",
    "display(allergies.head())"
   ]
  },
  {
   "cell_type": "code",
   "execution_count": null,
   "id": "48bc261c",
   "metadata": {},
   "outputs": [],
   "source": [
    "# Convert the DataFrame to a SparseDataFrame\n",
    "sparse_dtype = pd.SparseDtype(np.uint32, fill_value=0)\n",
    "allergies = allergies.astype(sparse_dtype)\n",
    "display(allergies.head())"
   ]
  },
  {
   "cell_type": "code",
   "execution_count": null,
   "id": "29ccbd27",
   "metadata": {},
   "outputs": [],
   "source": [
    "# Save table:\n",
    "allergies.to_pickle('allergies_encounters.pkl')"
   ]
  },
  {
   "cell_type": "code",
   "execution_count": null,
   "id": "5e83f1ff",
   "metadata": {},
   "outputs": [],
   "source": [
    "del allergies"
   ]
  },
  {
   "cell_type": "markdown",
   "id": "7ac6ed41",
   "metadata": {},
   "source": [
    "---"
   ]
  },
  {
   "cell_type": "markdown",
   "id": "63fa9663",
   "metadata": {},
   "source": [
    "### Careplans (encounters)"
   ]
  },
  {
   "cell_type": "markdown",
   "id": "180293e8",
   "metadata": {},
   "source": [
    "#### Read table"
   ]
  },
  {
   "cell_type": "code",
   "execution_count": null,
   "id": "bd032bb0",
   "metadata": {},
   "outputs": [],
   "source": [
    "careplans = pd.read_pickle('careplans_encounters.pkl')\n",
    "print('careplans:', careplans.shape)"
   ]
  },
  {
   "cell_type": "markdown",
   "id": "284ed900",
   "metadata": {},
   "source": [
    "#### Tidy up `careplans`"
   ]
  },
  {
   "cell_type": "markdown",
   "id": "1cde8222",
   "metadata": {},
   "source": [
    "##### Check for duplicates"
   ]
  },
  {
   "cell_type": "code",
   "execution_count": null,
   "id": "86f0f520",
   "metadata": {},
   "outputs": [],
   "source": [
    "print(careplans.duplicated().sum())"
   ]
  },
  {
   "cell_type": "markdown",
   "id": "47a392a1",
   "metadata": {},
   "source": [
    "Quite a lot of duplicated rows are present. Only the first of each duplicates will be kept for downstream analysis."
   ]
  },
  {
   "cell_type": "code",
   "execution_count": null,
   "id": "00bb5790",
   "metadata": {},
   "outputs": [],
   "source": [
    "careplans.drop_duplicates(inplace=True)"
   ]
  },
  {
   "cell_type": "markdown",
   "id": "44c5681e",
   "metadata": {},
   "source": [
    "##### Check for null values"
   ]
  },
  {
   "cell_type": "code",
   "execution_count": null,
   "id": "a3fc4883",
   "metadata": {},
   "outputs": [],
   "source": [
    "print(careplans.isna().sum())\n",
    "print(careplans.isna().sum().sum())"
   ]
  },
  {
   "cell_type": "markdown",
   "id": "ba7c1736",
   "metadata": {},
   "source": [
    "No null values."
   ]
  },
  {
   "cell_type": "markdown",
   "id": "fb455d03",
   "metadata": {},
   "source": [
    "##### Transform data type"
   ]
  },
  {
   "cell_type": "markdown",
   "id": "0841f9a0",
   "metadata": {},
   "source": [
    "First, take a look at the data type for each column."
   ]
  },
  {
   "cell_type": "code",
   "execution_count": null,
   "id": "27c36bba",
   "metadata": {},
   "outputs": [],
   "source": [
    "print(careplans.dtypes)"
   ]
  },
  {
   "cell_type": "markdown",
   "id": "6a421ddc",
   "metadata": {},
   "source": [
    "Each column is of sparse format and contains int64. This is an overkill. `np.uint32` will be used since all the values are positive integer codes for encounters."
   ]
  },
  {
   "cell_type": "code",
   "execution_count": null,
   "id": "96f96c18",
   "metadata": {},
   "outputs": [],
   "source": [
    "cols2trans = list(careplans.columns)\n",
    "print(cols2trans)"
   ]
  },
  {
   "cell_type": "code",
   "execution_count": null,
   "id": "29f9c5c9",
   "metadata": {},
   "outputs": [],
   "source": [
    "for col in cols2trans:\n",
    "    print(col)\n",
    "    if col == 'PATIENT':\n",
    "        continue\n",
    "    else:\n",
    "        careplans[col] = careplans[col].sparse.to_dense().astype(np.uint32)"
   ]
  },
  {
   "cell_type": "code",
   "execution_count": null,
   "id": "41a14ef7",
   "metadata": {},
   "outputs": [],
   "source": [
    "# Sanity check:\n",
    "print(careplans.dtypes)"
   ]
  },
  {
   "cell_type": "markdown",
   "id": "d1a614f9",
   "metadata": {},
   "source": [
    "Check how many of the patient id's (`PATIENT`) are duplicated."
   ]
  },
  {
   "cell_type": "code",
   "execution_count": null,
   "id": "31e4dc7f",
   "metadata": {},
   "outputs": [],
   "source": [
    "print('Duplicates for patients:', careplans['PATIENT'].duplicated().sum())"
   ]
  },
  {
   "cell_type": "markdown",
   "id": "3110e9aa",
   "metadata": {},
   "source": [
    "So mostly duplicated. The table will be arranged such that each row corresponds to a single patient and each column, to a single  encounter type with values corresponding to the encounter time rank."
   ]
  },
  {
   "cell_type": "code",
   "execution_count": null,
   "id": "b1e9e3f9",
   "metadata": {},
   "outputs": [],
   "source": [
    "# Create a new column 'encounter' to differentiate between duplicate rows for each patient\n",
    "careplans['encounter_n'] = careplans.groupby('PATIENT').cumcount()+1\n",
    "# Sanity check:\n",
    "display(careplans.head())"
   ]
  },
  {
   "cell_type": "code",
   "execution_count": null,
   "id": "54dfe34a",
   "metadata": {},
   "outputs": [],
   "source": [
    "careplans = careplans.pivot_table(index='PATIENT', \n",
    "                                        columns='encounter_n', \n",
    "                                        aggfunc='first')\n",
    "# Sanity check:\n",
    "display (careplans.head())"
   ]
  },
  {
   "cell_type": "code",
   "execution_count": null,
   "id": "63eaff0d",
   "metadata": {},
   "outputs": [],
   "source": [
    "# Flatten the MultiIndex columns\n",
    "careplans.columns = [f'{col[0]}_{col[1]}' for col in careplans.columns]\n",
    "# Sanity check:\n",
    "display(careplans.head())"
   ]
  },
  {
   "cell_type": "code",
   "execution_count": null,
   "id": "dde515a0",
   "metadata": {},
   "outputs": [],
   "source": [
    "print('dimensions for careplans:', careplans.shape)"
   ]
  },
  {
   "cell_type": "markdown",
   "id": "3dd01e6c",
   "metadata": {},
   "source": [
    "Check for duplicated rows"
   ]
  },
  {
   "cell_type": "code",
   "execution_count": null,
   "id": "7951b94b",
   "metadata": {},
   "outputs": [],
   "source": [
    "careplans.duplicated().sum()"
   ]
  },
  {
   "cell_type": "markdown",
   "id": "19e3b791",
   "metadata": {},
   "source": [
    "The values will be converted to uint32 and null values will be replaced with 0 (no encounter for the careplan)."
   ]
  },
  {
   "cell_type": "code",
   "execution_count": null,
   "id": "885fb7da",
   "metadata": {},
   "outputs": [],
   "source": [
    "careplans.fillna(0, inplace=True)\n",
    "# Convert to uint32\n",
    "careplans=careplans.astype('uint32')\n",
    "# Sanity check:\n",
    "display(careplans.head())"
   ]
  },
  {
   "cell_type": "code",
   "execution_count": null,
   "id": "e5c8ca78",
   "metadata": {},
   "outputs": [],
   "source": [
    "# Convert the DataFrame to a SparseDataFrame\n",
    "sparse_dtype = pd.SparseDtype(np.uint32, fill_value=0)\n",
    "careplans = careplans.astype(sparse_dtype)"
   ]
  },
  {
   "cell_type": "code",
   "execution_count": null,
   "id": "5d4cdbbe",
   "metadata": {},
   "outputs": [],
   "source": [
    "display(careplans.head())"
   ]
  },
  {
   "cell_type": "code",
   "execution_count": null,
   "id": "395d4666",
   "metadata": {},
   "outputs": [],
   "source": [
    "# Save table:\n",
    "careplans.to_pickle('careplans_encounters.pkl')"
   ]
  },
  {
   "cell_type": "code",
   "execution_count": null,
   "id": "67d739dc",
   "metadata": {},
   "outputs": [],
   "source": [
    "del careplans"
   ]
  },
  {
   "cell_type": "markdown",
   "id": "f8689445",
   "metadata": {},
   "source": [
    "---"
   ]
  },
  {
   "cell_type": "markdown",
   "id": "2ce1bb88",
   "metadata": {},
   "source": [
    "### Conditions (encounters)"
   ]
  },
  {
   "cell_type": "markdown",
   "id": "a3b76011",
   "metadata": {},
   "source": [
    "#### Read and tidy table"
   ]
  },
  {
   "cell_type": "code",
   "execution_count": null,
   "id": "e282860a",
   "metadata": {},
   "outputs": [],
   "source": [
    "conditions = read_n_tidy ('conditions_encounters.pkl')\n",
    "display(conditions.head())\n",
    "print('Dimensions:', conditions.shape)"
   ]
  },
  {
   "cell_type": "code",
   "execution_count": null,
   "id": "391f2ecc",
   "metadata": {},
   "outputs": [],
   "source": [
    "conditions = patient_index_explode(conditions)"
   ]
  },
  {
   "cell_type": "code",
   "execution_count": null,
   "id": "42c1262d",
   "metadata": {},
   "outputs": [],
   "source": [
    "display(conditions.head())\n",
    "print('Dimensions:', conditions.shape)"
   ]
  },
  {
   "cell_type": "code",
   "execution_count": null,
   "id": "253c5d7e",
   "metadata": {},
   "outputs": [],
   "source": [
    "# Save table:\n",
    "conditions.to_pickle('conditions_encounters.pkl')"
   ]
  },
  {
   "cell_type": "code",
   "execution_count": null,
   "id": "9f3b83fb",
   "metadata": {},
   "outputs": [],
   "source": [
    "del conditions"
   ]
  },
  {
   "cell_type": "markdown",
   "id": "de8e2dce",
   "metadata": {},
   "source": [
    "---"
   ]
  },
  {
   "cell_type": "markdown",
   "id": "f3b4fe96",
   "metadata": {},
   "source": [
    "### Immunizations (encounters)"
   ]
  },
  {
   "cell_type": "markdown",
   "id": "ed28a617",
   "metadata": {},
   "source": [
    "#### Read and tidy table"
   ]
  },
  {
   "cell_type": "code",
   "execution_count": null,
   "id": "34078289",
   "metadata": {},
   "outputs": [],
   "source": [
    "immunizations = read_n_tidy ('immunizations_encounters.pkl')\n",
    "display(immunizations.head())\n",
    "print('Dimensions:', immunizations.shape)"
   ]
  },
  {
   "cell_type": "code",
   "execution_count": null,
   "id": "749746d4",
   "metadata": {},
   "outputs": [],
   "source": [
    "immunizations = patient_index_explode(immunizations)"
   ]
  },
  {
   "cell_type": "code",
   "execution_count": null,
   "id": "b6b271c4",
   "metadata": {},
   "outputs": [],
   "source": [
    "display(immunizations.head())\n",
    "print('Dimensions:', immunizations.shape)"
   ]
  },
  {
   "cell_type": "code",
   "execution_count": null,
   "id": "f1e36e42",
   "metadata": {},
   "outputs": [],
   "source": [
    "# Save table:\n",
    "immunizations.to_pickle('immunizations_encounters.pkl')"
   ]
  },
  {
   "cell_type": "code",
   "execution_count": null,
   "id": "236487c9",
   "metadata": {},
   "outputs": [],
   "source": [
    "del immunizations"
   ]
  },
  {
   "cell_type": "markdown",
   "id": "e57371ad",
   "metadata": {},
   "source": [
    "---"
   ]
  },
  {
   "cell_type": "markdown",
   "id": "25a53c98",
   "metadata": {},
   "source": [
    "---\n",
    "---\n",
    "---"
   ]
  },
  {
   "cell_type": "code",
   "execution_count": null,
   "id": "afbb4a83",
   "metadata": {},
   "outputs": [],
   "source": [
    "encounters = pd.read_pickle('encounters1.pkl')\n",
    "print(encounters.shape)"
   ]
  },
  {
   "cell_type": "code",
   "execution_count": 15,
   "id": "e65bcf43",
   "metadata": {
    "scrolled": true
   },
   "outputs": [
    {
     "data": {
      "text/html": [
       "<div>\n",
       "<style scoped>\n",
       "    .dataframe tbody tr th:only-of-type {\n",
       "        vertical-align: middle;\n",
       "    }\n",
       "\n",
       "    .dataframe tbody tr th {\n",
       "        vertical-align: top;\n",
       "    }\n",
       "\n",
       "    .dataframe thead th {\n",
       "        text-align: right;\n",
       "    }\n",
       "</style>\n",
       "<table border=\"1\" class=\"dataframe\">\n",
       "  <thead>\n",
       "    <tr style=\"text-align: right;\">\n",
       "      <th></th>\n",
       "      <th>ID</th>\n",
       "      <th>DATE</th>\n",
       "      <th>PATIENT</th>\n",
       "      <th>CODE</th>\n",
       "      <th>DESCRIPTION</th>\n",
       "      <th>encounter_code</th>\n",
       "    </tr>\n",
       "  </thead>\n",
       "  <tbody>\n",
       "    <tr>\n",
       "      <th>9535747</th>\n",
       "      <td>65954e04-00ca-47ef-bec8-317201ee59f4</td>\n",
       "      <td>1911-06-22</td>\n",
       "      <td>86d10918-697f-4bdd-8cb0-41ff0501dc4b</td>\n",
       "      <td>308646001</td>\n",
       "      <td>Death Certification</td>\n",
       "      <td>1</td>\n",
       "    </tr>\n",
       "    <tr>\n",
       "      <th>14031986</th>\n",
       "      <td>3c105f4b-e6f0-4bd7-a157-3f5df5772d63</td>\n",
       "      <td>1912-02-15</td>\n",
       "      <td>12d4436a-51b0-4d0d-962d-a7ea3b8508c4</td>\n",
       "      <td>308646001</td>\n",
       "      <td>Death Certification</td>\n",
       "      <td>2</td>\n",
       "    </tr>\n",
       "    <tr>\n",
       "      <th>12077159</th>\n",
       "      <td>ee6919b9-ffc0-43e4-8eff-59c720b720b6</td>\n",
       "      <td>1912-06-02</td>\n",
       "      <td>b934509e-5016-4a3b-a73f-452b9279a9e8</td>\n",
       "      <td>308646001</td>\n",
       "      <td>Death Certification</td>\n",
       "      <td>3</td>\n",
       "    </tr>\n",
       "    <tr>\n",
       "      <th>295927</th>\n",
       "      <td>8c0b4a8a-c0e7-4a6a-af21-e1a551bfc0f5</td>\n",
       "      <td>1913-03-29</td>\n",
       "      <td>f129ddbd-f2d6-441a-94b2-fbb812b2539a</td>\n",
       "      <td>308646001</td>\n",
       "      <td>Death Certification</td>\n",
       "      <td>4</td>\n",
       "    </tr>\n",
       "    <tr>\n",
       "      <th>8351882</th>\n",
       "      <td>54540535-807f-4b69-b36d-9837a9c5989f</td>\n",
       "      <td>1913-06-29</td>\n",
       "      <td>955e0259-a9d7-4805-9b23-d612c8d922a5</td>\n",
       "      <td>308646001</td>\n",
       "      <td>Death Certification</td>\n",
       "      <td>5</td>\n",
       "    </tr>\n",
       "    <tr>\n",
       "      <th>12510007</th>\n",
       "      <td>aec2b8ee-4e3a-4b14-9244-22b9864a54b9</td>\n",
       "      <td>1913-09-27</td>\n",
       "      <td>265e186c-0479-4eef-a611-aa3c76496993</td>\n",
       "      <td>308646001</td>\n",
       "      <td>Death Certification</td>\n",
       "      <td>6</td>\n",
       "    </tr>\n",
       "    <tr>\n",
       "      <th>7655706</th>\n",
       "      <td>6b4b50df-bf89-4853-89f7-11de030a0597</td>\n",
       "      <td>1913-12-22</td>\n",
       "      <td>e0b60100-4906-4b28-aa0e-65bbd45f3b3e</td>\n",
       "      <td>308646001</td>\n",
       "      <td>Death Certification</td>\n",
       "      <td>7</td>\n",
       "    </tr>\n",
       "    <tr>\n",
       "      <th>5707461</th>\n",
       "      <td>7bcf21e4-42a2-4037-9c9d-676facc8fea4</td>\n",
       "      <td>1914-04-15</td>\n",
       "      <td>689b8db9-5726-430b-8be1-09108161e14e</td>\n",
       "      <td>308646001</td>\n",
       "      <td>Death Certification</td>\n",
       "      <td>8</td>\n",
       "    </tr>\n",
       "    <tr>\n",
       "      <th>70878</th>\n",
       "      <td>4e92b4de-3225-425f-b1b8-3bed71c30c63</td>\n",
       "      <td>1915-01-30</td>\n",
       "      <td>1cde28d1-ca7a-49f2-b72a-d39554f3dd4d</td>\n",
       "      <td>308646001</td>\n",
       "      <td>Death Certification</td>\n",
       "      <td>9</td>\n",
       "    </tr>\n",
       "    <tr>\n",
       "      <th>12890807</th>\n",
       "      <td>5fd2dd84-4abf-426f-9980-5122babf7b56</td>\n",
       "      <td>1915-03-28</td>\n",
       "      <td>bfbb7183-da46-4da7-a467-f618e90561cf</td>\n",
       "      <td>308646001</td>\n",
       "      <td>Death Certification</td>\n",
       "      <td>10</td>\n",
       "    </tr>\n",
       "    <tr>\n",
       "      <th>9174553</th>\n",
       "      <td>2eab278f-aa8f-4667-9dbe-74e22f825bd4</td>\n",
       "      <td>1915-06-22</td>\n",
       "      <td>12ddb472-10fd-4326-b2dd-dfa57e8e8e04</td>\n",
       "      <td>308646001</td>\n",
       "      <td>Death Certification</td>\n",
       "      <td>11</td>\n",
       "    </tr>\n",
       "    <tr>\n",
       "      <th>4404703</th>\n",
       "      <td>acfb3aaa-a6b7-467f-9e68-5d6d41d30b1d</td>\n",
       "      <td>1916-02-25</td>\n",
       "      <td>2a26a0a2-fb55-447e-8258-5fecfa55f3ad</td>\n",
       "      <td>308646001</td>\n",
       "      <td>Death Certification</td>\n",
       "      <td>12</td>\n",
       "    </tr>\n",
       "    <tr>\n",
       "      <th>10988149</th>\n",
       "      <td>dae85a4e-2bd2-4bdd-8eed-119bdca708d8</td>\n",
       "      <td>1916-06-25</td>\n",
       "      <td>680603c3-94ad-4f2a-9d4a-9bbb41b7f742</td>\n",
       "      <td>308646001</td>\n",
       "      <td>Death Certification</td>\n",
       "      <td>13</td>\n",
       "    </tr>\n",
       "    <tr>\n",
       "      <th>8959603</th>\n",
       "      <td>ac0f520a-ab23-497b-875e-3f338bd7b3d2</td>\n",
       "      <td>1916-07-29</td>\n",
       "      <td>ef3f515b-e059-427a-9d9d-3fcf7144f967</td>\n",
       "      <td>308646001</td>\n",
       "      <td>Death Certification</td>\n",
       "      <td>14</td>\n",
       "    </tr>\n",
       "    <tr>\n",
       "      <th>12861190</th>\n",
       "      <td>0da0dd44-eb43-498d-bace-c5ba02841dbd</td>\n",
       "      <td>1916-08-26</td>\n",
       "      <td>ab9595a4-ebd4-4315-9a48-d8fc85b481fd</td>\n",
       "      <td>308646001</td>\n",
       "      <td>Death Certification</td>\n",
       "      <td>15</td>\n",
       "    </tr>\n",
       "    <tr>\n",
       "      <th>13167702</th>\n",
       "      <td>98f062d3-f8e9-4c88-acb3-a70fd0664d62</td>\n",
       "      <td>1917-02-24</td>\n",
       "      <td>03abef7a-100b-411d-8041-b91da52dbed5</td>\n",
       "      <td>308646001</td>\n",
       "      <td>Death Certification</td>\n",
       "      <td>16</td>\n",
       "    </tr>\n",
       "    <tr>\n",
       "      <th>5120986</th>\n",
       "      <td>7670d6a4-c9fc-4547-b197-de70d83e1cc6</td>\n",
       "      <td>1917-05-21</td>\n",
       "      <td>e9d586c1-632d-41e5-9a1e-0ee0f82aaba8</td>\n",
       "      <td>308646001</td>\n",
       "      <td>Death Certification</td>\n",
       "      <td>17</td>\n",
       "    </tr>\n",
       "    <tr>\n",
       "      <th>13294918</th>\n",
       "      <td>8df2bf03-1fe9-46d6-ba8c-097360e9f769</td>\n",
       "      <td>1918-02-04</td>\n",
       "      <td>3eefde75-d460-4c15-bf98-58ab1081d375</td>\n",
       "      <td>308646001</td>\n",
       "      <td>Death Certification</td>\n",
       "      <td>18</td>\n",
       "    </tr>\n",
       "    <tr>\n",
       "      <th>9701782</th>\n",
       "      <td>c1a23ca4-55c2-4df2-a12d-14c401031628</td>\n",
       "      <td>1918-02-24</td>\n",
       "      <td>b552ec4f-3ca7-4fa5-a8d3-69fe890fa759</td>\n",
       "      <td>308646001</td>\n",
       "      <td>Death Certification</td>\n",
       "      <td>19</td>\n",
       "    </tr>\n",
       "    <tr>\n",
       "      <th>13529622</th>\n",
       "      <td>b2c0d5a7-84da-45d9-8b83-860c71a05492</td>\n",
       "      <td>1918-03-13</td>\n",
       "      <td>f4b370c6-feb5-427d-bf71-7218c0dd6b8a</td>\n",
       "      <td>308646001</td>\n",
       "      <td>Death Certification</td>\n",
       "      <td>20</td>\n",
       "    </tr>\n",
       "  </tbody>\n",
       "</table>\n",
       "</div>"
      ],
      "text/plain": [
       "                                            ID       DATE  \\\n",
       "9535747   65954e04-00ca-47ef-bec8-317201ee59f4 1911-06-22   \n",
       "14031986  3c105f4b-e6f0-4bd7-a157-3f5df5772d63 1912-02-15   \n",
       "12077159  ee6919b9-ffc0-43e4-8eff-59c720b720b6 1912-06-02   \n",
       "295927    8c0b4a8a-c0e7-4a6a-af21-e1a551bfc0f5 1913-03-29   \n",
       "8351882   54540535-807f-4b69-b36d-9837a9c5989f 1913-06-29   \n",
       "12510007  aec2b8ee-4e3a-4b14-9244-22b9864a54b9 1913-09-27   \n",
       "7655706   6b4b50df-bf89-4853-89f7-11de030a0597 1913-12-22   \n",
       "5707461   7bcf21e4-42a2-4037-9c9d-676facc8fea4 1914-04-15   \n",
       "70878     4e92b4de-3225-425f-b1b8-3bed71c30c63 1915-01-30   \n",
       "12890807  5fd2dd84-4abf-426f-9980-5122babf7b56 1915-03-28   \n",
       "9174553   2eab278f-aa8f-4667-9dbe-74e22f825bd4 1915-06-22   \n",
       "4404703   acfb3aaa-a6b7-467f-9e68-5d6d41d30b1d 1916-02-25   \n",
       "10988149  dae85a4e-2bd2-4bdd-8eed-119bdca708d8 1916-06-25   \n",
       "8959603   ac0f520a-ab23-497b-875e-3f338bd7b3d2 1916-07-29   \n",
       "12861190  0da0dd44-eb43-498d-bace-c5ba02841dbd 1916-08-26   \n",
       "13167702  98f062d3-f8e9-4c88-acb3-a70fd0664d62 1917-02-24   \n",
       "5120986   7670d6a4-c9fc-4547-b197-de70d83e1cc6 1917-05-21   \n",
       "13294918  8df2bf03-1fe9-46d6-ba8c-097360e9f769 1918-02-04   \n",
       "9701782   c1a23ca4-55c2-4df2-a12d-14c401031628 1918-02-24   \n",
       "13529622  b2c0d5a7-84da-45d9-8b83-860c71a05492 1918-03-13   \n",
       "\n",
       "                                       PATIENT       CODE  \\\n",
       "9535747   86d10918-697f-4bdd-8cb0-41ff0501dc4b  308646001   \n",
       "14031986  12d4436a-51b0-4d0d-962d-a7ea3b8508c4  308646001   \n",
       "12077159  b934509e-5016-4a3b-a73f-452b9279a9e8  308646001   \n",
       "295927    f129ddbd-f2d6-441a-94b2-fbb812b2539a  308646001   \n",
       "8351882   955e0259-a9d7-4805-9b23-d612c8d922a5  308646001   \n",
       "12510007  265e186c-0479-4eef-a611-aa3c76496993  308646001   \n",
       "7655706   e0b60100-4906-4b28-aa0e-65bbd45f3b3e  308646001   \n",
       "5707461   689b8db9-5726-430b-8be1-09108161e14e  308646001   \n",
       "70878     1cde28d1-ca7a-49f2-b72a-d39554f3dd4d  308646001   \n",
       "12890807  bfbb7183-da46-4da7-a467-f618e90561cf  308646001   \n",
       "9174553   12ddb472-10fd-4326-b2dd-dfa57e8e8e04  308646001   \n",
       "4404703   2a26a0a2-fb55-447e-8258-5fecfa55f3ad  308646001   \n",
       "10988149  680603c3-94ad-4f2a-9d4a-9bbb41b7f742  308646001   \n",
       "8959603   ef3f515b-e059-427a-9d9d-3fcf7144f967  308646001   \n",
       "12861190  ab9595a4-ebd4-4315-9a48-d8fc85b481fd  308646001   \n",
       "13167702  03abef7a-100b-411d-8041-b91da52dbed5  308646001   \n",
       "5120986   e9d586c1-632d-41e5-9a1e-0ee0f82aaba8  308646001   \n",
       "13294918  3eefde75-d460-4c15-bf98-58ab1081d375  308646001   \n",
       "9701782   b552ec4f-3ca7-4fa5-a8d3-69fe890fa759  308646001   \n",
       "13529622  f4b370c6-feb5-427d-bf71-7218c0dd6b8a  308646001   \n",
       "\n",
       "                  DESCRIPTION  encounter_code  \n",
       "9535747   Death Certification               1  \n",
       "14031986  Death Certification               2  \n",
       "12077159  Death Certification               3  \n",
       "295927    Death Certification               4  \n",
       "8351882   Death Certification               5  \n",
       "12510007  Death Certification               6  \n",
       "7655706   Death Certification               7  \n",
       "5707461   Death Certification               8  \n",
       "70878     Death Certification               9  \n",
       "12890807  Death Certification              10  \n",
       "9174553   Death Certification              11  \n",
       "4404703   Death Certification              12  \n",
       "10988149  Death Certification              13  \n",
       "8959603   Death Certification              14  \n",
       "12861190  Death Certification              15  \n",
       "13167702  Death Certification              16  \n",
       "5120986   Death Certification              17  \n",
       "13294918  Death Certification              18  \n",
       "9701782   Death Certification              19  \n",
       "13529622  Death Certification              20  "
      ]
     },
     "metadata": {},
     "output_type": "display_data"
    }
   ],
   "source": [
    "encounters.sort_values(by=['DATE','PATIENT'], inplace=True)\n",
    "display(encounters.head(20))"
   ]
  },
  {
   "cell_type": "code",
   "execution_count": 7,
   "id": "88bbe72d",
   "metadata": {},
   "outputs": [
    {
     "data": {
      "text/html": [
       "<div>\n",
       "<style scoped>\n",
       "    .dataframe tbody tr th:only-of-type {\n",
       "        vertical-align: middle;\n",
       "    }\n",
       "\n",
       "    .dataframe tbody tr th {\n",
       "        vertical-align: top;\n",
       "    }\n",
       "\n",
       "    .dataframe thead th {\n",
       "        text-align: right;\n",
       "    }\n",
       "</style>\n",
       "<table border=\"1\" class=\"dataframe\">\n",
       "  <thead>\n",
       "    <tr style=\"text-align: right;\">\n",
       "      <th></th>\n",
       "      <th>ID</th>\n",
       "      <th>DATE</th>\n",
       "      <th>PATIENT</th>\n",
       "      <th>CODE</th>\n",
       "      <th>DESCRIPTION</th>\n",
       "      <th>encounter_code</th>\n",
       "      <th>encounter_n</th>\n",
       "    </tr>\n",
       "  </thead>\n",
       "  <tbody>\n",
       "    <tr>\n",
       "      <th>9535747</th>\n",
       "      <td>65954e04-00ca-47ef-bec8-317201ee59f4</td>\n",
       "      <td>1911-06-22</td>\n",
       "      <td>86d10918-697f-4bdd-8cb0-41ff0501dc4b</td>\n",
       "      <td>308646001</td>\n",
       "      <td>Death Certification</td>\n",
       "      <td>1</td>\n",
       "      <td>1</td>\n",
       "    </tr>\n",
       "    <tr>\n",
       "      <th>14031986</th>\n",
       "      <td>3c105f4b-e6f0-4bd7-a157-3f5df5772d63</td>\n",
       "      <td>1912-02-15</td>\n",
       "      <td>12d4436a-51b0-4d0d-962d-a7ea3b8508c4</td>\n",
       "      <td>308646001</td>\n",
       "      <td>Death Certification</td>\n",
       "      <td>2</td>\n",
       "      <td>1</td>\n",
       "    </tr>\n",
       "    <tr>\n",
       "      <th>12077159</th>\n",
       "      <td>ee6919b9-ffc0-43e4-8eff-59c720b720b6</td>\n",
       "      <td>1912-06-02</td>\n",
       "      <td>b934509e-5016-4a3b-a73f-452b9279a9e8</td>\n",
       "      <td>308646001</td>\n",
       "      <td>Death Certification</td>\n",
       "      <td>3</td>\n",
       "      <td>1</td>\n",
       "    </tr>\n",
       "    <tr>\n",
       "      <th>295927</th>\n",
       "      <td>8c0b4a8a-c0e7-4a6a-af21-e1a551bfc0f5</td>\n",
       "      <td>1913-03-29</td>\n",
       "      <td>f129ddbd-f2d6-441a-94b2-fbb812b2539a</td>\n",
       "      <td>308646001</td>\n",
       "      <td>Death Certification</td>\n",
       "      <td>4</td>\n",
       "      <td>1</td>\n",
       "    </tr>\n",
       "    <tr>\n",
       "      <th>8351882</th>\n",
       "      <td>54540535-807f-4b69-b36d-9837a9c5989f</td>\n",
       "      <td>1913-06-29</td>\n",
       "      <td>955e0259-a9d7-4805-9b23-d612c8d922a5</td>\n",
       "      <td>308646001</td>\n",
       "      <td>Death Certification</td>\n",
       "      <td>5</td>\n",
       "      <td>1</td>\n",
       "    </tr>\n",
       "  </tbody>\n",
       "</table>\n",
       "</div>"
      ],
      "text/plain": [
       "                                            ID       DATE  \\\n",
       "9535747   65954e04-00ca-47ef-bec8-317201ee59f4 1911-06-22   \n",
       "14031986  3c105f4b-e6f0-4bd7-a157-3f5df5772d63 1912-02-15   \n",
       "12077159  ee6919b9-ffc0-43e4-8eff-59c720b720b6 1912-06-02   \n",
       "295927    8c0b4a8a-c0e7-4a6a-af21-e1a551bfc0f5 1913-03-29   \n",
       "8351882   54540535-807f-4b69-b36d-9837a9c5989f 1913-06-29   \n",
       "\n",
       "                                       PATIENT       CODE  \\\n",
       "9535747   86d10918-697f-4bdd-8cb0-41ff0501dc4b  308646001   \n",
       "14031986  12d4436a-51b0-4d0d-962d-a7ea3b8508c4  308646001   \n",
       "12077159  b934509e-5016-4a3b-a73f-452b9279a9e8  308646001   \n",
       "295927    f129ddbd-f2d6-441a-94b2-fbb812b2539a  308646001   \n",
       "8351882   955e0259-a9d7-4805-9b23-d612c8d922a5  308646001   \n",
       "\n",
       "                  DESCRIPTION  encounter_code  encounter_n  \n",
       "9535747   Death Certification               1            1  \n",
       "14031986  Death Certification               2            1  \n",
       "12077159  Death Certification               3            1  \n",
       "295927    Death Certification               4            1  \n",
       "8351882   Death Certification               5            1  "
      ]
     },
     "metadata": {},
     "output_type": "display_data"
    }
   ],
   "source": [
    "# Create a new column 'encounter' to differentiate between duplicate rows for each patient\n",
    "encounters['encounter_n'] = encounters.groupby('PATIENT').cumcount()+1\n",
    "display(encounters.tail())"
   ]
  },
  {
   "cell_type": "code",
   "execution_count": 9,
   "id": "fd3cc42c",
   "metadata": {},
   "outputs": [],
   "source": [
    "del encounters"
   ]
  },
  {
   "cell_type": "markdown",
   "id": "a3da9c3d",
   "metadata": {},
   "source": [
    ">At this point, the data becomes way too large. A novel approach will be adopted:\n",
    ">1. Obtain batches of data.\n",
    ">2. Transform into a squence of events with values.\n",
    ">3. Test/train split.\n",
    ">4. Train a separate RNN for each batch.\n",
    ">5. Use outputs from the individual RNN batches to train a meta model.\n",
    ">6. Optimize meta model using a validation subset.\n",
    ">7. Assess meta model on a test subset (the last batch)"
   ]
  },
  {
   "cell_type": "markdown",
   "id": "e19274e8",
   "metadata": {},
   "source": [
    "---"
   ]
  }
 ],
 "metadata": {
  "kernelspec": {
   "display_name": "Python 3 (ipykernel)",
   "language": "python",
   "name": "python3"
  },
  "language_info": {
   "codemirror_mode": {
    "name": "ipython",
    "version": 3
   },
   "file_extension": ".py",
   "mimetype": "text/x-python",
   "name": "python",
   "nbconvert_exporter": "python",
   "pygments_lexer": "ipython3",
   "version": "3.11.3"
  }
 },
 "nbformat": 4,
 "nbformat_minor": 5
}
